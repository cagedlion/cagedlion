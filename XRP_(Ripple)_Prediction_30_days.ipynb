{
  "nbformat": 4,
  "nbformat_minor": 0,
  "metadata": {
    "colab": {
      "name": "XRP (Ripple) Prediction 30 days.ipynb",
      "provenance": [],
      "collapsed_sections": [],
      "authorship_tag": "ABX9TyNqSnOra+EIQx94hqvPNXdc",
      "include_colab_link": true
    },
    "kernelspec": {
      "name": "python3",
      "display_name": "Python 3"
    },
    "language_info": {
      "name": "python"
    }
  },
  "cells": [
    {
      "cell_type": "markdown",
      "metadata": {
        "id": "view-in-github",
        "colab_type": "text"
      },
      "source": [
        "<a href=\"https://colab.research.google.com/github/cagedlion/cagedlion/blob/main/XRP_(Ripple)_Prediction_30_days.ipynb\" target=\"_parent\"><img src=\"https://colab.research.google.com/assets/colab-badge.svg\" alt=\"Open In Colab\"/></a>"
      ]
    },
    {
      "cell_type": "code",
      "metadata": {
        "id": "dNhBmbe-fw0V"
      },
      "source": [
        "#This file attempts to predict the future price of Ripple"
      ],
      "execution_count": 1,
      "outputs": []
    },
    {
      "cell_type": "code",
      "metadata": {
        "colab": {
          "base_uri": "https://localhost:8080/",
          "height": 423
        },
        "id": "5wA3JuJVgAwY",
        "outputId": "76874c48-b03e-445c-b983-5b2f696bee6d"
      },
      "source": [
        "# The first thing we want to do is import the necessary library and set the filepath to our data file\n",
        "from pandas_datareader import data as web\n",
        "import pandas as pd\n",
        "import numpy as np\n",
        "from datetime import datetime\n",
        "import matplotlib.pyplot as plt\n",
        "plt.style.use('fivethirtyeight')\n",
        "filepath = \"https://www.cryptodatadownload.com/cdd/Binance_XRPUSDT_d.csv\"\n",
        "import ssl  # we need to import this library and tweak one setting due to fact we use HTTPS certificate(s)\n",
        "ssl._create_default_https_context = ssl._create_unverified_context\n",
        "# Now we want to create a dataframe and use Pandas' to_csv function to read in our file\n",
        "df = pd.read_csv(filepath, skiprows=1)  # we use skiprows parameter because first row contains our web address\n",
        "# Now that we have loaded our data into the dataframe, we can preview it using the print & .head() function\n",
        "df  # look at the dataframe"
      ],
      "execution_count": 3,
      "outputs": [
        {
          "output_type": "execute_result",
          "data": {
            "text/html": [
              "<div>\n",
              "<style scoped>\n",
              "    .dataframe tbody tr th:only-of-type {\n",
              "        vertical-align: middle;\n",
              "    }\n",
              "\n",
              "    .dataframe tbody tr th {\n",
              "        vertical-align: top;\n",
              "    }\n",
              "\n",
              "    .dataframe thead th {\n",
              "        text-align: right;\n",
              "    }\n",
              "</style>\n",
              "<table border=\"1\" class=\"dataframe\">\n",
              "  <thead>\n",
              "    <tr style=\"text-align: right;\">\n",
              "      <th></th>\n",
              "      <th>unix</th>\n",
              "      <th>date</th>\n",
              "      <th>symbol</th>\n",
              "      <th>open</th>\n",
              "      <th>high</th>\n",
              "      <th>low</th>\n",
              "      <th>close</th>\n",
              "      <th>Volume XRP</th>\n",
              "      <th>Volume USDT</th>\n",
              "      <th>tradecount</th>\n",
              "    </tr>\n",
              "  </thead>\n",
              "  <tbody>\n",
              "    <tr>\n",
              "      <th>0</th>\n",
              "      <td>1619049600000</td>\n",
              "      <td>2021-04-22 00:00:00</td>\n",
              "      <td>XRP/USDT</td>\n",
              "      <td>1.29110</td>\n",
              "      <td>1.30585</td>\n",
              "      <td>1.28000</td>\n",
              "      <td>1.28213</td>\n",
              "      <td>7.631266e+06</td>\n",
              "      <td>9.843072e+06</td>\n",
              "      <td>10538</td>\n",
              "    </tr>\n",
              "    <tr>\n",
              "      <th>1</th>\n",
              "      <td>1618963200000</td>\n",
              "      <td>2021-04-21 00:00:00</td>\n",
              "      <td>XRP/USDT</td>\n",
              "      <td>1.38500</td>\n",
              "      <td>1.46450</td>\n",
              "      <td>1.27545</td>\n",
              "      <td>1.29097</td>\n",
              "      <td>1.301404e+09</td>\n",
              "      <td>1.787718e+09</td>\n",
              "      <td>1605075</td>\n",
              "    </tr>\n",
              "    <tr>\n",
              "      <th>2</th>\n",
              "      <td>1618876800000</td>\n",
              "      <td>2021-04-20 00:00:00</td>\n",
              "      <td>XRP/USDT</td>\n",
              "      <td>1.30941</td>\n",
              "      <td>1.44796</td>\n",
              "      <td>1.18000</td>\n",
              "      <td>1.38501</td>\n",
              "      <td>1.522196e+09</td>\n",
              "      <td>1.998261e+09</td>\n",
              "      <td>1757479</td>\n",
              "    </tr>\n",
              "    <tr>\n",
              "      <th>3</th>\n",
              "      <td>1618790400000</td>\n",
              "      <td>2021-04-19 00:00:00</td>\n",
              "      <td>XRP/USDT</td>\n",
              "      <td>1.40797</td>\n",
              "      <td>1.53390</td>\n",
              "      <td>1.25100</td>\n",
              "      <td>1.30945</td>\n",
              "      <td>1.608074e+09</td>\n",
              "      <td>2.226346e+09</td>\n",
              "      <td>1996347</td>\n",
              "    </tr>\n",
              "    <tr>\n",
              "      <th>4</th>\n",
              "      <td>1618704000000</td>\n",
              "      <td>2021-04-18 00:00:00</td>\n",
              "      <td>XRP/USDT</td>\n",
              "      <td>1.53988</td>\n",
              "      <td>1.56505</td>\n",
              "      <td>1.16000</td>\n",
              "      <td>1.40797</td>\n",
              "      <td>2.048345e+09</td>\n",
              "      <td>2.726555e+09</td>\n",
              "      <td>2556310</td>\n",
              "    </tr>\n",
              "    <tr>\n",
              "      <th>...</th>\n",
              "      <td>...</td>\n",
              "      <td>...</td>\n",
              "      <td>...</td>\n",
              "      <td>...</td>\n",
              "      <td>...</td>\n",
              "      <td>...</td>\n",
              "      <td>...</td>\n",
              "      <td>...</td>\n",
              "      <td>...</td>\n",
              "      <td>...</td>\n",
              "    </tr>\n",
              "    <tr>\n",
              "      <th>1080</th>\n",
              "      <td>1525737600000</td>\n",
              "      <td>2018-05-08 00:00:00</td>\n",
              "      <td>XRP/USDT</td>\n",
              "      <td>0.82490</td>\n",
              "      <td>0.84802</td>\n",
              "      <td>0.79200</td>\n",
              "      <td>0.80667</td>\n",
              "      <td>1.297130e+07</td>\n",
              "      <td>1.057184e+07</td>\n",
              "      <td>23010</td>\n",
              "    </tr>\n",
              "    <tr>\n",
              "      <th>1081</th>\n",
              "      <td>1525651200000</td>\n",
              "      <td>2018-05-07 00:00:00</td>\n",
              "      <td>XRP/USDT</td>\n",
              "      <td>0.86482</td>\n",
              "      <td>0.86886</td>\n",
              "      <td>0.80000</td>\n",
              "      <td>0.82490</td>\n",
              "      <td>1.730349e+07</td>\n",
              "      <td>1.419228e+07</td>\n",
              "      <td>29174</td>\n",
              "    </tr>\n",
              "    <tr>\n",
              "      <th>1082</th>\n",
              "      <td>1525564800000</td>\n",
              "      <td>2018-05-06 00:00:00</td>\n",
              "      <td>XRP/USDT</td>\n",
              "      <td>0.90280</td>\n",
              "      <td>0.91800</td>\n",
              "      <td>0.83774</td>\n",
              "      <td>0.86483</td>\n",
              "      <td>1.600204e+07</td>\n",
              "      <td>1.399714e+07</td>\n",
              "      <td>28713</td>\n",
              "    </tr>\n",
              "    <tr>\n",
              "      <th>1083</th>\n",
              "      <td>1525478400000</td>\n",
              "      <td>2018-05-05 00:00:00</td>\n",
              "      <td>XRP/USDT</td>\n",
              "      <td>0.88980</td>\n",
              "      <td>0.93500</td>\n",
              "      <td>0.88800</td>\n",
              "      <td>0.90280</td>\n",
              "      <td>1.681617e+07</td>\n",
              "      <td>1.528200e+07</td>\n",
              "      <td>26476</td>\n",
              "    </tr>\n",
              "    <tr>\n",
              "      <th>1084</th>\n",
              "      <td>1525392000000</td>\n",
              "      <td>2018-05-04 00:00:00</td>\n",
              "      <td>XRP/USDT</td>\n",
              "      <td>0.50000</td>\n",
              "      <td>1.50000</td>\n",
              "      <td>0.50000</td>\n",
              "      <td>0.88990</td>\n",
              "      <td>2.089021e+07</td>\n",
              "      <td>1.894672e+07</td>\n",
              "      <td>37492</td>\n",
              "    </tr>\n",
              "  </tbody>\n",
              "</table>\n",
              "<p>1085 rows × 10 columns</p>\n",
              "</div>"
            ],
            "text/plain": [
              "               unix                 date  ...   Volume USDT  tradecount\n",
              "0     1619049600000  2021-04-22 00:00:00  ...  9.843072e+06       10538\n",
              "1     1618963200000  2021-04-21 00:00:00  ...  1.787718e+09     1605075\n",
              "2     1618876800000  2021-04-20 00:00:00  ...  1.998261e+09     1757479\n",
              "3     1618790400000  2021-04-19 00:00:00  ...  2.226346e+09     1996347\n",
              "4     1618704000000  2021-04-18 00:00:00  ...  2.726555e+09     2556310\n",
              "...             ...                  ...  ...           ...         ...\n",
              "1080  1525737600000  2018-05-08 00:00:00  ...  1.057184e+07       23010\n",
              "1081  1525651200000  2018-05-07 00:00:00  ...  1.419228e+07       29174\n",
              "1082  1525564800000  2018-05-06 00:00:00  ...  1.399714e+07       28713\n",
              "1083  1525478400000  2018-05-05 00:00:00  ...  1.528200e+07       26476\n",
              "1084  1525392000000  2018-05-04 00:00:00  ...  1.894672e+07       37492\n",
              "\n",
              "[1085 rows x 10 columns]"
            ]
          },
          "metadata": {
            "tags": []
          },
          "execution_count": 3
        }
      ]
    },
    {
      "cell_type": "code",
      "metadata": {
        "colab": {
          "base_uri": "https://localhost:8080/",
          "height": 423
        },
        "id": "X6ifdkpApxJg",
        "outputId": "a36c68b6-b221-4216-fd78-48f0c3926d13"
      },
      "source": [
        "sorted_df = df. sort_values(by=[\"date\"], ascending=True)\n",
        "sorted_df"
      ],
      "execution_count": 4,
      "outputs": [
        {
          "output_type": "execute_result",
          "data": {
            "text/html": [
              "<div>\n",
              "<style scoped>\n",
              "    .dataframe tbody tr th:only-of-type {\n",
              "        vertical-align: middle;\n",
              "    }\n",
              "\n",
              "    .dataframe tbody tr th {\n",
              "        vertical-align: top;\n",
              "    }\n",
              "\n",
              "    .dataframe thead th {\n",
              "        text-align: right;\n",
              "    }\n",
              "</style>\n",
              "<table border=\"1\" class=\"dataframe\">\n",
              "  <thead>\n",
              "    <tr style=\"text-align: right;\">\n",
              "      <th></th>\n",
              "      <th>unix</th>\n",
              "      <th>date</th>\n",
              "      <th>symbol</th>\n",
              "      <th>open</th>\n",
              "      <th>high</th>\n",
              "      <th>low</th>\n",
              "      <th>close</th>\n",
              "      <th>Volume XRP</th>\n",
              "      <th>Volume USDT</th>\n",
              "      <th>tradecount</th>\n",
              "    </tr>\n",
              "  </thead>\n",
              "  <tbody>\n",
              "    <tr>\n",
              "      <th>1084</th>\n",
              "      <td>1525392000000</td>\n",
              "      <td>2018-05-04 00:00:00</td>\n",
              "      <td>XRP/USDT</td>\n",
              "      <td>0.50000</td>\n",
              "      <td>1.50000</td>\n",
              "      <td>0.50000</td>\n",
              "      <td>0.88990</td>\n",
              "      <td>2.089021e+07</td>\n",
              "      <td>1.894672e+07</td>\n",
              "      <td>37492</td>\n",
              "    </tr>\n",
              "    <tr>\n",
              "      <th>1083</th>\n",
              "      <td>1525478400000</td>\n",
              "      <td>2018-05-05 00:00:00</td>\n",
              "      <td>XRP/USDT</td>\n",
              "      <td>0.88980</td>\n",
              "      <td>0.93500</td>\n",
              "      <td>0.88800</td>\n",
              "      <td>0.90280</td>\n",
              "      <td>1.681617e+07</td>\n",
              "      <td>1.528200e+07</td>\n",
              "      <td>26476</td>\n",
              "    </tr>\n",
              "    <tr>\n",
              "      <th>1082</th>\n",
              "      <td>1525564800000</td>\n",
              "      <td>2018-05-06 00:00:00</td>\n",
              "      <td>XRP/USDT</td>\n",
              "      <td>0.90280</td>\n",
              "      <td>0.91800</td>\n",
              "      <td>0.83774</td>\n",
              "      <td>0.86483</td>\n",
              "      <td>1.600204e+07</td>\n",
              "      <td>1.399714e+07</td>\n",
              "      <td>28713</td>\n",
              "    </tr>\n",
              "    <tr>\n",
              "      <th>1081</th>\n",
              "      <td>1525651200000</td>\n",
              "      <td>2018-05-07 00:00:00</td>\n",
              "      <td>XRP/USDT</td>\n",
              "      <td>0.86482</td>\n",
              "      <td>0.86886</td>\n",
              "      <td>0.80000</td>\n",
              "      <td>0.82490</td>\n",
              "      <td>1.730349e+07</td>\n",
              "      <td>1.419228e+07</td>\n",
              "      <td>29174</td>\n",
              "    </tr>\n",
              "    <tr>\n",
              "      <th>1080</th>\n",
              "      <td>1525737600000</td>\n",
              "      <td>2018-05-08 00:00:00</td>\n",
              "      <td>XRP/USDT</td>\n",
              "      <td>0.82490</td>\n",
              "      <td>0.84802</td>\n",
              "      <td>0.79200</td>\n",
              "      <td>0.80667</td>\n",
              "      <td>1.297130e+07</td>\n",
              "      <td>1.057184e+07</td>\n",
              "      <td>23010</td>\n",
              "    </tr>\n",
              "    <tr>\n",
              "      <th>...</th>\n",
              "      <td>...</td>\n",
              "      <td>...</td>\n",
              "      <td>...</td>\n",
              "      <td>...</td>\n",
              "      <td>...</td>\n",
              "      <td>...</td>\n",
              "      <td>...</td>\n",
              "      <td>...</td>\n",
              "      <td>...</td>\n",
              "      <td>...</td>\n",
              "    </tr>\n",
              "    <tr>\n",
              "      <th>4</th>\n",
              "      <td>1618704000000</td>\n",
              "      <td>2021-04-18 00:00:00</td>\n",
              "      <td>XRP/USDT</td>\n",
              "      <td>1.53988</td>\n",
              "      <td>1.56505</td>\n",
              "      <td>1.16000</td>\n",
              "      <td>1.40797</td>\n",
              "      <td>2.048345e+09</td>\n",
              "      <td>2.726555e+09</td>\n",
              "      <td>2556310</td>\n",
              "    </tr>\n",
              "    <tr>\n",
              "      <th>3</th>\n",
              "      <td>1618790400000</td>\n",
              "      <td>2021-04-19 00:00:00</td>\n",
              "      <td>XRP/USDT</td>\n",
              "      <td>1.40797</td>\n",
              "      <td>1.53390</td>\n",
              "      <td>1.25100</td>\n",
              "      <td>1.30945</td>\n",
              "      <td>1.608074e+09</td>\n",
              "      <td>2.226346e+09</td>\n",
              "      <td>1996347</td>\n",
              "    </tr>\n",
              "    <tr>\n",
              "      <th>2</th>\n",
              "      <td>1618876800000</td>\n",
              "      <td>2021-04-20 00:00:00</td>\n",
              "      <td>XRP/USDT</td>\n",
              "      <td>1.30941</td>\n",
              "      <td>1.44796</td>\n",
              "      <td>1.18000</td>\n",
              "      <td>1.38501</td>\n",
              "      <td>1.522196e+09</td>\n",
              "      <td>1.998261e+09</td>\n",
              "      <td>1757479</td>\n",
              "    </tr>\n",
              "    <tr>\n",
              "      <th>1</th>\n",
              "      <td>1618963200000</td>\n",
              "      <td>2021-04-21 00:00:00</td>\n",
              "      <td>XRP/USDT</td>\n",
              "      <td>1.38500</td>\n",
              "      <td>1.46450</td>\n",
              "      <td>1.27545</td>\n",
              "      <td>1.29097</td>\n",
              "      <td>1.301404e+09</td>\n",
              "      <td>1.787718e+09</td>\n",
              "      <td>1605075</td>\n",
              "    </tr>\n",
              "    <tr>\n",
              "      <th>0</th>\n",
              "      <td>1619049600000</td>\n",
              "      <td>2021-04-22 00:00:00</td>\n",
              "      <td>XRP/USDT</td>\n",
              "      <td>1.29110</td>\n",
              "      <td>1.30585</td>\n",
              "      <td>1.28000</td>\n",
              "      <td>1.28213</td>\n",
              "      <td>7.631266e+06</td>\n",
              "      <td>9.843072e+06</td>\n",
              "      <td>10538</td>\n",
              "    </tr>\n",
              "  </tbody>\n",
              "</table>\n",
              "<p>1085 rows × 10 columns</p>\n",
              "</div>"
            ],
            "text/plain": [
              "               unix                 date  ...   Volume USDT  tradecount\n",
              "1084  1525392000000  2018-05-04 00:00:00  ...  1.894672e+07       37492\n",
              "1083  1525478400000  2018-05-05 00:00:00  ...  1.528200e+07       26476\n",
              "1082  1525564800000  2018-05-06 00:00:00  ...  1.399714e+07       28713\n",
              "1081  1525651200000  2018-05-07 00:00:00  ...  1.419228e+07       29174\n",
              "1080  1525737600000  2018-05-08 00:00:00  ...  1.057184e+07       23010\n",
              "...             ...                  ...  ...           ...         ...\n",
              "4     1618704000000  2021-04-18 00:00:00  ...  2.726555e+09     2556310\n",
              "3     1618790400000  2021-04-19 00:00:00  ...  2.226346e+09     1996347\n",
              "2     1618876800000  2021-04-20 00:00:00  ...  1.998261e+09     1757479\n",
              "1     1618963200000  2021-04-21 00:00:00  ...  1.787718e+09     1605075\n",
              "0     1619049600000  2021-04-22 00:00:00  ...  9.843072e+06       10538\n",
              "\n",
              "[1085 rows x 10 columns]"
            ]
          },
          "metadata": {
            "tags": []
          },
          "execution_count": 4
        }
      ]
    },
    {
      "cell_type": "code",
      "metadata": {
        "colab": {
          "base_uri": "https://localhost:8080/",
          "height": 423
        },
        "id": "VZgHkCYDjYCB",
        "outputId": "7ea6fac7-94ac-42b6-d85b-ba025dff2001"
      },
      "source": [
        "# set the index to be the date\n",
        "df=sorted_df.set_index(pd.DatetimeIndex(sorted_df['date'].values))\n",
        "#show the data\n",
        "df"
      ],
      "execution_count": 5,
      "outputs": [
        {
          "output_type": "execute_result",
          "data": {
            "text/html": [
              "<div>\n",
              "<style scoped>\n",
              "    .dataframe tbody tr th:only-of-type {\n",
              "        vertical-align: middle;\n",
              "    }\n",
              "\n",
              "    .dataframe tbody tr th {\n",
              "        vertical-align: top;\n",
              "    }\n",
              "\n",
              "    .dataframe thead th {\n",
              "        text-align: right;\n",
              "    }\n",
              "</style>\n",
              "<table border=\"1\" class=\"dataframe\">\n",
              "  <thead>\n",
              "    <tr style=\"text-align: right;\">\n",
              "      <th></th>\n",
              "      <th>unix</th>\n",
              "      <th>date</th>\n",
              "      <th>symbol</th>\n",
              "      <th>open</th>\n",
              "      <th>high</th>\n",
              "      <th>low</th>\n",
              "      <th>close</th>\n",
              "      <th>Volume XRP</th>\n",
              "      <th>Volume USDT</th>\n",
              "      <th>tradecount</th>\n",
              "    </tr>\n",
              "  </thead>\n",
              "  <tbody>\n",
              "    <tr>\n",
              "      <th>2018-05-04</th>\n",
              "      <td>1525392000000</td>\n",
              "      <td>2018-05-04 00:00:00</td>\n",
              "      <td>XRP/USDT</td>\n",
              "      <td>0.50000</td>\n",
              "      <td>1.50000</td>\n",
              "      <td>0.50000</td>\n",
              "      <td>0.88990</td>\n",
              "      <td>2.089021e+07</td>\n",
              "      <td>1.894672e+07</td>\n",
              "      <td>37492</td>\n",
              "    </tr>\n",
              "    <tr>\n",
              "      <th>2018-05-05</th>\n",
              "      <td>1525478400000</td>\n",
              "      <td>2018-05-05 00:00:00</td>\n",
              "      <td>XRP/USDT</td>\n",
              "      <td>0.88980</td>\n",
              "      <td>0.93500</td>\n",
              "      <td>0.88800</td>\n",
              "      <td>0.90280</td>\n",
              "      <td>1.681617e+07</td>\n",
              "      <td>1.528200e+07</td>\n",
              "      <td>26476</td>\n",
              "    </tr>\n",
              "    <tr>\n",
              "      <th>2018-05-06</th>\n",
              "      <td>1525564800000</td>\n",
              "      <td>2018-05-06 00:00:00</td>\n",
              "      <td>XRP/USDT</td>\n",
              "      <td>0.90280</td>\n",
              "      <td>0.91800</td>\n",
              "      <td>0.83774</td>\n",
              "      <td>0.86483</td>\n",
              "      <td>1.600204e+07</td>\n",
              "      <td>1.399714e+07</td>\n",
              "      <td>28713</td>\n",
              "    </tr>\n",
              "    <tr>\n",
              "      <th>2018-05-07</th>\n",
              "      <td>1525651200000</td>\n",
              "      <td>2018-05-07 00:00:00</td>\n",
              "      <td>XRP/USDT</td>\n",
              "      <td>0.86482</td>\n",
              "      <td>0.86886</td>\n",
              "      <td>0.80000</td>\n",
              "      <td>0.82490</td>\n",
              "      <td>1.730349e+07</td>\n",
              "      <td>1.419228e+07</td>\n",
              "      <td>29174</td>\n",
              "    </tr>\n",
              "    <tr>\n",
              "      <th>2018-05-08</th>\n",
              "      <td>1525737600000</td>\n",
              "      <td>2018-05-08 00:00:00</td>\n",
              "      <td>XRP/USDT</td>\n",
              "      <td>0.82490</td>\n",
              "      <td>0.84802</td>\n",
              "      <td>0.79200</td>\n",
              "      <td>0.80667</td>\n",
              "      <td>1.297130e+07</td>\n",
              "      <td>1.057184e+07</td>\n",
              "      <td>23010</td>\n",
              "    </tr>\n",
              "    <tr>\n",
              "      <th>...</th>\n",
              "      <td>...</td>\n",
              "      <td>...</td>\n",
              "      <td>...</td>\n",
              "      <td>...</td>\n",
              "      <td>...</td>\n",
              "      <td>...</td>\n",
              "      <td>...</td>\n",
              "      <td>...</td>\n",
              "      <td>...</td>\n",
              "      <td>...</td>\n",
              "    </tr>\n",
              "    <tr>\n",
              "      <th>2021-04-18</th>\n",
              "      <td>1618704000000</td>\n",
              "      <td>2021-04-18 00:00:00</td>\n",
              "      <td>XRP/USDT</td>\n",
              "      <td>1.53988</td>\n",
              "      <td>1.56505</td>\n",
              "      <td>1.16000</td>\n",
              "      <td>1.40797</td>\n",
              "      <td>2.048345e+09</td>\n",
              "      <td>2.726555e+09</td>\n",
              "      <td>2556310</td>\n",
              "    </tr>\n",
              "    <tr>\n",
              "      <th>2021-04-19</th>\n",
              "      <td>1618790400000</td>\n",
              "      <td>2021-04-19 00:00:00</td>\n",
              "      <td>XRP/USDT</td>\n",
              "      <td>1.40797</td>\n",
              "      <td>1.53390</td>\n",
              "      <td>1.25100</td>\n",
              "      <td>1.30945</td>\n",
              "      <td>1.608074e+09</td>\n",
              "      <td>2.226346e+09</td>\n",
              "      <td>1996347</td>\n",
              "    </tr>\n",
              "    <tr>\n",
              "      <th>2021-04-20</th>\n",
              "      <td>1618876800000</td>\n",
              "      <td>2021-04-20 00:00:00</td>\n",
              "      <td>XRP/USDT</td>\n",
              "      <td>1.30941</td>\n",
              "      <td>1.44796</td>\n",
              "      <td>1.18000</td>\n",
              "      <td>1.38501</td>\n",
              "      <td>1.522196e+09</td>\n",
              "      <td>1.998261e+09</td>\n",
              "      <td>1757479</td>\n",
              "    </tr>\n",
              "    <tr>\n",
              "      <th>2021-04-21</th>\n",
              "      <td>1618963200000</td>\n",
              "      <td>2021-04-21 00:00:00</td>\n",
              "      <td>XRP/USDT</td>\n",
              "      <td>1.38500</td>\n",
              "      <td>1.46450</td>\n",
              "      <td>1.27545</td>\n",
              "      <td>1.29097</td>\n",
              "      <td>1.301404e+09</td>\n",
              "      <td>1.787718e+09</td>\n",
              "      <td>1605075</td>\n",
              "    </tr>\n",
              "    <tr>\n",
              "      <th>2021-04-22</th>\n",
              "      <td>1619049600000</td>\n",
              "      <td>2021-04-22 00:00:00</td>\n",
              "      <td>XRP/USDT</td>\n",
              "      <td>1.29110</td>\n",
              "      <td>1.30585</td>\n",
              "      <td>1.28000</td>\n",
              "      <td>1.28213</td>\n",
              "      <td>7.631266e+06</td>\n",
              "      <td>9.843072e+06</td>\n",
              "      <td>10538</td>\n",
              "    </tr>\n",
              "  </tbody>\n",
              "</table>\n",
              "<p>1085 rows × 10 columns</p>\n",
              "</div>"
            ],
            "text/plain": [
              "                     unix                 date  ...   Volume USDT  tradecount\n",
              "2018-05-04  1525392000000  2018-05-04 00:00:00  ...  1.894672e+07       37492\n",
              "2018-05-05  1525478400000  2018-05-05 00:00:00  ...  1.528200e+07       26476\n",
              "2018-05-06  1525564800000  2018-05-06 00:00:00  ...  1.399714e+07       28713\n",
              "2018-05-07  1525651200000  2018-05-07 00:00:00  ...  1.419228e+07       29174\n",
              "2018-05-08  1525737600000  2018-05-08 00:00:00  ...  1.057184e+07       23010\n",
              "...                   ...                  ...  ...           ...         ...\n",
              "2021-04-18  1618704000000  2021-04-18 00:00:00  ...  2.726555e+09     2556310\n",
              "2021-04-19  1618790400000  2021-04-19 00:00:00  ...  2.226346e+09     1996347\n",
              "2021-04-20  1618876800000  2021-04-20 00:00:00  ...  1.998261e+09     1757479\n",
              "2021-04-21  1618963200000  2021-04-21 00:00:00  ...  1.787718e+09     1605075\n",
              "2021-04-22  1619049600000  2021-04-22 00:00:00  ...  9.843072e+06       10538\n",
              "\n",
              "[1085 rows x 10 columns]"
            ]
          },
          "metadata": {
            "tags": []
          },
          "execution_count": 5
        }
      ]
    },
    {
      "cell_type": "code",
      "metadata": {
        "colab": {
          "base_uri": "https://localhost:8080/",
          "height": 423
        },
        "id": "RzHxhZ0Vm2Tn",
        "outputId": "64185e6c-a7f7-4e91-a6df-a9110df8c1e5"
      },
      "source": [
        "#now get only the close price\n",
        "df=df[['close']]\n",
        "df"
      ],
      "execution_count": 6,
      "outputs": [
        {
          "output_type": "execute_result",
          "data": {
            "text/html": [
              "<div>\n",
              "<style scoped>\n",
              "    .dataframe tbody tr th:only-of-type {\n",
              "        vertical-align: middle;\n",
              "    }\n",
              "\n",
              "    .dataframe tbody tr th {\n",
              "        vertical-align: top;\n",
              "    }\n",
              "\n",
              "    .dataframe thead th {\n",
              "        text-align: right;\n",
              "    }\n",
              "</style>\n",
              "<table border=\"1\" class=\"dataframe\">\n",
              "  <thead>\n",
              "    <tr style=\"text-align: right;\">\n",
              "      <th></th>\n",
              "      <th>close</th>\n",
              "    </tr>\n",
              "  </thead>\n",
              "  <tbody>\n",
              "    <tr>\n",
              "      <th>2018-05-04</th>\n",
              "      <td>0.88990</td>\n",
              "    </tr>\n",
              "    <tr>\n",
              "      <th>2018-05-05</th>\n",
              "      <td>0.90280</td>\n",
              "    </tr>\n",
              "    <tr>\n",
              "      <th>2018-05-06</th>\n",
              "      <td>0.86483</td>\n",
              "    </tr>\n",
              "    <tr>\n",
              "      <th>2018-05-07</th>\n",
              "      <td>0.82490</td>\n",
              "    </tr>\n",
              "    <tr>\n",
              "      <th>2018-05-08</th>\n",
              "      <td>0.80667</td>\n",
              "    </tr>\n",
              "    <tr>\n",
              "      <th>...</th>\n",
              "      <td>...</td>\n",
              "    </tr>\n",
              "    <tr>\n",
              "      <th>2021-04-18</th>\n",
              "      <td>1.40797</td>\n",
              "    </tr>\n",
              "    <tr>\n",
              "      <th>2021-04-19</th>\n",
              "      <td>1.30945</td>\n",
              "    </tr>\n",
              "    <tr>\n",
              "      <th>2021-04-20</th>\n",
              "      <td>1.38501</td>\n",
              "    </tr>\n",
              "    <tr>\n",
              "      <th>2021-04-21</th>\n",
              "      <td>1.29097</td>\n",
              "    </tr>\n",
              "    <tr>\n",
              "      <th>2021-04-22</th>\n",
              "      <td>1.28213</td>\n",
              "    </tr>\n",
              "  </tbody>\n",
              "</table>\n",
              "<p>1085 rows × 1 columns</p>\n",
              "</div>"
            ],
            "text/plain": [
              "              close\n",
              "2018-05-04  0.88990\n",
              "2018-05-05  0.90280\n",
              "2018-05-06  0.86483\n",
              "2018-05-07  0.82490\n",
              "2018-05-08  0.80667\n",
              "...             ...\n",
              "2021-04-18  1.40797\n",
              "2021-04-19  1.30945\n",
              "2021-04-20  1.38501\n",
              "2021-04-21  1.29097\n",
              "2021-04-22  1.28213\n",
              "\n",
              "[1085 rows x 1 columns]"
            ]
          },
          "metadata": {
            "tags": []
          },
          "execution_count": 6
        }
      ]
    },
    {
      "cell_type": "code",
      "metadata": {
        "colab": {
          "base_uri": "https://localhost:8080/",
          "height": 310
        },
        "id": "MJwoD5cJnMU7",
        "outputId": "fdec2107-17f2-4b6c-ccf1-3ab5916080ee"
      },
      "source": [
        "# create a variable to store the number of days for which we want to predict the prices\n",
        "prediction_days=30\n",
        "# create a new variable called prediction\n",
        "df['prediction']=df[['close']].shift(-prediction_days)\n",
        "df.head()"
      ],
      "execution_count": 7,
      "outputs": [
        {
          "output_type": "stream",
          "text": [
            "/usr/local/lib/python3.7/dist-packages/ipykernel_launcher.py:4: SettingWithCopyWarning: \n",
            "A value is trying to be set on a copy of a slice from a DataFrame.\n",
            "Try using .loc[row_indexer,col_indexer] = value instead\n",
            "\n",
            "See the caveats in the documentation: https://pandas.pydata.org/pandas-docs/stable/user_guide/indexing.html#returning-a-view-versus-a-copy\n",
            "  after removing the cwd from sys.path.\n"
          ],
          "name": "stderr"
        },
        {
          "output_type": "execute_result",
          "data": {
            "text/html": [
              "<div>\n",
              "<style scoped>\n",
              "    .dataframe tbody tr th:only-of-type {\n",
              "        vertical-align: middle;\n",
              "    }\n",
              "\n",
              "    .dataframe tbody tr th {\n",
              "        vertical-align: top;\n",
              "    }\n",
              "\n",
              "    .dataframe thead th {\n",
              "        text-align: right;\n",
              "    }\n",
              "</style>\n",
              "<table border=\"1\" class=\"dataframe\">\n",
              "  <thead>\n",
              "    <tr style=\"text-align: right;\">\n",
              "      <th></th>\n",
              "      <th>close</th>\n",
              "      <th>prediction</th>\n",
              "    </tr>\n",
              "  </thead>\n",
              "  <tbody>\n",
              "    <tr>\n",
              "      <th>2018-05-04</th>\n",
              "      <td>0.88990</td>\n",
              "      <td>0.69010</td>\n",
              "    </tr>\n",
              "    <tr>\n",
              "      <th>2018-05-05</th>\n",
              "      <td>0.90280</td>\n",
              "      <td>0.65507</td>\n",
              "    </tr>\n",
              "    <tr>\n",
              "      <th>2018-05-06</th>\n",
              "      <td>0.86483</td>\n",
              "      <td>0.67464</td>\n",
              "    </tr>\n",
              "    <tr>\n",
              "      <th>2018-05-07</th>\n",
              "      <td>0.82490</td>\n",
              "      <td>0.67410</td>\n",
              "    </tr>\n",
              "    <tr>\n",
              "      <th>2018-05-08</th>\n",
              "      <td>0.80667</td>\n",
              "      <td>0.67756</td>\n",
              "    </tr>\n",
              "  </tbody>\n",
              "</table>\n",
              "</div>"
            ],
            "text/plain": [
              "              close  prediction\n",
              "2018-05-04  0.88990     0.69010\n",
              "2018-05-05  0.90280     0.65507\n",
              "2018-05-06  0.86483     0.67464\n",
              "2018-05-07  0.82490     0.67410\n",
              "2018-05-08  0.80667     0.67756"
            ]
          },
          "metadata": {
            "tags": []
          },
          "execution_count": 7
        }
      ]
    },
    {
      "cell_type": "code",
      "metadata": {
        "colab": {
          "base_uri": "https://localhost:8080/"
        },
        "id": "bhQiCVJvnD_K",
        "outputId": "cf0852e1-7660-4de3-ef24-7b06a5ef1ce5"
      },
      "source": [
        "# Drop the prediction variable from the dataframe\n",
        "X = np.array(df.drop('prediction', axis=1))\n",
        "# Remove the last n+1 rows of data where, n is the prediction_days\n",
        "X=X[:len(df)-prediction_days]\n",
        "print(X)"
      ],
      "execution_count": 8,
      "outputs": [
        {
          "output_type": "stream",
          "text": [
            "[[0.8899 ]\n",
            " [0.9028 ]\n",
            " [0.86483]\n",
            " ...\n",
            " [0.51651]\n",
            " [0.5441 ]\n",
            " [0.5498 ]]\n"
          ],
          "name": "stdout"
        }
      ]
    },
    {
      "cell_type": "code",
      "metadata": {
        "colab": {
          "base_uri": "https://localhost:8080/"
        },
        "id": "kf0TIx-LtZgX",
        "outputId": "a20f8089-9ce7-4906-dc62-bf44e426defb"
      },
      "source": [
        "# Create a dependent variable dataset (y)\n",
        "y = np.array(df['prediction'])\n",
        "#Get all the y values except the last n+1 rows\n",
        "y=y[:-prediction_days]\n",
        "y"
      ],
      "execution_count": 9,
      "outputs": [
        {
          "output_type": "execute_result",
          "data": {
            "text/plain": [
              "array([0.6901 , 0.65507, 0.67464, ..., 1.38501, 1.29097, 1.28213])"
            ]
          },
          "metadata": {
            "tags": []
          },
          "execution_count": 9
        }
      ]
    },
    {
      "cell_type": "code",
      "metadata": {
        "id": "xoHK24rpu6d1"
      },
      "source": [
        "#Split the data into train and test datasets\n",
        "from sklearn.model_selection import train_test_split\n",
        "X_train, X_test, y_train, y_test = train_test_split(X, y, test_size=0.2 , random_state=1)"
      ],
      "execution_count": 10,
      "outputs": []
    },
    {
      "cell_type": "code",
      "metadata": {
        "colab": {
          "base_uri": "https://localhost:8080/"
        },
        "id": "uLdlIDPNIEYf",
        "outputId": "d71b6e22-ded2-4c3a-c75b-f5b456e6b41b"
      },
      "source": [
        "# set the prediction_days_array for the last 30 days from the original dataset\n",
        "prediction_days_array=np.array(df.drop(['prediction'], axis=1))[-prediction_days:]\n",
        "print(prediction_days_array)"
      ],
      "execution_count": 11,
      "outputs": [
        {
          "output_type": "stream",
          "text": [
            "[[0.48021]\n",
            " [0.51058]\n",
            " [0.56357]\n",
            " [0.54752]\n",
            " [0.54552]\n",
            " [0.56538]\n",
            " [0.5621 ]\n",
            " [0.56982]\n",
            " [0.57087]\n",
            " [0.60701]\n",
            " [0.57831]\n",
            " [0.635  ]\n",
            " [0.91584]\n",
            " [1.09663]\n",
            " [0.91542]\n",
            " [1.05599]\n",
            " [1.01721]\n",
            " [1.3728 ]\n",
            " [1.35118]\n",
            " [1.46843]\n",
            " [1.79611]\n",
            " [1.83468]\n",
            " [1.75781]\n",
            " [1.54805]\n",
            " [1.53896]\n",
            " [1.40797]\n",
            " [1.30945]\n",
            " [1.38501]\n",
            " [1.29097]\n",
            " [1.28213]]\n"
          ],
          "name": "stdout"
        }
      ]
    },
    {
      "cell_type": "code",
      "metadata": {
        "colab": {
          "base_uri": "https://localhost:8080/"
        },
        "id": "VU91BS8YvZ4W",
        "outputId": "b07a1a4d-2152-474a-c966-b82bcdabd9f1"
      },
      "source": [
        "# Use the random forest regressor model\n",
        "from sklearn.ensemble import RandomForestRegressor\n",
        "model=RandomForestRegressor(n_estimators=100, random_state=1)\n",
        "model.fit(X_train, y_train)\n",
        "model.score(X_train, y_train)"
      ],
      "execution_count": 20,
      "outputs": [
        {
          "output_type": "execute_result",
          "data": {
            "text/plain": [
              "0.8644780194851521"
            ]
          },
          "metadata": {
            "tags": []
          },
          "execution_count": 20
        }
      ]
    },
    {
      "cell_type": "code",
      "metadata": {
        "colab": {
          "base_uri": "https://localhost:8080/"
        },
        "id": "YO6698kWxQB6",
        "outputId": "bf81e1b6-d0f4-4655-fd02-77f6214610d0"
      },
      "source": [
        "model.score(X_test, y_test)"
      ],
      "execution_count": 22,
      "outputs": [
        {
          "output_type": "execute_result",
          "data": {
            "text/plain": [
              "0.04525559504344956"
            ]
          },
          "metadata": {
            "tags": []
          },
          "execution_count": 22
        }
      ]
    },
    {
      "cell_type": "code",
      "metadata": {
        "colab": {
          "base_uri": "https://localhost:8080/"
        },
        "id": "qUXPcghkxFuQ",
        "outputId": "cddbc3e1-efc1-491e-a625-d17a36a67076"
      },
      "source": [
        "#Show how close the predicted values and actual values are\n",
        "prediction=model.predict(X_test)\n",
        "#print the predicted values\n",
        "print(prediction)\n",
        "print()\n",
        "#print the actual values\n",
        "print(y_test)"
      ],
      "execution_count": 23,
      "outputs": [
        {
          "output_type": "stream",
          "text": [
            "[0.3010179  0.2983673  0.3969633  0.33916438 0.36786607 0.5035365\n",
            " 0.4752698  0.2046631  0.3733391  0.3628083  0.3284419  0.26073631\n",
            " 0.37227745 0.2719913  0.3413151  0.3552962  0.2360779  0.30101711\n",
            " 0.3994468  0.4509261  0.307871   0.4914292  0.3708714  0.20928322\n",
            " 0.4171961  0.2561162  0.31918235 0.2072755  0.4695086  0.6173005\n",
            " 0.32433895 0.3258586  0.35158715 0.3453772  0.4377264  0.2521059\n",
            " 0.4184609  0.4578701  0.242021   0.20364545 0.51887695 0.42553895\n",
            " 0.2700968  0.4486606  0.3541217  0.8005164  0.5269591  0.2347375\n",
            " 0.4146629  0.2386596  0.3034808  0.5108732  0.3305003  0.1813374\n",
            " 0.32190447 0.20421143 0.3969633  0.3023217  0.3143651  0.35158715\n",
            " 0.25040045 0.3258919  0.4344348  0.3996485  0.52809    0.28586077\n",
            " 0.2819566  0.2444606  0.31104808 0.5472626  0.31981817 0.2360779\n",
            " 0.2468655  0.5369624  0.4157284  0.5267521  0.3240169  0.28200998\n",
            " 0.319478   0.29156075 0.4844893  0.2849386  0.1934875  0.2064738\n",
            " 0.3966528  0.3082199  0.39062669 0.387743   0.2187894  0.30523863\n",
            " 0.2391842  0.3386024  0.383993   0.269818   0.53713063 0.2715176\n",
            " 0.20667685 0.4044044  0.3339535  0.31391    0.2766748  0.24097351\n",
            " 0.1859986  0.259601   0.2867036  0.2139325  0.43018174 0.20103068\n",
            " 0.32518575 0.2424542  0.247672   0.1980617  0.2192329  0.3360301\n",
            " 0.4321349  0.31331144 0.2547916  0.2791286  0.2762157  0.3998256\n",
            " 0.3318074  0.54812547 0.2879357  0.4516687  0.46591233 0.3258919\n",
            " 0.2272251  0.3268533  0.4817346  0.2574354  0.1994495  0.305667\n",
            " 0.31485379 0.263794   0.2564273  0.258682   0.4314921  0.4360008\n",
            " 0.4357123  0.4175279  0.241826   0.2154507  0.399499   0.3743293\n",
            " 0.2078172  0.4332333  0.6148868  0.4596277  0.4642436  0.34055369\n",
            " 0.2350546  0.42604    0.5269591  0.2486104  0.4755585  1.2396392\n",
            " 0.4368808  0.4617703  0.4171961  0.2943977  0.4142527  0.3128267\n",
            " 0.6506774  0.6739163  0.32518575 0.2614309  0.4754251  0.36925267\n",
            " 0.3581405  0.42488665 0.4377264  0.1999835  0.2240055  0.18697962\n",
            " 0.6776606  0.247672   0.32010923 0.2784569  0.6173005  0.34580625\n",
            " 0.3826913  0.2539479  0.2288749  0.36694381 0.34641817 0.3140175\n",
            " 0.2360779  0.31206705 0.4728358  0.3104534  0.2257638  0.33916438\n",
            " 0.3228173  0.2541282  0.4952147  0.6339954  0.4140061  0.247672\n",
            " 0.4395682  0.3918583  0.20243392 0.1934875  0.3872875  0.4046796\n",
            " 0.3059002  0.37298224 0.1915037  0.5290012  0.3318074  0.4297233\n",
            " 0.2920775 ]\n",
            "\n",
            "[0.29958 0.2894  0.51445 0.34732 0.33901 0.46285 1.01721 0.23921 0.29946\n",
            " 0.91542 0.25855 0.56465 0.46805 0.27226 0.1476  0.37956 0.40994 0.1875\n",
            " 0.55523 0.30965 0.28813 0.298   0.37863 0.20403 0.46796 0.30455 0.30077\n",
            " 0.1762  0.35644 0.42975 0.43864 0.32999 0.40691 0.42995 0.23282 0.40699\n",
            " 0.27889 0.44439 0.25209 0.21121 0.47915 0.44506 0.30889 0.44859 0.25698\n",
            " 0.54752 0.58257 0.2738  0.31499 0.2491  0.25859 0.24794 0.29904 0.19791\n",
            " 0.54976 0.21776 0.91584 0.33368 0.32109 0.34699 0.61579 0.27339 0.4261\n",
            " 0.3185  0.36466 0.30992 0.53467 0.23946 0.29881 0.6574  0.20385 0.23407\n",
            " 0.17647 0.382   0.4425  0.15308 0.32679 0.28031 0.28743 0.35345 0.48931\n",
            " 0.22369 0.2699  0.20034 0.30919 0.35568 0.34022 0.50658 0.19649 0.14694\n",
            " 0.19315 0.24218 0.32111 0.18758 0.48494 0.27625 0.41937 0.23    0.43331\n",
            " 0.5776  0.60818 0.19305 0.29995 0.27    0.50429 0.19234 0.40456 0.30311\n",
            " 0.30207 0.21688 0.2829  0.37106 0.23906 0.23909 0.31384 0.3087  0.19453\n",
            " 0.23905 0.24752 0.37598 0.31109 0.53916 0.2487  0.48216 0.27432 0.3315\n",
            " 0.48352 0.47636 0.37205 0.2538  0.20127 0.23565 0.32489 0.2942  0.19238\n",
            " 0.27222 0.41876 0.40074 0.35308 0.46999 0.18508 0.20496 0.5441  0.28082\n",
            " 0.19711 0.37228 0.24545 0.44642 0.53275 0.34851 0.20128 0.35428 0.37183\n",
            " 0.32991 0.28422 0.34253 0.24854 1.30945 0.21959 0.30911 0.51058 0.30604\n",
            " 1.40797 0.6741  0.26047 0.17533 0.25544 1.75781 0.42985 0.27991 0.2422\n",
            " 0.2011  0.24674 0.18939 0.67464 0.20701 0.2725  0.25617 0.28816 0.47006\n",
            " 0.23453 0.24558 0.22909 0.27468 0.3103  0.29918 0.31009 0.23746 0.28039\n",
            " 0.54025 0.20052 0.26353 0.3999  0.54945 0.57368 0.6721  0.26218 0.30427\n",
            " 0.21605 0.30914 0.23733 0.30062 0.20813 0.25539 0.39721 0.24153 0.27547\n",
            " 0.59989 0.34336 0.45315 0.3613 ]\n"
          ],
          "name": "stdout"
        }
      ]
    },
    {
      "cell_type": "code",
      "metadata": {
        "colab": {
          "base_uri": "https://localhost:8080/"
        },
        "id": "t84ctEgtzDeo",
        "outputId": "47c29dfa-ea74-45f5-a8dd-df87db9b3338"
      },
      "source": [
        "#Get model's prediction for the next 'n' days\n",
        "prediction=model.predict(prediction_days_array)\n",
        "#print the predicted values\n",
        "print(prediction)\n",
        "print()\n",
        "#print the actual values\n",
        "print(df['close'].tail(prediction_days))"
      ],
      "execution_count": 24,
      "outputs": [
        {
          "output_type": "stream",
          "text": [
            "[0.5309299  0.3305787  0.44707325 0.463683   0.59106335 0.48193325\n",
            " 0.35107575 0.37183985 0.36334995 0.4107652  0.3861058  0.43177515\n",
            " 0.6622474  0.6622474  0.6622474  0.6622474  0.6622474  0.6622474\n",
            " 0.6622474  0.6622474  0.6622474  0.6622474  0.6622474  0.6622474\n",
            " 0.6622474  0.6622474  0.6622474  0.6622474  0.6622474  0.6622474 ]\n",
            "\n",
            "2021-03-24    0.48021\n",
            "2021-03-25    0.51058\n",
            "2021-03-26    0.56357\n",
            "2021-03-27    0.54752\n",
            "2021-03-28    0.54552\n",
            "2021-03-29    0.56538\n",
            "2021-03-30    0.56210\n",
            "2021-03-31    0.56982\n",
            "2021-04-01    0.57087\n",
            "2021-04-02    0.60701\n",
            "2021-04-03    0.57831\n",
            "2021-04-04    0.63500\n",
            "2021-04-05    0.91584\n",
            "2021-04-06    1.09663\n",
            "2021-04-07    0.91542\n",
            "2021-04-08    1.05599\n",
            "2021-04-09    1.01721\n",
            "2021-04-10    1.37280\n",
            "2021-04-11    1.35118\n",
            "2021-04-12    1.46843\n",
            "2021-04-13    1.79611\n",
            "2021-04-14    1.83468\n",
            "2021-04-15    1.75781\n",
            "2021-04-16    1.54805\n",
            "2021-04-17    1.53896\n",
            "2021-04-18    1.40797\n",
            "2021-04-19    1.30945\n",
            "2021-04-20    1.38501\n",
            "2021-04-21    1.29097\n",
            "2021-04-22    1.28213\n",
            "Name: close, dtype: float64\n"
          ],
          "name": "stdout"
        }
      ]
    },
    {
      "cell_type": "code",
      "metadata": {
        "id": "tQRr45LD3zF0"
      },
      "source": [
        "# However as seen above it is clear from the model performance (accuracy@train = 86%; accuracy@test = 4.5%) that the random forest regressor model ued has resulted in overfiiting in the training data set and not a viable model. Trying out an additional model"
      ],
      "execution_count": 27,
      "outputs": []
    },
    {
      "cell_type": "code",
      "metadata": {
        "id": "IGBPj9Pp2oX9",
        "colab": {
          "base_uri": "https://localhost:8080/"
        },
        "outputId": "efa92b98-5591-4ceb-cc38-3d9ed14c50a2"
      },
      "source": [
        "from sklearn.svm import SVR\n",
        "# create and train the support vector machine (regressor) using the radial basis function\n",
        "svr_rbf=SVR(kernel='rbf',C=1e3,gamma=0.00001)\n",
        "svr_rbf.fit(X_train,y_train)"
      ],
      "execution_count": 28,
      "outputs": [
        {
          "output_type": "execute_result",
          "data": {
            "text/plain": [
              "SVR(C=1000.0, cache_size=200, coef0=0.0, degree=3, epsilon=0.1, gamma=1e-05,\n",
              "    kernel='rbf', max_iter=-1, shrinking=True, tol=0.001, verbose=False)"
            ]
          },
          "metadata": {
            "tags": []
          },
          "execution_count": 28
        }
      ]
    },
    {
      "cell_type": "code",
      "metadata": {
        "colab": {
          "base_uri": "https://localhost:8080/"
        },
        "id": "DUzgkmavzKlv",
        "outputId": "971d6de9-acb9-434f-c93e-357b95a1c331"
      },
      "source": [
        "print(svr_rbf.score(X_train, y_train))\n",
        "print(svr_rbf.score(X_test, y_test))"
      ],
      "execution_count": 29,
      "outputs": [
        {
          "output_type": "stream",
          "text": [
            "0.13835783585706307\n",
            "0.13515055024310763\n"
          ],
          "name": "stdout"
        }
      ]
    },
    {
      "cell_type": "code",
      "metadata": {
        "colab": {
          "base_uri": "https://localhost:8080/"
        },
        "id": "WKZSl4Uk0FgN",
        "outputId": "849b1399-b321-4f24-eb97-8acb8c112d89"
      },
      "source": [
        "#Show how close the predicted values and actual values are\n",
        "svm_prediction=svr_rbf.predict(X_test)\n",
        "#print the predicted values\n",
        "print(svm_prediction)\n",
        "print()\n",
        "#print the actual values\n",
        "print(y_test)"
      ],
      "execution_count": 30,
      "outputs": [
        {
          "output_type": "stream",
          "text": [
            "[0.34383537 0.34506433 0.37284038 0.33225231 0.37110252 0.3681357\n",
            " 0.37249389 0.30053764 0.33085823 0.37589653 0.32854108 0.32751514\n",
            " 0.36484946 0.3163273  0.32534146 0.33365451 0.32218786 0.30697478\n",
            " 0.37821639 0.35867219 0.31267562 0.32975379 0.37725813 0.30613833\n",
            " 0.41305756 0.30017762 0.33550066 0.30280336 0.36349598 0.37867928\n",
            " 0.39851853 0.33357872 0.36366652 0.35454408 0.32051767 0.32737709\n",
            " 0.35932456 0.39350255 0.31016898 0.30666618 0.42948873 0.40151513\n",
            " 0.33299672 0.37807292 0.33369783 0.36558033 0.3383186  0.31362576\n",
            " 0.37073708 0.31560996 0.32961845 0.31627046 0.38566051 0.30100865\n",
            " 0.32314341 0.2965882  0.3728458  0.34635825 0.34188907 0.36388578\n",
            " 0.31690659 0.33354894 0.36749144 0.36801118 0.37049887 0.332052\n",
            " 0.32477841 0.29981218 0.34323172 0.44937936 0.32322191 0.32225553\n",
            " 0.30467116 0.37385278 0.3482071  0.33849184 0.33282077 0.32644048\n",
            " 0.3846833  0.33144835 0.37844107 0.29581401 0.32180618 0.298456\n",
            " 0.39785262 0.33252301 0.32932339 0.31655469 0.30981437 0.32666245\n",
            " 0.30316339 0.32874951 0.37675464 0.30389426 0.43096673 0.30584056\n",
            " 0.32827309 0.32147051 0.32856815 0.34148303 0.31498465 0.30687462\n",
            " 0.30093827 0.32817835 0.32536041 0.3027384  0.36051833 0.29765474\n",
            " 0.33155121 0.29607659 0.30477402 0.30728066 0.3007542  0.31993026\n",
            " 0.34839659 0.33116953 0.30858541 0.31298421 0.32719301 0.35096007\n",
            " 0.3560302  0.43057693 0.3130573  0.40780067 0.33708693 0.33354624\n",
            " 0.32367939 0.33279912 0.372456   0.31670086 0.30088684 0.40595723\n",
            " 0.34224097 0.30144718 0.30204812 0.32260743 0.33520289 0.3352841\n",
            " 0.33945552 0.3886138  0.3025841  0.29871857 0.38606114 0.31754272\n",
            " 0.29882144 0.36743189 0.31248343 0.38016811 0.42580458 0.33125074\n",
            " 0.29981759 0.37036081 0.33832672 0.31546649 0.3800084  0.36674974\n",
            " 0.41218592 0.38997539 0.4129168  0.34522133 0.3763486  0.33325118\n",
            " 0.37383654 0.4708508  0.33155663 0.30235672 0.31320348 0.37213928\n",
            " 0.37664907 0.40169108 0.32051767 0.29849119 0.31859031 0.29051921\n",
            " 0.48165959 0.3047659  0.36850384 0.33190312 0.37873342 0.40236511\n",
            " 0.31645453 0.31553146 0.32212289 0.30869369 0.34294749 0.33654554\n",
            " 0.3222447  0.41801669 0.37795653 0.3409281  0.30552656 0.3322469\n",
            " 0.33342984 0.31680102 0.33588234 0.46270562 0.32921511 0.3047632\n",
            " 0.32008726 0.38409319 0.29885933 0.32181159 0.32155714 0.33406597\n",
            " 0.3113438  0.31920479 0.32357111 0.43304025 0.35603291 0.37023629\n",
            " 0.33317268]\n",
            "\n",
            "[0.29958 0.2894  0.51445 0.34732 0.33901 0.46285 1.01721 0.23921 0.29946\n",
            " 0.91542 0.25855 0.56465 0.46805 0.27226 0.1476  0.37956 0.40994 0.1875\n",
            " 0.55523 0.30965 0.28813 0.298   0.37863 0.20403 0.46796 0.30455 0.30077\n",
            " 0.1762  0.35644 0.42975 0.43864 0.32999 0.40691 0.42995 0.23282 0.40699\n",
            " 0.27889 0.44439 0.25209 0.21121 0.47915 0.44506 0.30889 0.44859 0.25698\n",
            " 0.54752 0.58257 0.2738  0.31499 0.2491  0.25859 0.24794 0.29904 0.19791\n",
            " 0.54976 0.21776 0.91584 0.33368 0.32109 0.34699 0.61579 0.27339 0.4261\n",
            " 0.3185  0.36466 0.30992 0.53467 0.23946 0.29881 0.6574  0.20385 0.23407\n",
            " 0.17647 0.382   0.4425  0.15308 0.32679 0.28031 0.28743 0.35345 0.48931\n",
            " 0.22369 0.2699  0.20034 0.30919 0.35568 0.34022 0.50658 0.19649 0.14694\n",
            " 0.19315 0.24218 0.32111 0.18758 0.48494 0.27625 0.41937 0.23    0.43331\n",
            " 0.5776  0.60818 0.19305 0.29995 0.27    0.50429 0.19234 0.40456 0.30311\n",
            " 0.30207 0.21688 0.2829  0.37106 0.23906 0.23909 0.31384 0.3087  0.19453\n",
            " 0.23905 0.24752 0.37598 0.31109 0.53916 0.2487  0.48216 0.27432 0.3315\n",
            " 0.48352 0.47636 0.37205 0.2538  0.20127 0.23565 0.32489 0.2942  0.19238\n",
            " 0.27222 0.41876 0.40074 0.35308 0.46999 0.18508 0.20496 0.5441  0.28082\n",
            " 0.19711 0.37228 0.24545 0.44642 0.53275 0.34851 0.20128 0.35428 0.37183\n",
            " 0.32991 0.28422 0.34253 0.24854 1.30945 0.21959 0.30911 0.51058 0.30604\n",
            " 1.40797 0.6741  0.26047 0.17533 0.25544 1.75781 0.42985 0.27991 0.2422\n",
            " 0.2011  0.24674 0.18939 0.67464 0.20701 0.2725  0.25617 0.28816 0.47006\n",
            " 0.23453 0.24558 0.22909 0.27468 0.3103  0.29918 0.31009 0.23746 0.28039\n",
            " 0.54025 0.20052 0.26353 0.3999  0.54945 0.57368 0.6721  0.26218 0.30427\n",
            " 0.21605 0.30914 0.23733 0.30062 0.20813 0.25539 0.39721 0.24153 0.27547\n",
            " 0.59989 0.34336 0.45315 0.3613 ]\n"
          ],
          "name": "stdout"
        }
      ]
    },
    {
      "cell_type": "code",
      "metadata": {
        "colab": {
          "base_uri": "https://localhost:8080/"
        },
        "id": "KSiZftOG04d1",
        "outputId": "daeb9574-d9b2-40b7-dc91-73025e929cf4"
      },
      "source": [
        "#Get model's prediction for the next 'n' days\n",
        "svm_prediction=svr_rbf.predict(prediction_days_array)\n",
        "#print the predicted values\n",
        "print(svm_prediction)\n",
        "print()\n",
        "#print the actual values\n",
        "print(df['close'].tail(prediction_days))"
      ],
      "execution_count": 31,
      "outputs": [
        {
          "output_type": "stream",
          "text": [
            "[0.37754507 0.38576608 0.40011022 0.39576556 0.39522417 0.40060018\n",
            " 0.3997123  0.40180206 0.40208629 0.41186921 0.40410027 0.41944596\n",
            " 0.49546764 0.54440603 0.49535395 0.53340514 0.52290772 0.61916222\n",
            " 0.61330997 0.64504794 0.73374502 0.74418507 0.72337802 0.66659984\n",
            " 0.66413932 0.62868227 0.60201417 0.62246731 0.59701186 0.59461897]\n",
            "\n",
            "2021-03-24    0.48021\n",
            "2021-03-25    0.51058\n",
            "2021-03-26    0.56357\n",
            "2021-03-27    0.54752\n",
            "2021-03-28    0.54552\n",
            "2021-03-29    0.56538\n",
            "2021-03-30    0.56210\n",
            "2021-03-31    0.56982\n",
            "2021-04-01    0.57087\n",
            "2021-04-02    0.60701\n",
            "2021-04-03    0.57831\n",
            "2021-04-04    0.63500\n",
            "2021-04-05    0.91584\n",
            "2021-04-06    1.09663\n",
            "2021-04-07    0.91542\n",
            "2021-04-08    1.05599\n",
            "2021-04-09    1.01721\n",
            "2021-04-10    1.37280\n",
            "2021-04-11    1.35118\n",
            "2021-04-12    1.46843\n",
            "2021-04-13    1.79611\n",
            "2021-04-14    1.83468\n",
            "2021-04-15    1.75781\n",
            "2021-04-16    1.54805\n",
            "2021-04-17    1.53896\n",
            "2021-04-18    1.40797\n",
            "2021-04-19    1.30945\n",
            "2021-04-20    1.38501\n",
            "2021-04-21    1.29097\n",
            "2021-04-22    1.28213\n",
            "Name: close, dtype: float64\n"
          ],
          "name": "stdout"
        }
      ]
    },
    {
      "cell_type": "code",
      "metadata": {
        "id": "L9VUGqsn4S7s"
      },
      "source": [
        "#Overall an ineffective model due to high volatility"
      ],
      "execution_count": null,
      "outputs": []
    }
  ]
}
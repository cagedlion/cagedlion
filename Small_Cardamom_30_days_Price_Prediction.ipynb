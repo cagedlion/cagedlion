{
  "nbformat": 4,
  "nbformat_minor": 0,
  "metadata": {
    "colab": {
      "name": "Small Cardamom 30 days Price Prediction.ipynb",
      "provenance": [],
      "collapsed_sections": [],
      "authorship_tag": "ABX9TyMuTH2lS3XaRWUrfzLQVos1",
      "include_colab_link": true
    },
    "kernelspec": {
      "name": "python3",
      "display_name": "Python 3"
    },
    "language_info": {
      "name": "python"
    }
  },
  "cells": [
    {
      "cell_type": "markdown",
      "metadata": {
        "id": "view-in-github",
        "colab_type": "text"
      },
      "source": [
        "<a href=\"https://colab.research.google.com/github/cagedlion/cagedlion/blob/main/Small_Cardamom_30_days_Price_Prediction.ipynb\" target=\"_parent\"><img src=\"https://colab.research.google.com/assets/colab-badge.svg\" alt=\"Open In Colab\"/></a>"
      ]
    },
    {
      "cell_type": "code",
      "metadata": {
        "id": "dNhBmbe-fw0V"
      },
      "source": [
        "#This file attempts to predict the future 30 day price of Small Cardamom produced and auctioned in Kerala"
      ],
      "execution_count": 23,
      "outputs": []
    },
    {
      "cell_type": "code",
      "metadata": {
        "id": "5wA3JuJVgAwY"
      },
      "source": [
        "# The first thing we want to do is import the necessary library and import the data file\n",
        "from pandas_datareader import data as web\n",
        "import pandas as pd\n",
        "import numpy as np\n",
        "import matplotlib.pyplot as plt\n",
        "plt.style.use('fivethirtyeight')"
      ],
      "execution_count": 24,
      "outputs": []
    },
    {
      "cell_type": "code",
      "metadata": {
        "colab": {
          "resources": {
            "http://localhost:8080/nbextensions/google.colab/files.js": {
              "data": "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",
              "ok": true,
              "headers": [
                [
                  "content-type",
                  "application/javascript"
                ]
              ],
              "status": 200,
              "status_text": ""
            }
          },
          "base_uri": "https://localhost:8080/",
          "height": 110
        },
        "id": "4seuEq73j0_L",
        "outputId": "d06a3942-962d-45c7-88ea-732d6b0070d5"
      },
      "source": [
        "## Load the data\n",
        "from google.colab import files\n",
        "files.upload()\n"
      ],
      "execution_count": 3,
      "outputs": [
        {
          "output_type": "display_data",
          "data": {
            "text/html": [
              "\n",
              "     <input type=\"file\" id=\"files-1dd59112-1523-45e2-a9e3-513a04d6fdde\" name=\"files[]\" multiple disabled\n",
              "        style=\"border:none\" />\n",
              "     <output id=\"result-1dd59112-1523-45e2-a9e3-513a04d6fdde\">\n",
              "      Upload widget is only available when the cell has been executed in the\n",
              "      current browser session. Please rerun this cell to enable.\n",
              "      </output>\n",
              "      <script src=\"/nbextensions/google.colab/files.js\"></script> "
            ],
            "text/plain": [
              "<IPython.core.display.HTML object>"
            ]
          },
          "metadata": {
            "tags": []
          }
        },
        {
          "output_type": "stream",
          "text": [
            "Saving Indian Small Cardamom Price History.csv to Indian Small Cardamom Price History.csv\n"
          ],
          "name": "stdout"
        },
        {
          "output_type": "execute_result",
          "data": {
            "text/plain": [
              "{'Indian Small Cardamom Price History.csv': b'\\xef\\xbb\\xbfSno,Date of Auction,Auctioneer,No.of Lots,Total Qty Arrived (Kgs),Qty Sold (Kgs),MaxPrice (Rs./Kg),Avg.Price (Rs./Kg)\\r\\n1-Jan-00,22-Apr-21,THE CARDAMOM PLANTERS MARKETING CO-OPERATIVE SOCIETY LIMITED,210,70654.2,70113.5,1725,1132.99\\r\\n2,21-Apr-21,\"South Indian Green Cardamom Company Ltd, Kochi\",281,87032.9,63524.7,2177,1053.7\\r\\n3,21-Apr-21,Green House Cardamom Mktg.India Pvt. Ltd,216,39139.3,35259.8,1770,1041.09\\r\\n4,19-Apr-21,SUGANDHAGIRI SPICES PROMOTERS&TRADERS Pvt Ltd,249,60773.5,49310.9,1825,1192.97\\r\\n5,19-Apr-21,IDUKKI Dist.TRADITIONAL CARDAMOM PRODUCER COMPANY Ltd,208,60107.8,52678.5,1832,1185.24\\r\\n6,17-Apr-21,\"The Kerala Cardamom Processing and Marketing Company Limited, Thekkady\",234,74573.8,73856,1872,1251.65\\r\\n7,16-Apr-21,\"Mas Enterprises, Vandanmettu\",315,88986.6,77634.6,1875,1292.21\\r\\n8,16-Apr-21,\"Header Systems (India) Limited, Nedumkandam\",253,73606.3,69536.1,1806,1224.24\\r\\n9,13-Apr-21,\"Cardamom Planters\\' Association, Santhanpara\",165,30779.9,22907,1709,1206.73\\r\\n10,13-Apr-21,THE CARDAMOM PLANTERS MARKETING CO-OPERATIVE SOCIETY LIMITED,233,67711.2,67183.8,1887,1310.89\\r\\n11,12-Apr-21,Green House Cardamom Mktg.India Pvt. Ltd,236,37217.7,29520.9,2006,1207.42\\r\\n12,12-Apr-21,\"South Indian Green Cardamom Company Ltd, Kochi\",291,91163.7,73254.5,2647,1371.67\\r\\n13,9-Apr-21,IDUKKI Dist.TRADITIONAL CARDAMOM PRODUCER COMPANY Ltd,215,51227.3,48601.8,1948,1358.53\\r\\n14,9-Apr-21,SUGANDHAGIRI SPICES PROMOTERS&TRADERS Pvt Ltd,269,63366.1,53992,2318,1290.75\\r\\n15,8-Apr-21,CARDAMOM GROWERSFOREVER PRIVATE LIMITED,99,15531.4,13431.8,1857,1268.87\\r\\n16,8-Apr-21,\"The Kerala Cardamom Processing and Marketing Company Limited, Thekkady\",183,46248.5,46041.6,2006,1346.36\\r\\n17,7-Apr-21,\"Header Systems (India) Limited, Nedumkandam\",186,45121.8,44496.4,2324,1409.17\\r\\n18,7-Apr-21,\"Mas Enterprises, Vandanmettu\",148,30414,29397.1,2340,1419.87\\r\\n19,5-Apr-21,THE CARDAMOM PLANTERS MARKETING CO-OPERATIVE SOCIETY LIMITED,166,39377.2,39039.7,2054,1394.39\\r\\n20,5-Apr-21,\"Cardamom Planters\\' Association, Santhanpara\",125,21720.7,20647.7,1952,1370.9\\r\\n21,3-Apr-21,\"South Indian Green Cardamom Company Ltd, Kochi\",211,45961.4,45440.8,2613,1451.86\\r\\n22,31-Mar-21,SUGANDHAGIRI SPICES PROMOTERS&TRADERS Pvt Ltd,172,41211.9,39228.2,1947,1301.49\\r\\n23,31-Mar-21,IDUKKI Dist.TRADITIONAL CARDAMOM PRODUCER COMPANY Ltd,178,36322.3,35272.8,1934,1320.05\\r\\n24,30-Mar-21,\"The Kerala Cardamom Processing and Marketing Company Limited, Thekkady\",225,60072.2,59221.5,1894,1288.35\\r\\n25,30-Mar-21,CARDAMOM GROWERSFOREVER PRIVATE LIMITED,109,18515.3,13848.1,1949,1223.7\\r\\n26,29-Mar-21,\"Mas Enterprises, Vandanmettu\",233,52659.4,49455.9,2130,1305.06\\r\\n27,29-Mar-21,\"Header Systems (India) Limited, Nedumkandam\",251,65547,60813.2,1872,1261.52\\r\\n28,27-Mar-21,\"Cardamom Planters\\' Association, Santhanpara\",156,27347.1,25874.5,1746,1322.38\\r\\n29,27-Mar-21,THE CARDAMOM PLANTERS MARKETING CO-OPERATIVE SOCIETY LIMITED,204,54148.8,53369.8,1915,1402.24\\r\\n30,26-Mar-21,Green House Cardamom Mktg.India Pvt. Ltd,95,11410.8,10647.8,1853,1293.29\\r\\n31,26-Mar-21,\"South Indian Green Cardamom Company Ltd, Kochi\",230,58181.1,57316.5,1992,1402.85\\r\\n32,25-Mar-21,\"Spice More Trading Company, Kumily\",227,59221,56317,1861,1263.72\\r\\n33,25-Mar-21,Green Cardamom Trading Company,182,41795.7,40516.4,1891,1334.36\\r\\n34,24-Mar-21,IDUKKI Dist.TRADITIONAL CARDAMOM PRODUCER COMPANY Ltd,227,52580,49896.1,1949,1272.61\\r\\n35,24-Mar-21,SUGANDHAGIRI SPICES PROMOTERS&TRADERS Pvt Ltd,184,41110.2,37365.7,1774,1257.41\\r\\n36,23-Mar-21,CARDAMOM GROWERSFOREVER PRIVATE LIMITED,98,15579.3,12395.4,1740,1221.76\\r\\n37,23-Mar-21,\"The Kerala Cardamom Processing and Marketing Company Limited, Thekkady\",247,66525.9,65331.7,1893,1270.97\\r\\n38,22-Mar-21,\"Header Systems (India) Limited, Nedumkandam\",264,67212.4,57431.5,1858,1298.8\\r\\n39,22-Mar-21,\"Mas Enterprises, Vandanmettu\",274,66056.3,63135.4,1904,1326.36\\r\\n40,20-Mar-21,THE CARDAMOM PLANTERS MARKETING CO-OPERATIVE SOCIETY LIMITED,227,60212.2,57493.3,1930,1354.64\\r\\n41,19-Mar-21,\"South Indian Green Cardamom Company Ltd, Kochi\",261,67413.8,67206.3,1936,1357.69\\r\\n42,19-Mar-21,Green House Cardamom Mktg.India Pvt. Ltd,146,20735.6,20076.1,1582,1219.31\\r\\n43,17-Mar-21,SUGANDHAGIRI SPICES PROMOTERS&TRADERS Pvt Ltd,151,33015.4,30259.3,1921,1350.23\\r\\n44,17-Mar-21,IDUKKI Dist.TRADITIONAL CARDAMOM PRODUCER COMPANY Ltd,218,49196.3,48739.1,1982,1340.73\\r\\n45,16-Mar-21,\"The Kerala Cardamom Processing and Marketing Company Limited, Thekkady\",202,51771.9,49561.8,1893,1315.39\\r\\n46,15-Mar-21,\"Mas Enterprises, Vandanmettu\",249,57132.8,55740.5,2213,1399.64\\r\\n47,15-Mar-21,\"Header Systems (India) Limited, Nedumkandam\",241,57089.6,54844,1864,1329.85\\r\\n48,13-Mar-21,\"Cardamom Planters\\' Association, Santhanpara\",136,23568.6,18769,1778,1253.15\\r\\n49,13-Mar-21,THE CARDAMOM PLANTERS MARKETING CO-OPERATIVE SOCIETY LIMITED,235,65785.8,63899.3,1960,1362.09\\r\\n50,12-Mar-21,Green House Cardamom Mktg.India Pvt. Ltd,165,26038.3,22706,1718,1282.54\\r\\n51,12-Mar-21,\"South Indian Green Cardamom Company Ltd, Kochi\",276,78077.5,73680.4,1913,1387.85\\r\\n52,11-Mar-21,Green Cardamom Trading Company,271,70161.1,65494.7,1890,1375.48\\r\\n53,10-Mar-21,IDUKKI Dist.TRADITIONAL CARDAMOM PRODUCER COMPANY Ltd,246,61401.4,60100.6,1868,1414.35\\r\\n54,10-Mar-21,SUGANDHAGIRI SPICES PROMOTERS&TRADERS Pvt Ltd,217,48872.7,45958.2,1846,1395.66\\r\\n55,9-Mar-21,CARDAMOM GROWERSFOREVER PRIVATE LIMITED,163,29583,25200.9,1848,1333.28\\r\\n56,9-Mar-21,\"The Kerala Cardamom Processing and Marketing Company Limited, Thekkady\",242,69049.3,68474.3,1920,1409.99\\r\\n57,8-Mar-21,\"Header Systems (India) Limited, Nedumkandam\",262,68554.8,67176.3,1855,1441.64\\r\\n58,8-Mar-21,\"Mas Enterprises, Vandanmettu\",251,58887.5,57515.7,2003,1473.63\\r\\n59,6-Mar-21,THE CARDAMOM PLANTERS MARKETING CO-OPERATIVE SOCIETY LIMITED,227,60621.8,59567.8,1954,1504.81\\r\\n60,6-Mar-21,\"Cardamom Planters\\' Association, Santhanpara\",150,25814.3,25228.9,1903,1443.54\\r\\n61,5-Mar-21,\"South Indian Green Cardamom Company Ltd, Kochi\",256,66964.6,65972,1952,1476.69\\r\\n62,5-Mar-21,Green House Cardamom Mktg.India Pvt. Ltd,92,12079.4,11974.6,1732,1376.7\\r\\n63,4-Mar-21,Green Cardamom Trading Company,181,43366.8,43127.6,1908,1491.65\\r\\n64,4-Mar-21,\"Spice More Trading Company, Kumily\",186,40772,39740.3,1908,1395.4\\r\\n65,3-Mar-21,SUGANDHAGIRI SPICES PROMOTERS&TRADERS Pvt Ltd,156,36121.3,34998.6,1915,1400.93\\r\\n66,3-Mar-21,IDUKKI Dist.TRADITIONAL CARDAMOM PRODUCER COMPANY Ltd,209,48427.3,47567.3,2012,1446.91\\r\\n67,2-Mar-21,\"The Kerala Cardamom Processing and Marketing Company Limited, Thekkady\",226,58349.9,58058.1,1952,1371.15\\r\\n68,2-Mar-21,CARDAMOM GROWERSFOREVER PRIVATE LIMITED,164,28989.2,28164.8,1830,1349.05\\r\\n69,1-Mar-21,\"Mas Enterprises, Vandanmettu\",287,69247.4,65408.4,2215,1358.61\\r\\n70,1-Mar-21,\"Header Systems (India) Limited, Nedumkandam\",273,72594.8,64844.6,1853,1355.37\\r\\n71,27-Feb-21,\"Cardamom Planters\\' Association, Santhanpara\",168,30960.3,29977.6,1903.5,1351.94\\r\\n72,27-Feb-21,THE CARDAMOM PLANTERS MARKETING CO-OPERATIVE SOCIETY LIMITED,231,65008.5,64055.3,1908,1369.69\\r\\n73,26-Feb-21,Green House Cardamom Mktg.India Pvt. Ltd,156,20693.1,18022,1876,1351.39\\r\\n74,26-Feb-21,\"South Indian Green Cardamom Company Ltd, Kochi\",243,61098.5,60357.9,2285,1413.84\\r\\n75,25-Feb-21,\"Spice More Trading Company, Kumily\",223,52311.2,49514.4,1902,1429.11\\r\\n76,25-Feb-21,Green Cardamom Trading Company,191,45612,44083.6,1890,1518.12\\r\\n77,24-Feb-21,IDUKKI Dist.TRADITIONAL CARDAMOM PRODUCER COMPANY Ltd,154,38766.6,38766.6,2154,1479.47\\r\\n78,24-Feb-21,SUGANDHAGIRI SPICES PROMOTERS&TRADERS Pvt Ltd,185,37736.7,36691,1966,1485.51\\r\\n79,23-Feb-21,CARDAMOM GROWERSFOREVER PRIVATE LIMITED,79,13171.3,12583,1587,1316.03\\r\\n80,23-Feb-21,\"The Kerala Cardamom Processing and Marketing Company Limited, Thekkady\",206,55190.3,52370.7,1908,1375.28\\r\\n81,22-Feb-21,\"Header Systems (India) Limited, Nedumkandam\",238,63217.5,60277,1804,1382.05\\r\\n82,22-Feb-21,\"Mas Enterprises, Vandanmettu\",199,40511.7,40242.6,1837,1397.34\\r\\n83,20-Feb-21,THE CARDAMOM PLANTERS MARKETING CO-OPERATIVE SOCIETY LIMITED,187,46455.9,41272.4,1898,1352.84\\r\\n84,19-Feb-21,\"South Indian Green Cardamom Company Ltd, Kochi\",251,67321.6,64183.7,1969,1348.42\\r\\n85,19-Feb-21,Green House Cardamom Mktg.India Pvt. Ltd,135,17029.4,16595.7,1713,1292.33\\r\\n86,18-Feb-21,Green Cardamom Trading Company,141,27149.4,25350.8,1781,1330.61\\r\\n87,18-Feb-21,\"Spice More Trading Company, Kumily\",193,41711.4,37195.1,1802,1294.75\\r\\n88,17-Feb-21,SUGANDHAGIRI SPICES PROMOTERS&TRADERS Pvt Ltd,185,43138,40457.2,1854,1354.21\\r\\n89,17-Feb-21,IDUKKI Dist.TRADITIONAL CARDAMOM PRODUCER COMPANY Ltd,191,45864.9,45291.7,1916,1391.16\\r\\n90,16-Feb-21,\"The Kerala Cardamom Processing and Marketing Company Limited, Thekkady\",164,43564.7,41593,1840,1383.54\\r\\n91,15-Feb-21,\"Mas Enterprises, Vandanmettu\",247,58457.3,54510.8,2048,1413.39\\r\\n92,15-Feb-21,\"Header Systems (India) Limited, Nedumkandam\",238,63794.7,58969.1,1858,1413.6\\r\\n93,13-Feb-21,\"Cardamom Planters\\' Association, Santhanpara\",141,24875.7,18927.9,1824,1329.46\\r\\n94,13-Feb-21,THE CARDAMOM PLANTERS MARKETING CO-OPERATIVE SOCIETY LIMITED,217,56423.1,52562.4,1868,1382.85\\r\\n95,12-Feb-21,Green House Cardamom Mktg.India Pvt. Ltd,146,21808.3,16188.8,1785,1413.97\\r\\n96,12-Feb-21,\"South Indian Green Cardamom Company Ltd, Kochi\",279,77474.8,69295.8,2223,1506\\r\\n97,11-Feb-21,Green Cardamom Trading Company,209,55472.8,54507,1897,1523.74\\r\\n98,10-Feb-21,IDUKKI Dist.TRADITIONAL CARDAMOM PRODUCER COMPANY Ltd,229,55001.7,53430.9,1985,1521.47\\r\\n99,10-Feb-21,SUGANDHAGIRI SPICES PROMOTERS&TRADERS Pvt Ltd,215,50126.4,46219.4,1940,1504.9\\r\\n100,9-Feb-21,CARDAMOM GROWERSFOREVER PRIVATE LIMITED,107,20032.4,19927.6,1818,1455.14\\r\\n101,9-Feb-21,\"The Kerala Cardamom Processing and Marketing Company Limited, Thekkady\",220,59539.1,57930.7,1906,1523.85\\r\\n102,8-Feb-21,\"Header Systems (India) Limited, Nedumkandam\",258,66581.1,57488.3,1995,1486.48\\r\\n103,8-Feb-21,\"Mas Enterprises, Vandanmettu\",231,51065.1,47474.8,2100,1568.49\\r\\n104,6-Feb-21,THE CARDAMOM PLANTERS MARKETING CO-OPERATIVE SOCIETY LIMITED,236,68868.9,66824.4,1964,1520.17\\r\\n105,6-Feb-21,\"Cardamom Planters\\' Association, Santhanpara\",192,22552.6,19006.2,1831,1470.37\\r\\n106,5-Feb-21,\"South Indian Green Cardamom Company Ltd, Kochi\",287,74955.7,69218.2,2124,1599.05\\r\\n107,5-Feb-21,Green House Cardamom Mktg.India Pvt. Ltd,147,20594.2,17991.8,1880,1477.01\\r\\n108,4-Feb-21,\"Spice More Trading Company, Kumily\",214,48217.7,45385.2,1899,1527.34\\r\\n109,4-Feb-21,Green Cardamom Trading Company,192,46173.8,45129.9,1985,1621.64\\r\\n110,3-Feb-21,SUGANDHAGIRI SPICES PROMOTERS&TRADERS Pvt Ltd,167,36129.4,34384.9,2024,1575.21\\r\\n111,2-Feb-21,\"The Kerala Cardamom Processing and Marketing Company Limited, Thekkady\",212,55398.6,55398.6,1970,1508.53\\r\\n112,2-Feb-21,IDUKKI Dist.TRADITIONAL CARDAMOM PRODUCER COMPANY Ltd,176,40085.4,39730.4,2043,1556.65\\r\\n113,1-Feb-21,\"Mas Enterprises, Vandanmettu\",255,61246.4,59157.1,2148,1455.84\\r\\n114,30-Jan-21,\"Cardamom Planters\\' Association, Santhanpara\",160,26914.6,23603.5,1908,1470.61\\r\\n115,30-Jan-21,\"Header Systems (India) Limited, Nedumkandam\",205,47964.9,45259.6,1879.5,1453.86\\r\\n116,29-Jan-21,Green House Cardamom Mktg.India Pvt. Ltd,112,16771.6,15191.9,1874,1509.62\\r\\n117,29-Jan-21,THE CARDAMOM PLANTERS MARKETING CO-OPERATIVE SOCIETY LIMITED,187,46626.3,43349.9,2011,1514.21\\r\\n118,28-Jan-21,Green Cardamom Trading Company,157,40389.1,40055.4,1986,1571.73\\r\\n119,28-Jan-21,\"South Indian Green Cardamom Company Ltd, Kochi\",255,66853.9,66853.9,2348,1625.57\\r\\n120,27-Jan-21,SUGANDHAGIRI SPICES PROMOTERS&TRADERS Pvt Ltd,190,37296.9,35884.6,1961,1575.95\\r\\n121,27-Jan-21,\"Spice More Trading Company, Kumily\",174,40538.3,38536.9,1878,1517.44\\r\\n122,25-Jan-21,IDUKKI Dist.TRADITIONAL CARDAMOM PRODUCER COMPANY Ltd,222,53867.5,52709.8,1912,1574.83\\r\\n123,23-Jan-21,CARDAMOM GROWERSFOREVER PRIVATE LIMITED,108,20250.6,16422.4,1884,1549.69\\r\\n124,23-Jan-21,\"The Kerala Cardamom Processing and Marketing Company Limited, Thekkady\",155,41664.4,40537.5,2030,1592.51\\r\\n125,22-Jan-21,\"Header Systems (India) Limited, Nedumkandam\",247,61980.6,58000.5,1914,1559.59\\r\\n126,22-Jan-21,\"Mas Enterprises, Vandanmettu\",257,61390.5,60310.9,2078,1587.5\\r\\n127,21-Jan-21,THE CARDAMOM PLANTERS MARKETING CO-OPERATIVE SOCIETY LIMITED,229,61808.5,60619.3,1958,1550.39\\r\\n128,21-Jan-21,\"Cardamom Planters\\' Association, Santhanpara\",141,27163.2,22469.5,1968.5,1531.15\\r\\n129,20-Jan-21,\"South Indian Green Cardamom Company Ltd, Kochi\",243,66009.2,65922.4,2098,1635.92\\r\\n130,20-Jan-21,Green House Cardamom Mktg.India Pvt. Ltd,143,21741.5,18526.1,1876,1541.34\\r\\n131,19-Jan-21,\"Spice More Trading Company, Kumily\",213,54997.2,51217.2,1951,1597.46\\r\\n132,19-Jan-21,Green Cardamom Trading Company,160,41007.4,39381.8,1978,1621.27\\r\\n133,16-Jan-21,IDUKKI Dist.TRADITIONAL CARDAMOM PRODUCER COMPANY Ltd,104,23019.2,23019.2,1913,1652.23\\r\\n134,15-Jan-21,\"Mas Enterprises, Vandanmettu\",226,53975.8,53517.4,1986,1652.93\\r\\n135,15-Jan-21,CARDAMOM GROWERSFOREVER PRIVATE LIMITED,100,17805,16456.4,2082,1676.27\\r\\n136,13-Jan-21,\"Header Systems (India) Limited, Nedumkandam\",245,66629.5,64050.6,1884,1586.65\\r\\n137,12-Jan-21,Green House Cardamom Mktg.India Pvt. Ltd,226,39075,32273,1725,1524.24\\r\\n138,12-Jan-21,THE CARDAMOM PLANTERS MARKETING CO-OPERATIVE SOCIETY LIMITED,255,70438.8,69544.3,1972,1561.61\\r\\n139,11-Jan-21,Green Cardamom Trading Company,221,58556.3,57107.5,1962,1654.48\\r\\n140,11-Jan-21,\"South Indian Green Cardamom Company Ltd, Kochi\",250,71952.1,70044.3,1970,1622.11\\r\\n141,9-Jan-21,SUGANDHAGIRI SPICES PROMOTERS&TRADERS Pvt Ltd,188,46536,44677.2,2050,1683.25\\r\\n142,9-Jan-21,\"Spice More Trading Company, Kumily\",260,68195.7,63709.4,2072,1671.81\\r\\n143,8-Jan-21,IDUKKI Dist.TRADITIONAL CARDAMOM PRODUCER COMPANY Ltd,171,38144,37588.6,2056,1676.87\\r\\n144,7-Jan-21,CARDAMOM GROWERSFOREVER PRIVATE LIMITED,99,22798,20531.5,2205,1786.97\\r\\n145,7-Jan-21,\"The Kerala Cardamom Processing and Marketing Company Limited, Thekkady\",154,41671.3,41671.3,2084,1642.81\\r\\n146,6-Jan-21,\"Header Systems (India) Limited, Nedumkandam\",179,47632.5,47414.7,2020,1653.78\\r\\n147,6-Jan-21,\"Mas Enterprises, Vandanmettu\",140,34044.8,33302.3,2213,1691.46\\r\\n148,5-Jan-21,THE CARDAMOM PLANTERS MARKETING CO-OPERATIVE SOCIETY LIMITED,206,60152.8,59248.3,2092,1626.13\\r\\n149,5-Jan-21,\"Cardamom Planters\\' Association, Santhanpara\",161,30872.7,27759.9,1962,1586.01\\r\\n150,4-Jan-21,\"South Indian Green Cardamom Company Ltd, Kochi\",290,82052.4,67921.3,2106,1660.35\\r\\n151,4-Jan-21,Green House Cardamom Mktg.India Pvt. Ltd,174,28465.9,22494.3,1999,1583.7\\r\\n152,2-Jan-21,\"Spice More Trading Company, Kumily\",280,76786.4,67074.6,2100,1685.68\\r\\n153,2-Jan-21,Green Cardamom Trading Company,193,52094.7,511177,2046,1708.62\\r\\n154,1-Jan-21,SUGANDHAGIRI SPICES PROMOTERS&TRADERS Pvt Ltd,228,57586.5,51907.2,2304,1710.89\\r\\n155,31-Dec-20,\"The Kerala Cardamom Processing and Marketing Company Limited, Thekkady\",272,82013.3,79942.6,2197,1688.35\\r\\n156,31-Dec-20,IDUKKI Dist.TRADITIONAL CARDAMOM PRODUCER COMPANY Ltd,236,63311,62435.6,2092,1693.31\\r\\n157,30-Dec-20,\"Mas Enterprises, Vandanmettu\",295,87083,85133.6,2343,1754.21\\r\\n158,30-Dec-20,CARDAMOM GROWERSFOREVER PRIVATE LIMITED,134,28896.9,25671.4,2253,1774.22\\r\\n159,29-Dec-20,\"Cardamom Planters\\' Association, Santhanpara\",259,54915.3,48971,2010,1751.69\\r\\n160,29-Dec-20,\"Header Systems (India) Limited, Nedumkandam\",283,87904.5,81211.7,2022,1745\\r\\n161,28-Dec-20,Green House Cardamom Mktg.India Pvt. Ltd,189,30144.7,29798.4,2223,1837.15\\r\\n162,28-Dec-20,THE CARDAMOM PLANTERS MARKETING CO-OPERATIVE SOCIETY LIMITED,214,62746.7,62116.4,2233,1798.26\\r\\n163,26-Dec-20,Green Cardamom Trading Company,223,60602.1,60426.4,2196,1843.33\\r\\n164,26-Dec-20,\"South Indian Green Cardamom Company Ltd, Kochi\",295,83761.8,82336.6,2288,1829.23\\r\\n165,24-Dec-20,SUGANDHAGIRI SPICES PROMOTERS&TRADERS Pvt Ltd,201,48185.8,47148.3,2012,1757.93\\r\\n166,24-Dec-20,\"Spice More Trading Company, Kumily\",227,57181.5,55221.9,2164,1698.43\\r\\n167,23-Dec-20,IDUKKI Dist.TRADITIONAL CARDAMOM PRODUCER COMPANY Ltd,244,65524.3,65524.3,1979,1690.9\\r\\n168,22-Dec-20,CARDAMOM GROWERSFOREVER PRIVATE LIMITED,136,25331.7,22025.8,2079,1679.65\\r\\n169,22-Dec-20,\"The Kerala Cardamom Processing and Marketing Company Limited, Thekkady\",236,73145.4,72163.4,2147,1698.49\\r\\n170,21-Dec-20,\"Header Systems (India) Limited, Nedumkandam\",295,94796.4,87580.7,2070,1745.13\\r\\n171,21-Dec-20,\"Mas Enterprises, Vandanmettu\",308,85534.3,80332.4,2399,1760.23\\r\\n172,19-Dec-20,THE CARDAMOM PLANTERS MARKETING CO-OPERATIVE SOCIETY LIMITED,274,84564.3,84408.2,2190,1811.61\\r\\n173,19-Dec-20,\"Cardamom Planters\\' Association, Santhanpara\",233,50116.2,46005.5,2087,1754.29\\r\\n174,18-Dec-20,\"South Indian Green Cardamom Company Ltd, Kochi\",364,114244.5,94195,2278,1874.45\\r\\n175,18-Dec-20,Green House Cardamom Mktg.India Pvt. Ltd,259,46097.7,43611,2261,1806.66\\r\\n176,17-Dec-20,\"Spice More Trading Company, Kumily\",295,76922,75606.5,2213,1808\\r\\n177,17-Dec-20,Green Cardamom Trading Company,266,73753.3,73276.9,2241,1883.8\\r\\n178,16-Dec-20,VANDANMEDU GREEN GOLD CARDAMOM PRODUCER CoLtd,189,46528.9,46528.9,2400,2000.02\\r\\n179,16-Dec-20,SUGANDHAGIRI SPICES PROMOTERS&TRADERS Pvt Ltd,206,51117.1,50881.2,2305,1926.48\\r\\n180,15-Dec-20,\"The Kerala Cardamom Processing and Marketing Company Limited, Thekkady\",278,88211,86864.2,2224,1820.76\\r\\n181,15-Dec-20,IDUKKI Dist.TRADITIONAL CARDAMOM PRODUCER COMPANY Ltd,196,46371.3,46371.3,2283,1860.01\\r\\n182,14-Dec-20,\"Mas Enterprises, Vandanmettu\",301,78771,78379,2458,1788.65\\r\\n183,14-Dec-20,CARDAMOM GROWERSFOREVER PRIVATE LIMITED,182,35792.8,35792.8,2141,1775.56\\r\\n184,12-Dec-20,\"Cardamom Planters\\' Association, Santhanpara\",221,45572.2,45209.7,1915,1698.98\\r\\n185,12-Dec-20,\"Header Systems (India) Limited, Nedumkandam\",268,73178.1,72707.8,2146,1728.88\\r\\n186,11-Dec-20,Green House Cardamom Mktg.India Pvt. Ltd,208,31208.8,30564.8,2089,1674.56\\r\\n187,11-Dec-20,THE CARDAMOM PLANTERS MARKETING CO-OPERATIVE SOCIETY LIMITED,237,70303.3,70108.3,2101,1721.77\\r\\n188,10-Dec-20,Green Cardamom Trading Company,265,71464.5,71167.9,2029,1729.11\\r\\n189,10-Dec-20,\"South Indian Green Cardamom Company Ltd, Kochi\",310,84326.3,83699.2,2056,1713.89\\r\\n190,9-Dec-20,SUGANDHAGIRI SPICES PROMOTERS&TRADERS Pvt Ltd,204,50351.7,44413.6,2054,1664.82\\r\\n191,9-Dec-20,\"Spice More Trading Company, Kumily\",248,62885.7,61780.9,1952,1632.85\\r\\n192,8-Dec-20,IDUKKI Dist.TRADITIONAL CARDAMOM PRODUCER COMPANY Ltd,250,69320.2,69320.2,2003,1634.1\\r\\n193,8-Dec-20,VANDANMEDU GREEN GOLD CARDAMOM PRODUCER CoLtd,188,44666.8,43654,2001,1691.02\\r\\n194,7-Dec-20,CARDAMOM GROWERSFOREVER PRIVATE LIMITED,244,50114.4,49231.5,1991,1652.66\\r\\n195,7-Dec-20,\"The Kerala Cardamom Processing and Marketing Company Limited, Thekkady\",242,75491.8,74219.7,2014,1658.44\\r\\n196,5-Dec-20,\"Header Systems (India) Limited, Nedumkandam\",279,76648.5,76648.5,1961,1657.65\\r\\n197,5-Dec-20,\"Mas Enterprises, Vandanmettu\",280,72552,72147.8,2401,1666.06\\r\\n198,4-Dec-20,THE CARDAMOM PLANTERS MARKETING CO-OPERATIVE SOCIETY LIMITED,240,70028.4,70028.4,2018,1694.7\\r\\n199,4-Dec-20,\"Cardamom Planters\\' Association, Santhanpara\",222,46686.7,46148.6,1844.5,1612.46\\r\\n200,3-Dec-20,\"South Indian Green Cardamom Company Ltd, Kochi\",318,92447.9,91465.7,1986,1670.33\\r\\n201,3-Dec-20,Green House Cardamom Mktg.India Pvt. Ltd,152,23573.4,22656.5,1909.5,1578.07\\r\\n202,2-Dec-20,\"Spice More Trading Company, Kumily\",290,74140.5,71872.8,2076,1586.12\\r\\n203,2-Dec-20,Green Cardamom Trading Company,267,69506.5,69368.4,2088,1623.98\\r\\n204,1-Dec-20,VANDANMEDU GREEN GOLD CARDAMOM PRODUCER CoLtd,196,46934.3,43352.8,1996,1591.25\\r\\n205,1-Dec-20,SUGANDHAGIRI SPICES PROMOTERS&TRADERS Pvt Ltd,232,50782.3,49782.3,1998,1611.54\\r\\n206,30-Nov-20,\"The Kerala Cardamom Processing and Marketing Company Limited, Thekkady\",253,78952.8,78611.3,1981,1597.29\\r\\n207,30-Nov-20,IDUKKI Dist.TRADITIONAL CARDAMOM PRODUCER COMPANY Ltd,265,76219.1,74814.7,1906,1582.97\\r\\n208,28-Nov-20,\"Mas Enterprises, Vandanmettu\",288,77916.9,76970.3,2158,1642.18\\r\\n209,28-Nov-20,CARDAMOM GROWERSFOREVER PRIVATE LIMITED,206,38116.7,36468.5,2000,1612.51\\r\\n210,27-Nov-20,\"Cardamom Planters\\' Association, Santhanpara\",176,32236.6,32171.1,2000,1678.16\\r\\n211,27-Nov-20,\"Header Systems (India) Limited, Nedumkandam\",250,64565.2,63688.8,2525,1674.57\\r\\n212,26-Nov-20,Green House Cardamom Mktg.India Pvt. Ltd,166,26211.9,26211.9,1893,1583.58\\r\\n213,26-Nov-20,THE CARDAMOM PLANTERS MARKETING CO-OPERATIVE SOCIETY LIMITED,242,73441.3,73441.3,1988,1643.04\\r\\n214,25-Nov-20,Green Cardamom Trading Company,294,79194.5,77433.6,1872,1542.85\\r\\n215,25-Nov-20,\"South Indian Green Cardamom Company Ltd, Kochi\",331,92810.5,89874.3,1955,1623.04\\r\\n216,24-Nov-20,SUGANDHAGIRI SPICES PROMOTERS&TRADERS Pvt Ltd,253,60364.6,59566.6,2152,1588.59\\r\\n217,24-Nov-20,\"Spice More Trading Company, Kumily\",239,55667.9,53612.3,1991,1538.41\\r\\n218,23-Nov-20,IDUKKI Dist.TRADITIONAL CARDAMOM PRODUCER COMPANY Ltd,263,69478.5,68967.6,2008,1625.9\\r\\n219,23-Nov-20,VANDANMEDU GREEN GOLD CARDAMOM PRODUCER CoLtd,220,51750.7,51750.7,2400,1646.55\\r\\n220,21-Nov-20,CARDAMOM GROWERSFOREVER PRIVATE LIMITED,118,26736.6,26736.6,1776,1547.68\\r\\n221,21-Nov-20,\"The Kerala Cardamom Processing and Marketing Company Limited, Thekkady\",187,49774.8,48526.4,1854,1531.98\\r\\n222,20-Nov-20,\"Header Systems (India) Limited, Nedumkandam\",227,59471.6,59471.6,1783,1471.75\\r\\n223,20-Nov-20,\"Mas Enterprises, Vandanmettu\",204,47315,47315,1984,1497.44\\r\\n224,19-Nov-20,THE CARDAMOM PLANTERS MARKETING CO-OPERATIVE SOCIETY LIMITED,198,53454.4,53454.4,1824,1441.24\\r\\n225,19-Nov-20,\"Cardamom Planters\\' Association, Santhanpara\",164,30917.5,30233.1,1716,1401.59\\r\\n226,18-Nov-20,\"South Indian Green Cardamom Company Ltd, Kochi\",279,72493.5,69980,1830,1461.41\\r\\n227,18-Nov-20,Green House Cardamom Mktg.India Pvt. Ltd,173,28116.2,24526.8,1720,1369.36\\r\\n228,17-Nov-20,\"Spice More Trading Company, Kumily\",183,42061.8,41495.9,1737,1425.28\\r\\n229,17-Nov-20,Green Cardamom Trading Company,277,67368.7,64485.9,1766,1447.14\\r\\n230,16-Nov-20,VANDANMEDU GREEN GOLD CARDAMOM PRODUCER CoLtd,128,29130.5,29130.5,1887,1509.82\\r\\n231,16-Nov-20,SUGANDHAGIRI SPICES PROMOTERS&TRADERS Pvt Ltd,201,43912.6,43279.4,1814,1503.7\\r\\n232,13-Nov-20,\"The Kerala Cardamom Processing and Marketing Company Limited, Thekkady\",196,54955.2,53743.4,1762,1451.76\\r\\n233,12-Nov-20,\"Mas Enterprises, Vandanmettu\",261,63209.6,62873.1,2019,1419.22\\r\\n234,12-Nov-20,CARDAMOM GROWERSFOREVER PRIVATE LIMITED,129,25210.9,24811.5,1678.5,1434.85\\r\\n235,11-Nov-20,\"Cardamom Planters\\' Association, Santhanpara\",193,39014.2,34891.5,1731,1369.1\\r\\n236,11-Nov-20,\"Header Systems (India) Limited, Nedumkandam\",276,76021.4,72902.9,1700,1407.32\\r\\n237,10-Nov-20,Green House Cardamom Mktg.India Pvt. Ltd,179,27702.3,26985.7,1717,1417.56\\r\\n238,10-Nov-20,THE CARDAMOM PLANTERS MARKETING CO-OPERATIVE SOCIETY LIMITED,197,51768.2,51768.2,1844,1448.51\\r\\n239,9-Nov-20,Green Cardamom Trading Company,240,56519.2,55787.5,1802,1473.28\\r\\n240,9-Nov-20,\"South Indian Green Cardamom Company Ltd, Kochi\",250,65137.1,64967.6,1885,1494.29\\r\\n241,7-Nov-20,SUGANDHAGIRI SPICES PROMOTERS&TRADERS Pvt Ltd,224,47783.5,45552.8,1708,1356.91\\r\\n242,7-Nov-20,\"Spice More Trading Company, Kumily\",189,42240.3,40598.5,1730,1368.37\\r\\n243,6-Nov-20,IDUKKI Dist.TRADITIONAL CARDAMOM PRODUCER COMPANY Ltd,222,53846.5,53753.6,1700,1357.47\\r\\n244,5-Nov-20,CARDAMOM GROWERSFOREVER PRIVATE LIMITED,156,29162.2,25849.4,1586,1312.84\\r\\n245,5-Nov-20,\"The Kerala Cardamom Processing and Marketing Company Limited, Thekkady\",198,55186.7,54924.9,1715,1372.55\\r\\n246,4-Nov-20,\"Header Systems (India) Limited, Nedumkandam\",298,84892.4,74611.1,1582,1317.63\\r\\n247,4-Nov-20,\"Mas Enterprises, Vandanmettu\",239,55590.8,55590.8,2100,1365.15\\r\\n248,3-Nov-20,THE CARDAMOM PLANTERS MARKETING CO-OPERATIVE SOCIETY LIMITED,238,68337.2,67820.2,1720,1341.52\\r\\n249,3-Nov-20,\"Cardamom Planters\\' Association, Santhanpara\",236,48263.1,44700.6,1601,1324.08\\r\\n250,2-Nov-20,\"South Indian Green Cardamom Company Ltd, Kochi\",291,82960,80242.3,1898,1417.87\\r\\n251,2-Nov-20,Green House Cardamom Mktg.India Pvt. Ltd,199,36113.3,32584.5,1604,1337.32\\r\\n252,31-Oct-20,\"Spice More Trading Company, Kumily\",202,45777.3,44308.2,1727,1403.3\\r\\n253,31-Oct-20,Green Cardamom Trading Company,253,58418.5,56400.9,1940,1451.56\\r\\n254,30-Oct-20,SUGANDHAGIRI SPICES PROMOTERS&TRADERS Pvt Ltd,140,30222.9,28250.4,2164,1495.54\\r\\n255,29-Oct-20,\"The Kerala Cardamom Processing and Marketing Company Limited, Thekkady\",238,69267.1,69267.1,1767,1403.75\\r\\n256,29-Oct-20,IDUKKI Dist.TRADITIONAL CARDAMOM PRODUCER COMPANY Ltd,200,46315.4,46315.4,1939,1442.22\\r\\n257,28-Oct-20,\"Mas Enterprises, Vandanmettu\",248,61682.8,58392.3,2209,1424\\r\\n258,28-Oct-20,CARDAMOM GROWERSFOREVER PRIVATE LIMITED,147,28817.6,22165.6,1690,1350.5\\r\\n259,27-Oct-20,\"Cardamom Planters\\' Association, Santhanpara\",232,50085.7,46712.5,2142,1401.74\\r\\n260,27-Oct-20,\"Header Systems (India) Limited, Nedumkandam\",275,73286.7,71760.6,1712,1405.35\\r\\n261,26-Oct-20,Green House Cardamom Mktg.India Pvt. Ltd,234,43818.5,39434,1706,1420.1\\r\\n262,26-Oct-20,THE CARDAMOM PLANTERS MARKETING CO-OPERATIVE SOCIETY LIMITED,239,69468.4,68499.2,1738,1399.38\\r\\n263,24-Oct-20,Green Cardamom Trading Company,276,68588.2,67195.3,1754,1480.99\\r\\n264,24-Oct-20,\"South Indian Green Cardamom Company Ltd, Kochi\",293,84006.7,83859.9,1827,1498.14\\r\\n265,23-Oct-20,SUGANDHAGIRI SPICES PROMOTERS&TRADERS Pvt Ltd,208,45700.3,43138.4,1815,1504.68\\r\\n266,23-Oct-20,\"Spice More Trading Company, Kumily\",188,41194.4,40358.1,1719,1471.1\\r\\n267,22-Oct-20,IDUKKI Dist.TRADITIONAL CARDAMOM PRODUCER COMPANY Ltd,239,59725.6,58861.1,1889,1506.45\\r\\n268,22-Oct-20,VANDANMEDU GREEN GOLD CARDAMOM PRODUCER CoLtd,165,38236.3,37218.5,2266,1554.79\\r\\n269,21-Oct-20,CARDAMOM GROWERSFOREVER PRIVATE LIMITED,162,31773.4,30873.3,1764,1490.86\\r\\n270,21-Oct-20,\"The Kerala Cardamom Processing and Marketing Company Limited, Thekkady\",157,40628.7,39611.8,1818,1485.62\\r\\n271,20-Oct-20,\"Header Systems (India) Limited, Nedumkandam\",265,66508.8,64989,1802,1455.65\\r\\n272,20-Oct-20,\"Mas Enterprises, Vandanmettu\",215,51084.8,51084.8,2512,1504.1\\r\\n273,19-Oct-20,THE CARDAMOM PLANTERS MARKETING CO-OPERATIVE SOCIETY LIMITED,205,59002.2,56636.9,1775,1441.09\\r\\n274,19-Oct-20,\"Cardamom Planters\\' Association, Santhanpara\",227,44050,42211.5,1720,1425.75\\r\\n275,17-Oct-20,\"South Indian Green Cardamom Company Ltd, Kochi\",255,67918.7,67918.7,1948,1461.4\\r\\n276,17-Oct-20,Green House Cardamom Mktg.India Pvt. Ltd,109,16719.7,16189.8,1832,1424.55\\r\\n277,16-Oct-20,\"Spice More Trading Company, Kumily\",225,52437,47086.9,1877,1375.3\\r\\n278,16-Oct-20,Green Cardamom Trading Company,179,42688.8,39210.7,1658,1405.98\\r\\n279,15-Oct-20,VANDANMEDU GREEN GOLD CARDAMOM PRODUCER CoLtd,203,51955.5,51247.7,1854,1428.96\\r\\n280,15-Oct-20,SUGANDHAGIRI SPICES PROMOTERS&TRADERS Pvt Ltd,183,42947.4,41691.5,1765,1413.05\\r\\n281,14-Oct-20,\"The Kerala Cardamom Processing and Marketing Company Limited, Thekkady\",225,64943.2,63721.4,1879,1422.91\\r\\n282,14-Oct-20,IDUKKI Dist.TRADITIONAL CARDAMOM PRODUCER COMPANY Ltd,213,54005.4,52557.2,1893,1401.83\\r\\n283,13-Oct-20,\"Mas Enterprises, Vandanmettu\",257,65651.1,57820.3,2406,1466.7\\r\\n284,13-Oct-20,CARDAMOM GROWERSFOREVER PRIVATE LIMITED,155,31367.8,29273.4,1775,1443.86\\r\\n285,12-Oct-20,\"Cardamom Planters\\' Association, Santhanpara\",179,35422.7,33980.9,1787,1493.48\\r\\n286,12-Oct-20,\"Header Systems (India) Limited, Nedumkandam\",262,70234.9,65883.3,1741,1456.92\\r\\n287,10-Oct-20,Green House Cardamom Mktg.India Pvt. Ltd,208,37955.2,35463.5,1767,1463.43\\r\\n288,10-Oct-20,THE CARDAMOM PLANTERS MARKETING CO-OPERATIVE SOCIETY LIMITED,212,63670.1,63372.9,1902,1490.77\\r\\n289,9-Oct-20,Green Cardamom Trading Company,281,72222.7,67808.5,1783,1510.5\\r\\n290,9-Oct-20,\"South Indian Green Cardamom Company Ltd, Kochi\",261,70458.3,68592.6,1864,1485.84\\r\\n291,8-Oct-20,SUGANDHAGIRI SPICES PROMOTERS&TRADERS Pvt Ltd,240,57142.8,54602.4,1856,1514.11\\r\\n292,8-Oct-20,\"Spice More Trading Company, Kumily\",147,33748.3,30714.8,1859,1480.42\\r\\n293,7-Oct-20,IDUKKI Dist.TRADITIONAL CARDAMOM PRODUCER COMPANY Ltd,229,55145.6,53793,2084,1581.32\\r\\n294,6-Oct-20,CARDAMOM GROWERSFOREVER PRIVATE LIMITED,154,30054.6,29184.6,1834,1555.77\\r\\n295,6-Oct-20,\"The Kerala Cardamom Processing and Marketing Company Limited, Thekkady\",154,46527.8,46527.8,1850,1566.44\\r\\n296,5-Oct-20,\"Header Systems (India) Limited, Nedumkandam\",269,76677.9,72015.1,1739,1475.81\\r\\n297,5-Oct-20,\"Mas Enterprises, Vandanmettu\",231,60356.3,57726.2,2074,1518.96\\r\\n298,3-Oct-20,THE CARDAMOM PLANTERS MARKETING CO-OPERATIVE SOCIETY LIMITED,228,72413.7,72101.7,1835,1453.4\\r\\n299,3-Oct-20,\"Cardamom Planters\\' Association, Santhanpara\",201,41864.6,37352.1,1719,1436.97\\r\\n300,1-Oct-20,\"South Indian Green Cardamom Company Ltd, Kochi\",279,84013.5,82405.1,1854,1523.2\\r\\n301,1-Oct-20,Green House Cardamom Mktg.India Pvt. Ltd,163,28294.3,24939.6,1727,1480.26\\r\\n302,30-Sep-20,Green Cardamom Trading Company,264,66574.9,65749.9,1854,1538.08\\r\\n303,29-Sep-20,\"Spice More Trading Company, Kumily\",271,69160.9,64963.7,1888,1510.45\\r\\n304,28-Sep-20,SUGANDHAGIRI SPICES PROMOTERS&TRADERS Pvt Ltd,279,64124.1,61362.7,1927,1571.96\\r\\n305,26-Sep-20,VANDANMEDU GREEN GOLD CARDAMOM PRODUCER CoLtd,159,39345.1,36207.1,1929,1634.49\\r\\n306,25-Sep-20,IDUKKI Dist.TRADITIONAL CARDAMOM PRODUCER COMPANY Ltd,235,55335.3,54928.4,2109,1573.99\\r\\n307,24-Sep-20,\"The Kerala Cardamom Processing and Marketing Company Limited, Thekkady\",260,78617,76041.5,1992,1543.51\\r\\n308,23-Sep-20,CARDAMOM GROWERSFOREVER PRIVATE LIMITED,193,37077,36079.7,1904,1505.23\\r\\n309,22-Sep-20,\"Mas Enterprises, Vandanmettu\",295,80115.5,77855.5,2245,1486.15\\r\\n310,21-Sep-20,\"Header Systems (India) Limited, Nedumkandam\",281,79004,74404.1,1808,1505.16\\r\\n311,19-Sep-20,\"Cardamom Planters\\' Association, Santhanpara\",254,48031.2,38533.5,1726,1445.12\\r\\n312,18-Sep-20,THE CARDAMOM PLANTERS MARKETING CO-OPERATIVE SOCIETY LIMITED,317,96435.1,95312.9,2008,1560.39\\r\\n313,17-Sep-20,Green House Cardamom Mktg.India Pvt. Ltd,266,50076.7,44486.5,1995,1570.22\\r\\n314,16-Sep-20,\"South Indian Green Cardamom Company Ltd, Kochi\",372,117639.1,114568.8,2104,1599.15\\r\\n315,15-Sep-20,Green Cardamom Trading Company,330,88016,87034,2079,1643.49\\r\\n316,14-Sep-20,\"Spice More Trading Company, Kumily\",303,80390.3,77217.8,2099,1607.48\\r\\n317,12-Sep-20,SUGANDHAGIRI SPICES PROMOTERS&TRADERS Pvt Ltd,278,68213.5,64900.3,2206.5,1710.94\\r\\n318,11-Sep-20,VANDANMEDU GREEN GOLD CARDAMOM PRODUCER CoLtd,263,73438.7,71849.8,2224,1741.13\\r\\n319,10-Sep-20,IDUKKI Dist.TRADITIONAL CARDAMOM PRODUCER COMPANY Ltd,298,83475.3,80718.2,2361,1672.61\\r\\n320,9-Sep-20,\"The Kerala Cardamom Processing and Marketing Company Limited, Thekkady\",297,89711.5,89183.2,2146,1701.38\\r\\n321,8-Sep-20,CARDAMOM GROWERSFOREVER PRIVATE LIMITED,271,55915.5,52995.3,2141,1702.04\\r\\n322,7-Sep-20,\"Mas Enterprises, Vandanmettu\",320,84218.5,74489.5,2656,1760.81\\r\\n323,5-Sep-20,\"Header Systems (India) Limited, Nedumkandam\",325,94338.1,91638.1,2290,1777.63\\r\\n324,4-Sep-20,\"Cardamom Planters\\' Association, Santhanpara\",252,45212.1,44488.8,2156,1740.86\\r\\n325,3-Sep-20,THE CARDAMOM PLANTERS MARKETING CO-OPERATIVE SOCIETY LIMITED,282,80339.3,79982,2361,1761.99\\r\\n326,2-Sep-20,Green House Cardamom Mktg.India Pvt. Ltd,278,50041.4,49050.8,2274,1714.04\\r\\n327,1-Sep-20,\"South Indian Green Cardamom Company Ltd, Kochi\",348,91516.3,83090.9,2336,1760.6\\r\\n328,29-Aug-20,Green Cardamom Trading Company,288,72527.9,71428.5,2298,1771.48\\r\\n329,28-Aug-20,\"Spice More Trading Company, Kumily\",266,69831,67173.5,2268,1688.56\\r\\n330,27-Aug-20,SUGANDHAGIRI SPICES PROMOTERS&TRADERS Pvt Ltd,301,83361.4,81696.3,2326,1662.41\\r\\n331,26-Aug-20,VANDANMEDU GREEN GOLD CARDAMOM PRODUCER CoLtd,239,65777,63165.3,2284,1741.31\\r\\n332,25-Aug-20,IDUKKI Dist.TRADITIONAL CARDAMOM PRODUCER COMPANY Ltd,260,73926.7,72320.7,2128,1675.31\\r\\n333,24-Aug-20,\"The Kerala Cardamom Processing and Marketing Company Limited, Thekkady\",267,73124.9,70371.4,2207,1740.44\\r\\n334,22-Aug-20,CARDAMOM GROWERSFOREVER PRIVATE LIMITED,224,42518.5,41951.8,2299,1744.12\\r\\n335,21-Aug-20,\"Mas Enterprises, Vandanmettu\",308,77004.2,76485.7,2479,1760.84\\r\\n336,20-Aug-20,\"Header Systems (India) Limited, Nedumkandam\",281,87308.1,83405.8,2413,1809.06\\r\\n337,19-Aug-20,\"Cardamom Planters\\' Association, Santhanpara\",197,34623.8,31094.8,2172,1731.61\\r\\n338,18-Aug-20,THE CARDAMOM PLANTERS MARKETING CO-OPERATIVE SOCIETY LIMITED,277,74266.6,73347.9,2480,1758.04\\r\\n339,17-Aug-20,Green House Cardamom Mktg.India Pvt. Ltd,308,55109.6,51870.4,2371.5,1760.52\\r\\n340,14-Aug-20,\"South Indian Green Cardamom Company Ltd, Kochi\",331,85757.5,85236.2,2502,1855.56\\r\\n341,13-Aug-20,Green Cardamom Trading Company,267,61783.5,58856.6,2466,1818.3\\r\\n342,12-Aug-20,\"Spice More Trading Company, Kumily\",244,56640.9,55806.3,2461,1756.35\\r\\n343,11-Aug-20,SUGANDHAGIRI SPICES PROMOTERS&TRADERS Pvt Ltd,435,103127.4,91216.5,2602,1725.28\\r\\n344,10-Aug-20,VANDANMEDU GREEN GOLD CARDAMOM PRODUCER CoLtd,235,53567.3,52464.6,2541,1950.36\\r\\n345,8-Aug-20,IDUKKI Dist.TRADITIONAL CARDAMOM PRODUCER COMPANY Ltd,216,53055.6,52776.4,2451,1775.98\\r\\n346,7-Aug-20,\"The Kerala Cardamom Processing and Marketing Company Limited, Thekkady\",278,75353.8,75294.8,2149,1681.01\\r\\n347,6-Aug-20,CARDAMOM GROWERSFOREVER PRIVATE LIMITED,206,43341.5,42734.6,2103,1483.06\\r\\n348,5-Aug-20,\"Mas Enterprises, Vandanmettu\",303,81614.7,79102.6,2323,1462.21\\r\\n349,4-Aug-20,\"Header Systems (India) Limited, Nedumkandam\",325,106303.1,103616.7,2002,1401.8\\r\\n350,3-Aug-20,\"Cardamom Planters\\' Association, Santhanpara\",274,53263.5,51805.1,2020,1402.35\\r\\n351,1-Aug-20,THE CARDAMOM PLANTERS MARKETING CO-OPERATIVE SOCIETY LIMITED,287,82474.6,81630.8,2218,1503.37\\r\\n352,30-Jul-20,Green House Cardamom Mktg.India Pvt. Ltd,317,60017.3,48965.8,2164,1573.44\\r\\n353,28-Jul-20,\"South Indian Green Cardamom Company Ltd, Kochi\",330,90474.6,88495.2,2277,1596.16\\r\\n354,25-Jul-20,Green Cardamom Trading Company,332,89374.7,87226.5,2184,1538.36\\r\\n355,24-Jul-20,\"Spice More Trading Company, Kumily\",257,58311.8,57314.2,2290,1582.96\\r\\n356,22-Jul-20,SUGANDHAGIRI SPICES PROMOTERS&TRADERS Pvt Ltd,339,83165.4,82083.5,2192,1624.12\\r\\n357,18-Jul-20,VANDANMEDU GREEN GOLD CARDAMOM PRODUCER CoLtd,148,29824.6,28962.4,2436,1670.67\\r\\n358,17-Jul-20,IDUKKI Dist.TRADITIONAL CARDAMOM PRODUCER COMPANY Ltd,230,67464,65759.7,2269,1597.65\\r\\n359,16-Jul-20,\"The Kerala Cardamom Processing and Marketing Company Limited, Thekkady\",212,55662.4,54894.7,2250,1648.71\\r\\n360,15-Jul-20,CARDAMOM GROWERSFOREVER PRIVATE LIMITED,181,32716.9,32433,2157,1603.96\\r\\n361,14-Jul-20,\"Mas Enterprises, Vandanmettu\",246,61281.6,61195.4,2226,1619.57\\r\\n362,13-Jul-20,\"Header Systems (India) Limited, Nedumkandam\",312,92565.3,79676,2278,1630.07\\r\\n363,10-Jul-20,THE CARDAMOM PLANTERS MARKETING CO-OPERATIVE SOCIETY LIMITED,273,76274.3,75911.2,2239,1615.58\\r\\n364,9-Jul-20,Green House Cardamom Mktg.India Pvt. Ltd,185,26990.8,26686.1,2100,1595.96\\r\\n365,8-Jul-20,\"South Indian Green Cardamom Company Ltd, Kochi\",288,85978.8,85397.6,2268,1665.5\\r\\n366,7-Jul-20,Green Cardamom Trading Company,242,54806.7,54135.7,2177,1600.13\\r\\n367,6-Jul-20,\"Spice More Trading Company, Kumily\",253,53610.3,45995.3,2234,1586.85\\r\\n368,4-Jul-20,SUGANDHAGIRI SPICES PROMOTERS&TRADERS Pvt Ltd,281,54114.3,49897,2220,1696.61\\r\\n369,3-Jul-20,VANDANMEDU GREEN GOLD CARDAMOM PRODUCER CoLtd,122,26322.3,26232,2440,1811.45\\r\\n370,2-Jul-20,IDUKKI Dist.TRADITIONAL CARDAMOM PRODUCER COMPANY Ltd,179,40221.7,40221.7,2186,1658.71\\r\\n371,1-Jul-20,\"The Kerala Cardamom Processing and Marketing Company Limited, Thekkady\",217,54930.3,54496.2,2240,1615.08\\r\\n372,30-Jun-20,CARDAMOM GROWERSFOREVER PRIVATE LIMITED,102,17606.1,17606.1,2132,1553.67\\r\\n373,29-Jun-20,\"Mas Enterprises, Vandanmettu\",293,64907.2,55756.8,2314,1658.38\\r\\n374,27-Jun-20,\"Header Systems (India) Limited, Nedumkandam\",190,42266.3,42266.3,2292,1674.45\\r\\n375,26-Jun-20,\"Cardamom Planters\\' Association, Santhanpara\",112,18738.4,18487.5,2163,1687.92\\r\\n376,25-Jun-20,THE CARDAMOM PLANTERS MARKETING CO-OPERATIVE SOCIETY LIMITED,124,31570.9,31570.9,2290,1654.4\\r\\n377,24-Jun-20,Green House Cardamom Mktg.India Pvt. Ltd,133,19295.8,18435.8,2221,1478.87\\r\\n378,23-Jun-20,\"South Indian Green Cardamom Company Ltd, Kochi\",161,36461.5,36461.5,2000,1443.68\\r\\n379,22-Jun-20,Green Cardamom Trading Company,249,56028.9,56028.9,1917,1348.9\\r\\n380,19-Jun-20,SUGANDHAGIRI SPICES PROMOTERS&TRADERS Pvt Ltd,87,15104.3,13976.9,1835,1335.71\\r\\n381,17-Jun-20,IDUKKI Dist.TRADITIONAL CARDAMOM PRODUCER COMPANY Ltd,211,63072.3,61559.6,1758,1215.8\\r\\n382,16-Jun-20,\"The Kerala Cardamom Processing and Marketing Company Limited, Thekkady\",202,52511.8,49234.9,1700,1069.57\\r\\n383,15-Jun-20,CARDAMOM GROWERSFOREVER PRIVATE LIMITED,288,50032.6,37787.8,1758,1145.35\\r\\n384,13-Jun-20,\"Mas Enterprises, Vandanmettu\",184,37599.6,37599.6,2126,1440.28\\r\\n385,12-Jun-20,\"Header Systems (India) Limited, Nedumkandam\",240,57893.3,57696.1,2384,1533.03\\r\\n386,10-Jun-20,THE CARDAMOM PLANTERS MARKETING CO-OPERATIVE SOCIETY LIMITED,206,52912.5,52912.5,2377,1658.31\\r\\n387,9-Jun-20,Green House Cardamom Mktg.India Pvt. Ltd,49,6153.6,6153.6,2214,1626.51\\r\\n388,8-Jun-20,\"South Indian Green Cardamom Company Ltd, Kochi\",202,49854.3,49854.3,2569,1782.96\\r\\n389,6-Jun-20,Green Cardamom Trading Company,61,11345.2,11345.2,2324,1724.2\\r\\n390,5-Jun-20,SUGANDHAGIRI SPICES PROMOTERS&TRADERS Pvt Ltd,52,9125.1,9125.1,2210,1780.43\\r\\n391,4-Jun-20,\"Spice More Trading Company, Kumily\",62,12055.5,12055.5,2193,1617.51\\r\\n392,3-Jun-20,IDUKKI Dist.TRADITIONAL CARDAMOM PRODUCER COMPANY Ltd,90,18956.8,18956.8,2573,1850.89\\r\\n393,28-May-20,\"The Kerala Cardamom Processing and Marketing Company Limited, Thekkady\",83,16219.2,16104.5,2410,1769.93\\r\\n394,19-Mar-20,\"Mas Enterprises, Vandanmettu\",110,19011.1,18884.2,3198,2359.62\\r\\n395,19-Mar-20,\"Header Systems (India) Limited, Nedumkandam\",96,21274.4,21274.4,2992,2336.86\\r\\n396,18-Mar-20,THE CARDAMOM PLANTERS MARKETING CO-OPERATIVE SOCIETY LIMITED,143,30589.8,28991.4,3026,2382.18\\r\\n397,13-Mar-20,Green House Cardamom Mktg.India Pvt. Ltd,144,18174,12875,2764,2226.42\\r\\n398,13-Mar-20,\"South Indian Green Cardamom Company Ltd, Kochi\",267,55988.2,39325.2,3140,2439.49\\r\\n399,12-Mar-20,SUGANDHAGIRI SPICES PROMOTERS&TRADERS Pvt Ltd,145,23388.7,19122.6,3265,2643.43\\r\\n400,12-Mar-20,\"Spice More Trading Company, Kumily\",142,27202.4,26072.6,3415,2644.78\\r\\n401,11-Mar-20,IDUKKI Dist.TRADITIONAL CARDAMOM PRODUCER COMPANY Ltd,155,28257.8,28031,3417,2741.72\\r\\n402,10-Mar-20,CARDAMOM GROWERSFOREVER PRIVATE LIMITED,107,12704.3,11348.4,3477,2791.07\\r\\n403,10-Mar-20,\"The Kerala Cardamom Processing and Marketing Company Limited, Thekkady\",161,31773.3,31773.3,3266,2704.46\\r\\n404,9-Mar-20,\"Header Systems (India) Limited, Nedumkandam\",163,32541.9,32541.9,3492,2811.59\\r\\n405,9-Mar-20,\"Mas Enterprises, Vandanmettu\",132,21495.5,21495.5,3439,2752.98\\r\\n406,7-Mar-20,THE CARDAMOM PLANTERS MARKETING CO-OPERATIVE SOCIETY LIMITED,131,30077.9,29435.6,3410,2768.51\\r\\n407,7-Mar-20,\"Cardamom Planters\\' Association, Santhanpara\",157,21042.9,20015.3,3191,2724.83\\r\\n408,6-Mar-20,\"South Indian Green Cardamom Company Ltd, Kochi\",216,42413.2,40945.5,3421,2728.76\\r\\n409,5-Mar-20,\"Spice More Trading Company, Kumily\",112,22250.2,21385.3,3178,2627.66\\r\\n410,4-Mar-20,VANDANMEDU GREEN GOLD CARDAMOM PRODUCER CoLtd,162,25096,22981.3,3390,2648.83\\r\\n411,4-Mar-20,IDUKKI Dist.TRADITIONAL CARDAMOM PRODUCER COMPANY Ltd,219,39637.5,37887.1,3463,2668.69\\r\\n412,3-Mar-20,\"The Kerala Cardamom Processing and Marketing Company Limited, Thekkady\",180,37235.3,37069.5,3442,2740.19\\r\\n413,2-Mar-20,\"Mas Enterprises, Vandanmettu\",170,32156.7,31765.9,3538,3041.91\\r\\n414,2-Mar-20,\"Header Systems (India) Limited, Nedumkandam\",246,47403.6,45879.2,3713,2928.36\\r\\n415,29-Feb-20,THE CARDAMOM PLANTERS MARKETING CO-OPERATIVE SOCIETY LIMITED,159,32376.9,32376.9,3492,3006.43\\r\\n416,28-Feb-20,Green House Cardamom Mktg.India Pvt. Ltd,89,10457.7,10307.5,3541,2995.4\\r\\n417,28-Feb-20,\"South Indian Green Cardamom Company Ltd, Kochi\",170,35576.3,34384.7,3543,3088.92\\r\\n418,27-Feb-20,SUGANDHAGIRI SPICES PROMOTERS&TRADERS Pvt Ltd,110,18925.9,18708.8,3779,3247.54\\r\\n419,27-Feb-20,\"Spice More Trading Company, Kumily\",107,18869.5,18057,3659,3173.97\\r\\n420,26-Feb-20,IDUKKI Dist.TRADITIONAL CARDAMOM PRODUCER COMPANY Ltd,97,18872.5,18872.5,3482,2966.24\\r\\n421,25-Feb-20,CARDAMOM GROWERSFOREVER PRIVATE LIMITED,61,7041.3,6319.3,3276,2720.68\\r\\n422,25-Feb-20,\"The Kerala Cardamom Processing and Marketing Company Limited, Thekkady\",155,36528.4,35975.4,3266,2769.32\\r\\n423,24-Feb-20,\"Header Systems (India) Limited, Nedumkandam\",223,43633,39595.8,3538,2900.04\\r\\n424,24-Feb-20,\"Mas Enterprises, Vandanmettu\",172,32098.5,31146.8,3461,2802.61\\r\\n425,22-Feb-20,THE CARDAMOM PLANTERS MARKETING CO-OPERATIVE SOCIETY LIMITED,204,41052.8,39236.9,3524,2895.22\\r\\n426,22-Feb-20,\"Cardamom Planters\\' Association, Santhanpara\",156,21979.5,15751.8,3374,2926.81\\r\\n427,21-Feb-20,\"South Indian Green Cardamom Company Ltd, Kochi\",207,42835.1,41461.1,3493,3113.6\\r\\n428,21-Feb-20,Green House Cardamom Mktg.India Pvt. Ltd,76,8591.7,5215.8,3596,3047.27\\r\\n429,20-Feb-20,\"Spice More Trading Company, Kumily\",174,30564.7,27891.1,3606,3082.79\\r\\n430,20-Feb-20,SUGANDHAGIRI SPICES PROMOTERS&TRADERS Pvt Ltd,109,19069.4,16018.4,3604,3175.84\\r\\n431,19-Feb-20,VANDANMEDU GREEN GOLD CARDAMOM PRODUCER CoLtd,125,19314.1,18584.4,3783,3277.64\\r\\n432,19-Feb-20,IDUKKI Dist.TRADITIONAL CARDAMOM PRODUCER COMPANY Ltd,173,31075,30719.1,3706,3251.05\\r\\n433,18-Feb-20,\"The Kerala Cardamom Processing and Marketing Company Limited, Thekkady\",182,37952.1,36464.8,3686,3256.36\\r\\n434,17-Feb-20,\"Mas Enterprises, Vandanmettu\",220,41394.2,38557.4,3764,3400.54\\r\\n435,17-Feb-20,\"Header Systems (India) Limited, Nedumkandam\",220,42016.5,39032.8,3986,3349.75\\r\\n436,15-Feb-20,THE CARDAMOM PLANTERS MARKETING CO-OPERATIVE SOCIETY LIMITED,215,45218.7,44088.8,3987,3389.27\\r\\n437,14-Feb-20,Green House Cardamom Mktg.India Pvt. Ltd,133,15256.1,13078.1,3763,3435.27\\r\\n438,14-Feb-20,\"South Indian Green Cardamom Company Ltd, Kochi\",256,52343,40196,3881,3322.76\\r\\n439,13-Feb-20,SUGANDHAGIRI SPICES PROMOTERS&TRADERS Pvt Ltd,167,29106.9,26082.6,4049,3551.13\\r\\n440,13-Feb-20,\"Spice More Trading Company, Kumily\",255,51971.5,50064.4,3961,3505.01\\r\\n441,12-Feb-20,IDUKKI Dist.TRADITIONAL CARDAMOM PRODUCER COMPANY Ltd,155,27061.7,24964.2,4003,3576.75\\r\\n442,11-Feb-20,CARDAMOM GROWERSFOREVER PRIVATE LIMITED,118,13670.3,12841.9,4183,3591.6\\r\\n443,11-Feb-20,\"The Kerala Cardamom Processing and Marketing Company Limited, Thekkady\",197,35535.2,35535.2,4070,3622.73\\r\\n444,10-Feb-20,\"Header Systems (India) Limited, Nedumkandam\",175,33944.2,33628.3,4046,3766.4\\r\\n445,10-Feb-20,\"Mas Enterprises, Vandanmettu\",165,32407.8,31665.2,4409,3716.17\\r\\n446,8-Feb-20,THE CARDAMOM PLANTERS MARKETING CO-OPERATIVE SOCIETY LIMITED,169,30709.9,30709.9,4095,3628.59\\r\\n447,8-Feb-20,\"Cardamom Planters\\' Association, Santhanpara\",81,11600.6,10530.3,3810,3602.38\\r\\n448,7-Feb-20,\"South Indian Green Cardamom Company Ltd, Kochi\",124,24769.4,24026.4,4003,3570.98\\r\\n449,7-Feb-20,Green House Cardamom Mktg.India Pvt. Ltd,68,7417.7,6562.4,3891,3514.17\\r\\n450,6-Feb-20,\"Spice More Trading Company, Kumily\",137,24651.1,24334.9,3943,3542.53\\r\\n451,6-Feb-20,SUGANDHAGIRI SPICES PROMOTERS&TRADERS Pvt Ltd,103,18110.7,16365,4065,3617.83\\r\\n452,5-Feb-20,VANDANMEDU GREEN GOLD CARDAMOM PRODUCER CoLtd,91,16357.9,15675,3956,3531.3\\r\\n453,5-Feb-20,IDUKKI Dist.TRADITIONAL CARDAMOM PRODUCER COMPANY Ltd,122,19037.2,17741.3,3964,3473.63\\r\\n454,4-Feb-20,\"The Kerala Cardamom Processing and Marketing Company Limited, Thekkady\",137,23842.1,23725.8,3741,3427.49\\r\\n455,3-Feb-20,\"Mas Enterprises, Vandanmettu\",213,41422.9,40629.7,3801,3489.82\\r\\n456,3-Feb-20,\"Header Systems (India) Limited, Nedumkandam\",195,40781.9,39742.1,3811,3489.83\\r\\n457,1-Feb-20,\"Cardamom Planters\\' Association, Santhanpara\",84,12475.8,8685.3,3766,3530.58\\r\\n458,1-Feb-20,THE CARDAMOM PLANTERS MARKETING CO-OPERATIVE SOCIETY LIMITED,180,35103,34898.5,3932,3399.7\\r\\n459,31-Jan-20,Green House Cardamom Mktg.India Pvt. Ltd,85,10477.6,9700.7,4076,3657.52\\r\\n460,31-Jan-20,\"South Indian Green Cardamom Company Ltd, Kochi\",217,46482,44579.1,4305,3597.85\\r\\n461,30-Jan-20,SUGANDHAGIRI SPICES PROMOTERS&TRADERS Pvt Ltd,129,21929.4,20245.8,3997,3629.36\\r\\n462,30-Jan-20,\"Spice More Trading Company, Kumily\",205,40936.6,39248.2,4002,3685.66\\r\\n463,29-Jan-20,IDUKKI Dist.TRADITIONAL CARDAMOM PRODUCER COMPANY Ltd,74,11829.3,11680.5,3898,3655.21\\r\\n464,29-Jan-20,VANDANMEDU GREEN GOLD CARDAMOM PRODUCER CoLtd,74,11802.4,10892.5,3905,3665.92\\r\\n465,28-Jan-20,CARDAMOM GROWERSFOREVER PRIVATE LIMITED,59,9164.4,8321.7,3975,3706.02\\r\\n466,28-Jan-20,\"The Kerala Cardamom Processing and Marketing Company Limited, Thekkady\",176,32943.1,32594.9,3999,3665.44\\r\\n467,27-Jan-20,\"Header Systems (India) Limited, Nedumkandam\",167,30274.2,28982.4,3968,3720.98\\r\\n468,27-Jan-20,\"Mas Enterprises, Vandanmettu\",178,35578,34676.4,4162,3731.52\\r\\n469,25-Jan-20,THE CARDAMOM PLANTERS MARKETING CO-OPERATIVE SOCIETY LIMITED,211,44838.1,42357.8,3992,3638.84\\r\\n470,25-Jan-20,\"Cardamom Planters\\' Association, Santhanpara\",100,14779.6,11839.8,3852,3532.86\\r\\n471,24-Jan-20,\"South Indian Green Cardamom Company Ltd, Kochi\",234,50817.3,48212.8,4157,3702.44\\r\\n472,24-Jan-20,Green House Cardamom Mktg.India Pvt. Ltd,87,10219.9,7144.4,3885,3623.67\\r\\n473,23-Jan-20,\"Spice More Trading Company, Kumily\",146,30202.2,28529.6,4042,3746.17\\r\\n474,23-Jan-20,SUGANDHAGIRI SPICES PROMOTERS&TRADERS Pvt Ltd,124,22239.3,19041.7,4351,3676.81\\r\\n475,22-Jan-20,VANDANMEDU GREEN GOLD CARDAMOM PRODUCER CoLtd,120,23415,22917,4150,3842.03\\r\\n476,22-Jan-20,IDUKKI Dist.TRADITIONAL CARDAMOM PRODUCER COMPANY Ltd,111,18353.6,18353.6,4284,3749.44\\r\\n477,21-Jan-20,\"The Kerala Cardamom Processing and Marketing Company Limited, Thekkady\",197,45725.7,45133.4,4032,3664.52\\r\\n478,21-Jan-20,CARDAMOM GROWERSFOREVER PRIVATE LIMITED,73,9897.9,7624.3,4132,3687.81\\r\\n479,20-Jan-20,\"Mas Enterprises, Vandanmettu\",263,60528.4,57473.9,4308,3760.56\\r\\n480,20-Jan-20,\"Header Systems (India) Limited, Nedumkandam\",296,64677.7,59965.8,4098,3740.54\\r\\n481,18-Jan-20,THE CARDAMOM PLANTERS MARKETING CO-OPERATIVE SOCIETY LIMITED,181,41344.2,39107.1,4050,3764.71\\r\\n482,17-Jan-20,Green House Cardamom Mktg.India Pvt. Ltd,89,10461.4,8852.1,4292,3944.19\\r\\n483,17-Jan-20,\"South Indian Green Cardamom Company Ltd, Kochi\",176,41357.9,40302.9,4229,3899.15\\r\\n484,16-Jan-20,SUGANDHAGIRI SPICES PROMOTERS&TRADERS Pvt Ltd,122,22494.6,21821.9,4439,3919.41\\r\\n485,16-Jan-20,\"Spice More Trading Company, Kumily\",191,39219.1,37780.7,4261,3955.18\\r\\n486,14-Jan-20,IDUKKI Dist.TRADITIONAL CARDAMOM PRODUCER COMPANY Ltd,156,31161.9,27625.7,3984,3675.84\\r\\n487,13-Jan-20,CARDAMOM GROWERSFOREVER PRIVATE LIMITED,92,10325.7,9283.6,4171,3681.56\\r\\n488,13-Jan-20,\"The Kerala Cardamom Processing and Marketing Company Limited, Thekkady\",265,69954.8,68850.2,4026,3668.66\\r\\n489,11-Jan-20,\"Header Systems (India) Limited, Nedumkandam\",297,63174.9,54418.9,5057,3827.18\\r\\n490,11-Jan-20,\"Mas Enterprises, Vandanmettu\",295,64753.4,63889.9,4662.5,3811.61\\r\\n491,10-Jan-20,THE CARDAMOM PLANTERS MARKETING CO-OPERATIVE SOCIETY LIMITED,269,74245.6,72398.9,4172,3859.47\\r\\n492,10-Jan-20,\"Cardamom Planters\\' Association, Santhanpara\",167,25370.4,22939.1,4223,3801.64\\r\\n493,9-Jan-20,\"South Indian Green Cardamom Company Ltd, Kochi\",338,85097.3,81764.7,4266.5,3880.86\\r\\n494,9-Jan-20,Green House Cardamom Mktg.India Pvt. Ltd,84,10737.1,10160,4240,3869.31\\r\\n495,8-Jan-20,\"Spice More Trading Company, Kumily\",107,23582,22767.9,4200,3855.38\\r\\n496,8-Jan-20,SUGANDHAGIRI SPICES PROMOTERS&TRADERS Pvt Ltd,129,23481.9,22921.2,4156,3892.88\\r\\n497,7-Jan-20,VANDANMEDU GREEN GOLD CARDAMOM PRODUCER CoLtd,183,38147.9,36501.5,4245,3873.66\\r\\n498,7-Jan-20,IDUKKI Dist.TRADITIONAL CARDAMOM PRODUCER COMPANY Ltd,287,64124.1,52983,4404,3863.78\\r\\n499,6-Jan-20,\"The Kerala Cardamom Processing and Marketing Company Limited, Thekkady\",254,64855.2,63094,4304,3953.6\\r\\n500,6-Jan-20,CARDAMOM GROWERSFOREVER PRIVATE LIMITED,118,16474.4,15715.6,4239,3913.12\\r\\n501,4-Jan-20,\"Mas Enterprises, Vandanmettu\",288,61775.1,61190.8,7000,4015.6\\r\\n502,4-Jan-20,\"Header Systems (India) Limited, Nedumkandam\",300,67999.6,65556.8,4610,4096.89\\r\\n503,3-Jan-20,\"Cardamom Planters\\' Association, Santhanpara\",66,9282.7,9282.7,4186,3862.26\\r\\n504,3-Jan-20,THE CARDAMOM PLANTERS MARKETING CO-OPERATIVE SOCIETY LIMITED,233,55962.1,55186.8,4295,3885.87\\r\\n505,2-Jan-20,Green House Cardamom Mktg.India Pvt. Ltd,143,17345.5,15314.4,4121,3696.14\\r\\n506,2-Jan-20,\"South Indian Green Cardamom Company Ltd, Kochi\",321,74572.3,74318.7,4514,3802.22\\r\\n507,1-Jan-20,SUGANDHAGIRI SPICES PROMOTERS&TRADERS Pvt Ltd,194,37965.3,36141.8,6104,3756.37\\r\\n508,1-Jan-20,\"Spice More Trading Company, Kumily\",295,67760.1,61562.8,4758,3755.26\\r\\n509,31-Dec-19,IDUKKI Dist.TRADITIONAL CARDAMOM PRODUCER COMPANY Ltd,181,35663.3,35317,6016,3804.87\\r\\n510,31-Dec-19,VANDANMEDU GREEN GOLD CARDAMOM PRODUCER CoLtd,112,21371,21371,4182,3776.03\\r\\n511,30-Dec-19,CARDAMOM GROWERSFOREVER PRIVATE LIMITED,117,15127.1,14480.3,4218,3681.49\\r\\n512,30-Dec-19,\"The Kerala Cardamom Processing and Marketing Company Limited, Thekkady\",232,55043.6,55043.6,4303,3863.08\\r\\n513,28-Dec-19,\"Header Systems (India) Limited, Nedumkandam\",288,65170,64383.2,4651,3585.4\\r\\n514,28-Dec-19,\"Mas Enterprises, Vandanmettu\",266,59320.4,58713.4,5513,3624.37\\r\\n515,27-Dec-19,THE CARDAMOM PLANTERS MARKETING CO-OPERATIVE SOCIETY LIMITED,241,57506.1,55564.8,3737,3421.65\\r\\n516,27-Dec-19,\"Cardamom Planters\\' Association, Santhanpara\",175,27522.2,24272.6,3758,3430.01\\r\\n517,26-Dec-19,\"South Indian Green Cardamom Company Ltd, Kochi\",316,76943.6,71585.5,3698,3436.64\\r\\n518,26-Dec-19,Green House Cardamom Mktg.India Pvt. Ltd,131,16169.7,14593.6,3670,3395.75\\r\\n519,24-Dec-19,\"Spice More Trading Company, Kumily\",225,48744.8,47903.2,4021.5,3493.59\\r\\n520,24-Dec-19,SUGANDHAGIRI SPICES PROMOTERS&TRADERS Pvt Ltd,178,36646.9,36318.4,3766,3492.44\\r\\n521,23-Dec-19,VANDANMEDU GREEN GOLD CARDAMOM PRODUCER CoLtd,215,45384.9,44712.9,3913,3517.15\\r\\n522,23-Dec-19,IDUKKI Dist.TRADITIONAL CARDAMOM PRODUCER COMPANY Ltd,247,54026.1,53866.4,3772,3510.25\\r\\n523,21-Dec-19,\"The Kerala Cardamom Processing and Marketing Company Limited, Thekkady\",285,75436.1,75137,3590,3292.62\\r\\n524,21-Dec-19,CARDAMOM GROWERSFOREVER PRIVATE LIMITED,112,15961.9,15388.3,3637,3287.12\\r\\n525,20-Dec-19,\"Mas Enterprises, Vandanmettu\",344,88839.3,79775.4,3605,3222.62\\r\\n526,20-Dec-19,\"Header Systems (India) Limited, Nedumkandam\",298,77187.1,75788.3,3523,3270.06\\r\\n527,19-Dec-19,\"Cardamom Planters\\' Association, Santhanpara\",149,24121.6,24023.1,3586,3299.09\\r\\n528,19-Dec-19,THE CARDAMOM PLANTERS MARKETING CO-OPERATIVE SOCIETY LIMITED,277,68355.2,67599.5,3541,3216.89\\r\\n529,18-Dec-19,Green House Cardamom Mktg.India Pvt. Ltd,155,20541.4,20433,3606.5,3279.88\\r\\n530,18-Dec-19,\"South Indian Green Cardamom Company Ltd, Kochi\",299,66276.9,65972.8,3687,3393.65\\r\\n531,17-Dec-19,SUGANDHAGIRI SPICES PROMOTERS&TRADERS Pvt Ltd,217,44125.2,41822.9,3448,3155.56\\r\\n532,17-Dec-19,\"Spice More Trading Company, Kumily\",264,58964.3,58723.2,3452,3214.49\\r\\n533,16-Dec-19,IDUKKI Dist.TRADITIONAL CARDAMOM PRODUCER COMPANY Ltd,268,55935.9,55734.2,3321,3066.31\\r\\n534,16-Dec-19,VANDANMEDU GREEN GOLD CARDAMOM PRODUCER CoLtd,160,32669,31314,3407,3144.22\\r\\n535,14-Dec-19,CARDAMOM GROWERSFOREVER PRIVATE LIMITED,130,21307.6,20928.2,3200,2944.82\\r\\n536,14-Dec-19,\"The Kerala Cardamom Processing and Marketing Company Limited, Thekkady\",291,76315,75804.1,3278,2968.45\\r\\n537,13-Dec-19,\"Header Systems (India) Limited, Nedumkandam\",296,66951.4,63241.8,3200,2929.11\\r\\n538,13-Dec-19,\"Mas Enterprises, Vandanmettu\",284,60828.5,60254.8,3504,2957.6\\r\\n539,12-Dec-19,\"Cardamom Planters\\' Association, Santhanpara\",207,32162.7,30144.3,3201,2922.62\\r\\n540,12-Dec-19,THE CARDAMOM PLANTERS MARKETING CO-OPERATIVE SOCIETY LIMITED,291,74172.2,73388.1,3205,2935.18\\r\\n541,11-Dec-19,\"South Indian Green Cardamom Company Ltd, Kochi\",296,68441.6,68441.6,3256,2964.58\\r\\n542,11-Dec-19,Green House Cardamom Mktg.India Pvt. Ltd,109,12790.3,12463.2,3109.5,2921.67\\r\\n543,10-Dec-19,\"Spice More Trading Company, Kumily\",246,53133.4,52899.4,3220,2941.44\\r\\n544,10-Dec-19,SUGANDHAGIRI SPICES PROMOTERS&TRADERS Pvt Ltd,165,30244.5,27655.3,3169,2950.99\\r\\n545,9-Dec-19,VANDANMEDU GREEN GOLD CARDAMOM PRODUCER CoLtd,197,36940.6,36536.8,3226,2980.32\\r\\n546,9-Dec-19,IDUKKI Dist.TRADITIONAL CARDAMOM PRODUCER COMPANY Ltd,265,58451.7,58049.4,3182,2971.4\\r\\n547,7-Dec-19,\"The Kerala Cardamom Processing and Marketing Company Limited, Thekkady\",265,59639.3,59639.3,3154,2887.01\\r\\n548,7-Dec-19,CARDAMOM GROWERSFOREVER PRIVATE LIMITED,64,10213.7,9757,3173,2852.08\\r\\n549,6-Dec-19,\"Mas Enterprises, Vandanmettu\",230,45302.1,44783.7,3243,2896.7\\r\\n550,6-Dec-19,\"Header Systems (India) Limited, Nedumkandam\",258,57109.5,56867.2,3210,2923.74\\r\\n551,5-Dec-19,\"Cardamom Planters\\' Association, Santhanpara\",94,15129.8,13258,2996,2796.47\\r\\n552,5-Dec-19,THE CARDAMOM PLANTERS MARKETING CO-OPERATIVE SOCIETY LIMITED,278,66537.5,64395.7,3168,2834.62\\r\\n553,4-Dec-19,Green House Cardamom Mktg.India Pvt. Ltd,138,17452,14518.1,3086,2758.42\\r\\n554,4-Dec-19,\"South Indian Green Cardamom Company Ltd, Kochi\",329,80923.6,77780.7,3130,2815.98\\r\\n555,3-Dec-19,SUGANDHAGIRI SPICES PROMOTERS&TRADERS Pvt Ltd,210,37831.5,35208.5,3156,2829.37\\r\\n556,3-Dec-19,\"Spice More Trading Company, Kumily\",289,65883.1,60844.2,3115,2799.94\\r\\n557,2-Dec-19,IDUKKI Dist.TRADITIONAL CARDAMOM PRODUCER COMPANY Ltd,262,59182.2,56672.4,3140,2857.17\\r\\n558,2-Dec-19,VANDANMEDU GREEN GOLD CARDAMOM PRODUCER CoLtd,205,43489.6,41729.9,3128,2849.71\\r\\n559,30-Nov-19,CARDAMOM GROWERSFOREVER PRIVATE LIMITED,137,20192,19517.7,3124,2848.43\\r\\n560,30-Nov-19,\"The Kerala Cardamom Processing and Marketing Company Limited, Thekkady\",290,71734,71190,3153,2894.52\\r\\n561,29-Nov-19,\"Header Systems (India) Limited, Nedumkandam\",300,74580.8,72286.7,3158,2877.54\\r\\n562,29-Nov-19,\"Mas Enterprises, Vandanmettu\",303,66356.6,65840,3268,2901.17\\r\\n563,28-Nov-19,THE CARDAMOM PLANTERS MARKETING CO-OPERATIVE SOCIETY LIMITED,280,66082.3,66082.3,3186,2923.89\\r\\n564,28-Nov-19,\"Cardamom Planters\\' Association, Santhanpara\",155,23081.8,20845.1,3108,2901.56\\r\\n565,27-Nov-19,\"South Indian Green Cardamom Company Ltd, Kochi\",303,74470.6,74470.6,3252,2926.56\\r\\n566,27-Nov-19,Green House Cardamom Mktg.India Pvt. Ltd,100,12096.3,11540.9,3112,2886.62\\r\\n567,26-Nov-19,\"Spice More Trading Company, Kumily\",231,46759.9,46759.9,3162,2928.84\\r\\n568,26-Nov-19,SUGANDHAGIRI SPICES PROMOTERS&TRADERS Pvt Ltd,180,33394.5,32495,3206,2914.93\\r\\n569,25-Nov-19,IDUKKI Dist.TRADITIONAL CARDAMOM PRODUCER COMPANY Ltd,269,57883.4,57463.2,3200,2930.5\\r\\n570,25-Nov-19,VANDANMEDU GREEN GOLD CARDAMOM PRODUCER CoLtd,242,51185.7,51185.7,3162,2931.25\\r\\n571,23-Nov-19,CARDAMOM GROWERSFOREVER PRIVATE LIMITED,61,9118.4,9118.4,3035,2886.13\\r\\n572,23-Nov-19,\"The Kerala Cardamom Processing and Marketing Company Limited, Thekkady\",267,62177.5,61514.9,3144,2889.72\\r\\n573,22-Nov-19,\"Mas Enterprises, Vandanmettu\",306,67012,64523.6,3271,2846.15\\r\\n574,22-Nov-19,\"Header Systems (India) Limited, Nedumkandam\",271,65926.6,65529.7,3220,2874.74\\r\\n575,21-Nov-19,\"Cardamom Planters\\' Association, Santhanpara\",198,31246.9,28742.5,3087,2821.62\\r\\n576,21-Nov-19,THE CARDAMOM PLANTERS MARKETING CO-OPERATIVE SOCIETY LIMITED,275,65307.6,64438.1,3080,2813.49\\r\\n577,20-Nov-19,Green House Cardamom Mktg.India Pvt. Ltd,159,18631,18299.9,3203,2923.23\\r\\n578,20-Nov-19,\"South Indian Green Cardamom Company Ltd, Kochi\",319,75592.4,75012.6,3185,2936.86\\r\\n579,19-Nov-19,SUGANDHAGIRI SPICES PROMOTERS&TRADERS Pvt Ltd,314,60316.2,51320.4,3200,2932.04\\r\\n580,19-Nov-19,\"Spice More Trading Company, Kumily\",281,56816.6,56132.4,3218,2960.4\\r\\n581,18-Nov-19,IDUKKI Dist.TRADITIONAL CARDAMOM PRODUCER COMPANY Ltd,252,49280.2,49280.2,3140,2911.1\\r\\n582,18-Nov-19,VANDANMEDU GREEN GOLD CARDAMOM PRODUCER CoLtd,172,33191.5,33191.5,3225,3001.29\\r\\n583,16-Nov-19,CARDAMOM GROWERSFOREVER PRIVATE LIMITED,81,11495.5,11117.3,3010,2837.82\\r\\n584,16-Nov-19,\"The Kerala Cardamom Processing and Marketing Company Limited, Thekkady\",258,56588.6,56588.6,3139,2894.16\\r\\n585,15-Nov-19,\"Header Systems (India) Limited, Nedumkandam\",285,53958.1,53673.3,2941,2769.25\\r\\n586,15-Nov-19,\"Mas Enterprises, Vandanmettu\",268,51753.5,51637,3333,2809.07\\r\\n587,14-Nov-19,THE CARDAMOM PLANTERS MARKETING CO-OPERATIVE SOCIETY LIMITED,260,55237.1,55237.1,3002,2741.73\\r\\n588,14-Nov-19,\"Cardamom Planters\\' Association, Santhanpara\",195,30401.5,27175.2,2905,2722.8\\r\\n589,13-Nov-19,\"South Indian Green Cardamom Company Ltd, Kochi\",272,56370,56296.1,3001,2716.64\\r\\n590,13-Nov-19,Green House Cardamom Mktg.India Pvt. Ltd,68,7386.2,7285.6,2855,2692.98\\r\\n591,12-Nov-19,\"Spice More Trading Company, Kumily\",182,33209.5,32787.2,2872.5,2678.42\\r\\n592,12-Nov-19,SUGANDHAGIRI SPICES PROMOTERS&TRADERS Pvt Ltd,177,30121.2,28427.2,2838,2695.52\\r\\n593,11-Nov-19,VANDANMEDU GREEN GOLD CARDAMOM PRODUCER CoLtd,127,22181,22181,2877,2728.58\\r\\n594,11-Nov-19,IDUKKI Dist.TRADITIONAL CARDAMOM PRODUCER COMPANY Ltd,215,35803.4,35705.7,2930,2714.82\\r\\n595,9-Nov-19,\"The Kerala Cardamom Processing and Marketing Company Limited, Thekkady\",251,52322.1,51778.7,2880,2571.5\\r\\n596,9-Nov-19,CARDAMOM GROWERSFOREVER PRIVATE LIMITED,50,5515.6,4401.1,2684,2494.46\\r\\n597,8-Nov-19,\"Mas Enterprises, Vandanmettu\",291,53856.6,50893.3,2883,2634.62\\r\\n598,8-Nov-19,\"Header Systems (India) Limited, Nedumkandam\",265,52575.1,50778.2,2767,2571.78\\r\\n599,7-Nov-19,\"Cardamom Planters\\' Association, Santhanpara\",112,14776.7,14481.1,2889,2707.3\\r\\n600,7-Nov-19,THE CARDAMOM PLANTERS MARKETING CO-OPERATIVE SOCIETY LIMITED,217,39227.7,38384.3,2919,2675.28\\r\\n601,6-Nov-19,Green House Cardamom Mktg.India Pvt. Ltd,52,6015.8,6015.8,2774,2700.13\\r\\n602,6-Nov-19,\"South Indian Green Cardamom Company Ltd, Kochi\",257,51537.1,51180.3,2942,2728.39\\r\\n603,5-Nov-19,SUGANDHAGIRI SPICES PROMOTERS&TRADERS Pvt Ltd,171,27106.2,26035,2892,2676.4\\r\\n604,5-Nov-19,\"Spice More Trading Company, Kumily\",188,31586.6,31033.9,2893,2649.43\\r\\n605,4-Nov-19,IDUKKI Dist.TRADITIONAL CARDAMOM PRODUCER COMPANY Ltd,143,21898.5,21898.5,2902,2672.14\\r\\n606,4-Nov-19,VANDANMEDU GREEN GOLD CARDAMOM PRODUCER CoLtd,90,17063.5,16845.5,2780,2694.27\\r\\n607,2-Nov-19,CARDAMOM GROWERSFOREVER PRIVATE LIMITED,67,8364.5,8302.9,2670,2413.77\\r\\n608,2-Nov-19,\"The Kerala Cardamom Processing and Marketing Company Limited, Thekkady\",168,32507.9,32507.9,2759,2535.89\\r\\n609,1-Nov-19,\"Header Systems (India) Limited, Nedumkandam\",211,38016.1,36490.9,2644,2428.07\\r\\n610,1-Nov-19,\"Mas Enterprises, Vandanmettu\",211,35373.3,34333.6,2883,2461.81\\r\\n611,31-Oct-19,\"The Cardamom Processing & Marketing Co-Operative Society Ltd, Kumily\",212,41865.5,41491.1,2795,2376.84\\r\\n612,31-Oct-19,\"Cardamom Planters\\' Association, Santhanpara\",116,15319,13970.6,2719,2380.48\\r\\n613,30-Oct-19,\"South Indian Green Cardamom Company Ltd, Kochi\",145,26409.9,26409.9,2865,2465.79\\r\\n614,30-Oct-19,Green House Cardamom Mktg.India Pvt. Ltd,41,5621.6,4521.1,2466,2367.57\\r\\n615,29-Oct-19,\"Spice More Trading Company, Kumily\",86,15562.1,15562.1,2712,2434.8\\r\\n616,29-Oct-19,SUGANDHAGIRI SPICES PROMOTERS&TRADERS Pvt Ltd,127,19167.3,17645.2,3122,2490.95\\r\\n617,28-Oct-19,VANDANMEDU GREEN GOLD CARDAMOM PRODUCER CoLtd,46,7814.3,7434.1,2707,2561.72\\r\\n618,28-Oct-19,IDUKKI Dist.TRADITIONAL CARDAMOM PRODUCER COMPANY Ltd,88,14688,14305.6,2737,2495.89\\r\\n619,26-Oct-19,\"The Kerala Cardamom Processing and Marketing Company Limited, Thekkady\",167,29647.2,28624.6,2699,2434.15\\r\\n620,25-Oct-19,\"Header Systems (India) Limited, Nedumkandam\",176,30778.6,29510.1,2716,2487.72\\r\\n621,25-Oct-19,\"Mas Enterprises, Vandanmettu\",179,32380.8,32225.4,3002,2506.52\\r\\n622,24-Oct-19,\"Cardamom Planters\\' Association, Santhanpara\",60,8572.7,7503.2,2511,2345.73\\r\\n623,24-Oct-19,THE CARDAMOM PLANTERS MARKETING CO-OPERATIVE SOCIETY LIMITED,223,45983.9,45398.1,2774,2411.91\\r\\n624,23-Oct-19,Green House Cardamom Mktg.India Pvt. Ltd,52,5003,4336.6,2715,2207.84\\r\\n625,23-Oct-19,\"South Indian Green Cardamom Company Ltd, Kochi\",225,44251.4,44004.1,2804,2320.75\\r\\n626,22-Oct-19,SUGANDHAGIRI SPICES PROMOTERS&TRADERS Pvt Ltd,164,26124.3,21538.4,2631,2272.61\\r\\n627,22-Oct-19,\"Spice More Trading Company, Kumily\",153,29970.3,29693.5,2667,2241.13\\r\\n628,21-Oct-19,IDUKKI Dist.TRADITIONAL CARDAMOM PRODUCER COMPANY Ltd,186,30999.9,30220.8,2605,2221.19\\r\\n629,21-Oct-19,VANDANMEDU GREEN GOLD CARDAMOM PRODUCER CoLtd,65,12081.6,11717.2,2502,2293.83\\r\\n630,19-Oct-19,CARDAMOM GROWERSFOREVER PRIVATE LIMITED,71,8753.3,8309.9,2618,2386.92\\r\\n631,19-Oct-19,\"The Kerala Cardamom Processing and Marketing Company Limited, Thekkady\",267,57513.5,57513.5,2586,2328.85\\r\\n632,18-Oct-19,\"Header Systems (India) Limited, Nedumkandam\",250,48285.7,46555.7,2858,2396.25\\r\\n633,18-Oct-19,\"Mas Enterprises, Vandanmettu\",269,48064.4,46269.3,2802,2390.13\\r\\n634,17-Oct-19,\"The Cardamom Processing & Marketing Co-Operative Society Ltd, Kumily\",270,59454.4,59204.3,2831,2516.77\\r\\n635,17-Oct-19,\"Cardamom Planters\\' Association, Santhanpara\",116,15541,14355.5,2684,2488.46\\r\\n636,16-Oct-19,\"South Indian Green Cardamom Company Ltd, Kochi\",270,54885.3,52638.7,2800,2569.38\\r\\n637,16-Oct-19,Green House Cardamom Mktg.India Pvt. Ltd,78,9363.4,7189.8,2702,2446.59\\r\\n638,15-Oct-19,\"Spice More Trading Company, Kumily\",222,41923.4,39760.5,3051,2568.33\\r\\n639,15-Oct-19,SUGANDHAGIRI SPICES PROMOTERS&TRADERS Pvt Ltd,196,32786.1,32180.8,2802,2534.33\\r\\n640,14-Oct-19,VANDANMEDU GREEN GOLD CARDAMOM PRODUCER CoLtd,208,41440.5,40931.6,3100,2718.89\\r\\n641,14-Oct-19,IDUKKI Dist.TRADITIONAL CARDAMOM PRODUCER COMPANY Ltd,249,44524.5,43438.4,3319,2663.46\\r\\n642,12-Oct-19,\"The Kerala Cardamom Processing and Marketing Company Limited, Thekkady\",257,54337.3,54141.5,3285,2824.38\\r\\n643,12-Oct-19,CARDAMOM GROWERSFOREVER PRIVATE LIMITED,102,13477.8,12137.3,3072,2784.13\\r\\n644,11-Oct-19,\"Mas Enterprises, Vandanmettu\",273,53926.3,53047.3,3597,2871.92\\r\\n645,11-Oct-19,\"Header Systems (India) Limited, Nedumkandam\",287,67633.3,64209.4,3116,2836.16\\r\\n646,10-Oct-19,\"Cardamom Planters\\' Association, Santhanpara\",91,12898.2,11629.1,3074,2843.92\\r\\n647,10-Oct-19,THE CARDAMOM PLANTERS MARKETING CO-OPERATIVE SOCIETY LIMITED,250,52335.4,51569.8,3160,2859.47\\r\\n648,9-Oct-19,Green House Cardamom Mktg.India Pvt. Ltd,98,12381,10482,3099,2840.77\\r\\n649,9-Oct-19,\"South Indian Green Cardamom Company Ltd, Kochi\",265,53022.3,52770.2,3378,2951.28\\r\\n650,7-Oct-19,SUGANDHAGIRI SPICES PROMOTERS&TRADERS Pvt Ltd,130,20327.4,18938.5,3241,2940.78\\r\\n651,7-Oct-19,\"Spice More Trading Company, Kumily\",194,38778.4,36200.2,3226,2928.68\\r\\n652,5-Oct-19,IDUKKI Dist.TRADITIONAL CARDAMOM PRODUCER COMPANY Ltd,196,32256.9,31756.6,3424,2962.06\\r\\n653,5-Oct-19,VANDANMEDU GREEN GOLD CARDAMOM PRODUCER CoLtd,148,25759.1,24411,3247,2943.65\\r\\n654,4-Oct-19,CARDAMOM GROWERSFOREVER PRIVATE LIMITED,109,14223.5,13171.3,3178,2937.19\\r\\n655,4-Oct-19,\"The Kerala Cardamom Processing and Marketing Company Limited, Thekkady\",234,46433.4,45864.3,3334,2934.17\\r\\n656,3-Oct-19,\"Header Systems (India) Limited, Nedumkandam\",216,42261.2,39782,3124,2918.89\\r\\n657,3-Oct-19,\"Mas Enterprises, Vandanmettu\",237,40752.1,40175.4,3170,2898.83\\r\\n658,1-Oct-19,\"The Cardamom Processing & Marketing Co-Operative Society Ltd, Kumily\",246,48800.6,48168.1,3165,2833.9\\r\\n659,1-Oct-19,\"Cardamom Planters\\' Association, Santhanpara\",129,17239.4,16705.3,3112,2816.86\\r\\n660,30-Sep-19,\"South Indian Green Cardamom Company Ltd, Kochi\",261,53442.2,51432.9,3266,2856.57\\r\\n661,30-Sep-19,Green House Cardamom Mktg.India Pvt. Ltd,145,17003.7,13658,3002,2767.46\\r\\n662,28-Sep-19,\"Spice More Trading Company, Kumily\",218,40652.9,38810.5,3328,2969.23\\r\\n663,28-Sep-19,SUGANDHAGIRI SPICES PROMOTERS&TRADERS Pvt Ltd,187,30571.9,29999.9,3261,2946.81\\r\\n664,27-Sep-19,VANDANMEDU GREEN GOLD CARDAMOM PRODUCER CoLtd,128,21466,21466,3344,3091.26\\r\\n665,27-Sep-19,IDUKKI Dist.TRADITIONAL CARDAMOM PRODUCER COMPANY Ltd,207,32539.7,32539.7,3484,3064\\r\\n666,26-Sep-19,\"The Kerala Cardamom Processing and Marketing Company Limited, Thekkady\",239,44746.3,44553.6,3214,2901.83\\r\\n667,26-Sep-19,CARDAMOM GROWERSFOREVER PRIVATE LIMITED,84,12421.6,12326,3352,2886.82\\r\\n668,25-Sep-19,\"Mas Enterprises, Vandanmettu\",295,48722.1,42916.2,3342,2805.47\\r\\n669,25-Sep-19,\"Header Systems (India) Limited, Nedumkandam\",260,51903.1,49780.4,3211,2912.64\\r\\n670,24-Sep-19,\"Cardamom Planters\\' Association, Santhanpara\",136,18700.6,16994.3,3143,2823.26\\r\\n671,24-Sep-19,THE CARDAMOM PLANTERS MARKETING CO-OPERATIVE SOCIETY LIMITED,244,46980.8,46393.7,3001,2761.39\\r\\n672,23-Sep-19,Green House Cardamom Mktg.India Pvt. Ltd,138,15743.7,14643,3293,3023.75\\r\\n673,23-Sep-19,\"South Indian Green Cardamom Company Ltd, Kochi\",278,53777.4,53206.1,3436,3034.74\\r\\n674,21-Sep-19,SUGANDHAGIRI SPICES PROMOTERS&TRADERS Pvt Ltd,222,36127.8,27212.6,3495,3118.58\\r\\n675,21-Sep-19,\"Spice More Trading Company, Kumily\",240,43295.1,40899.5,3432,3059.69\\r\\n676,20-Sep-19,IDUKKI Dist.TRADITIONAL CARDAMOM PRODUCER COMPANY Ltd,214,35704.3,31123.9,3649,3228.6\\r\\n677,20-Sep-19,VANDANMEDU GREEN GOLD CARDAMOM PRODUCER CoLtd,201,35924.9,35410,3436,3191.22\\r\\n678,19-Sep-19,CARDAMOM GROWERSFOREVER PRIVATE LIMITED,135,19286.3,19119.2,3659,3302.73\\r\\n679,19-Sep-19,\"The Kerala Cardamom Processing and Marketing Company Limited, Thekkady\",248,45074.2,44842.3,3717,3327.08\\r\\n680,18-Sep-19,\"Header Systems (India) Limited, Nedumkandam\",247,50133.1,50133.1,3712,3395.8\\r\\n681,18-Sep-19,\"Mas Enterprises, Vandanmettu\",248,38663.6,37839.5,3883,3338.65\\r\\n682,17-Sep-19,\"The Cardamom Processing & Marketing Co-Operative Society Ltd, Kumily\",225,41743.9,41743.9,3820,3417.62\\r\\n683,17-Sep-19,\"Cardamom Planters\\' Association, Santhanpara\",134,18556.1,18488.6,3721,3403.29\\r\\n684,16-Sep-19,Green House Cardamom Mktg.India Pvt. Ltd,87,9007.2,8597.2,3678,3377.93\\r\\n685,16-Sep-19,\"South Indian Green Cardamom Company Ltd, Kochi\",258,47038.9,47038.9,3696,3335.4\\r\\n686,14-Sep-19,SUGANDHAGIRI SPICES PROMOTERS&TRADERS Pvt Ltd,160,25086.6,25086.6,3589,3249.68\\r\\n687,14-Sep-19,\"Spice More Trading Company, Kumily\",187,30423.9,30432.9,3562,3147.56\\r\\n688,13-Sep-19,VANDANMEDU GREEN GOLD CARDAMOM PRODUCER CoLtd,191,31074.6,31074.6,3546,3143.6\\r\\n689,13-Sep-19,IDUKKI Dist.TRADITIONAL CARDAMOM PRODUCER COMPANY Ltd,183,28022.7,28022.7,3672,3169.27\\r\\n690,12-Sep-19,\"The Kerala Cardamom Processing and Marketing Company Limited, Thekkady\",217,39014.1,38476,3521,3055.56\\r\\n691,12-Sep-19,CARDAMOM GROWERSFOREVER PRIVATE LIMITED,100,13424.3,13127.1,3417,2953.34\\r\\n692,10-Sep-19,\"Mas Enterprises, Vandanmettu\",265,41488.8,40976.6,3777,2989.96\\r\\n693,10-Sep-19,\"Header Systems (India) Limited, Nedumkandam\",232,44292.2,43643.1,3367,3010.36\\r\\n694,9-Sep-19,\"Cardamom Planters\\' Association, Santhanpara\",128,14711.7,13748.9,3338,3015.7\\r\\n695,9-Sep-19,THE CARDAMOM PLANTERS MARKETING CO-OPERATIVE SOCIETY LIMITED,221,42499.9,42499.9,3663,2967.4\\r\\n696,7-Sep-19,Green House Cardamom Mktg.India Pvt. Ltd,115,10392.3,10392.3,3181,2975.03\\r\\n697,7-Sep-19,\"South Indian Green Cardamom Company Ltd, Kochi\",244,41016.5,40924.4,3453,3077.84\\r\\n698,6-Sep-19,SUGANDHAGIRI SPICES PROMOTERS&TRADERS Pvt Ltd,186,27127.8,27127.8,3618,2963.47\\r\\n699,6-Sep-19,\"Spice More Trading Company, Kumily\",192,34105.1,33888.5,3559,2956.46\\r\\n700,5-Sep-19,IDUKKI Dist.TRADITIONAL CARDAMOM PRODUCER COMPANY Ltd,130,18376.2,18376.2,3632,2919.03\\r\\n701,5-Sep-19,VANDANMEDU GREEN GOLD CARDAMOM PRODUCER CoLtd,172,24217.4,24217.4,3419,2926.59\\r\\n702,4-Sep-19,CARDAMOM GROWERSFOREVER PRIVATE LIMITED,144,20216.4,19204.4,3164,2729.46\\r\\n703,4-Sep-19,\"The Kerala Cardamom Processing and Marketing Company Limited, Thekkady\",203,32958.4,32838.4,3527,2832.17\\r\\n704,3-Sep-19,\"Header Systems (India) Limited, Nedumkandam\",147,24295.7,23351.7,3078,2805.31\\r\\n705,3-Sep-19,\"Mas Enterprises, Vandanmettu\",167,20466.6,20200,3413,2765.12\\r\\n706,2-Sep-19,THE CARDAMOM PLANTERS MARKETING CO-OPERATIVE SOCIETY LIMITED,220,36054.4,35747.9,3637.5,2679.01\\r\\n707,2-Sep-19,\"Cardamom Planters\\' Association, Santhanpara\",108,13542.4,12393.7,3134,2638.11\\r\\n708,31-Aug-19,\"South Indian Green Cardamom Company Ltd, Kochi\",232,39583.4,38790.3,3338,2751.5\\r\\n709,31-Aug-19,Green House Cardamom Mktg.India Pvt. Ltd,153,18020.8,15940.6,2871,2642.26\\r\\n710,30-Aug-19,\"Spice More Trading Company, Kumily\",196,33260.1,33260.1,3234,2873.47\\r\\n711,30-Aug-19,SUGANDHAGIRI SPICES PROMOTERS&TRADERS Pvt Ltd,175,25370.1,23231.4,3352,2841.37\\r\\n712,29-Aug-19,VANDANMEDU GREEN GOLD CARDAMOM PRODUCER CoLtd,181,25306.8,25306.8,3440,3034.43\\r\\n713,29-Aug-19,IDUKKI Dist.TRADITIONAL CARDAMOM PRODUCER COMPANY Ltd,153,19521.8,19521.8,3777,3026.8\\r\\n714,28-Aug-19,\"The Kerala Cardamom Processing and Marketing Company Limited, Thekkady\",195,26771.3,26771.3,3352,2921.27\\r\\n715,28-Aug-19,CARDAMOM GROWERSFOREVER PRIVATE LIMITED,68,7640.5,7640.5,3341,2963.64\\r\\n716,27-Aug-19,\"Mas Enterprises, Vandanmettu\",167,24085.4,23116,3158,2716.66\\r\\n717,27-Aug-19,\"Header Systems (India) Limited, Nedumkandam\",197,34077.2,34077.2,3384,2777.17\\r\\n718,26-Aug-19,THE CARDAMOM PLANTERS MARKETING CO-OPERATIVE SOCIETY LIMITED,188,30150.4,29849.9,3326,2675.77\\r\\n719,24-Aug-19,Green House Cardamom Mktg.India Pvt. Ltd,122,12473.3,11923.6,2904,2618.12\\r\\n720,24-Aug-19,\"South Indian Green Cardamom Company Ltd, Kochi\",201,30626.7,30410.9,3700,2659.76\\r\\n721,23-Aug-19,SUGANDHAGIRI SPICES PROMOTERS&TRADERS Pvt Ltd,125,16929.9,16432.3,3519,2659.59\\r\\n722,23-Aug-19,\"Spice More Trading Company, Kumily\",177,27136.2,27136.2,3289,2588.36\\r\\n723,22-Aug-19,IDUKKI Dist.TRADITIONAL CARDAMOM PRODUCER COMPANY Ltd,90,10596.3,10493.3,3863,3059.78\\r\\n724,22-Aug-19,VANDANMEDU GREEN GOLD CARDAMOM PRODUCER CoLtd,111,13783.9,13371.6,3739,3034.97\\r\\n725,21-Aug-19,CARDAMOM GROWERSFOREVER PRIVATE LIMITED,99,12343.1,12343.1,3309,2590.93\\r\\n726,21-Aug-19,\"The Kerala Cardamom Processing and Marketing Company Limited, Thekkady\",181,26496.7,26496.7,3386,2803.19\\r\\n727,20-Aug-19,\"Header Systems (India) Limited, Nedumkandam\",253,50745.5,47431.4,3092,2318.42\\r\\n728,20-Aug-19,\"Mas Enterprises, Vandanmettu\",255,32482.4,32330,3096,2400.23\\r\\n729,19-Aug-19,\"The Cardamom Processing & Marketing Co-Operative Society Ltd, Kumily\",230,36785.6,30168.6,3383,2622.52\\r\\n730,19-Aug-19,\"Cardamom Planters\\' Association, Santhanpara\",119,11565.5,10765.2,3169,2491.68\\r\\n731,17-Aug-19,\"South Indian Green Cardamom Company Ltd, Kochi\",280,36428.4,27641.8,3766,3059.5\\r\\n732,16-Aug-19,\"Spice More Trading Company, Kumily\",190,26140.1,19643.4,3968,3285.12\\r\\n733,16-Aug-19,SUGANDHAGIRI SPICES PROMOTERS&TRADERS Pvt Ltd,147,20302,18108.9,3676,3161.63\\r\\n734,14-Aug-19,VANDANMEDU GREEN GOLD CARDAMOM PRODUCER CoLtd,111,12619.2,12619.2,4114,3921.5\\r\\n735,14-Aug-19,IDUKKI Dist.TRADITIONAL CARDAMOM PRODUCER COMPANY Ltd,138,16170.9,15871.6,4358,3724.78\\r\\n736,13-Aug-19,\"The Kerala Cardamom Processing and Marketing Company Limited, Thekkady\",229,22686.6,22686.6,4465,3940.18\\r\\n737,13-Aug-19,CARDAMOM GROWERSFOREVER PRIVATE LIMITED,113,12752,6277.3,4288,3726.88\\r\\n738,10-Aug-19,\"Mas Enterprises, Vandanmettu\",114,11265.9,10451.6,4636,4015.46\\r\\n739,10-Aug-19,\"Header Systems (India) Limited, Nedumkandam\",225,32537.1,32537.1,4557,4057.28\\r\\n740,9-Aug-19,THE CARDAMOM PLANTERS MARKETING CO-OPERATIVE SOCIETY LIMITED,213,21991.6,20315.2,4462,3739.05\\r\\n741,8-Aug-19,\"South Indian Green Cardamom Company Ltd, Kochi\",323,43159.2,36062.6,4274,3744.78\\r\\n742,7-Aug-19,SUGANDHAGIRI SPICES PROMOTERS&TRADERS Pvt Ltd,137,20506.5,17613.2,4764,3869.15\\r\\n743,7-Aug-19,\"Spice More Trading Company, Kumily\",215,30347.8,27910.1,4576,3764.28\\r\\n744,6-Aug-19,IDUKKI Dist.TRADITIONAL CARDAMOM PRODUCER COMPANY Ltd,150,17436.3,16920.4,4892,4273.43\\r\\n745,6-Aug-19,VANDANMEDU GREEN GOLD CARDAMOM PRODUCER CoLtd,125,17182,17182,4626,4344.58\\r\\n746,5-Aug-19,CARDAMOM GROWERSFOREVER PRIVATE LIMITED,122,11991.2,11581.8,5047,4552.25\\r\\n747,5-Aug-19,\"The Kerala Cardamom Processing and Marketing Company Limited, Thekkady\",238,30101.1,29604.8,4983,4319.76\\r\\n748,3-Aug-19,\"Header Systems (India) Limited, Nedumkandam\",209,26142.5,26142.5,7000,4655.15\\r\\n749,3-Aug-19,\"Mas Enterprises, Vandanmettu\",100,8796,8741.2,5212,4733.19\\r\\n750,2-Aug-19,\"The Cardamom Processing & Marketing Co-Operative Society Ltd, Kumily\",143,14143.6,14143.6,4767,4453.79\\r\\n751,2-Aug-19,\"Cardamom Planters\\' Association, Santhanpara\",48,4301.6,4051.7,4884,4454.76\\r\\n752,1-Aug-19,\"South Indian Green Cardamom Company Ltd, Kochi\",187,23234.7,23234.7,4614,4250.75\\r\\n753,31-Jul-19,SUGANDHAGIRI SPICES PROMOTERS&TRADERS Pvt Ltd,137,21103.2,20893.9,5006,4036.91\\r\\n754,31-Jul-19,\"Spice More Trading Company, Kumily\",129,17259.5,17225.1,4502,3921.54\\r\\n755,30-Jul-19,VANDANMEDU GREEN GOLD CARDAMOM PRODUCER CoLtd,162,25906.4,25906.4,4225,3991.19\\r\\n756,30-Jul-19,IDUKKI Dist.TRADITIONAL CARDAMOM PRODUCER COMPANY Ltd,111,12638.5,12586.3,4304,3825.19\\r\\n757,29-Jul-19,\"The Kerala Cardamom Processing and Marketing Company Limited, Thekkady\",127,15104.3,15104.3,4038,3626.48\\r\\n758,27-Jul-19,\"Mas Enterprises, Vandanmettu\",91,9246.6,9246.6,4225,3772.61\\r\\n759,27-Jul-19,\"Header Systems (India) Limited, Nedumkandam\",208,30911.3,30866.6,4173,3808\\r\\n760,26-Jul-19,THE CARDAMOM PLANTERS MARKETING CO-OPERATIVE SOCIETY LIMITED,119,12114.2,11861.9,4121,3682.8\\r\\n761,25-Jul-19,\"South Indian Green Cardamom Company Ltd, Kochi\",174,20573.7,20573.7,4192,3655.35\\r\\n762,24-Jul-19,SUGANDHAGIRI SPICES PROMOTERS&TRADERS Pvt Ltd,144,18120.6,16497.3,4197,3586.82\\r\\n763,24-Jul-19,\"Spice More Trading Company, Kumily\",173,22421.9,20178,4191,3499.79\\r\\n764,22-Jul-19,CARDAMOM GROWERSFOREVER PRIVATE LIMITED,64,6059.3,4353.3,3930,3535.08\\r\\n765,22-Jul-19,\"The Kerala Cardamom Processing and Marketing Company Limited, Thekkady\",125,14270.3,14270.3,4198,3637.45\\r\\n766,20-Jul-19,\"Header Systems (India) Limited, Nedumkandam\",229,30433.1,30433.1,4149,3683.91\\r\\n767,19-Jul-19,\"The Cardamom Processing & Marketing Co-Operative Society Ltd, Kumily\",126,14241.9,14241.9,4208,3713.74\\r\\n768,18-Jul-19,\"South Indian Green Cardamom Company Ltd, Kochi\",151,16755.7,16755.7,5484,3832.67\\r\\n769,17-Jul-19,SUGANDHAGIRI SPICES PROMOTERS&TRADERS Pvt Ltd,129,18276.3,18276.3,4273,3683.94\\r\\n770,17-Jul-19,\"Spice More Trading Company, Kumily\",111,16795,16795,4196,3574.22\\r\\n771,16-Jul-19,VANDANMEDU GREEN GOLD CARDAMOM PRODUCER CoLtd,148,26208.4,25901.3,4948,3688.89\\r\\n772,16-Jul-19,IDUKKI Dist.TRADITIONAL CARDAMOM PRODUCER COMPANY Ltd,89,11648.8,11648.8,4499,3572.76\\r\\n773,15-Jul-19,\"The Kerala Cardamom Processing and Marketing Company Limited, Thekkady\",115,13639.9,13614.2,3947,3372.75\\r\\n774,13-Jul-19,\"Mas Enterprises, Vandanmettu\",55,5700.3,5700.3,3730,3430.4\\r\\n775,13-Jul-19,\"Header Systems (India) Limited, Nedumkandam\",159,21482,24045,3735,3503.96\\r\\n776,12-Jul-19,THE CARDAMOM PLANTERS MARKETING CO-OPERATIVE SOCIETY LIMITED,106,13100.3,13100.3,3648,3246.66\\r\\n777,11-Jul-19,\"South Indian Green Cardamom Company Ltd, Kochi\",146,18282.9,18282.9,4038,3246.74\\r\\n778,10-Jul-19,SUGANDHAGIRI SPICES PROMOTERS&TRADERS Pvt Ltd,180,25923.6,21730.9,3553.5,3121.83\\r\\n779,10-Jul-19,\"Spice More Trading Company, Kumily\",141,22852.5,22380.7,3545,3071.93\\r\\n780,8-Jul-19,CARDAMOM GROWERSFOREVER PRIVATE LIMITED,144,19498,14718,3503,3078.6\\r\\n781,8-Jul-19,\"The Kerala Cardamom Processing and Marketing Company Limited, Thekkady\",140,18035.9,17163.2,3645,3138.03\\r\\n782,6-Jul-19,\"Header Systems (India) Limited, Nedumkandam\",200,35300.8,35098.3,3500,3190.69\\r\\n783,6-Jul-19,\"Mas Enterprises, Vandanmettu\",60,6098.3,5955.4,3811,3173.75\\r\\n784,5-Jul-19,THE CARDAMOM PLANTERS MARKETING CO-OPERATIVE SOCIETY LIMITED,162,19362.3,18176.6,3599,3214.3\\r\\n785,4-Jul-19,\"South Indian Green Cardamom Company Ltd, Kochi\",119,16477.3,16477.3,3601,3259.72\\r\\n786,3-Jul-19,\"Spice More Trading Company, Kumily\",126,20574,19950.4,3597,3160.86\\r\\n787,3-Jul-19,SUGANDHAGIRI SPICES PROMOTERS&TRADERS Pvt Ltd,125,16764.3,16188.1,3548,3135.41\\r\\n788,2-Jul-19,VANDANMEDU GREEN GOLD CARDAMOM PRODUCER CoLtd,128,22744.1,22744.1,3641,3373.51\\r\\n789,2-Jul-19,IDUKKI Dist.TRADITIONAL CARDAMOM PRODUCER COMPANY Ltd,129,17742.3,17742.3,3553,3231.43\\r\\n790,29-Jun-19,\"Mas Enterprises, Vandanmettu\",111,14117.9,13798.9,3414,3110.01\\r\\n791,29-Jun-19,\"Header Systems (India) Limited, Nedumkandam\",193,34602.5,34516.3,6000,3301.23\\r\\n792,28-Jun-19,THE CARDAMOM PLANTERS MARKETING CO-OPERATIVE SOCIETY LIMITED,171,22315.9,22315.9,3421,3074.05\\r\\n793,27-Jun-19,Green House Cardamom Mktg.India Pvt. Ltd,69,6389.5,5788.8,3502,3015.97\\r\\n794,27-Jun-19,\"South Indian Green Cardamom Company Ltd, Kochi\",244,40020.2,39729.3,3504,3150.04\\r\\n795,26-Jun-19,SUGANDHAGIRI SPICES PROMOTERS&TRADERS Pvt Ltd,175,24280.2,20484.4,4035,3099.7\\r\\n796,26-Jun-19,\"Spice More Trading Company, Kumily\",216,39404.6,37254.4,3428,3058.44\\r\\n797,24-Jun-19,CARDAMOM GROWERSFOREVER PRIVATE LIMITED,165,20027.8,15059.3,3382,2941.88\\r\\n798,22-Jun-19,\"Mas Enterprises, Vandanmettu\",101,15857.5,15857.5,5734,3154.47\\r\\n799,22-Jun-19,\"Header Systems (India) Limited, Nedumkandam\",197,29210.4,27186.8,3412,3067.03\\r\\n800,21-Jun-19,THE CARDAMOM PLANTERS MARKETING CO-OPERATIVE SOCIETY LIMITED,177,24108.2,24108.2,3470,3156.44\\r\\n801,20-Jun-19,\"South Indian Green Cardamom Company Ltd, Kochi\",99,13951.2,13951.2,5000,3244.84\\r\\n802,19-Jun-19,\"Spice More Trading Company, Kumily\",179,29158.4,29054.8,3999,3113.37\\r\\n803,19-Jun-19,SUGANDHAGIRI SPICES PROMOTERS&TRADERS Pvt Ltd,129,20271.6,19933.8,3520,3170.01\\r\\n804,18-Jun-19,VANDANMEDU GREEN GOLD CARDAMOM PRODUCER CoLtd,145,26108.5,26108.5,3380,3180.81\\r\\n805,18-Jun-19,IDUKKI Dist.TRADITIONAL CARDAMOM PRODUCER COMPANY Ltd,82,11066.8,11066.8,3413,3087.87\\r\\n806,15-Jun-19,\"Mas Enterprises, Vandanmettu\",102,17303.2,17303.2,4503,2801.75\\r\\n807,15-Jun-19,\"Header Systems (India) Limited, Nedumkandam\",199,29868.1,29571.3,3108,2813.45\\r\\n808,14-Jun-19,THE CARDAMOM PLANTERS MARKETING CO-OPERATIVE SOCIETY LIMITED,106,14720.9,14720.9,2910,2679.81\\r\\n809,13-Jun-19,Green House Cardamom Mktg.India Pvt. Ltd,65,6050.7,5901,2844,2595.33\\r\\n810,13-Jun-19,\"South Indian Green Cardamom Company Ltd, Kochi\",200,31184.2,31184.2,2938,2629.31\\r\\n811,12-Jun-19,SUGANDHAGIRI SPICES PROMOTERS&TRADERS Pvt Ltd,207,33271.2,29661.6,3003,2581.76\\r\\n812,12-Jun-19,\"Spice More Trading Company, Kumily\",201,33842.2,33538.9,2856,2581.03\\r\\n813,10-Jun-19,CARDAMOM GROWERSFOREVER PRIVATE LIMITED,143,17523.7,15976.1,2872,2528.45\\r\\n814,8-Jun-19,\"Header Systems (India) Limited, Nedumkandam\",175,25072.9,24871.7,2901,2564.92\\r\\n815,8-Jun-19,\"Mas Enterprises, Vandanmettu\",115,17392.8,17360.3,2892,2591.9\\r\\n816,7-Jun-19,THE CARDAMOM PLANTERS MARKETING CO-OPERATIVE SOCIETY LIMITED,158,24197,23992.3,2790,2525.81\\r\\n817,7-Jun-19,\"Cardamom Planters\\' Association, Santhanpara\",52,6043.5,4987.2,2706,2448.46\\r\\n818,6-Jun-19,\"South Indian Green Cardamom Company Ltd, Kochi\",136,17739.2,17670.7,4012,2547.43\\r\\n819,4-Jun-19,SUGANDHAGIRI SPICES PROMOTERS&TRADERS Pvt Ltd,133,16484.1,16435.9,2940,2577.27\\r\\n820,4-Jun-19,\"Spice More Trading Company, Kumily\",122,18030.2,17978.4,2802,2582.15\\r\\n821,3-Jun-19,VANDANMEDU GREEN GOLD CARDAMOM PRODUCER CoLtd,140,22809.3,22809.3,2739,2492.14\\r\\n822,3-Jun-19,IDUKKI Dist.TRADITIONAL CARDAMOM PRODUCER COMPANY Ltd,94,13457.9,13457.9,2871,2486.53\\r\\n823,31-May-19,\"Mas Enterprises, Vandanmettu\",123,18725.5,18527.4,2749,2474.75\\r\\n824,31-May-19,\"Header Systems (India) Limited, Nedumkandam\",229,37631.8,37118.9,2718,2423.66\\r\\n825,30-May-19,THE CARDAMOM PLANTERS MARKETING CO-OPERATIVE SOCIETY LIMITED,107,16224.7,16014.7,2738,2423.89\\r\\n826,29-May-19,Green House Cardamom Mktg.India Pvt. Ltd,62,6389.2,5938.3,2656,2331.89\\r\\n827,29-May-19,\"South Indian Green Cardamom Company Ltd, Kochi\",186,30406.3,30224.4,2710,2423.71\\r\\n828,28-May-19,SUGANDHAGIRI SPICES PROMOTERS&TRADERS Pvt Ltd,167,25132.5,23987.8,2631,2354.31\\r\\n829,28-May-19,\"Spice More Trading Company, Kumily\",154,23633.3,23363.4,2712,2410.54\\r\\n830,27-May-19,IDUKKI Dist.TRADITIONAL CARDAMOM PRODUCER COMPANY Ltd,80,11281.7,10934.1,2628,2352.6\\r\\n831,25-May-19,CARDAMOM GROWERSFOREVER PRIVATE LIMITED,127,17975.6,16746.4,2640,2331.2\\r\\n832,25-May-19,\"The Kerala Cardamom Processing and Marketing Company Limited, Thekkady\",152,22589.6,20813.8,2589,2270.01\\r\\n833,24-May-19,\"Header Systems (India) Limited, Nedumkandam\",181,26268.5,25699,2713,2373.27\\r\\n834,24-May-19,\"Mas Enterprises, Vandanmettu\",162,26294.9,21573.8,2751,2357.89\\r\\n835,23-May-19,\"The Cardamom Processing & Marketing Co-Operative Society Ltd, Kumily\",119,15953.4,15660.1,2714,2374.46\\r\\n836,23-May-19,\"Cardamom Planters\\' Association, Santhanpara\",65,7687,3998,2656,2269.85\\r\\n837,22-May-19,\"South Indian Green Cardamom Company Ltd, Kochi\",171,28222.5,27262,2754,2355.6\\r\\n838,22-May-19,Green House Cardamom Mktg.India Pvt. Ltd,68,6283.1,3723.2,2568,2244.75\\r\\n839,21-May-19,\"Spice More Trading Company, Kumily\",192,28010.6,26730,2724,2385.43\\r\\n840,21-May-19,SUGANDHAGIRI SPICES PROMOTERS&TRADERS Pvt Ltd,194,26240.4,22046.3,2776,2346.25\\r\\n841,20-May-19,VANDANMEDU GREEN GOLD CARDAMOM PRODUCER CoLtd,112,18245.9,15541.1,2778,2431.86\\r\\n842,20-May-19,IDUKKI Dist.TRADITIONAL CARDAMOM PRODUCER COMPANY Ltd,187,30427.5,21539.7,2770,2410.6\\r\\n843,18-May-19,\"The Kerala Cardamom Processing and Marketing Company Limited, Thekkady\",150,22870.6,22375.5,2801,2412.26\\r\\n844,17-May-19,\"Mas Enterprises, Vandanmettu\",165,25136.7,24798.7,2832,2499.69\\r\\n845,17-May-19,\"Header Systems (India) Limited, Nedumkandam\",194,28390.5,27799.6,2835,2422.74\\r\\n846,16-May-19,THE CARDAMOM PLANTERS MARKETING CO-OPERATIVE SOCIETY LIMITED,136,21611.6,21611.6,2814,2459.47\\r\\n847,15-May-19,\"South Indian Green Cardamom Company Ltd, Kochi\",268,45811.2,44224.9,2844,2408\\r\\n848,15-May-19,Green House Cardamom Mktg.India Pvt. Ltd,59,6094.8,5582.9,2731,2269.5\\r\\n849,14-May-19,SUGANDHAGIRI SPICES PROMOTERS&TRADERS Pvt Ltd,209,31107.6,20009.4,2696,2272.16\\r\\n850,14-May-19,\"Spice More Trading Company, Kumily\",219,32852,31760.6,2691,2324.83\\r\\n851,13-May-19,IDUKKI Dist.TRADITIONAL CARDAMOM PRODUCER COMPANY Ltd,217,32271.1,26888.4,2750,2308.78\\r\\n852,13-May-19,VANDANMEDU GREEN GOLD CARDAMOM PRODUCER CoLtd,168,31755.4,26887.8,2704,2255.25\\r\\n853,11-May-19,CARDAMOM GROWERSFOREVER PRIVATE LIMITED,213,31164.3,23367.7,2976,2504.39\\r\\n854,11-May-19,\"The Kerala Cardamom Processing and Marketing Company Limited, Thekkady\",185,29519.9,28915,2768.5,2450.86\\r\\n855,10-May-19,\"Header Systems (India) Limited, Nedumkandam\",281,54965.2,51096.5,2928,2568.06\\r\\n856,10-May-19,\"Mas Enterprises, Vandanmettu\",262,42308.3,40722.8,2951,2570.83\\r\\n857,9-May-19,THE CARDAMOM PLANTERS MARKETING CO-OPERATIVE SOCIETY LIMITED,203,34665.1,34388.7,3002,2556.97\\r\\n858,9-May-19,\"Cardamom Planters\\' Association, Santhanpara\",87,11020.4,10759.2,2970,2539.79\\r\\n859,8-May-19,\"South Indian Green Cardamom Company Ltd, Kochi\",268,43284.4,42807.4,3288,2682.64\\r\\n860,8-May-19,Green House Cardamom Mktg.India Pvt. Ltd,90,8038.5,7686,2894,2635.69\\r\\n861,7-May-19,\"Spice More Trading Company, Kumily\",138,21357.3,21161.1,3017,2616.41\\r\\n862,7-May-19,SUGANDHAGIRI SPICES PROMOTERS&TRADERS Pvt Ltd,180,29092.5,28641.1,3273,2633.84\\r\\n863,6-May-19,VANDANMEDU GREEN GOLD CARDAMOM PRODUCER CoLtd,153,26009.1,25863.9,2946,2658.66\\r\\n864,6-May-19,IDUKKI Dist.TRADITIONAL CARDAMOM PRODUCER COMPANY Ltd,158,23641.2,23384.3,2931,2613.87\\r\\n865,4-May-19,CARDAMOM GROWERSFOREVER PRIVATE LIMITED,141,16602.9,15116.3,2901,2483.31\\r\\n866,4-May-19,\"The Kerala Cardamom Processing and Marketing Company Limited, Thekkady\",190,30518.8,30518.8,2868,2443.27\\r\\n867,3-May-19,\"Mas Enterprises, Vandanmettu\",255,41173.4,40505.3,4000,2467.46\\r\\n868,3-May-19,\"Header Systems (India) Limited, Nedumkandam\",306,59799,58335.6,2847,2439.91\\r\\n869,2-May-19,THE CARDAMOM PLANTERS MARKETING CO-OPERATIVE SOCIETY LIMITED,183,31554.1,31470.5,2760,2314.31\\r\\n870,1-May-19,Green House Cardamom Mktg.India Pvt. Ltd,94,8708.6,8559.6,2652,2377.21\\r\\n871,1-May-19,\"South Indian Green Cardamom Company Ltd, Kochi\",269,46803,46803,2763,2467.23\\r\\n872,30-Apr-19,SUGANDHAGIRI SPICES PROMOTERS&TRADERS Pvt Ltd,194,32107.5,32107.5,3001,2331.75\\r\\n873,30-Apr-19,\"Spice More Trading Company, Kumily\",188,30157.7,30157.7,3622,2357.6\\r\\n874,29-Apr-19,VANDANMEDU GREEN GOLD CARDAMOM PRODUCER CoLtd,178,32426.3,32426.3,2654,2347.08\\r\\n875,29-Apr-19,IDUKKI Dist.TRADITIONAL CARDAMOM PRODUCER COMPANY Ltd,236,36418.9,36239.6,2678,2294.63\\r\\n876,27-Apr-19,CARDAMOM GROWERSFOREVER PRIVATE LIMITED,150,22806.9,22724.8,2530,2130.5\\r\\n877,27-Apr-19,\"The Kerala Cardamom Processing and Marketing Company Limited, Thekkady\",200,35621.9,35621.9,2505,2186.69\\r\\n878,26-Apr-19,\"Mas Enterprises, Vandanmettu\",151,27030.4,27030.4,3000,2154.01\\r\\n879,26-Apr-19,\"Header Systems (India) Limited, Nedumkandam\",279,48235.8,46168.4,2400,2124.51\\r\\n880,25-Apr-19,THE CARDAMOM PLANTERS MARKETING CO-OPERATIVE SOCIETY LIMITED,163,27018.6,27018.6,2168,1890.21\\r\\n881,25-Apr-19,\"Cardamom Planters\\' Association, Santhanpara\",50,7624.2,6827.4,2210,1924.7\\r\\n882,24-Apr-19,\"South Indian Green Cardamom Company Ltd, Kochi\",215,44749.4,44749.4,2112,1840.57\\r\\n883,24-Apr-19,Green House Cardamom Mktg.India Pvt. Ltd,145,15417,15214.3,2081,1811.54\\r\\n884,22-Apr-19,\"Spice More Trading Company, Kumily\",390,68850.6,68091.8,2098,1752.54\\r\\n885,17-Apr-19,VANDANMEDU GREEN GOLD CARDAMOM PRODUCER CoLtd,227,39461.7,39003.5,2000,1786.66\\r\\n886,16-Apr-19,IDUKKI Dist.TRADITIONAL CARDAMOM PRODUCER COMPANY Ltd,200,34453,34254.5,2127,1760.12\\r\\n887,13-Apr-19,\"The Kerala Cardamom Processing and Marketing Company Limited, Thekkady\",291,52976.9,52976.9,1934,1711.78\\r\\n888,12-Apr-19,CARDAMOM GROWERSFOREVER PRIVATE LIMITED,176,22549.9,19544.2,2004,1622.74\\r\\n889,11-Apr-19,\"Mas Enterprises, Vandanmettu\",276,51751.1,50014.2,1992,1657.14\\r\\n890,10-Apr-19,\"Header Systems (India) Limited, Nedumkandam\",486,89839.1,87427.4,1925,1625.87\\r\\n891,8-Apr-19,THE CARDAMOM PLANTERS MARKETING CO-OPERATIVE SOCIETY LIMITED,432,85073.5,82514.7,1970,1629.91\\r\\n892,6-Apr-19,Green House Cardamom Mktg.India Pvt. Ltd,160,18250.2,17889.5,1864,1641.38\\r\\n893,5-Apr-19,\"South Indian Green Cardamom Company Ltd, Kochi\",448,100239,99964.7,2042,1663.98\\r\\n894,4-Apr-19,\"Spice More Trading Company, Kumily\",476,95132.4,91576.3,2033,1619.34\\r\\n895,3-Apr-19,SUGANDHAGIRI SPICES PROMOTERS&TRADERS Pvt Ltd,310,52684.2,51068.5,2203,1642.48\\r\\n896,2-Apr-19,VANDANMEDU GREEN GOLD CARDAMOM PRODUCER CoLtd,311,66031.1,65095.1,2201,1719.55\\r\\n897,1-Apr-19,IDUKKI Dist.TRADITIONAL CARDAMOM PRODUCER COMPANY Ltd,304,56027.4,55841.1,1928,1692.03\\r\\n898,30-Mar-19,\"The Kerala Cardamom Processing and Marketing Company Limited, Thekkady\",394,78820.6,78599.7,1873,1642.52\\r\\n899,29-Mar-19,CARDAMOM GROWERSFOREVER PRIVATE LIMITED,214,28734.1,27659.3,2006,1595.35\\r\\n900,28-Mar-19,\"Mas Enterprises, Vandanmettu\",292,52240.4,52086.4,2016,1600.01\\r\\n901,27-Mar-19,\"Header Systems (India) Limited, Nedumkandam\",542,111148,110162,1900,1568.07\\r\\n902,26-Mar-19,\"Cardamom Planters\\' Association, Santhanpara\",126,20219.4,17597.9,1754,1531.17\\r\\n903,25-Mar-19,THE CARDAMOM PLANTERS MARKETING CO-OPERATIVE SOCIETY LIMITED,417,81775.7,81775.7,1792,1521.7\\r\\n904,23-Mar-19,Green House Cardamom Mktg.India Pvt. Ltd,165,20197.5,19299.4,1732,1491.75\\r\\n905,22-Mar-19,\"South Indian Green Cardamom Company Ltd, Kochi\",432,95239.1,95239.1,1872,1526.16\\r\\n906,21-Mar-19,\"Spice More Trading Company, Kumily\",397,75909.2,74637.7,1726,1486.66\\r\\n907,20-Mar-19,SUGANDHAGIRI SPICES PROMOTERS&TRADERS Pvt Ltd,275,46350.9,45848.1,1742,1463.71\\r\\n908,19-Mar-19,VANDANMEDU GREEN GOLD CARDAMOM PRODUCER CoLtd,298,70598.8,70598.8,1839,1493.15\\r\\n909,18-Mar-19,IDUKKI Dist.TRADITIONAL CARDAMOM PRODUCER COMPANY Ltd,230,39683,39426.9,1908,1471.23\\r\\n910,16-Mar-19,\"The Kerala Cardamom Processing and Marketing Company Limited, Thekkady\",440,94078.4,93789.7,1740,1437.5\\r\\n911,15-Mar-19,CARDAMOM GROWERSFOREVER PRIVATE LIMITED,224,33687,32631.9,1816,1422.05\\r\\n912,14-Mar-19,\"Mas Enterprises, Vandanmettu\",368,73118.6,71185.7,1800,1427.54\\r\\n913,13-Mar-19,\"Header Systems (India) Limited, Nedumkandam\",557,119660,115245,1836,1423.25\\r\\n914,12-Mar-19,\"Cardamom Planters\\' Association, Santhanpara\",173,23288.6,20945.4,1679,1402.1\\r\\n915,11-Mar-19,THE CARDAMOM PLANTERS MARKETING CO-OPERATIVE SOCIETY LIMITED,504,112842,109507,1776,1409.56\\r\\n916,9-Mar-19,Green House Cardamom Mktg.India Pvt. Ltd,256,35536.1,34468.4,1642,1417.66\\r\\n917,8-Mar-19,\"South Indian Green Cardamom Company Ltd, Kochi\",488,103788,100622,1934.5,1447.88\\r\\n918,7-Mar-19,\"Spice More Trading Company, Kumily\",356,70601.4,69006.3,1750.5,1433.84\\r\\n919,6-Mar-19,SUGANDHAGIRI SPICES PROMOTERS&TRADERS Pvt Ltd,353,61235.1,60631.6,1776,1424.95\\r\\n920,5-Mar-19,VANDANMEDU GREEN GOLD CARDAMOM PRODUCER CoLtd,223,44611.5,44611.5,1820,1450.43\\r\\n921,4-Mar-19,IDUKKI Dist.TRADITIONAL CARDAMOM PRODUCER COMPANY Ltd,331,64390.4,63028.7,1877,1414.18\\r\\n922,2-Mar-19,\"The Kerala Cardamom Processing and Marketing Company Limited, Thekkady\",478,106408,104774,1743,1404.28\\r\\n923,1-Mar-19,CARDAMOM GROWERSFOREVER PRIVATE LIMITED,357,60914.6,55038.4,1797,1383.21\\r\\n924,28-Feb-19,\"Mas Enterprises, Vandanmettu\",418,82656.1,80581.2,1724,1399.05\\r\\n925,27-Feb-19,\"Header Systems (India) Limited, Nedumkandam\",603,131632,125740,1834,1397.69\\r\\n926,26-Feb-19,\"Cardamom Planters\\' Association, Santhanpara\",89,15324,10782.1,1650,1396.12\\r\\n927,25-Feb-19,\"The Cardamom Processing & Marketing Co-Operative Society Ltd, Kumily\",472,110680,110451,1718,1407.7\\r\\n928,23-Feb-19,Green House Cardamom Mktg.India Pvt. Ltd,187,27297.6,25157.6,1552,1371.37\\r\\n929,22-Feb-19,\"South Indian Green Cardamom Company Ltd, Kochi\",473,115116,114424,1808,1433.37\\r\\n930,21-Feb-19,\"Spice More Trading Company, Kumily\",430,84338.3,82490.8,1740,1390.59\\r\\n931,20-Feb-19,SUGANDHAGIRI SPICES PROMOTERS&TRADERS Pvt Ltd,320,56123.1,52304.6,1664,1382.45\\r\\n932,19-Feb-19,VANDANMEDU GREEN GOLD CARDAMOM PRODUCER CoLtd,285,65804,62959.1,1691,1408.92\\r\\n933,18-Feb-19,IDUKKI Dist.TRADITIONAL CARDAMOM PRODUCER COMPANY Ltd,329,67427.7,63748.4,1849,1393.82\\r\\n934,16-Feb-19,\"The Kerala Cardamom Processing and Marketing Company Limited, Thekkady\",428,92465.3,91106.7,1724,1426.72\\r\\n935,15-Feb-19,CARDAMOM GROWERSFOREVER PRIVATE LIMITED,230,36825.9,35523.8,1700,1434.17\\r\\n936,14-Feb-19,\"Mas Enterprises, Vandanmettu\",279,54038.2,53856.2,1692,1445.05\\r\\n937,13-Feb-19,\"Header Systems (India) Limited, Nedumkandam\",430,85442.2,84533.5,1784,1414.46\\r\\n938,12-Feb-19,\"Cardamom Planters\\' Association, Santhanpara\",184,30779.7,29041.3,1511,1344.35\\r\\n939,11-Feb-19,THE CARDAMOM PLANTERS MARKETING CO-OPERATIVE SOCIETY LIMITED,536,130395,125244,1646,1331.25\\r\\n940,9-Feb-19,Green House Cardamom Mktg.India Pvt. Ltd,251,37744.8,35461.6,1672,1383.31\\r\\n941,8-Feb-19,\"South Indian Green Cardamom Company Ltd, Kochi\",621,156256,147675,1765,1418.15\\r\\n942,7-Feb-19,\"Spice More Trading Company, Kumily\",399,77052.2,74985.7,2008,1447.09\\r\\n943,6-Feb-19,SUGANDHAGIRI SPICES PROMOTERS&TRADERS Pvt Ltd,355,66521.7,64138.7,1986,1460.21\\r\\n944,5-Feb-19,VANDANMEDU GREEN GOLD CARDAMOM PRODUCER CoLtd,283,65198.4,63845.5,1740,1452.06\\r\\n945,4-Feb-19,IDUKKI Dist.TRADITIONAL CARDAMOM PRODUCER COMPANY Ltd,443,90172.2,87400.1,1723,1479.47\\r\\n946,2-Feb-19,\"The Kerala Cardamom Processing and Marketing Company Limited, Thekkady\",495,112399,112399,2017,1496.76\\r\\n947,1-Feb-19,CARDAMOM GROWERSFOREVER PRIVATE LIMITED,271,43259.4,39357.8,1731,1448.29\\r\\n948,31-Jan-19,\"Mas Enterprises, Vandanmettu\",410,90009,87968,2009,1492.91\\r\\n949,30-Jan-19,\"Header Systems (India) Limited, Nedumkandam\",618,135476,134058,1728,1476.25\\r\\n950,29-Jan-19,\"Cardamom Planters\\' Association, Santhanpara\",186,30316.1,25860.7,1568,1449.01\\r\\n951,28-Jan-19,\"The Cardamom Processing & Marketing Co-Operative Society Ltd, Kumily\",638,154300,143525,1744,1463.61\\r\\n952,25-Jan-19,Green House Cardamom Mktg.India Pvt. Ltd,158,22060.2,21579.2,1678,1471.02\\r\\n953,24-Jan-19,\"South Indian Green Cardamom Company Ltd, Kochi\",616,163075,158135,1940,1522.9\\r\\n954,23-Jan-19,\"Spice More Trading Company, Kumily\",428,84256.9,78014.8,1707,1471.44\\r\\n955,22-Jan-19,SUGANDHAGIRI SPICES PROMOTERS&TRADERS Pvt Ltd,382,73699.9,72316.4,1772,1511.17\\r\\n956,21-Jan-19,VANDANMEDU GREEN GOLD CARDAMOM PRODUCER CoLtd,438,113614,113614,1866,1549.89\\r\\n957,19-Jan-19,IDUKKI Dist.TRADITIONAL CARDAMOM PRODUCER COMPANY Ltd,393,83508.7,80563.5,1841,1544.04\\r\\n958,18-Jan-19,\"The Kerala Cardamom Processing and Marketing Company Limited, Thekkady\",490,116259,116259,1767,1526.63\\r\\n959,17-Jan-19,CARDAMOM GROWERSFOREVER PRIVATE LIMITED,254,41630,41443.9,1714,1500.01\\r\\n960,16-Jan-19,\"Mas Enterprises, Vandanmettu\",331,65045.4,63157,1914,1486.43\\r\\n961,14-Jan-19,\"Header Systems (India) Limited, Nedumkandam\",615,147581,146943,1718,1475.96\\r\\n962,11-Jan-19,\"The Cardamom Processing & Marketing Co-Operative Society Ltd, Kumily\",537,140080,137994,1640,1420.85\\r\\n963,10-Jan-19,Green House Cardamom Mktg.India Pvt. Ltd,251,36209.4,35845.9,1631,1391.92\\r\\n964,9-Jan-19,\"South Indian Green Cardamom Company Ltd, Kochi\",486,106867,106450,1702,1439.86\\r\\n965,8-Jan-19,\"Spice More Trading Company, Kumily\",363,71614.6,71614.6,1597,1393.26\\r\\n966,7-Jan-19,SUGANDHAGIRI SPICES PROMOTERS&TRADERS Pvt Ltd,336,63109.6,62874.6,1692,1403.98\\r\\n967,5-Jan-19,VANDANMEDU GREEN GOLD CARDAMOM PRODUCER CoLtd,253,61607.5,61607.5,1675,1387.97\\r\\n968,4-Jan-19,IDUKKI Dist.TRADITIONAL CARDAMOM PRODUCER COMPANY Ltd,235,44756.9,44084.6,1663,1345.53\\r\\n969,3-Jan-19,\"The Kerala Cardamom Processing and Marketing Company Limited, Thekkady\",489,120514,120514,1551,1328.97\\r\\n970,2-Jan-19,CARDAMOM GROWERSFOREVER PRIVATE LIMITED,195,35047.1,34619.4,1532,1326.29\\r\\n971,1-Jan-19,\"Mas Enterprises, Vandanmettu\",225,48927.2,48629.7,1609,1325.5\\r\\n972,31-Dec-18,\"Header Systems (India) Limited, Nedumkandam\",517,121206,114482,1608,1312.17\\r\\n973,29-Dec-18,\"Cardamom Planters\\' Association, Santhanpara\",144,22339.7,15330.2,1603,1281\\r\\n974,28-Dec-18,\"The Cardamom Processing & Marketing Co-Operative Society Ltd, Kumily\",452,106367,105324,1529,1314.95\\r\\n975,27-Dec-18,Green House Cardamom Mktg.India Pvt. Ltd,145,21319,20537.6,1470,1307.57\\r\\n976,26-Dec-18,\"South Indian Green Cardamom Company Ltd, Kochi\",425,102586,101492,1559,1332.6\\r\\n977,24-Dec-18,\"Spice More Trading Company, Kumily\",369,75727.6,70602.5,1545,1307.24\\r\\n978,22-Dec-18,SUGANDHAGIRI SPICES PROMOTERS&TRADERS Pvt Ltd,203,35247.4,35247.4,1521,1351.92\\r\\n979,21-Dec-18,IDUKKI Dist.TRADITIONAL CARDAMOM PRODUCER COMPANY Ltd,201,38785,35454.2,1608,1326.7\\r\\n980,21-Dec-18,VANDANMEDU GREEN GOLD CARDAMOM PRODUCER CoLtd,164,38201.9,37956.4,1636,1336.45\\r\\n981,20-Dec-18,CARDAMOM GROWERSFOREVER PRIVATE LIMITED,207,39866.8,33187.1,1498,1295.24\\r\\n982,20-Dec-18,\"The Kerala Cardamom Processing and Marketing Company Limited, Thekkady\",310,84343.3,83697.3,1551,1308.65\\r\\n983,19-Dec-18,\"Header Systems (India) Limited, Nedumkandam\",326,94816.6,91568.2,1527,1307.78\\r\\n984,19-Dec-18,\"Mas Enterprises, Vandanmettu\",243,55672.7,53916.3,1637,1275.27\\r\\n985,18-Dec-18,\"The Cardamom Processing & Marketing Co-Operative Society Ltd, Kumily\",295,78292.7,78292.7,1560,1316.12\\r\\n986,18-Dec-18,\"Cardamom Planters\\' Association, Santhanpara\",187,30638.8,29350.3,1604,1297.49\\r\\n987,17-Dec-18,\"South Indian Green Cardamom Company Ltd, Kochi\",321,92855.1,92314.1,1539,1334.1\\r\\n988,17-Dec-18,Green House Cardamom Mktg.India Pvt. Ltd,205,33210.4,29319.8,1472,1305.64\\r\\n989,15-Dec-18,\"Spice More Trading Company, Kumily\",388,81796.2,76859.4,1550,1312.04\\r\\n990,14-Dec-18,SUGANDHAGIRI SPICES PROMOTERS&TRADERS Pvt Ltd,319,61205.2,57704.1,1596,1326.59\\r\\n991,13-Dec-18,VANDANMEDU GREEN GOLD CARDAMOM PRODUCER CoLtd,378,101272,98965.4,1715,1346.88\\r\\n992,12-Dec-18,IDUKKI Dist.TRADITIONAL CARDAMOM PRODUCER COMPANY Ltd,395,86371,78750.6,1553,1314.39\\r\\n993,11-Dec-18,\"The Kerala Cardamom Processing and Marketing Company Limited, Thekkady\",673,176361,172127,1673,1317.5\\r\\n994,10-Dec-18,CARDAMOM GROWERSFOREVER PRIVATE LIMITED,364,70045.6,67741.4,1578,1322.62\\r\\n995,8-Dec-18,\"Mas Enterprises, Vandanmettu\",341,75136.5,73864.7,1723,1350.04\\r\\n996,7-Dec-18,\"Header Systems (India) Limited, Nedumkandam\",551,123918,123335,1624,1324.13\\r\\n997,6-Dec-18,\"Cardamom Planters\\' Association, Santhanpara\",230,39983.6,36127.8,1589,1293.32\\r\\n998,5-Dec-18,THE CARDAMOM PLANTERS MARKETING CO-OPERATIVE SOCIETY LIMITED,663,174305,172866,1564,1303.55\\r\\n999,4-Dec-18,Green House Cardamom Mktg.India Pvt. Ltd,313,53675.8,42830.3,1552,1284.38\\r\\n1000,3-Dec-18,\"South Indian Green Cardamom Company Ltd, Kochi\",730,191851,177984,1548,1307.13\\r\\n1001,1-Dec-18,\"Spice More Trading Company, Kumily\",488,104412,103160,1656,1320.33\\r\\n1002,30-Nov-18,SUGANDHAGIRI SPICES PROMOTERS&TRADERS Pvt Ltd,347,66121.5,65710,1533,1347.93\\r\\n1003,29-Nov-18,VANDANMEDU GREEN GOLD CARDAMOM PRODUCER CoLtd,369,87973.7,87973.7,1817,1375.62\\r\\n1004,28-Nov-18,IDUKKI Dist.TRADITIONAL CARDAMOM PRODUCER COMPANY Ltd,390,83412.3,82148.5,1799,1352.82\\r\\n1005,27-Nov-18,\"The Kerala Cardamom Processing and Marketing Company Limited, Thekkady\",647,164080,161099,1596,1333.73\\r\\n1006,26-Nov-18,CARDAMOM GROWERSFOREVER PRIVATE LIMITED,197,33678.7,33678.7,1567,1336.48\\r\\n1007,24-Nov-18,\"Mas Enterprises, Vandanmettu\",370,82451,75874.2,1547,1301.71\\r\\n1008,23-Nov-18,\"Header Systems (India) Limited, Nedumkandam\",669,162380,154574,1527,1287.05\\r\\n1009,22-Nov-18,\"Cardamom Planters\\' Association, Santhanpara\",264,45837.9,44219.7,1474,1279.28\\r\\n1010,21-Nov-18,THE CARDAMOM PLANTERS MARKETING CO-OPERATIVE SOCIETY LIMITED,622,164845,160275,1543,1314.13\\r\\n1011,20-Nov-18,Green House Cardamom Mktg.India Pvt. Ltd,359,59733,57713.8,1513,1308.7\\r\\n1012,19-Nov-18,\"South Indian Green Cardamom Company Ltd, Kochi\",677,179114,176295,1831,1347.7\\r\\n1013,17-Nov-18,\"Spice More Trading Company, Kumily\",506,111180,111180,1617,1331.57\\r\\n1014,16-Nov-18,SUGANDHAGIRI SPICES PROMOTERS&TRADERS Pvt Ltd,353,66934.6,66182.6,1560,1333.2\\r\\n1015,15-Nov-18,VANDANMEDU GREEN GOLD CARDAMOM PRODUCER CoLtd,234,53407.3,53407.3,1647,1389.01\\r\\n1016,14-Nov-18,IDUKKI Dist.TRADITIONAL CARDAMOM PRODUCER COMPANY Ltd,285,57188,56997.6,1729,1345.11\\r\\n1017,13-Nov-18,\"The Kerala Cardamom Processing and Marketing Company Limited, Thekkady\",639,164460,164460,1992,1278.51\\r\\n1018,12-Nov-18,CARDAMOM GROWERSFOREVER PRIVATE LIMITED,236,39490.5,36969.8,1604,1236.44\\r\\n1019,10-Nov-18,\"Mas Enterprises, Vandanmettu\",401,88852.9,84391.3,1503,1246.96\\r\\n1020,9-Nov-18,\"Header Systems (India) Limited, Nedumkandam\",691,169712,164382,1448,1243.94\\r\\n1021,8-Nov-18,\"Cardamom Planters\\' Association, Santhanpara\",197,35086.4,34124.9,1418,1264.19\\r\\n1022,7-Nov-18,THE CARDAMOM PLANTERS MARKETING CO-OPERATIVE SOCIETY LIMITED,391,94444,94100.5,1549,1290.79\\r\\n1023,5-Nov-18,Green House Cardamom Mktg.India Pvt. Ltd,307,51929.4,51496.8,1429,1250.87\\r\\n1024,3-Nov-18,\"South Indian Green Cardamom Company Ltd, Kochi\",578,140115,138042,1660,1247.73\\r\\n1025,2-Nov-18,\"Spice More Trading Company, Kumily\",329,64616.2,63491.4,1507,1209.12\\r\\n1026,1-Nov-18,SUGANDHAGIRI SPICES PROMOTERS&TRADERS Pvt Ltd,339,68133.4,67686.7,1458,1215.34\\r\\n1027,31-Oct-18,VANDANMEDU GREEN GOLD CARDAMOM PRODUCER CoLtd,265,64367.1,63592.1,1456,1230.28\\r\\n1028,30-Oct-18,IDUKKI Dist.TRADITIONAL CARDAMOM PRODUCER COMPANY Ltd,344,70055,67274,1559,1200.9\\r\\n1029,29-Oct-18,\"The Kerala Cardamom Processing and Marketing Company Limited, Thekkady\",686,192389,186210,1494,1192.97\\r\\n1030,27-Oct-18,CARDAMOM GROWERSFOREVER PRIVATE LIMITED,332,58231.3,53967.3,1419,1184.15\\r\\n1031,26-Oct-18,\"Mas Enterprises, Vandanmettu\",566,128353,122786,1667,1203.64\\r\\n1032,24-Oct-18,\"Header Systems (India) Limited, Nedumkandam\",790,210080,208593,1444,1218.9\\r\\n1033,23-Oct-18,\"Cardamom Planters\\' Association, Santhanpara\",306,50286.3,48723.2,1440,1194.44\\r\\n1034,22-Oct-18,THE CARDAMOM PLANTERS MARKETING CO-OPERATIVE SOCIETY LIMITED,686,187013,184802,1470,1238.64\\r\\n1035,20-Oct-18,Green House Cardamom Mktg.India Pvt. Ltd,305,51659.8,50990,1388,1224.51\\r\\n1036,18-Oct-18,\"South Indian Green Cardamom Company Ltd, Kochi\",600,148469,148154,1683,1249.56\\r\\n1037,17-Oct-18,\"Spice More Trading Company, Kumily\",349,70084.7,69272.2,1582,1196.02\\r\\n1038,16-Oct-18,SUGANDHAGIRI SPICES PROMOTERS&TRADERS Pvt Ltd,319,61181.1,59010.2,1456,1217.28\\r\\n1039,15-Oct-18,VANDANMEDU GREEN GOLD CARDAMOM PRODUCER CoLtd,220,51116.4,50127.7,1468,1226.1\\r\\n1040,13-Oct-18,IDUKKI Dist.TRADITIONAL CARDAMOM PRODUCER COMPANY Ltd,301,61660.2,58025.4,1541,1177.3\\r\\n1041,12-Oct-18,\"The Kerala Cardamom Processing and Marketing Company Limited, Thekkady\",668,177040,174587,1499,1174.42\\r\\n1042,11-Oct-18,CARDAMOM GROWERSFOREVER PRIVATE LIMITED,350,60397.1,58032.8,1403,1168.07\\r\\n1043,10-Oct-18,\"Mas Enterprises, Vandanmettu\",531,124890,119291,1538,1175.38\\r\\n1044,8-Oct-18,\"Header Systems (India) Limited, Nedumkandam\",656,167286,159070,1671,1177.08\\r\\n1045,6-Oct-18,\"Cardamom Planters\\' Association, Santhanpara\",279,51962.7,49136.7,1361,1157.27\\r\\n1046,5-Oct-18,THE CARDAMOM PLANTERS MARKETING CO-OPERATIVE SOCIETY LIMITED,692,187153,186244,1457,1185.29\\r\\n1047,4-Oct-18,Green House Cardamom Mktg.India Pvt. Ltd,407,70002.2,67416.2,1397,1145.77\\r\\n1048,3-Oct-18,\"South Indian Green Cardamom Company Ltd, Kochi\",744,209300,202055,1532,1173.73\\r\\n1049,1-Oct-18,\"Spice More Trading Company, Kumily\",453,101802,98963.6,1617,1187.17\\r\\n1050,29-Sep-18,SUGANDHAGIRI SPICES PROMOTERS&TRADERS Pvt Ltd,324,68137.2,66142.8,1444,1230.12\\r\\n1051,28-Sep-18,VANDANMEDU GREEN GOLD CARDAMOM PRODUCER CoLtd,331,88477.1,87627.2,1550,1247.36\\r\\n1052,27-Sep-18,IDUKKI Dist.TRADITIONAL CARDAMOM PRODUCER COMPANY Ltd,433,95297.9,94490.3,1537,1253.7\\r\\n1053,26-Sep-18,\"The Kerala Cardamom Processing and Marketing Company Limited, Thekkady\",681,181501,180150,1548,1252.65\\r\\n1054,25-Sep-18,CARDAMOM GROWERSFOREVER PRIVATE LIMITED,335,62394.2,57133,1433,1261.13\\r\\n1055,24-Sep-18,\"Mas Enterprises, Vandanmettu\",638,156206,154208,1667,1268.18\\r\\n1056,21-Sep-18,\"Header Systems (India) Limited, Nedumkandam\",760,188139,183694,1538,1259.58\\r\\n1057,20-Sep-18,\"Cardamom Planters\\' Association, Santhanpara\",273,48779.5,47735.3,1489,1247.87\\r\\n1058,19-Sep-18,THE CARDAMOM PLANTERS MARKETING CO-OPERATIVE SOCIETY LIMITED,685,184378,183967,1550,1256.37\\r\\n1059,18-Sep-18,Green House Cardamom Mktg.India Pvt. Ltd,433,82314.5,75450.9,2253,1230.23\\r\\n1060,17-Sep-18,\"South Indian Green Cardamom Company Ltd, Kochi\",719,196978,195767,1650,1259.45\\r\\n1061,15-Sep-18,\"Spice More Trading Company, Kumily\",385,83220.2,81043.1,1488,1256.8\\r\\n1062,14-Sep-18,SUGANDHAGIRI SPICES PROMOTERS&TRADERS Pvt Ltd,407,81237.6,80390.9,1442,1283.29\\r\\n1063,13-Sep-18,VANDANMEDU GREEN GOLD CARDAMOM PRODUCER CoLtd,495,136545,132302,1982,1308.71\\r\\n1064,12-Sep-18,IDUKKI Dist.TRADITIONAL CARDAMOM PRODUCER COMPANY Ltd,525,116475,114360,1699,1308.08\\r\\n1065,11-Sep-18,\"The Kerala Cardamom Processing and Marketing Company Limited, Thekkady\",660,172099,172099,1603,1312.17\\r\\n1066,10-Sep-18,CARDAMOM GROWERSFOREVER PRIVATE LIMITED,406,78722,77950.5,1597,1314.98\\r\\n1067,8-Sep-18,\"Mas Enterprises, Vandanmettu\",634,150328,150328,2227,1323.66\\r\\n1068,6-Sep-18,\"Header Systems (India) Limited, Nedumkandam\",663,156486,156189,1547,1255.7\\r\\n1069,5-Sep-18,\"Cardamom Planters\\' Association, Santhanpara\",268,47631.6,46083.2,1444,1239.17\\r\\n1070,4-Sep-18,THE CARDAMOM PLANTERS MARKETING CO-OPERATIVE SOCIETY LIMITED,598,153896,153896,1560,1249.46\\r\\n1071,3-Sep-18,Green House Cardamom Mktg.India Pvt. Ltd,409,72482.6,71928.2,1510,1240.48\\r\\n1072,1-Sep-18,\"South Indian Green Cardamom Company Ltd, Kochi\",571,135746,135746,1526,1252.9\\r\\n1073,31-Aug-18,\"Spice More Trading Company, Kumily\",493,102818,102296,1494,1202.26\\r\\n1074,30-Aug-18,SUGANDHAGIRI SPICES PROMOTERS&TRADERS Pvt Ltd,505,102593,100385,1512,1222.99\\r\\n1075,29-Aug-18,VANDANMEDU GREEN GOLD CARDAMOM PRODUCER CoLtd,472,118716,118716,1578,1307.42\\r\\n1076,28-Aug-18,IDUKKI Dist.TRADITIONAL CARDAMOM PRODUCER COMPANY Ltd,403,82189.5,82189.5,1582,1267.59\\r\\n1077,27-Aug-18,\"The Kerala Cardamom Processing and Marketing Company Limited, Thekkady\",540,126310,126310,1603,1197.81\\r\\n1078,24-Aug-18,CARDAMOM GROWERSFOREVER PRIVATE LIMITED,582,115472,111320,1416.5,1151.82\\r\\n1079,23-Aug-18,\"Mas Enterprises, Vandanmettu\",635,141794,140652,1609,1168.4\\r\\n1080,20-Aug-18,\"Header Systems (India) Limited, Nedumkandam\",633,137702,137702,1499,1220.02\\r\\n1081,18-Aug-18,\"Cardamom Planters\\' Association, Santhanpara\",262,39159,39159,1541,1266.55\\r\\n1082,17-Aug-18,\"The Kerala Cardamom Processing and Marketing Company Limited, Thekkady\",490,102797,102215,1597,1244.25\\r\\n1083,16-Aug-18,Green House Cardamom Mktg.India Pvt. Ltd,410,63960.4,63960.4,1524,1212.83\\r\\n1084,14-Aug-18,\"South Indian Green Cardamom Company Ltd, Kochi\",503,110387,110387,1423,1106.87\\r\\n1085,13-Aug-18,\"Spice More Trading Company, Kumily\",293,51025.8,51025.8,1470,1074.69\\r\\n1086,11-Aug-18,SUGANDHAGIRI SPICES PROMOTERS&TRADERS Pvt Ltd,317,58102.2,56178,1309,1025.46\\r\\n1087,10-Aug-18,VANDANMEDU GREEN GOLD CARDAMOM PRODUCER CoLtd,271,59257.9,59257.9,1318,1020.54\\r\\n1088,9-Aug-18,IDUKKI Dist.TRADITIONAL CARDAMOM PRODUCER COMPANY Ltd,287,54451.6,54142,1341,982.09\\r\\n1089,7-Aug-18,CARDAMOM GROWERSFOREVER PRIVATE LIMITED,552,94270.5,89277.2,1260,949.04\\r\\n1090,6-Aug-18,\"Mas Enterprises, Vandanmettu\",459,81280.9,79654.1,1368,980.73\\r\\n1091,3-Aug-18,\"Header Systems (India) Limited, Nedumkandam\",490,96048.6,90200.1,1315,962.79\\r\\n1092,2-Aug-18,\"Cardamom Planters\\' Association, Santhanpara\",270,39102.8,36434.2,1265,963.84\\r\\n1093,1-Aug-18,THE CARDAMOM PLANTERS MARKETING CO-OPERATIVE SOCIETY LIMITED,514,111188,107478,1353,985.52\\r\\n1094,31-Jul-18,Green House Cardamom Mktg.India Pvt. Ltd,413,61595.6,57355.6,1305,1000.37\\r\\n1095,30-Jul-18,\"South Indian Green Cardamom Company Ltd, Kochi\",540,116314,113910,1433,1039.21\\r\\n1096,28-Jul-18,\"Spice More Trading Company, Kumily\",298,50529.6,50529.6,1352,1070.68\\r\\n1097,27-Jul-18,VANDANMEDU GREEN GOLD CARDAMOM PRODUCER CoLtd,330,84965.3,84361.1,1450,1137.3\\r\\n1098,26-Jul-18,SUGANDHAGIRI SPICES PROMOTERS&TRADERS Pvt Ltd,328,55112.4,54980,1374,1050.29\\r\\n1099,25-Jul-18,\"The Kerala Cardamom Processing and Marketing Company Limited, Thekkady\",536,115884,113131,1324,1052.86\\r\\n1100,24-Jul-18,IDUKKI Dist.TRADITIONAL CARDAMOM PRODUCER COMPANY Ltd,336,61411.3,60693.2,1466,1090.03\\r\\n1101,23-Jul-18,\"Mas Enterprises, Vandanmettu\",471,88247.4,88247.4,1380,1084.6\\r\\n1102,21-Jul-18,CARDAMOM GROWERSFOREVER PRIVATE LIMITED,387,57760.1,57142.4,1402,1054.69\\r\\n1103,20-Jul-18,\"Header Systems (India) Limited, Nedumkandam\",469,93423,93423,1392,1063.03\\r\\n1104,19-Jul-18,\"Cardamom Planters\\' Association, Santhanpara\",214,29747.2,27451.9,1330,1043.98\\r\\n1105,18-Jul-18,THE CARDAMOM PLANTERS MARKETING CO-OPERATIVE SOCIETY LIMITED,378,73345.9,73345.9,1353,1033.65\\r\\n1106,17-Jul-18,Green House Cardamom Mktg.India Pvt. Ltd,371,54858.7,54641.4,1293,974.56\\r\\n1107,16-Jul-18,\"South Indian Green Cardamom Company Ltd, Kochi\",452,92538.9,91968.8,1338,996.18\\r\\n1108,14-Jul-18,\"Spice More Trading Company, Kumily\",312,53699.8,53699.8,1613,992.06\\r\\n1109,13-Jul-18,VANDANMEDU GREEN GOLD CARDAMOM PRODUCER CoLtd,266,63321.8,63321.8,1377,1021.78\\r\\n1110,12-Jul-18,SUGANDHAGIRI SPICES PROMOTERS&TRADERS Pvt Ltd,245,42209.1,42209.1,1293,966.38\\r\\n1111,11-Jul-18,\"The Kerala Cardamom Processing and Marketing Company Limited, Thekkady\",508,115808,114441,1296,928.67\\r\\n1112,10-Jul-18,IDUKKI Dist.TRADITIONAL CARDAMOM PRODUCER COMPANY Ltd,336,60648.7,59141.8,1330,935.26\\r\\n1113,9-Jul-18,\"Mas Enterprises, Vandanmettu\",452,84917.2,81284.8,1308,976.23\\r\\n1114,6-Jul-18,\"Header Systems (India) Limited, Nedumkandam\",404,80033.6,79839.6,1316,1010.36\\r\\n1115,5-Jul-18,\"Cardamom Planters\\' Association, Santhanpara\",159,21928.9,21524.8,1256,982.51\\r\\n1116,4-Jul-18,\"The Cardamom Processing & Marketing Co-Operative Society Ltd, Kumily\",347,75703.3,75703.3,1388,989.97\\r\\n1117,3-Jul-18,Green House Cardamom Mktg.India Pvt. Ltd,321,44100.2,43154.3,1239,951.24\\r\\n1118,2-Jul-18,\"South Indian Green Cardamom Company Ltd, Kochi\",444,91794.9,91607.6,1288,982.24\\r\\n1119,30-Jun-18,\"Mas Enterprises, Vandanmettu\",424,80306.5,80121.3,1308,1002.08\\r\\n1120,29-Jun-18,CARDAMOM GROWERSFOREVER PRIVATE LIMITED,342,51649.8,51098.5,1302,951.3\\r\\n1121,28-Jun-18,Green House Cardamom Mktg.India Pvt. Ltd,264,35411.9,35344.8,1236,942.02\\r\\n1122,27-Jun-18,\"The Kerala Cardamom Processing and Marketing Company Limited, Thekkady\",413,94091.6,93338.9,1263,942.77\\r\\n1123,26-Jun-18,VANDANMEDU GREEN GOLD CARDAMOM PRODUCER CoLtd,389,96050.6,95660.6,1382,975.77\\r\\n1124,25-Jun-18,SUGANDHAGIRI SPICES PROMOTERS&TRADERS Pvt Ltd,362,66084.1,61920.6,1226,912.31\\r\\n1125,23-Jun-18,\"The Cardamom Processing & Marketing Co-Operative Society Ltd, Kumily\",453,106950,106175,1234,904.52\\r\\n1126,21-Jun-18,\"Header Systems (India) Limited, Nedumkandam\",465,103909,103177,1252,963.96\\r\\n1127,20-Jun-18,IDUKKI Dist.TRADITIONAL CARDAMOM PRODUCER COMPANY Ltd,273,49195.8,47837.5,1255,978.93\\r\\n1128,19-Jun-18,\"South Indian Green Cardamom Company Ltd, Kochi\",415,91215.2,91215.2,1308,1001.42\\r\\n1129,18-Jun-18,\"Cardamom Planters\\' Association, Santhanpara\",113,15124.5,12079.1,1298,972.26\\r\\n1130,15-Jun-18,CARDAMOM GROWERSFOREVER PRIVATE LIMITED,305,44563.2,43488.6,1231,949.92\\r\\n1131,14-Jun-18,Green House Cardamom Mktg.India Pvt. Ltd,291,37537.2,37157,1341,917.38\\r\\n1132,13-Jun-18,\"Mas Enterprises, Vandanmettu\",247,45627.5,45242.8,1504,956.64\\r\\n1133,12-Jun-18,\"The Kerala Cardamom Processing and Marketing Company Limited, Thekkady\",362,76403.5,76335.8,1272,925.4\\r\\n1134,11-Jun-18,SUGANDHAGIRI SPICES PROMOTERS&TRADERS Pvt Ltd,305,61216.9,60727.6,1220,887.66\\r\\n1135,9-Jun-18,\"The Cardamom Processing & Marketing Co-Operative Society Ltd, Kumily\",427,100944,100944,1204,855.97\\r\\n1136,8-Jun-18,VANDANMEDU GREEN GOLD CARDAMOM PRODUCER CoLtd,378,85052,84145.6,1242,904.87\\r\\n1137,7-Jun-18,\"Header Systems (India) Limited, Nedumkandam\",428,95035.7,94582.7,1252,847.54\\r\\n1138,6-Jun-18,IDUKKI Dist.TRADITIONAL CARDAMOM PRODUCER COMPANY Ltd,363,75495,74690.7,1250,867.26\\r\\n1139,5-Jun-18,\"South Indian Green Cardamom Company Ltd, Kochi\",530,121986,117463,1254,864.95\\r\\n1140,4-Jun-18,\"Cardamom Planters\\' Association, Santhanpara\",177,27599.5,24441.8,1127,785.05\\r\\n1141,2-Jun-18,\"Mas Enterprises, Vandanmettu\",402,82175,81887.6,1247,832.17\\r\\n1142,1-Jun-18,CARDAMOM GROWERSFOREVER PRIVATE LIMITED,345,55431.5,53573.1,1273,828.24\\r\\n1143,31-May-18,Green House Cardamom Mktg.India Pvt. Ltd,261,40078.6,37603.8,1212,798.32\\r\\n1144,29-May-18,\"The Kerala Cardamom Processing and Marketing Company Limited, Thekkady\",400,89182.5,88711.3,1273,828.79\\r\\n1145,28-May-18,SUGANDHAGIRI SPICES PROMOTERS&TRADERS Pvt Ltd,328,61647.3,60747.1,1162,831.4\\r\\n1146,26-May-18,\"The Cardamom Processing & Marketing Co-Operative Society Ltd, Kumily\",415,93321.6,92894.9,1271,839.82\\r\\n1147,25-May-18,VANDANMEDU GREEN GOLD CARDAMOM PRODUCER CoLtd,321,70226.4,70226.4,1266,905.87\\r\\n1148,24-May-18,\"Header Systems (India) Limited, Nedumkandam\",306,62764.9,62183,1164,830.51\\r\\n1149,23-May-18,IDUKKI Dist.TRADITIONAL CARDAMOM PRODUCER COMPANY Ltd,296,56764.7,56549.7,1257,851.58\\r\\n1150,22-May-18,\"South Indian Green Cardamom Company Ltd, Kochi\",377,81361.4,80924.7,1228,856.63\\r\\n1151,21-May-18,\"Cardamom Planters\\' Association, Santhanpara\",118,17575.3,13500.6,1044,764.08\\r\\n1152,19-May-18,\"Mas Enterprises, Vandanmettu\",269,59280.9,55763.2,1182,766.96\\r\\n1153,19-May-18,Green House Cardamom Mktg.India Pvt. Ltd,158,23325.2,21444.4,1096,743.69\\r\\n1154,18-May-18,CARDAMOM GROWERSFOREVER PRIVATE LIMITED,189,27209,24582,1168,817.27\\r\\n1155,17-May-18,\"The Cardamom Processing & Marketing Co-Operative Society Ltd, Kumily\",265,56913.9,55612.2,1228,800.78\\r\\n1156,17-May-18,\"The Kerala Cardamom Processing and Marketing Company Limited, Thekkady\",195,38147.3,37284,1225,829.39\\r\\n1157,16-May-18,VANDANMEDU GREEN GOLD CARDAMOM PRODUCER CoLtd,246,52322.5,42349.5,1224,840.96\\r\\n1158,16-May-18,SUGANDHAGIRI SPICES PROMOTERS&TRADERS Pvt Ltd,149,28282.5,27226.6,1248,802.56\\r\\n1159,15-May-18,\"South Indian Green Cardamom Company Ltd, Kochi\",361,88823.5,82911.7,1244,823.64\\r\\n1160,15-May-18,\"Header Systems (India) Limited, Nedumkandam\",252,48374.1,43375.7,1113,770.19\\r\\n1161,14-May-18,\"Cardamom Planters\\' Association, Santhanpara\",138,19916.9,15982.7,1020,762.73\\r\\n1162,14-May-18,IDUKKI Dist.TRADITIONAL CARDAMOM PRODUCER COMPANY Ltd,246,47720.4,46401.9,1254,853.78\\r\\n1163,12-May-18,\"Mas Enterprises, Vandanmettu\",249,57577.7,57577.7,1187,844.16\\r\\n1164,12-May-18,Green House Cardamom Mktg.India Pvt. Ltd,178,25938.3,24544.2,1122,812.63\\r\\n1165,11-May-18,CARDAMOM GROWERSFOREVER PRIVATE LIMITED,198,26990.9,26069.9,1196,816.33\\r\\n1166,10-May-18,\"The Cardamom Processing & Marketing Co-Operative Society Ltd, Kumily\",281,63299.7,62475.6,1288,822.89\\r\\n1167,10-May-18,\"The Kerala Cardamom Processing and Marketing Company Limited, Thekkady\",195,40976.8,40820.2,1231,800.64\\r\\n1168,9-May-18,VANDANMEDU GREEN GOLD CARDAMOM PRODUCER CoLtd,164,34721.9,34410.3,1200,861.29\\r\\n1169,9-May-18,SUGANDHAGIRI SPICES PROMOTERS&TRADERS Pvt Ltd,198,34233.3,32876.6,1248,864.8\\r\\n1170,8-May-18,\"South Indian Green Cardamom Company Ltd, Kochi\",327,75272.8,74896.9,1247,879.72\\r\\n1171,8-May-18,\"Header Systems (India) Limited, Nedumkandam\",219,40584.7,39960.2,1155,833.36\\r\\n1172,7-May-18,\"Cardamom Planters\\' Association, Santhanpara\",89,12450.8,8952.2,1049.5,775.94\\r\\n1173,7-May-18,IDUKKI Dist.TRADITIONAL CARDAMOM PRODUCER COMPANY Ltd,183,36667.8,36667.8,1194,846.08\\r\\n1174,5-May-18,\"Mas Enterprises, Vandanmettu\",233,50739.7,50684.5,1196,829.24\\r\\n1175,5-May-18,Green House Cardamom Mktg.India Pvt. Ltd,91,12546.9,11660.7,1121,800.83\\r\\n1176,4-May-18,CARDAMOM GROWERSFOREVER PRIVATE LIMITED,91,13363.9,12902.5,1179,805.2\\r\\n1177,3-May-18,\"The Cardamom Processing & Marketing Co-Operative Society Ltd, Kumily\",253,62840.9,61162.7,1204,821.93\\r\\n1178,3-May-18,\"The Kerala Cardamom Processing and Marketing Company Limited, Thekkady\",218,45108.4,45108.4,1197,774.03\\r\\n1179,2-May-18,VANDANMEDU GREEN GOLD CARDAMOM PRODUCER CoLtd,172,33390.8,31412,1212,804.65\\r\\n1180,2-May-18,SUGANDHAGIRI SPICES PROMOTERS&TRADERS Pvt Ltd,123,23142.6,20960.4,1052,753.54\\r\\n1181,1-May-18,\"South Indian Green Cardamom Company Ltd, Kochi\",354,87799.6,79969.2,1247,850.55\\r\\n1182,1-May-18,\"Header Systems (India) Limited, Nedumkandam\",246,48997.7,45103,1249,807.79\\r\\n1183,30-Apr-18,\"Cardamom Planters\\' Association, Santhanpara\",143,20466.5,13346.7,1122,767.99\\r\\n1184,30-Apr-18,IDUKKI Dist.TRADITIONAL CARDAMOM PRODUCER COMPANY Ltd,309,65741.4,65060.5,1235,850.28\\r\\n1185,28-Apr-18,\"Mas Enterprises, Vandanmettu\",346,83762.6,75885.9,1251,841.94\\r\\n1186,28-Apr-18,Green House Cardamom Mktg.India Pvt. Ltd,182,28384,22928.7,1188,822.95\\r\\n1187,27-Apr-18,CARDAMOM GROWERSFOREVER PRIVATE LIMITED,204,28589.2,27308.3,1253,907.1\\r\\n1188,26-Apr-18,\"The Cardamom Processing & Marketing Co-Operative Society Ltd, Kumily\",297,73700.5,69042.9,1288,900.48\\r\\n1189,26-Apr-18,\"The Kerala Cardamom Processing and Marketing Company Limited, Thekkady\",268,58272.5,56963.9,1214,870.31\\r\\n1190,25-Apr-18,VANDANMEDU GREEN GOLD CARDAMOM PRODUCER CoLtd,202,41924.8,41353.8,1257,919.19\\r\\n1191,25-Apr-18,SUGANDHAGIRI SPICES PROMOTERS&TRADERS Pvt Ltd,181,31084.2,28342,1236,882.05\\r\\n1192,24-Apr-18,\"South Indian Green Cardamom Company Ltd, Kochi\",353,83247.8,82071.3,1278,925.3\\r\\n1193,24-Apr-18,\"Header Systems (India) Limited, Nedumkandam\",254,51441.8,50509.7,1212,897.15\\r\\n1194,23-Apr-18,\"Cardamom Planters\\' Association, Santhanpara\",133,18725.3,14662.5,1108,857.28\\r\\n1195,23-Apr-18,IDUKKI Dist.TRADITIONAL CARDAMOM PRODUCER COMPANY Ltd,272,51101.2,50600.2,1308,877.85\\r\\n1196,21-Apr-18,\"Mas Enterprises, Vandanmettu\",329,78676.8,78076.3,1326,880.82\\r\\n1197,21-Apr-18,Green House Cardamom Mktg.India Pvt. Ltd,145,20895.8,18684.1,1192,882.51\\r\\n1198,20-Apr-18,CARDAMOM GROWERSFOREVER PRIVATE LIMITED,118,19882.4,18614.9,1240,945.59\\r\\n1199,19-Apr-18,\"The Cardamom Processing & Marketing Co-Operative Society Ltd, Kumily\",338,83582.2,82539,1236,889.45\\r\\n1200,19-Apr-18,\"The Kerala Cardamom Processing and Marketing Company Limited, Thekkady\",279,63032.7,61847.7,1227,863.45\\r\\n1201,18-Apr-18,VANDANMEDU GREEN GOLD CARDAMOM PRODUCER CoLtd,257,52980.7,49518.2,1265,903.73\\r\\n1202,18-Apr-18,SUGANDHAGIRI SPICES PROMOTERS&TRADERS Pvt Ltd,179,33180.3,31426.3,1162,875.95\\r\\n1203,17-Apr-18,\"South Indian Green Cardamom Company Ltd, Kochi\",383,96716.3,89988.6,1253,922.72\\r\\n1204,17-Apr-18,\"Header Systems (India) Limited, Nedumkandam\",305,58950,54256.9,1230,870.94\\r\\n1205,16-Apr-18,\"Cardamom Planters\\' Association, Santhanpara\",177,25425.8,21128.4,1148.5,890.91\\r\\n1206,16-Apr-18,IDUKKI Dist.TRADITIONAL CARDAMOM PRODUCER COMPANY Ltd,318,66371.5,65815.9,1284,921.48\\r\\n1207,12-Apr-18,\"The Cardamom Processing & Marketing Co-Operative Society Ltd, Kumily\",356,87588.5,81666.4,1295,942.13\\r\\n1208,12-Apr-18,\"The Kerala Cardamom Processing and Marketing Company Limited, Thekkady\",285,64011.2,64011.2,1235,920.1\\r\\n1209,11-Apr-18,VANDANMEDU GREEN GOLD CARDAMOM PRODUCER CoLtd,289,61271,58869.9,1269,955.09\\r\\n1210,11-Apr-18,SUGANDHAGIRI SPICES PROMOTERS&TRADERS Pvt Ltd,177,35109.9,32532,1224,931.24\\r\\n1211,10-Apr-18,\"South Indian Green Cardamom Company Ltd, Kochi\",419,100018,81322.8,1305,962.07\\r\\n1212,10-Apr-18,\"Header Systems (India) Limited, Nedumkandam\",341,72975.1,67039.6,1249,922.23\\r\\n1213,9-Apr-18,\"Cardamom Planters\\' Association, Santhanpara\",192,27101.4,19655.7,1166,919.07\\r\\n1214,9-Apr-18,IDUKKI Dist.TRADITIONAL CARDAMOM PRODUCER COMPANY Ltd,322,63982.3,63982.3,1300,942.93\\r\\n1215,7-Apr-18,\"Mas Enterprises, Vandanmettu\",436,86909.6,77125,1557,954.03\\r\\n1216,7-Apr-18,Green House Cardamom Mktg.India Pvt. Ltd,133,19238.8,17215.8,1219,933.28\\r\\n1217,6-Apr-18,STATE TRADING CORPORATION,25,4048.6,0,0,0\\r\\n1218,6-Apr-18,CARDAMOM GROWERSFOREVER PRIVATE LIMITED,269,41363.7,38784.5,1309.5,944.9\\r\\n1219,5-Apr-18,\"The Cardamom Processing & Marketing Co-Operative Society Ltd, Kumily\",309,67262.8,65616.5,1315,986.65\\r\\n1220,5-Apr-18,\"The Kerala Cardamom Processing and Marketing Company Limited, Thekkady\",270,59415.6,59115.8,1292,951.65\\r\\n1221,4-Apr-18,VANDANMEDU GREEN GOLD CARDAMOM PRODUCER CoLtd,236,47057.9,47057.9,1234,985.06\\r\\n1222,4-Apr-18,SUGANDHAGIRI SPICES PROMOTERS&TRADERS Pvt Ltd,152,25305.3,23120.2,1212,984.11\\r\\n1223,3-Apr-18,\"South Indian Green Cardamom Company Ltd, Kochi\",232,48333.2,48333.2,1523,979.89\\r\\n1224,3-Apr-18,\"Header Systems (India) Limited, Nedumkandam\",162,29377.5,29377.5,1261,944.38\\r\\n1225,2-Apr-18,\"Cardamom Planters\\' Association, Santhanpara\",125,18000.5,13290.9,1232,923.98\\r\\n1226,2-Apr-18,IDUKKI Dist.TRADITIONAL CARDAMOM PRODUCER COMPANY Ltd,144,22447.2,22447.2,1329,994.97\\r\\n1227,29-Mar-18,\"The Cardamom Processing & Marketing Co-Operative Society Ltd, Kumily\",236,50470.5,49938.3,1256,959.94\\r\\n1228,29-Mar-18,\"The Kerala Cardamom Processing and Marketing Company Limited, Thekkady\",183,41563.3,41323.3,1223,918.23\\r\\n1229,27-Mar-18,\"South Indian Green Cardamom Company Ltd, Kochi\",347,73377.2,69101.8,1247,940.68\\r\\n1230,27-Mar-18,\"Header Systems (India) Limited, Nedumkandam\",295,62415.7,58299.6,1225,916.23\\r\\n1231,26-Mar-18,\"Cardamom Planters\\' Association, Santhanpara\",123,20654.6,16511.9,1185,882.98\\r\\n1232,26-Mar-18,IDUKKI Dist.TRADITIONAL CARDAMOM PRODUCER COMPANY Ltd,197,31927.3,31927.3,1210,915.21\\r\\n1233,24-Mar-18,\"Mas Enterprises, Vandanmettu\",400,80739.5,76366.8,1206,916.95\\r\\n1234,24-Mar-18,Green House Cardamom Mktg.India Pvt. Ltd,115,14515.7,12246.3,1210,906.99\\r\\n1235,23-Mar-18,CARDAMOM GROWERSFOREVER PRIVATE LIMITED,226,35700.1,27898,1204,919.42\\r\\n1236,22-Mar-18,\"The Cardamom Processing & Marketing Co-Operative Society Ltd, Kumily\",340,73982.8,73136.1,1222,970.34\\r\\n1237,22-Mar-18,\"The Kerala Cardamom Processing and Marketing Company Limited, Thekkady\",231,48691.4,48434.2,1286,938.4\\r\\n1238,21-Mar-18,VANDANMEDU GREEN GOLD CARDAMOM PRODUCER CoLtd,164,30668,30373.3,1273,955.45\\r\\n1239,21-Mar-18,SUGANDHAGIRI SPICES PROMOTERS&TRADERS Pvt Ltd,130,24262.2,23906.8,1264,946.73\\r\\n1240,20-Mar-18,\"South Indian Green Cardamom Company Ltd, Kochi\",314,68954,66578.9,1272,968.76\\r\\n1241,20-Mar-18,\"Header Systems (India) Limited, Nedumkandam\",266,54048.9,50827.7,1253,957.74\\r\\n1242,19-Mar-18,\"Cardamom Planters\\' Association, Santhanpara\",137,19073.6,14968.1,1067,908.49\\r\\n1243,19-Mar-18,IDUKKI Dist.TRADITIONAL CARDAMOM PRODUCER COMPANY Ltd,193,31715.7,31715.7,1206,963.31\\r\\n1244,17-Mar-18,\"Mas Enterprises, Vandanmettu\",391,80904.1,76965.1,1230,934.84\\r\\n1245,17-Mar-18,Green House Cardamom Mktg.India Pvt. Ltd,121,15339.4,13175.4,1163,923.14\\r\\n1246,16-Mar-18,CARDAMOM GROWERSFOREVER PRIVATE LIMITED,154,24688.9,24136.9,1214,963.68\\r\\n1247,15-Mar-18,\"The Cardamom Processing & Marketing Co-Operative Society Ltd, Kumily\",318,72866,71683.6,1254,963.79\\r\\n1248,15-Mar-18,\"The Kerala Cardamom Processing and Marketing Company Limited, Thekkady\",232,49418,49418,1248,940.95\\r\\n1249,14-Mar-18,VANDANMEDU GREEN GOLD CARDAMOM PRODUCER CoLtd,217,40461.1,39262.3,1245,949.77\\r\\n1250,14-Mar-18,SUGANDHAGIRI SPICES PROMOTERS&TRADERS Pvt Ltd,148,28106.1,27099.3,1220,975.53\\r\\n1251,13-Mar-18,\"South Indian Green Cardamom Company Ltd, Kochi\",394,92383.6,90221.9,1247,955.46\\r\\n1252,13-Mar-18,\"Header Systems (India) Limited, Nedumkandam\",328,68394.5,66204.8,1196,950.21\\r\\n1253,12-Mar-18,\"Cardamom Planters\\' Association, Santhanpara\",176,26386.1,18769.5,1155,929.41\\r\\n1254,12-Mar-18,IDUKKI Dist.TRADITIONAL CARDAMOM PRODUCER COMPANY Ltd,242,45299.1,43162.9,1170.5,933.79\\r\\n1255,10-Mar-18,\"Mas Enterprises, Vandanmettu\",454,95996.8,83273,1297,963.64\\r\\n1256,10-Mar-18,Green House Cardamom Mktg.India Pvt. Ltd,224,31671.9,25928,1088,932.9\\r\\n1257,9-Mar-18,CARDAMOM GROWERSFOREVER PRIVATE LIMITED,247,40313.5,36182.2,1235,976.16\\r\\n1258,8-Mar-18,\"The Cardamom Processing & Marketing Co-Operative Society Ltd, Kumily\",344,75025.4,71843.4,1282,979.31\\r\\n1259,8-Mar-18,\"The Kerala Cardamom Processing and Marketing Company Limited, Thekkady\",246,52136.2,52136.2,1245,956.98\\r\\n1260,7-Mar-18,VANDANMEDU GREEN GOLD CARDAMOM PRODUCER CoLtd,154,31794,31082.4,1252,1009.2\\r\\n1261,7-Mar-18,SUGANDHAGIRI SPICES PROMOTERS&TRADERS Pvt Ltd,127,25117.2,24713.6,1210,992.34\\r\\n1262,6-Mar-18,\"South Indian Green Cardamom Company Ltd, Kochi\",316,65992.2,65992.2,1280,996.39\\r\\n1263,6-Mar-18,\"Header Systems (India) Limited, Nedumkandam\",264,51274.7,51274.7,1258,980.76\\r\\n1264,5-Mar-18,\"Cardamom Planters\\' Association, Santhanpara\",119,18800.6,11022.5,1177,935.92\\r\\n1265,5-Mar-18,IDUKKI Dist.TRADITIONAL CARDAMOM PRODUCER COMPANY Ltd,181,33652.3,29439.9,1248,981.99\\r\\n1266,3-Mar-18,\"Mas Enterprises, Vandanmettu\",388,78981.5,77397.7,1244.5,963.95\\r\\n1267,3-Mar-18,Green House Cardamom Mktg.India Pvt. Ltd,125,17317.4,15166.9,1121.5,935.93\\r\\n1268,2-Mar-18,CARDAMOM GROWERSFOREVER PRIVATE LIMITED,111,17010,16320.5,1229,942.68\\r\\n1269,1-Mar-18,\"The Cardamom Processing & Marketing Co-Operative Society Ltd, Kumily\",346,79377.2,76882.9,1212,951.4\\r\\n1270,1-Mar-18,\"The Kerala Cardamom Processing and Marketing Company Limited, Thekkady\",287,64201.6,62290.8,1162,932.22\\r\\n1271,28-Feb-18,VANDANMEDU GREEN GOLD CARDAMOM PRODUCER CoLtd,253,55219,52192.2,1178,948.76\\r\\n1272,28-Feb-18,SUGANDHAGIRI SPICES PROMOTERS&TRADERS Pvt Ltd,166,30254.4,27622.6,1144,938.29\\r\\n1273,27-Feb-18,\"South Indian Green Cardamom Company Ltd, Kochi\",409,103280,94430.4,1260,968.46\\r\\n1274,27-Feb-18,\"Header Systems (India) Limited, Nedumkandam\",324,70392.1,56141.2,1227,937.02\\r\\n1275,26-Feb-18,\"Cardamom Planters\\' Association, Santhanpara\",190,30647,20995.8,1103,931.23\\r\\n1276,26-Feb-18,IDUKKI Dist.TRADITIONAL CARDAMOM PRODUCER COMPANY Ltd,237,47347.9,47180.4,1274,969.07\\r\\n1277,24-Feb-18,\"Mas Enterprises, Vandanmettu\",452,103311,100802,1304,980.11\\r\\n1278,24-Feb-18,Green House Cardamom Mktg.India Pvt. Ltd,196,27476.4,23118.5,1174,959.35\\r\\n1279,23-Feb-18,STATE TRADING CORPORATION,98,16141.9,13964.5,1216,973.76\\r\\n1280,23-Feb-18,CARDAMOM GROWERSFOREVER PRIVATE LIMITED,235,36376.3,33094.1,1230,978.71\\r\\n1281,22-Feb-18,THE CARDAMOM PLANTERS MARKETING CO-OPERATIVE SOCIETY LIMITED,383,88716.5,85169.4,1256,990.81\\r\\n1282,22-Feb-18,\"The Kerala Cardamom Processing and Marketing Company Limited, Thekkady\",279,62517.7,62383.4,1190,948.95\\r\\n1283,21-Feb-18,VANDANMEDU GREEN GOLD CARDAMOM PRODUCER CoLtd,257,56027.5,53796.5,1292,994.6\\r\\n1284,21-Feb-18,SUGANDHAGIRI SPICES PROMOTERS&TRADERS Pvt Ltd,203,41107.5,40806.2,1226,979.26\\r\\n1285,20-Feb-18,\"South Indian Green Cardamom Company Ltd, Kochi\",412,95491,93738.6,1282,995.35\\r\\n1286,20-Feb-18,\"Header Systems (India) Limited, Nedumkandam\",326,65194.3,63104.8,1282,988.83\\r\\n1287,19-Feb-18,\"Cardamom Planters\\' Association, Santhanpara\",147,21819.7,20006.8,1146,970.34\\r\\n1288,19-Feb-18,IDUKKI Dist.TRADITIONAL CARDAMOM PRODUCER COMPANY Ltd,203,38943,38943,1281,1000.57\\r\\n1289,17-Feb-18,\"Mas Enterprises, Vandanmettu\",402,81095.9,80570,1310,991.77\\r\\n1290,17-Feb-18,Green House Cardamom Mktg.India Pvt. Ltd,140,20029.7,16247.7,1213,976.69\\r\\n1291,16-Feb-18,STATE TRADING CORPORATION,86,14832.8,9440.1,1218,970.4\\r\\n1292,16-Feb-18,CARDAMOM GROWERSFOREVER PRIVATE LIMITED,163,25107.9,23832.4,1275.5,981.27\\r\\n1293,15-Feb-18,\"The Cardamom Processing & Marketing Co-Operative Society Ltd, Kumily\",339,76677.3,73713,1269,999.61\\r\\n1294,15-Feb-18,\"The Kerala Cardamom Processing and Marketing Company Limited, Thekkady\",264,62280.4,61916.6,1226,965.08\\r\\n1295,14-Feb-18,VANDANMEDU GREEN GOLD CARDAMOM PRODUCER CoLtd,262,57204.1,50693.6,1283,975.76\\r\\n1296,14-Feb-18,SUGANDHAGIRI SPICES PROMOTERS&TRADERS Pvt Ltd,170,32021.1,31551,1182,968.25\\r\\n1297,13-Feb-18,\"South Indian Green Cardamom Company Ltd, Kochi\",431,94410.4,85271.7,1243,1008.56\\r\\n1298,13-Feb-18,\"Header Systems (India) Limited, Nedumkandam\",306,61720.6,57462.8,1303,970.7\\r\\n1299,12-Feb-18,\"Cardamom Planters\\' Association, Santhanpara\",161,23717.3,20182,1208,971.84\\r\\n1300,12-Feb-18,IDUKKI Dist.TRADITIONAL CARDAMOM PRODUCER COMPANY Ltd,243,43917.5,43641.5,1274,971.12\\r\\n1301,10-Feb-18,Green House Cardamom Mktg.India Pvt. Ltd,205,28953.5,23740,1152,974.94\\r\\n1302,10-Feb-18,\"Mas Enterprises, Vandanmettu\",457,92155.1,88546.9,1340,990.28\\r\\n1303,9-Feb-18,STATE TRADING CORPORATION,108,18597.6,16817.5,1258,1005.73\\r\\n1304,9-Feb-18,CARDAMOM GROWERSFOREVER PRIVATE LIMITED,185,32155.7,30018,1246,979.21\\r\\n1305,8-Feb-18,THE CARDAMOM PLANTERS MARKETING CO-OPERATIVE SOCIETY LIMITED,289,65989.4,65764.1,1275,1020.49\\r\\n1306,8-Feb-18,\"The Kerala Cardamom Processing and Marketing Company Limited, Thekkady\",289,65286.9,64896.5,1225,974.26\\r\\n1307,7-Feb-18,VANDANMEDU GREEN GOLD CARDAMOM PRODUCER CoLtd,249,58282.4,56382.4,1266,999.19\\r\\n1308,7-Feb-18,SUGANDHAGIRI SPICES PROMOTERS&TRADERS Pvt Ltd,160,31295.7,28742,1220,990.93\\r\\n1309,6-Feb-18,\"South Indian Green Cardamom Company Ltd, Kochi\",443,99920.7,89558.3,1290,1010.16\\r\\n1310,6-Feb-18,\"Header Systems (India) Limited, Nedumkandam\",300,56398.1,55155.7,1370,996.31\\r\\n1311,5-Feb-18,\"Cardamom Planters\\' Association, Santhanpara\",148,21579.3,19063.8,1201,968.22\\r\\n1312,5-Feb-18,IDUKKI Dist.TRADITIONAL CARDAMOM PRODUCER COMPANY Ltd,270,49020.3,46792.6,1271,970.11\\r\\n1313,3-Feb-18,\"Mas Enterprises, Vandanmettu\",472,96574.3,88823.3,1326,1010.42\\r\\n1314,3-Feb-18,Green House Cardamom Mktg.India Pvt. Ltd,192,26517.1,22762.8,1178,986.13\\r\\n1315,2-Feb-18,STATE TRADING CORPORATION,132,21635.5,20187.6,1192,1001.66\\r\\n1316,2-Feb-18,CARDAMOM GROWERSFOREVER PRIVATE LIMITED,280,47351.4,45752.9,1316,1018.35\\r\\n1317,1-Feb-18,THE CARDAMOM PLANTERS MARKETING CO-OPERATIVE SOCIETY LIMITED,370,90355.2,88198.3,1284,1014.1\\r\\n1318,1-Feb-18,\"The Kerala Cardamom Processing and Marketing Company Limited, Thekkady\",309,71780.4,70946.2,1262,1016.38\\r\\n1319,31-Jan-18,VANDANMEDU GREEN GOLD CARDAMOM PRODUCER CoLtd,286,69182.6,68191,1338,1061.11\\r\\n1320,31-Jan-18,SUGANDHAGIRI SPICES PROMOTERS&TRADERS Pvt Ltd,207,36163.5,36163.5,1348,1064.44\\r\\n1321,30-Jan-18,\"South Indian Green Cardamom Company Ltd, Kochi\",386,90463.2,90463.2,1258,1031.36\\r\\n1322,30-Jan-18,\"Header Systems (India) Limited, Nedumkandam\",386,78808.9,75585.2,1426,1011.46\\r\\n1323,29-Jan-18,\"Cardamom Planters\\' Association, Santhanpara\",244,37982.3,35137.5,1196,969.95\\r\\n1324,29-Jan-18,IDUKKI Dist.TRADITIONAL CARDAMOM PRODUCER COMPANY Ltd,269,54398.9,52757.4,1261,1009.27\\r\\n1325,27-Jan-18,\"Mas Enterprises, Vandanmettu\",477,96364.9,93136.2,1416,985.11\\r\\n1326,27-Jan-18,Green House Cardamom Mktg.India Pvt. Ltd,238,34831,33087.8,1200,979.04\\r\\n1327,25-Jan-18,\"The Cardamom Processing & Marketing Co-Operative Society Ltd, Kumily\",289,66086.9,65705.9,1259,968.41\\r\\n1328,25-Jan-18,\"The Kerala Cardamom Processing and Marketing Company Limited, Thekkady\",258,59091.4,59091.4,1242,958.48\\r\\n1329,24-Jan-18,VANDANMEDU GREEN GOLD CARDAMOM PRODUCER CoLtd,267,62743.5,62743.5,1284,979.58\\r\\n1330,24-Jan-18,SUGANDHAGIRI SPICES PROMOTERS&TRADERS Pvt Ltd,197,35133.3,35133.3,1255,971.14\\r\\n1331,24-Jan-18,\"Header Systems (India) Limited, Nedumkandam\",294,57868.5,57514.3,1277,953.75\\r\\n1332,23-Jan-18,\"South Indian Green Cardamom Company Ltd, Kochi\",395,83416.6,80845.3,1310,976.59\\r\\n1333,22-Jan-18,\"Cardamom Planters\\' Association, Santhanpara\",210,33073.2,32044.8,1234,941.41\\r\\n1334,22-Jan-18,IDUKKI Dist.TRADITIONAL CARDAMOM PRODUCER COMPANY Ltd,252,49966.4,49138.2,1215,952.43\\r\\n1335,20-Jan-18,\"Mas Enterprises, Vandanmettu\",457,93595.4,89464,1209,967.79\\r\\n1336,20-Jan-18,Green House Cardamom Mktg.India Pvt. Ltd,180,26344.2,23100.1,1161.5,938.93\\r\\n1337,19-Jan-18,STATE TRADING CORPORATION,116,19523.6,18954.6,1122,939.76\\r\\n1338,19-Jan-18,CARDAMOM GROWERSFOREVER PRIVATE LIMITED,183,29187.9,27502.5,1263,958.41\\r\\n1339,18-Jan-18,THE CARDAMOM PLANTERS MARKETING CO-OPERATIVE SOCIETY LIMITED,284,66003.5,65547.8,1203,953.96\\r\\n1340,18-Jan-18,\"The Kerala Cardamom Processing and Marketing Company Limited, Thekkady\",231,53734.5,53734.5,1146,930.6\\r\\n1341,17-Jan-18,VANDANMEDU GREEN GOLD CARDAMOM PRODUCER CoLtd,250,53245.6,52529.5,1260,950.13\\r\\n1342,17-Jan-18,SUGANDHAGIRI SPICES PROMOTERS&TRADERS Pvt Ltd,162,29167.2,28978.4,1224,969.87\\r\\n1343,16-Jan-18,\"South Indian Green Cardamom Company Ltd, Kochi\",257,56142.4,54851.7,1197,959.04\\r\\n1344,16-Jan-18,\"Header Systems (India) Limited, Nedumkandam\",256,55072.6,45941,1199,936.91\\r\\n1345,15-Jan-18,\"Cardamom Planters\\' Association, Santhanpara\",129,19805.9,16768,1108,929.54\\r\\n1346,13-Jan-18,\"Mas Enterprises, Vandanmettu\",472,96862.6,95608.5,1308,966.48\\r\\n1347,13-Jan-18,Green House Cardamom Mktg.India Pvt. Ltd,172,25934.9,22474.6,1168,958.39\\r\\n1348,12-Jan-18,STATE TRADING CORPORATION,126,21497.3,20680.3,1246,954.3\\r\\n1349,12-Jan-18,CARDAMOM GROWERSFOREVER PRIVATE LIMITED,255,43626.8,39224,1234,945.63\\r\\n1350,11-Jan-18,THE CARDAMOM PLANTERS MARKETING CO-OPERATIVE SOCIETY LIMITED,394,98539.4,97382.3,1180,944.08\\r\\n1351,11-Jan-18,\"The Kerala Cardamom Processing and Marketing Company Limited, Thekkady\",350,89086.4,88373.5,1093,921.24\\r\\n1352,10-Jan-18,VANDANMEDU GREEN GOLD CARDAMOM PRODUCER CoLtd,314,81602.5,81348.7,1257,973.31\\r\\n1353,10-Jan-18,SUGANDHAGIRI SPICES PROMOTERS&TRADERS Pvt Ltd,238,42207.3,40756.7,1197,960.73\\r\\n1354,9-Jan-18,\"South Indian Green Cardamom Company Ltd, Kochi\",482,113203,112461,1249,960.62\\r\\n1355,9-Jan-18,\"Header Systems (India) Limited, Nedumkandam\",381,83433.4,79462.6,1241,957.31\\r\\n1356,8-Jan-18,\"Cardamom Planters\\' Association, Santhanpara\",275,44765.4,42294,1155,939.08\\r\\n1357,8-Jan-18,IDUKKI Dist.TRADITIONAL CARDAMOM PRODUCER COMPANY Ltd,332,73531.4,73172.5,1303,968.65\\r\\n1358,6-Jan-18,\"Mas Enterprises, Vandanmettu\",481,99356.5,97575.6,1235,979.8\\r\\n1359,6-Jan-18,Green House Cardamom Mktg.India Pvt. Ltd,209,34197.6,30644.3,1164,954.46\\r\\n1360,5-Jan-18,STATE TRADING CORPORATION,126,19338.8,18393.3,1201,955.99\\r\\n1361,5-Jan-18,CARDAMOM GROWERSFOREVER PRIVATE LIMITED,275,47545.6,46885.9,1217,963.48\\r\\n1362,4-Jan-18,THE CARDAMOM PLANTERS MARKETING CO-OPERATIVE SOCIETY LIMITED,376,94389.2,93199.6,1199,960.29\\r\\n1363,4-Jan-18,\"The Kerala Cardamom Processing and Marketing Company Limited, Thekkady\",371,89792.9,89281.1,1226,944.37\\r\\n1364,3-Jan-18,VANDANMEDU GREEN GOLD CARDAMOM PRODUCER CoLtd,304,73692.4,73180.9,1305,989.75\\r\\n1365,3-Jan-18,SUGANDHAGIRI SPICES PROMOTERS&TRADERS Pvt Ltd,231,43161.3,41837.3,1240,959.72\\r\\n1366,2-Jan-18,\"South Indian Green Cardamom Company Ltd, Kochi\",455,102814,102240,1314,966.7\\r\\n1367,2-Jan-18,\"Header Systems (India) Limited, Nedumkandam\",373,85704.9,83278,1181,940.2\\r\\n1368,1-Jan-18,\"Cardamom Planters\\' Association, Santhanpara\",254,42097.7,40544.2,1160,965.49\\r\\n1369,1-Jan-18,IDUKKI Dist.TRADITIONAL CARDAMOM PRODUCER COMPANY Ltd,267,57253,57199.6,1322,972.84\\r\\n1370,30-Dec-17,\"Mas Enterprises, Vandanmettu\",396,75983.3,74990.6,1234,956.24\\r\\n1371,30-Dec-17,Green House Cardamom Mktg.India Pvt. Ltd,177,28060.5,26801.8,1211,965.11\\r\\n1372,29-Dec-17,STATE TRADING CORPORATION,115,18918.1,18918.1,1182,945.94\\r\\n1373,29-Dec-17,CARDAMOM GROWERSFOREVER PRIVATE LIMITED,256,46480.8,46049.5,1206,940.38\\r\\n1374,28-Dec-17,THE CARDAMOM PLANTERS MARKETING CO-OPERATIVE SOCIETY LIMITED,329,80693,80423.8,1156,938.02\\r\\n1375,28-Dec-17,\"The Kerala Cardamom Processing and Marketing Company Limited, Thekkady\",325,78229.8,78229.8,1152,914.84\\r\\n1376,26-Dec-17,\"South Indian Green Cardamom Company Ltd, Kochi\",476,109943,109943,1273,945.68\\r\\n1377,26-Dec-17,\"Header Systems (India) Limited, Nedumkandam\",413,92037.5,87474.7,1205,923.47\\r\\n1378,23-Dec-17,\"Mas Enterprises, Vandanmettu\",515,111542,109352,1552,942.42\\r\\n1379,23-Dec-17,Green House Cardamom Mktg.India Pvt. Ltd,257,43098.4,32836.3,1143,934.12\\r\\n1380,22-Dec-17,STATE TRADING CORPORATION,119,21949.1,21589.8,1111,912.37\\r\\n1381,22-Dec-17,CARDAMOM GROWERSFOREVER PRIVATE LIMITED,365,68644.2,67909.6,1173,944.97\\r\\n1382,21-Dec-17,THE CARDAMOM PLANTERS MARKETING CO-OPERATIVE SOCIETY LIMITED,422,106979,106384,1190,940.61\\r\\n1383,21-Dec-17,\"The Kerala Cardamom Processing and Marketing Company Limited, Thekkady\",389,100034,100034,1167,927.45\\r\\n1384,20-Dec-17,VANDANMEDU GREEN GOLD CARDAMOM PRODUCER CoLtd,299,77015.3,76559.1,1183,954.77\\r\\n1385,20-Dec-17,SUGANDHAGIRI SPICES PROMOTERS&TRADERS Pvt Ltd,235,45217.8,43921.2,1118,949.3\\r\\n1386,19-Dec-17,\"South Indian Green Cardamom Company Ltd, Kochi\",504,120632,120162,1270,932.17\\r\\n1387,19-Dec-17,\"Header Systems (India) Limited, Nedumkandam\",424,99698.9,98542.3,1181,926.42\\r\\n1388,18-Dec-17,\"Cardamom Planters\\' Association, Santhanpara\",224,37379.3,37116,1134,929.02\\r\\n1389,18-Dec-17,IDUKKI Dist.TRADITIONAL CARDAMOM PRODUCER COMPANY Ltd,289,59965.7,59848.2,1186,942.22\\r\\n1390,16-Dec-17,\"Mas Enterprises, Vandanmettu\",483,100230,99535,1502,919.53\\r\\n1391,16-Dec-17,Green House Cardamom Mktg.India Pvt. Ltd,230,40370.9,40114.4,1103,924.28\\r\\n1392,15-Dec-17,STATE TRADING CORPORATION,142,25925.9,25771.7,1181,887.8\\r\\n1393,15-Dec-17,CARDAMOM GROWERSFOREVER PRIVATE LIMITED,295,54261.3,52490.2,1150,916.07\\r\\n1394,15-Dec-17,\"The Kerala Cardamom Processing and Marketing Company Limited, Thekkady\",356,85842.4,85842.4,1111,915.11\\r\\n1395,14-Dec-17,\"The Cardamom Processing & Marketing Co-Operative Society Ltd, Kumily\",354,82392.7,82392.7,1151,916.12\\r\\n1396,13-Dec-17,VANDANMEDU GREEN GOLD CARDAMOM PRODUCER CoLtd,244,50750.5,50164.7,1154,921.96\\r\\n1397,13-Dec-17,SUGANDHAGIRI SPICES PROMOTERS&TRADERS Pvt Ltd,169,31123.8,31123.8,1201,937.85\\r\\n1398,12-Dec-17,\"South Indian Green Cardamom Company Ltd, Kochi\",403,91545.4,91110.6,1230,900.54\\r\\n1399,12-Dec-17,\"Header Systems (India) Limited, Nedumkandam\",341,73185.9,73185.9,1133,881.92\\r\\n1400,11-Dec-17,\"Cardamom Planters\\' Association, Santhanpara\",166,25697.3,24398.4,1020,861.14\\r\\n1401,11-Dec-17,IDUKKI Dist.TRADITIONAL CARDAMOM PRODUCER COMPANY Ltd,231,45516.5,45516.5,1250,893.07\\r\\n1402,9-Dec-17,\"Mas Enterprises, Vandanmettu\",445,92459.4,91221.9,1134,870.12\\r\\n1403,9-Dec-17,Green House Cardamom Mktg.India Pvt. Ltd,157,25199.6,20528.8,1025,864.91\\r\\n1404,8-Dec-17,STATE TRADING CORPORATION,160,26290.9,23183.4,1094,857.11\\r\\n1405,8-Dec-17,CARDAMOM GROWERSFOREVER PRIVATE LIMITED,260,44532.9,41506.2,1114,864.51\\r\\n1406,7-Dec-17,\"The Cardamom Processing & Marketing Co-Operative Society Ltd, Kumily\",380,91413.3,90283.2,1100,883.17\\r\\n1407,7-Dec-17,\"The Kerala Cardamom Processing and Marketing Company Limited, Thekkady\",349,85184.1,84079.1,1209,874.16\\r\\n1408,6-Dec-17,VANDANMEDU GREEN GOLD CARDAMOM PRODUCER CoLtd,215,46502.8,46502.8,1099,899.1\\r\\n1409,6-Dec-17,SUGANDHAGIRI SPICES PROMOTERS&TRADERS Pvt Ltd,182,33603.9,33603.9,1040,892.3\\r\\n1410,5-Dec-17,\"South Indian Green Cardamom Company Ltd, Kochi\",259,51511.2,51511.2,1149,919\\r\\n1411,5-Dec-17,\"Header Systems (India) Limited, Nedumkandam\",239,48119.1,47778.1,1088,887.59\\r\\n1412,4-Dec-17,\"Cardamom Planters\\' Association, Santhanpara\",95,16595.3,16512.7,1044,865.58\\r\\n1413,4-Dec-17,IDUKKI Dist.TRADITIONAL CARDAMOM PRODUCER COMPANY Ltd,172,31405.1,31405.1,1095,896.46\\r\\n1414,2-Dec-17,\"Mas Enterprises, Vandanmettu\",333,66045.7,64269.7,1123,857.14\\r\\n1415,2-Dec-17,Green House Cardamom Mktg.India Pvt. Ltd,103,15427.8,13673.5,975,852.38\\r\\n1416,1-Dec-17,STATE TRADING CORPORATION,132,22930.5,21654.5,1206,851.42\\r\\n1417,1-Dec-17,CARDAMOM GROWERSFOREVER PRIVATE LIMITED,208,33598.4,32906.4,1026,843.45\\r\\n1418,30-Nov-17,\"The Cardamom Processing & Marketing Co-Operative Society Ltd, Kumily\",387,97655.9,96910.9,1060,857.52\\r\\n1419,30-Nov-17,\"The Kerala Cardamom Processing and Marketing Company Limited, Thekkady\",392,103131,102267,1092,843.54\\r\\n1420,29-Nov-17,VANDANMEDU GREEN GOLD CARDAMOM PRODUCER CoLtd,288,63061.8,62485.9,1064,865.76\\r\\n1421,29-Nov-17,SUGANDHAGIRI SPICES PROMOTERS&TRADERS Pvt Ltd,182,35106.3,34042.9,1050,870.72\\r\\n1422,28-Nov-17,\"South Indian Green Cardamom Company Ltd, Kochi\",467,107544,105524,1068,859.05\\r\\n1423,28-Nov-17,\"Header Systems (India) Limited, Nedumkandam\",358,78685.9,74683.3,1086,843.9\\r\\n1424,27-Nov-17,\"Cardamom Planters\\' Association, Santhanpara\",154,24638.9,23032.6,1014,867.54\\r\\n1425,25-Nov-17,\"Mas Enterprises, Vandanmettu\",438,90373.7,85733.4,1212,899.66\\r\\n1426,25-Nov-17,Green House Cardamom Mktg.India Pvt. Ltd,234,38060.5,36729,1063,898.26\\r\\n1427,24-Nov-17,STATE TRADING CORPORATION,145,24133.8,23949.1,1104,908.67\\r\\n1428,24-Nov-17,CARDAMOM GROWERSFOREVER PRIVATE LIMITED,360,60306.2,59839.1,1292.5,915.39\\r\\n1429,23-Nov-17,\"The Cardamom Processing & Marketing Co-Operative Society Ltd, Kumily\",366,90603.7,90400.9,1186,906.15\\r\\n1430,23-Nov-17,\"The Kerala Cardamom Processing and Marketing Company Limited, Thekkady\",376,95614.6,95286.5,1288,911.1\\r\\n1431,22-Nov-17,VANDANMEDU GREEN GOLD CARDAMOM PRODUCER CoLtd,304,66892.7,65911.6,1130,900.08\\r\\n1432,22-Nov-17,SUGANDHAGIRI SPICES PROMOTERS&TRADERS Pvt Ltd,191,35108.1,35108.1,1077,897.92\\r\\n1433,21-Nov-17,\"South Indian Green Cardamom Company Ltd, Kochi\",439,99599.7,99334.2,1148,896.32\\r\\n1434,21-Nov-17,\"Header Systems (India) Limited, Nedumkandam\",380,85000.1,80611.9,1095.5,871.47\\r\\n1435,20-Nov-17,\"Cardamom Planters\\' Association, Santhanpara\",151,24582.4,24235.4,984,845.78\\r\\n1436,20-Nov-17,IDUKKI Dist.TRADITIONAL CARDAMOM PRODUCER COMPANY Ltd,313,63451.7,63451.7,1259,892.24\\r\\n1437,18-Nov-17,\"Mas Enterprises, Vandanmettu\",450,89467.7,88811,1138,905.69\\r\\n1438,18-Nov-17,Green House Cardamom Mktg.India Pvt. Ltd,202,31334.4,30848.3,1082,900.5\\r\\n1439,17-Nov-17,STATE TRADING CORPORATION,123,19621.6,19621.6,1078,908.48\\r\\n1440,17-Nov-17,CARDAMOM GROWERSFOREVER PRIVATE LIMITED,291,43996.3,43424.3,1114,914.87\\r\\n1441,16-Nov-17,\"The Cardamom Processing & Marketing Co-Operative Society Ltd, Kumily\",324,79859.8,79859.8,1079,896.02\\r\\n1442,16-Nov-17,\"The Kerala Cardamom Processing and Marketing Company Limited, Thekkady\",345,80914.4,80914.4,1079,889.56\\r\\n1443,15-Nov-17,VANDANMEDU GREEN GOLD CARDAMOM PRODUCER CoLtd,215,43698.9,43698.9,1074,865.42\\r\\n1444,15-Nov-17,SUGANDHAGIRI SPICES PROMOTERS&TRADERS Pvt Ltd,180,30323.4,28167.1,1039,866.58\\r\\n1445,14-Nov-17,\"South Indian Green Cardamom Company Ltd, Kochi\",426,97337.3,96520.7,1060,848.36\\r\\n1446,14-Nov-17,\"Header Systems (India) Limited, Nedumkandam\",344,72333.9,69382.4,1026,818.15\\r\\n1447,13-Nov-17,\"Cardamom Planters\\' Association, Santhanpara\",172,27438.4,26617.2,974,809.8\\r\\n1448,13-Nov-17,IDUKKI Dist.TRADITIONAL CARDAMOM PRODUCER COMPANY Ltd,270,53498.7,53047.7,1076,845.84\\r\\n1449,11-Nov-17,\"Mas Enterprises, Vandanmettu\",414,77400.3,77267.2,1041,867.1\\r\\n1450,11-Nov-17,Green House Cardamom Mktg.India Pvt. Ltd,168,25472.1,25353.8,975,844.32\\r\\n1451,10-Nov-17,STATE TRADING CORPORATION,53,6655.2,6655.2,986,841.09\\r\\n1452,10-Nov-17,CARDAMOM GROWERSFOREVER PRIVATE LIMITED,190,29160.5,28969.7,1036,848.13\\r\\n1453,9-Nov-17,THE CARDAMOM PLANTERS MARKETING CO-OPERATIVE SOCIETY LIMITED,281,68317.5,68317.5,1044,835.13\\r\\n1454,9-Nov-17,\"The Kerala Cardamom Processing and Marketing Company Limited, Thekkady\",297,69014.7,68863.4,1021,824.56\\r\\n1455,8-Nov-17,VANDANMEDU GREEN GOLD CARDAMOM PRODUCER CoLtd,201,43361.4,43105,977,792.43\\r\\n1456,8-Nov-17,SUGANDHAGIRI SPICES PROMOTERS&TRADERS Pvt Ltd,207,36143.1,35561.3,1096,808.9\\r\\n1457,7-Nov-17,\"South Indian Green Cardamom Company Ltd, Kochi\",391,86973.9,86890,1003,813.42\\r\\n1458,7-Nov-17,\"Header Systems (India) Limited, Nedumkandam\",301,63449.7,62817.4,999,786.02\\r\\n1459,6-Nov-17,\"Cardamom Planters\\' Association, Santhanpara\",150,24175.9,23829.7,977,789.42\\r\\n1460,6-Nov-17,IDUKKI Dist.TRADITIONAL CARDAMOM PRODUCER COMPANY Ltd,266,51750.1,50909.2,1255,807.68\\r\\n1461,4-Nov-17,\"Mas Enterprises, Vandanmettu\",429,88197.2,88197.2,1064,830.17\\r\\n1462,4-Nov-17,Green House Cardamom Mktg.India Pvt. Ltd,154,24777.1,23649.3,1008,824.17\\r\\n1463,3-Nov-17,STATE TRADING CORPORATION,131,20685.1,20207.1,993,754.87\\r\\n1464,3-Nov-17,CARDAMOM GROWERSFOREVER PRIVATE LIMITED,306,48710.9,46324.4,1087.5,793.47\\r\\n1465,2-Nov-17,\"The Cardamom Processing & Marketing Co-Operative Society Ltd, Kumily\",388,101644,100808,1028,794.43\\r\\n1466,2-Nov-17,\"The Kerala Cardamom Processing and Marketing Company Limited, Thekkady\",370,94798.8,94329,1008,779.87\\r\\n1467,1-Nov-17,VANDANMEDU GREEN GOLD CARDAMOM PRODUCER CoLtd,318,70063,68635.5,1054,853.48\\r\\n1468,1-Nov-17,SUGANDHAGIRI SPICES PROMOTERS&TRADERS Pvt Ltd,195,35254.8,33369.6,1014,841.69\\r\\n1469,1-Nov-17,SUGANDHAGIRI SPICES PROMOTERS&TRADERS Pvt Ltd,339,68133.4,67686.7,1458,1215.34\\r\\n1470,31-Oct-17,\"South Indian Green Cardamom Company Ltd, Kochi\",450,104874,104874,1039,865.28\\r\\n1471,31-Oct-17,\"Header Systems (India) Limited, Nedumkandam\",357,75563.5,74151,1070,831.51\\r\\n1472,30-Oct-17,\"Cardamom Planters\\' Association, Santhanpara\",170,29418.9,28020.5,966,855.73\\r\\n1473,30-Oct-17,IDUKKI Dist.TRADITIONAL CARDAMOM PRODUCER COMPANY Ltd,279,54905.6,54760.8,1066,890.65\\r\\n1474,28-Oct-17,\"Mas Enterprises, Vandanmettu\",439,85326.1,84917.7,1127,884.77\\r\\n1475,28-Oct-17,Green House Cardamom Mktg.India Pvt. Ltd,103,15734.4,14236.4,1077,893.75\\r\\n1476,27-Oct-17,STATE TRADING CORPORATION,158,24519.3,23620.9,1028,879.42\\r\\n1477,27-Oct-17,CARDAMOM GROWERSFOREVER PRIVATE LIMITED,253,40205.5,39302.7,1079,893.64\\r\\n1478,26-Oct-17,\"The Cardamom Processing & Marketing Co-Operative Society Ltd, Kumily\",400,96853.3,95440,1170,913.66\\r\\n1479,26-Oct-17,\"The Kerala Cardamom Processing and Marketing Company Limited, Thekkady\",382,95827.9,95268.4,1024,897.73\\r\\n1480,25-Oct-17,VANDANMEDU GREEN GOLD CARDAMOM PRODUCER CoLtd,327,70497.1,69713.3,1197,910.1\\r\\n1481,25-Oct-17,SUGANDHAGIRI SPICES PROMOTERS&TRADERS Pvt Ltd,224,41367.6,40120.5,1084,900.06\\r\\n1482,24-Oct-17,\"South Indian Green Cardamom Company Ltd, Kochi\",319,67853.2,67853.2,1189,941.3\\r\\n1483,24-Oct-17,\"Header Systems (India) Limited, Nedumkandam\",327,64857.8,64364.2,1089,903.48\\r\\n1484,23-Oct-17,\"Cardamom Planters\\' Association, Santhanpara\",93,15971.2,14292.2,992,885.1\\r\\n1485,23-Oct-17,IDUKKI Dist.TRADITIONAL CARDAMOM PRODUCER COMPANY Ltd,196,35884.8,35884.8,1125,924.74\\r\\n1486,21-Oct-17,\"Mas Enterprises, Vandanmettu\",374,71606.8,71257.6,1105,915.6\\r\\n1487,21-Oct-17,Green House Cardamom Mktg.India Pvt. Ltd,109,15152.4,12845.8,954,885.77\\r\\n1488,20-Oct-17,STATE TRADING CORPORATION,113,18222.3,16909,1110,892.58\\r\\n1489,20-Oct-17,CARDAMOM GROWERSFOREVER PRIVATE LIMITED,155,22484.5,21925.5,1059,925.24\\r\\n1490,17-Oct-17,\"South Indian Green Cardamom Company Ltd, Kochi\",271,55460,55460,1106,928.4\\r\\n1491,17-Oct-17,\"Header Systems (India) Limited, Nedumkandam\",269,53378.6,53342.7,1061,902.81\\r\\n1492,16-Oct-17,\"Cardamom Planters\\' Association, Santhanpara\",206,30390.2,29599.1,1032,879.35\\r\\n1493,16-Oct-17,IDUKKI Dist.TRADITIONAL CARDAMOM PRODUCER COMPANY Ltd,260,48527.2,47902.7,1285,908.55\\r\\n1494,14-Oct-17,\"Mas Enterprises, Vandanmettu\",443,87558.3,86277,1281,910.84\\r\\n1495,14-Oct-17,Green House Cardamom Mktg.India Pvt. Ltd,215,33317.6,31530.1,1026,896.47\\r\\n1496,13-Oct-17,STATE TRADING CORPORATION,130,21566.7,21566.7,1259,909.78\\r\\n1497,13-Oct-17,CARDAMOM GROWERSFOREVER PRIVATE LIMITED,232,34661.3,33852.3,1087.5,909.32\\r\\n1498,12-Oct-17,THE CARDAMOM PLANTERS MARKETING CO-OPERATIVE SOCIETY LIMITED,395,90582.8,89274,1095,915.92\\r\\n1499,12-Oct-17,\"The Kerala Cardamom Processing and Marketing Company Limited, Thekkady\",375,92298.9,92289.9,1090,915.68\\r\\n1500,11-Oct-17,VANDANMEDU GREEN GOLD CARDAMOM PRODUCER CoLtd,389,82685.2,81705.1,1088,897.26\\r\\n1501,11-Oct-17,SUGANDHAGIRI SPICES PROMOTERS&TRADERS Pvt Ltd,205,40119.3,39642.6,1107,914.38\\r\\n1502,10-Oct-17,\"South Indian Green Cardamom Company Ltd, Kochi\",435,94229.2,93537.7,1123,898.41\\r\\n1503,10-Oct-17,\"Header Systems (India) Limited, Nedumkandam\",381,78572.6,78266,1082,885.39\\r\\n1504,9-Oct-17,\"Cardamom Planters\\' Association, Santhanpara\",247,37777.9,37263.5,1062,916.14\\r\\n1505,9-Oct-17,IDUKKI Dist.TRADITIONAL CARDAMOM PRODUCER COMPANY Ltd,288,54626.6,54626.6,1196,948.05\\r\\n1506,7-Oct-17,\"Mas Enterprises, Vandanmettu\",414,76729.3,74829.9,1188,956.1\\r\\n1507,7-Oct-17,Green House Cardamom Mktg.India Pvt. Ltd,198,28637.8,27954.9,1100,955.34\\r\\n1508,6-Oct-17,STATE TRADING CORPORATION,118,17589,17166.3,1104,957.47\\r\\n1509,6-Oct-17,CARDAMOM GROWERSFOREVER PRIVATE LIMITED,255,39840.1,39070.2,1150,957.24\\r\\n1510,5-Oct-17,\"The Cardamom Processing & Marketing Co-Operative Society Ltd, Kumily\",323,67758.8,67347.4,1170,989.42\\r\\n1511,5-Oct-17,\"The Kerala Cardamom Processing and Marketing Company Limited, Thekkady\",303,66582,66084.7,1226,984.22\\r\\n1512,4-Oct-17,VANDANMEDU GREEN GOLD CARDAMOM PRODUCER CoLtd,309,57402.4,57278.2,1185,975.51\\r\\n1513,4-Oct-17,SUGANDHAGIRI SPICES PROMOTERS&TRADERS Pvt Ltd,184,35209.9,34907.5,1116,975.02\\r\\n1514,3-Oct-17,\"South Indian Green Cardamom Company Ltd, Kochi\",404,85195.5,83432.1,1214,969.36\\r\\n1515,3-Oct-17,\"Header Systems (India) Limited, Nedumkandam\",297,56977.4,56381.8,1118,945.53\\r\\n1516,30-Sep-17,\"Mas Enterprises, Vandanmettu\",411,75965,74072.3,1262,975.58\\r\\n1517,30-Sep-17,Green House Cardamom Mktg.India Pvt. Ltd,161,22789.8,21988.3,1042,946.81\\r\\n1518,28-Sep-17,\"The Cardamom Processing & Marketing Co-Operative Society Ltd, Kumily\",395,88134.5,84172.8,1202,965.46\\r\\n1519,28-Sep-17,\"The Kerala Cardamom Processing and Marketing Company Limited, Thekkady\",393,92185.7,91207.3,1279,939.77\\r\\n1520,27-Sep-17,VANDANMEDU GREEN GOLD CARDAMOM PRODUCER CoLtd,396,82338,81051.9,1247,989.49\\r\\n1521,27-Sep-17,SUGANDHAGIRI SPICES PROMOTERS&TRADERS Pvt Ltd,218,40239.2,37208.2,1177,992.62\\r\\n1522,26-Sep-17,\"South Indian Green Cardamom Company Ltd, Kochi\",432,99116.3,94132.3,1313,1020.71\\r\\n1523,26-Sep-17,\"Header Systems (India) Limited, Nedumkandam\",423,87131.1,81649.5,1202,966.05\\r\\n1524,25-Sep-17,\"Cardamom Planters\\' Association, Santhanpara\",151,21656.8,21656.8,1279,1057.7\\r\\n1525,25-Sep-17,IDUKKI Dist.TRADITIONAL CARDAMOM PRODUCER COMPANY Ltd,294,53330.8,53130.6,1393,1097.38\\r\\n1526,23-Sep-17,\"Mas Enterprises, Vandanmettu\",457,86156.7,84809.9,1471,1102.87\\r\\n1527,23-Sep-17,Green House Cardamom Mktg.India Pvt. Ltd,116,16016.9,15835.6,1277,1064.37\\r\\n1528,22-Sep-17,STATE TRADING CORPORATION,123,17615.8,16754.4,1436,1093.36\\r\\n1529,22-Sep-17,CARDAMOM GROWERSFOREVER PRIVATE LIMITED,318,49683,47704,1474,1082.93\\r\\n1530,21-Sep-17,\"The Cardamom Processing & Marketing Co-Operative Society Ltd, Kumily\",371,82709.8,82473.1,1494,1100\\r\\n1531,21-Sep-17,\"The Kerala Cardamom Processing and Marketing Company Limited, Thekkady\",388,87633.6,87520.5,1373,1090.03\\r\\n1532,20-Sep-17,VANDANMEDU GREEN GOLD CARDAMOM PRODUCER CoLtd,416,90418.4,90418.4,1437,1088.16\\r\\n1533,20-Sep-17,SUGANDHAGIRI SPICES PROMOTERS&TRADERS Pvt Ltd,244,50103.9,45128.6,1382,1077.89\\r\\n1534,19-Sep-17,\"South Indian Green Cardamom Company Ltd, Kochi\",486,102267,96642.9,1507,1120.8\\r\\n1535,19-Sep-17,\"Header Systems (India) Limited, Nedumkandam\",427,95473.4,86636.6,1469,1066.62\\r\\n1536,18-Sep-17,\"Cardamom Planters\\' Association, Santhanpara\",239,31460.6,31247.7,1473,1117.73\\r\\n1537,18-Sep-17,IDUKKI Dist.TRADITIONAL CARDAMOM PRODUCER COMPANY Ltd,358,64811,63504.8,1598,1156.3\\r\\n1538,16-Sep-17,\"Mas Enterprises, Vandanmettu\",471,88797,87523.6,1546,1158.33\\r\\n1539,16-Sep-17,Green House Cardamom Mktg.India Pvt. Ltd,167,20280.3,16880.3,1400,1131.54\\r\\n1540,15-Sep-17,STATE TRADING CORPORATION,182,29977.8,28954.1,1561,1203.24\\r\\n1541,15-Sep-17,CARDAMOM GROWERSFOREVER PRIVATE LIMITED,430,60938.7,57874.5,1563,1198.39\\r\\n1542,14-Sep-17,\"The Cardamom Processing & Marketing Co-Operative Society Ltd, Kumily\",349,68852.7,68630.6,1600,1224.97\\r\\n1543,14-Sep-17,\"The Kerala Cardamom Processing and Marketing Company Limited, Thekkady\",403,69837.8,69837.8,1570,1218.49\\r\\n1544,13-Sep-17,VANDANMEDU GREEN GOLD CARDAMOM PRODUCER CoLtd,389,74497.7,74497.7,1652,1260.23\\r\\n1545,13-Sep-17,SUGANDHAGIRI SPICES PROMOTERS&TRADERS Pvt Ltd,225,40130.5,39610.3,1576,1240.27\\r\\n1546,12-Sep-17,\"South Indian Green Cardamom Company Ltd, Kochi\",424,84545,84339.4,1555,1202.56\\r\\n1547,12-Sep-17,\"Header Systems (India) Limited, Nedumkandam\",403,79402.5,75760,1542,1195.46\\r\\n1548,11-Sep-17,\"Cardamom Planters\\' Association, Santhanpara\",152,19233.7,18627.3,1408,1137.88\\r\\n1549,11-Sep-17,IDUKKI Dist.TRADITIONAL CARDAMOM PRODUCER COMPANY Ltd,260,44550.3,44550.3,1645,1230.25\\r\\n1550,9-Sep-17,\"Mas Enterprises, Vandanmettu\",393,70742.8,69992.9,1580,1148.21\\r\\n1551,9-Sep-17,Green House Cardamom Mktg.India Pvt. Ltd,150,20213.9,19523.3,1482,1116.55\\r\\n1552,8-Sep-17,STATE TRADING CORPORATION,184,27540.2,27327.1,1481,1127.42\\r\\n1553,8-Sep-17,CARDAMOM GROWERSFOREVER PRIVATE LIMITED,371,49324.5,47256.7,1499,1161.65\\r\\n1554,7-Sep-17,\"The Cardamom Processing & Marketing Co-Operative Society Ltd, Kumily\",273,54399.7,54014.5,1514,1135.92\\r\\n1555,7-Sep-17,\"The Kerala Cardamom Processing and Marketing Company Limited, Thekkady\",302,60644.9,60644.9,1544,1148.19\\r\\n1556,6-Sep-17,VANDANMEDU GREEN GOLD CARDAMOM PRODUCER CoLtd,288,55972.3,55972.3,1533,1184.88\\r\\n1557,5-Sep-17,\"Header Systems (India) Limited, Nedumkandam\",401,85072,83704.5,1457,1108.28\\r\\n1558,5-Sep-17,\"South Indian Green Cardamom Company Ltd, Kochi\",311,55938.8,55329.1,1518,1151.34\\r\\n1559,2-Sep-17,\"Mas Enterprises, Vandanmettu\",440,77577.8,77203.7,1645,1116.74\\r\\n1560,2-Sep-17,Green House Cardamom Mktg.India Pvt. Ltd,219,31189.8,30791.1,1495,1134.36\\r\\n1561,31-Aug-17,\"The Cardamom Processing & Marketing Co-Operative Society Ltd, Kumily\",323,63197.7,61268.5,1515,1111.79\\r\\n1562,31-Aug-17,\"The Kerala Cardamom Processing and Marketing Company Limited, Thekkady\",316,64448.3,64448.3,1523,1124.15\\r\\n1563,30-Aug-17,VANDANMEDU GREEN GOLD CARDAMOM PRODUCER CoLtd,361,67718.6,67612.1,1547,1142.83\\r\\n1564,30-Aug-17,SUGANDHAGIRI SPICES PROMOTERS&TRADERS Pvt Ltd,155,29036.8,28533.4,1540,1149.68\\r\\n1565,29-Aug-17,\"South Indian Green Cardamom Company Ltd, Kochi\",309,58262.1,58262.1,1522,1134.73\\r\\n1566,29-Aug-17,\"Header Systems (India) Limited, Nedumkandam\",332,64869.5,62737.6,1480,1108.26\\r\\n1567,28-Aug-17,\"Cardamom Planters\\' Association, Santhanpara\",96,11926.2,10747.6,1407,1039.25\\r\\n1568,28-Aug-17,IDUKKI Dist.TRADITIONAL CARDAMOM PRODUCER COMPANY Ltd,193,28572.1,28474.4,1541,1123.22\\r\\n1569,26-Aug-17,\"Mas Enterprises, Vandanmettu\",400,70569.9,68529.9,1479,1094.85\\r\\n1570,26-Aug-17,Green House Cardamom Mktg.India Pvt. Ltd,172,23410,22685.2,1468,1095.8\\r\\n1571,25-Aug-17,STATE TRADING CORPORATION,161,21587,19317.5,1528,1081.11\\r\\n1572,25-Aug-17,CARDAMOM GROWERSFOREVER PRIVATE LIMITED,268,35486.5,34567.3,1519,1077.17\\r\\n1573,24-Aug-17,THE CARDAMOM PLANTERS MARKETING CO-OPERATIVE SOCIETY LIMITED,280,55475.8,54922.7,1541,1090.01\\r\\n1574,24-Aug-17,\"The Kerala Cardamom Processing and Marketing Company Limited, Thekkady\",281,53007.2,52452.7,1569,1073.91\\r\\n1575,23-Aug-17,VANDANMEDU GREEN GOLD CARDAMOM PRODUCER CoLtd,349,64357.3,63631.5,1505,1101.49\\r\\n1576,23-Aug-17,SUGANDHAGIRI SPICES PROMOTERS&TRADERS Pvt Ltd,187,30133.8,29497.4,1500,1106.26\\r\\n1577,22-Aug-17,\"South Indian Green Cardamom Company Ltd, Kochi\",387,77536.7,76883.4,1545,1068.37\\r\\n1578,22-Aug-17,\"Header Systems (India) Limited, Nedumkandam\",339,65648.9,65554.1,1504,1060.99\\r\\n1579,21-Aug-17,\"Cardamom Planters\\' Association, Santhanpara\",94,11479.1,10768.4,1455,1075.18\\r\\n1580,21-Aug-17,IDUKKI Dist.TRADITIONAL CARDAMOM PRODUCER COMPANY Ltd,263,41713.6,41411.4,1561,1074.37\\r\\n1581,19-Aug-17,\"Mas Enterprises, Vandanmettu\",389,69079.8,68649.9,1569,1109.5\\r\\n1582,19-Aug-17,Green House Cardamom Mktg.India Pvt. Ltd,95,15032.2,13004.7,1447,1123.56\\r\\n1583,18-Aug-17,STATE TRADING CORPORATION,194,29511.5,29079.3,1553,1116.64\\r\\n1584,18-Aug-17,CARDAMOM GROWERSFOREVER PRIVATE LIMITED,263,32325.2,30383,1512,1112.71\\r\\n1585,17-Aug-17,THE CARDAMOM PLANTERS MARKETING CO-OPERATIVE SOCIETY LIMITED,329,61351.6,60131.2,1537,1102.65\\r\\n1586,17-Aug-17,\"The Kerala Cardamom Processing and Marketing Company Limited, Thekkady\",257,47403.2,46907.4,1562,1116.24\\r\\n1587,16-Aug-17,VANDANMEDU GREEN GOLD CARDAMOM PRODUCER CoLtd,349,61958.1,61958.1,1540,1148.49\\r\\n1588,16-Aug-17,SUGANDHAGIRI SPICES PROMOTERS&TRADERS Pvt Ltd,152,27106.2,27106.2,1404,1089.57\\r\\n1589,14-Aug-17,\"Cardamom Planters\\' Association, Santhanpara\",109,14588.5,14487.4,1413,1019.16\\r\\n1590,14-Aug-17,IDUKKI Dist.TRADITIONAL CARDAMOM PRODUCER COMPANY Ltd,188,29792.6,29792.6,1577,1100.61\\r\\n1591,12-Aug-17,\"Mas Enterprises, Vandanmettu\",339,55336.9,54963.1,1492,1066.47\\r\\n1592,12-Aug-17,Green House Cardamom Mktg.India Pvt. Ltd,173,25011.7,25011.7,1436,1054.69\\r\\n1593,11-Aug-17,STATE TRADING CORPORATION,151,21123.3,19975.4,1452,1017.87\\r\\n1594,11-Aug-17,CARDAMOM GROWERSFOREVER PRIVATE LIMITED,199,26919.7,26238.7,1492,997.82\\r\\n1595,10-Aug-17,THE CARDAMOM PLANTERS MARKETING CO-OPERATIVE SOCIETY LIMITED,263,49720,48937,1501,1036.43\\r\\n1596,10-Aug-17,\"The Kerala Cardamom Processing and Marketing Company Limited, Thekkady\",249,46657.5,46657.5,1517,1020.79\\r\\n1597,9-Aug-17,VANDANMEDU GREEN GOLD CARDAMOM PRODUCER CoLtd,338,58201.9,56432.3,1494,1026.71\\r\\n1598,9-Aug-17,SUGANDHAGIRI SPICES PROMOTERS&TRADERS Pvt Ltd,136,25059.9,17321.4,1472,1004.1\\r\\n1599,8-Aug-17,\"South Indian Green Cardamom Company Ltd, Kochi\",366,65754.8,65475.6,1471,1015.09\\r\\n1600,8-Aug-17,\"Header Systems (India) Limited, Nedumkandam\",310,55106.6,53774.3,1480,1004.52\\r\\n1601,7-Aug-17,\"Cardamom Planters\\' Association, Santhanpara\",145,18646.1,17534.1,1378,1005.55\\r\\n1602,7-Aug-17,IDUKKI Dist.TRADITIONAL CARDAMOM PRODUCER COMPANY Ltd,181,27665.4,26909.5,1497,1035.06\\r\\n1603,5-Aug-17,\"Mas Enterprises, Vandanmettu\",357,59633.1,58091.4,1509,1049.53\\r\\n1604,5-Aug-17,Green House Cardamom Mktg.India Pvt. Ltd,119,17959.5,16734.5,1379,1026.61\\r\\n1605,4-Aug-17,STATE TRADING CORPORATION,189,26452.5,25364.1,1486,1058.61\\r\\n1606,4-Aug-17,CARDAMOM GROWERSFOREVER PRIVATE LIMITED,287,38494.7,36383.3,1480,1057.03\\r\\n1607,3-Aug-17,THE CARDAMOM PLANTERS MARKETING CO-OPERATIVE SOCIETY LIMITED,268,47816.5,47477.4,1489,1082.97\\r\\n1608,3-Aug-17,\"The Kerala Cardamom Processing and Marketing Company Limited, Thekkady\",254,46297.8,46297.8,1568,1075.78\\r\\n1609,2-Aug-17,VANDANMEDU GREEN GOLD CARDAMOM PRODUCER CoLtd,353,60223.6,60042.4,1448,1116.91\\r\\n1610,2-Aug-17,SUGANDHAGIRI SPICES PROMOTERS&TRADERS Pvt Ltd,179,30112.7,29469.9,1472,1102.14\\r\\n1611,1-Aug-17,\"South Indian Green Cardamom Company Ltd, Kochi\",315,56568.3,56568.3,1540,1089.57\\r\\n1612,1-Aug-17,\"Header Systems (India) Limited, Nedumkandam\",285,50904.3,50212.4,1504,1082.66\\r\\n1613,31-Jul-17,IDUKKI Dist.TRADITIONAL CARDAMOM PRODUCER COMPANY Ltd,173,23707,23134.7,1482,1083.79\\r\\n1614,29-Jul-17,\"Mas Enterprises, Vandanmettu\",269,40081.1,40081.1,1505,1078.07\\r\\n1615,29-Jul-17,Green House Cardamom Mktg.India Pvt. Ltd,114,20192.3,19111.2,1428,1066.61\\r\\n1616,28-Jul-17,STATE TRADING CORPORATION,129,15755.9,15097,1440,1055.41\\r\\n1617,28-Jul-17,CARDAMOM GROWERSFOREVER PRIVATE LIMITED,288,38624.8,36902.4,1442,1048.49\\r\\n1618,27-Jul-17,THE CARDAMOM PLANTERS MARKETING CO-OPERATIVE SOCIETY LIMITED,193,34743.9,34743.9,1431,1060.95\\r\\n1619,27-Jul-17,\"The Kerala Cardamom Processing and Marketing Company Limited, Thekkady\",235,40789.4,40789.4,1438,1060.86\\r\\n1620,26-Jul-17,VANDANMEDU GREEN GOLD CARDAMOM PRODUCER CoLtd,317,51934.1,51934.1,1447,1077.76\\r\\n1621,26-Jul-17,SUGANDHAGIRI SPICES PROMOTERS&TRADERS Pvt Ltd,179,30105.7,29373.8,1515,1085.43\\r\\n1622,25-Jul-17,\"South Indian Green Cardamom Company Ltd, Kochi\",307,50171.2,50171.2,1444,1028.75\\r\\n1623,25-Jul-17,\"Header Systems (India) Limited, Nedumkandam\",228,39289.2,39289.2,1399,1012.09\\r\\n1624,24-Jul-17,IDUKKI Dist.TRADITIONAL CARDAMOM PRODUCER COMPANY Ltd,187,28892.2,28397.3,1255,1017.7\\r\\n1625,22-Jul-17,\"Mas Enterprises, Vandanmettu\",266,42946.4,42946.4,1416,1009.7\\r\\n1626,22-Jul-17,Green House Cardamom Mktg.India Pvt. Ltd,145,20172.4,20172.4,1361,1026.46\\r\\n1627,21-Jul-17,STATE TRADING CORPORATION,145,18451.9,18273.1,1312,984.33\\r\\n1628,21-Jul-17,CARDAMOM GROWERSFOREVER PRIVATE LIMITED,216,29526.7,29177.8,1412,1023.68\\r\\n1629,20-Jul-17,THE CARDAMOM PLANTERS MARKETING CO-OPERATIVE SOCIETY LIMITED,165,30151.1,29948.5,1381,1015.52\\r\\n1630,20-Jul-17,\"The Kerala Cardamom Processing and Marketing Company Limited, Thekkady\",217,41017.2,41017.2,1286,1011.44\\r\\n1631,19-Jul-17,VANDANMEDU GREEN GOLD CARDAMOM PRODUCER CoLtd,296,46645.4,46645.4,1436,1037.23\\r\\n1632,19-Jul-17,SUGANDHAGIRI SPICES PROMOTERS&TRADERS Pvt Ltd,184,36235.6,36235.6,1440,1069.17\\r\\n1633,18-Jul-17,\"South Indian Green Cardamom Company Ltd, Kochi\",307,50922.3,50922.3,1319,1003.24\\r\\n1634,18-Jul-17,\"Header Systems (India) Limited, Nedumkandam\",231,38721.7,38721.7,1310,952.17\\r\\n1635,17-Jul-17,IDUKKI Dist.TRADITIONAL CARDAMOM PRODUCER COMPANY Ltd,191,29387,29387,1385,991.35\\r\\n1636,15-Jul-17,\"Mas Enterprises, Vandanmettu\",264,42411.4,42411.4,1334,951.8\\r\\n1637,15-Jul-17,Green House Cardamom Mktg.India Pvt. Ltd,106,14094.8,14017.2,1166,962.77\\r\\n1638,14-Jul-17,STATE TRADING CORPORATION,51,6205.7,6205.7,1283,948.39\\r\\n1639,14-Jul-17,CARDAMOM GROWERSFOREVER PRIVATE LIMITED,196,24921.7,23492.8,1350,931.91\\r\\n1640,13-Jul-17,THE CARDAMOM PLANTERS MARKETING CO-OPERATIVE SOCIETY LIMITED,139,21557.5,21291.7,1294,949.6\\r\\n1641,13-Jul-17,\"The Kerala Cardamom Processing and Marketing Company Limited, Thekkady\",205,35983.4,35983.4,1331,933.44\\r\\n1642,12-Jul-17,VANDANMEDU GREEN GOLD CARDAMOM PRODUCER CoLtd,280,47633.5,47633.5,1359,943.15\\r\\n1643,12-Jul-17,SUGANDHAGIRI SPICES PROMOTERS&TRADERS Pvt Ltd,108,18039.5,15285.4,1294,903.02\\r\\n1644,11-Jul-17,\"South Indian Green Cardamom Company Ltd, Kochi\",237,37957.5,37957.5,1281,967.51\\r\\n1645,11-Jul-17,\"Header Systems (India) Limited, Nedumkandam\",214,34519.4,34302.8,1291,909.76\\r\\n1646,10-Jul-17,IDUKKI Dist.TRADITIONAL CARDAMOM PRODUCER COMPANY Ltd,174,25303,25244.6,1302,934.04\\r\\n1647,8-Jul-17,\"Mas Enterprises, Vandanmettu\",189,28715,28715,1231,943.17\\r\\n1648,8-Jul-17,Green House Cardamom Mktg.India Pvt. Ltd,39,4098.7,3807,1028,878.28\\r\\n1649,7-Jul-17,STATE TRADING CORPORATION,46,7034.6,6786.1,1070,928.6\\r\\n1650,7-Jul-17,CARDAMOM GROWERSFOREVER PRIVATE LIMITED,175,21287.7,20491.3,1279,880.24\\r\\n1651,6-Jul-17,THE CARDAMOM PLANTERS MARKETING CO-OPERATIVE SOCIETY LIMITED,80,13161.8,13161.8,1134,899.12\\r\\n1652,6-Jul-17,\"The Kerala Cardamom Processing and Marketing Company Limited, Thekkady\",104,15758.7,15541.9,1115,886.22\\r\\n1653,5-Jul-17,VANDANMEDU GREEN GOLD CARDAMOM PRODUCER CoLtd,129,19397.6,19397.6,1059,867.53\\r\\n1654,5-Jul-17,SUGANDHAGIRI SPICES PROMOTERS&TRADERS Pvt Ltd,74,11249.8,11042.8,1166,832.11\\r\\n1655,4-Jul-17,\"South Indian Green Cardamom Company Ltd, Kochi\",127,17305.7,17056.1,1220,872.01\\r\\n1656,4-Jul-17,\"Header Systems (India) Limited, Nedumkandam\",140,20946.6,20140.4,1204,827.26\\r\\n1657,3-Jul-17,IDUKKI Dist.TRADITIONAL CARDAMOM PRODUCER COMPANY Ltd,80,10915,10718,1248,860.9\\r\\n1658,1-Jul-17,\"Mas Enterprises, Vandanmettu\",134,22679.1,21523.5,1216,898.43\\r\\n1659,30-Jun-17,CARDAMOM GROWERSFOREVER PRIVATE LIMITED,175,19806.8,18116.2,1117,818.52\\r\\n1660,29-Jun-17,THE CARDAMOM PLANTERS MARKETING CO-OPERATIVE SOCIETY LIMITED,132,23510.4,20115,1180,851.57\\r\\n1661,29-Jun-17,\"The Kerala Cardamom Processing and Marketing Company Limited, Thekkady\",129,22733,22227.3,1060,823.91\\r\\n1662,28-Jun-17,VANDANMEDU GREEN GOLD CARDAMOM PRODUCER CoLtd,130,22291.7,22291.7,1258,894.09\\r\\n1663,27-Jun-17,\"South Indian Green Cardamom Company Ltd, Kochi\",258,41282,41282,1154,864.55\\r\\n1664,27-Jun-17,\"Header Systems (India) Limited, Nedumkandam\",235,38620.6,37394.4,1172,883\\r\\n1665,24-Jun-17,\"Mas Enterprises, Vandanmettu\",264,43067.7,43042.5,1248,959\\r\\n1666,24-Jun-17,Green House Cardamom Mktg.India Pvt. Ltd,39,6158.5,6158.5,1162,1023\\r\\n1667,23-Jun-17,STATE TRADING CORPORATION,74,10053.6,9446.9,1156,952.82\\r\\n1668,23-Jun-17,CARDAMOM GROWERSFOREVER PRIVATE LIMITED,172,20292.9,18140.2,1219,947.6\\r\\n1669,22-Jun-17,THE CARDAMOM PLANTERS MARKETING CO-OPERATIVE SOCIETY LIMITED,165,31919.6,30774.9,1238,998.6\\r\\n1670,22-Jun-17,\"The Kerala Cardamom Processing and Marketing Company Limited, Thekkady\",153,25635.8,25635.8,1167,956.63\\r\\n1671,21-Jun-17,VANDANMEDU GREEN GOLD CARDAMOM PRODUCER CoLtd,216,33653.3,33489.1,1210,986.64\\r\\n1672,21-Jun-17,SUGANDHAGIRI SPICES PROMOTERS&TRADERS Pvt Ltd,159,25129.9,24245.4,1259,970.56\\r\\n1673,20-Jun-17,\"South Indian Green Cardamom Company Ltd, Kochi\",197,30188.8,29327.3,1253,969.69\\r\\n1674,20-Jun-17,\"Header Systems (India) Limited, Nedumkandam\",223,38071.8,35779,1228,943.25\\r\\n1675,19-Jun-17,IDUKKI Dist.TRADITIONAL CARDAMOM PRODUCER COMPANY Ltd,121,16795.7,16795.7,1230,987.47\\r\\n1676,17-Jun-17,\"Mas Enterprises, Vandanmettu\",226,35399.8,35296.3,1266,1014.32\\r\\n1677,17-Jun-17,Green House Cardamom Mktg.India Pvt. Ltd,35,5719,5583.9,1118,1029.2\\r\\n1678,16-Jun-17,STATE TRADING CORPORATION,78,10630.6,9439.9,1163,926.81\\r\\n1679,16-Jun-17,CARDAMOM GROWERSFOREVER PRIVATE LIMITED,114,14395,13453.9,1210,933.55\\r\\n1680,15-Jun-17,THE CARDAMOM PLANTERS MARKETING CO-OPERATIVE SOCIETY LIMITED,156,31823.2,31013.9,1210,961.39\\r\\n1681,15-Jun-17,\"The Kerala Cardamom Processing and Marketing Company Limited, Thekkady\",156,29526.3,29526.3,1159,975.61\\r\\n1682,14-Jun-17,VANDANMEDU GREEN GOLD CARDAMOM PRODUCER CoLtd,212,32297.6,31921.2,1208,955.06\\r\\n1683,14-Jun-17,SUGANDHAGIRI SPICES PROMOTERS&TRADERS Pvt Ltd,148,23066.7,21369.9,1202,951.54\\r\\n1684,13-Jun-17,\"South Indian Green Cardamom Company Ltd, Kochi\",295,53557.8,50577.9,1170,949.81\\r\\n1685,13-Jun-17,\"Header Systems (India) Limited, Nedumkandam\",215,40216.6,40216.6,1173,908.87\\r\\n1686,12-Jun-17,IDUKKI Dist.TRADITIONAL CARDAMOM PRODUCER COMPANY Ltd,121,18745.6,18552.9,1199,983.91\\r\\n1687,10-Jun-17,\"Mas Enterprises, Vandanmettu\",250,40887,40564.4,1204,951\\r\\n1688,10-Jun-17,Green House Cardamom Mktg.India Pvt. Ltd,49,7831.3,7831.3,1219,1033.83\\r\\n1689,9-Jun-17,STATE TRADING CORPORATION,36,5376.5,3625.4,1098,919.02\\r\\n1690,9-Jun-17,CARDAMOM GROWERSFOREVER PRIVATE LIMITED,129,15787.7,15006.6,1172,908.28\\r\\n1691,8-Jun-17,THE CARDAMOM PLANTERS MARKETING CO-OPERATIVE SOCIETY LIMITED,171,34977.1,33522.4,1197,959.09\\r\\n1692,8-Jun-17,\"The Kerala Cardamom Processing and Marketing Company Limited, Thekkady\",139,25575.3,23869.9,1200,927.33\\r\\n1693,7-Jun-17,VANDANMEDU GREEN GOLD CARDAMOM PRODUCER CoLtd,160,22514.5,22514.5,1254,1019.92\\r\\n1694,7-Jun-17,SUGANDHAGIRI SPICES PROMOTERS&TRADERS Pvt Ltd,138,21132.7,21132.7,1254,996.52\\r\\n1695,6-Jun-17,\"South Indian Green Cardamom Company Ltd, Kochi\",201,35840.4,35840.4,1247,1012.88\\r\\n1696,6-Jun-17,\"Header Systems (India) Limited, Nedumkandam\",128,20765.4,20765.4,1224,1002.78\\r\\n1697,5-Jun-17,IDUKKI Dist.TRADITIONAL CARDAMOM PRODUCER COMPANY Ltd,93,13203.5,12880.3,1170,982.68\\r\\n1698,3-Jun-17,\"Mas Enterprises, Vandanmettu\",240,41414.9,41414.9,1170,948.71\\r\\n1699,3-Jun-17,Green House Cardamom Mktg.India Pvt. Ltd,40,6145.4,6145.4,1102,990.56\\r\\n1700,2-Jun-17,STATE TRADING CORPORATION,40,5483,5483,1090,901.31\\r\\n1701,2-Jun-17,CARDAMOM GROWERSFOREVER PRIVATE LIMITED,128,15204.4,13755.3,1104,823.52\\r\\n1702,1-Jun-17,THE CARDAMOM PLANTERS MARKETING CO-OPERATIVE SOCIETY LIMITED,130,25617.2,25081.6,1166,911.58\\r\\n1703,1-Jun-17,\"The Kerala Cardamom Processing and Marketing Company Limited, Thekkady\",133,24582.6,24582.6,1194,933.08\\r\\n1704,31-May-17,VANDANMEDU GREEN GOLD CARDAMOM PRODUCER CoLtd,164,27167.3,26846.8,1174,938.48\\r\\n1705,31-May-17,SUGANDHAGIRI SPICES PROMOTERS&TRADERS Pvt Ltd,146,23080.8,22870.8,1220,901.35\\r\\n1706,30-May-17,\"South Indian Green Cardamom Company Ltd, Kochi\",239,45804.8,45804.8,1187,904.87\\r\\n1707,30-May-17,\"Header Systems (India) Limited, Nedumkandam\",163,29773.1,29366.7,1158,881.31\\r\\n1708,29-May-17,IDUKKI Dist.TRADITIONAL CARDAMOM PRODUCER COMPANY Ltd,130,20442.1,18893.1,1156,890.99\\r\\n1709,27-May-17,\"Mas Enterprises, Vandanmettu\",217,37613.7,36618,1176,903.16\\r\\n1710,27-May-17,Green House Cardamom Mktg.India Pvt. Ltd,38,6022.3,6022.3,1056,945.13\\r\\n1711,26-May-17,STATE TRADING CORPORATION,81,13202.8,13048.5,1019,772.82\\r\\n1712,26-May-17,CARDAMOM GROWERSFOREVER PRIVATE LIMITED,154,22423.5,19427.2,1083,821.26\\r\\n1713,25-May-17,THE CARDAMOM PLANTERS MARKETING CO-OPERATIVE SOCIETY LIMITED,190,43320,43320,1167,890.26\\r\\n1714,25-May-17,\"The Kerala Cardamom Processing and Marketing Company Limited, Thekkady\",202,43287.2,43171.7,1112,871.79\\r\\n1715,24-May-17,VANDANMEDU GREEN GOLD CARDAMOM PRODUCER CoLtd,204,36550.1,35733.1,1095,909.69\\r\\n1716,24-May-17,SUGANDHAGIRI SPICES PROMOTERS&TRADERS Pvt Ltd,164,27035.6,24339.5,1062,833.24\\r\\n1717,23-May-17,\"South Indian Green Cardamom Company Ltd, Kochi\",251,51507.7,51242.3,1180,924.17\\r\\n1718,23-May-17,\"Header Systems (India) Limited, Nedumkandam\",234,43364.5,41299.2,1105,849.82\\r\\n1719,22-May-17,\"Cardamom Planters\\' Association, Santhanpara\",78,9446.7,6947.4,973,807.54\\r\\n1720,22-May-17,IDUKKI Dist.TRADITIONAL CARDAMOM PRODUCER COMPANY Ltd,146,24800.6,24020.7,1127,863.82\\r\\n1721,20-May-17,\"Mas Enterprises, Vandanmettu\",297,60572.2,55861.4,1165,885.32\\r\\n1722,20-May-17,Green House Cardamom Mktg.India Pvt. Ltd,32,6336.6,6336.6,1020,948.22\\r\\n1723,19-May-17,STATE TRADING CORPORATION,127,19759.7,19555.2,1133,875.1\\r\\n1724,19-May-17,CARDAMOM GROWERSFOREVER PRIVATE LIMITED,148,22812.5,20639.3,1159,882.3\\r\\n1725,18-May-17,THE CARDAMOM PLANTERS MARKETING CO-OPERATIVE SOCIETY LIMITED,202,45615.7,45410.5,1145,898.94\\r\\n1726,18-May-17,\"The Kerala Cardamom Processing and Marketing Company Limited, Thekkady\",210,49217.7,49046.5,1168,941.98\\r\\n1727,17-May-17,VANDANMEDU GREEN GOLD CARDAMOM PRODUCER CoLtd,207,40674.9,40674.9,1096,917.36\\r\\n1728,17-May-17,SUGANDHAGIRI SPICES PROMOTERS&TRADERS Pvt Ltd,196,35016.3,34149.6,1149,917.11\\r\\n1729,16-May-17,\"South Indian Green Cardamom Company Ltd, Kochi\",335,72646.2,72380.6,1236,923.02\\r\\n1730,16-May-17,\"Header Systems (India) Limited, Nedumkandam\",240,43338.4,41891.7,1160,892.54\\r\\n1731,15-May-17,\"Cardamom Planters\\' Association, Santhanpara\",67,8184.2,6524.9,1088,877.95\\r\\n1732,15-May-17,IDUKKI Dist.TRADITIONAL CARDAMOM PRODUCER COMPANY Ltd,151,23983.8,23414.7,1116,902.85\\r\\n1733,13-May-17,\"Mas Enterprises, Vandanmettu\",361,69989.3,69440.6,1176,911.35\\r\\n1734,13-May-17,Green House Cardamom Mktg.India Pvt. Ltd,41,6977.2,6744.4,1157,972.25\\r\\n1735,12-May-17,STATE TRADING CORPORATION,148,21843.3,21508.2,1133,913.6\\r\\n1736,12-May-17,CARDAMOM GROWERSFOREVER PRIVATE LIMITED,134,21712.2,19266.4,1151,857.72\\r\\n1737,12-May-17,\"South Indian Green Cardamom Company Ltd, Kochi\",335,72646.2,72380.6,1236,923.02\\r\\n1738,11-May-17,THE CARDAMOM PLANTERS MARKETING CO-OPERATIVE SOCIETY LIMITED,246,63944.5,63616.2,1191,959.89\\r\\n1739,11-May-17,\"The Kerala Cardamom Processing and Marketing Company Limited, Thekkady\",235,50528.3,50528.3,1140,939.62\\r\\n1740,10-May-17,VANDANMEDU GREEN GOLD CARDAMOM PRODUCER CoLtd,217,40173.1,39798.5,1200,974.01\\r\\n1741,10-May-17,SUGANDHAGIRI SPICES PROMOTERS&TRADERS Pvt Ltd,198,35027.6,31728,1236,937.08\\r\\n1742,9-May-17,\"South Indian Green Cardamom Company Ltd, Kochi\",344,70207.2,70207.2,1186,965.58\\r\\n1743,9-May-17,\"Header Systems (India) Limited, Nedumkandam\",254,48378.5,46824.5,1121,930.92\\r\\n1744,8-May-17,\"Cardamom Planters\\' Association, Santhanpara\",57,6944,5977.4,1190,962.11\\r\\n1745,8-May-17,IDUKKI Dist.TRADITIONAL CARDAMOM PRODUCER COMPANY Ltd,164,27476.8,27153.6,1211,972.85\\r\\n1746,6-May-17,\"Mas Enterprises, Vandanmettu\",301,56284.5,54809.8,1254,980.53\\r\\n1747,6-May-17,Green House Cardamom Mktg.India Pvt. Ltd,45,8104.2,8104.2,1134,956.01\\r\\n1748,5-May-17,STATE TRADING CORPORATION,144,27165.1,27165.1,1150,986.11\\r\\n1749,5-May-17,CARDAMOM GROWERSFOREVER PRIVATE LIMITED,174,25610.8,25020.1,1259,1001.08\\r\\n1750,4-May-17,THE CARDAMOM PLANTERS MARKETING CO-OPERATIVE SOCIETY LIMITED,213,49468.8,49468.8,1205,1009.39\\r\\n1751,4-May-17,\"The Kerala Cardamom Processing and Marketing Company Limited, Thekkady\",202,42746.4,42746.4,1218,984.9\\r\\n1752,3-May-17,VANDANMEDU GREEN GOLD CARDAMOM PRODUCER CoLtd,179,35327,34892.7,1185,971.77\\r\\n1753,3-May-17,SUGANDHAGIRI SPICES PROMOTERS&TRADERS Pvt Ltd,135,22879.4,21522.6,1211,960.92\\r\\n1754,2-May-17,\"South Indian Green Cardamom Company Ltd, Kochi\",339,70673.8,70233.1,1164,956.98\\r\\n1755,1-May-17,IDUKKI Dist.TRADITIONAL CARDAMOM PRODUCER COMPANY Ltd,164,28984.6,28911,1206,956.41\\r\\n1756,29-Apr-17,\"Mas Enterprises, Vandanmettu\",342,64039.6,60595.7,1208,944.38\\r\\n1757,29-Apr-17,Green House Cardamom Mktg.India Pvt. Ltd,33,5883.9,5503.5,1109,1070.45\\r\\n1758,28-Apr-17,STATE TRADING CORPORATION,166,26658.4,24666.5,1119,934.74\\r\\n1759,28-Apr-17,CARDAMOM GROWERSFOREVER PRIVATE LIMITED,170,24816.1,23523.2,1228,951.43\\r\\n1760,27-Apr-17,THE CARDAMOM PLANTERS MARKETING CO-OPERATIVE SOCIETY LIMITED,233,53363.9,52577,1211,953.62\\r\\n1761,27-Apr-17,\"The Kerala Cardamom Processing and Marketing Company Limited, Thekkady\",197,42080.8,41694.9,1216,955.15\\r\\n1762,26-Apr-17,VANDANMEDU GREEN GOLD CARDAMOM PRODUCER CoLtd,198,36128.3,36128.3,1221,1011.37\\r\\n1763,26-Apr-17,SUGANDHAGIRI SPICES PROMOTERS&TRADERS Pvt Ltd,138,24697.5,23874.1,1164,963.3\\r\\n1764,25-Apr-17,\"South Indian Green Cardamom Company Ltd, Kochi\",234,43782.7,43782.3,1224,1047.75\\r\\n1765,25-Apr-17,\"Header Systems (India) Limited, Nedumkandam\",170,30753.7,30427.3,1214,991.21\\r\\n1766,24-Apr-17,\"Cardamom Planters\\' Association, Santhanpara\",52,5891.4,5008,1181,904.16\\r\\n1767,24-Apr-17,IDUKKI Dist.TRADITIONAL CARDAMOM PRODUCER COMPANY Ltd,178,30648.2,30439.4,1270,1021.74\\r\\n1768,22-Apr-17,\"Mas Enterprises, Vandanmettu\",352,65983.1,65983.1,1211,979.01\\r\\n1769,22-Apr-17,Green House Cardamom Mktg.India Pvt. Ltd,31,6234.2,6234.2,1112,1036\\r\\n1770,21-Apr-17,STATE TRADING CORPORATION,111,15953,15920.5,1134,916.34\\r\\n1771,21-Apr-17,CARDAMOM GROWERSFOREVER PRIVATE LIMITED,193,29266.2,28713.9,1174,949.87\\r\\n1772,20-Apr-17,THE CARDAMOM PLANTERS MARKETING CO-OPERATIVE SOCIETY LIMITED,288,66944.8,66223.4,1132,892.53\\r\\n1773,20-Apr-17,\"The Kerala Cardamom Processing and Marketing Company Limited, Thekkady\",271,61203.2,60650.2,1117,894.44\\r\\n1774,19-Apr-17,VANDANMEDU GREEN GOLD CARDAMOM PRODUCER CoLtd,256,48521.5,48416,1176,901.22\\r\\n1775,19-Apr-17,SUGANDHAGIRI SPICES PROMOTERS&TRADERS Pvt Ltd,176,30361.3,28181.9,1212,881.32\\r\\n1776,18-Apr-17,\"South Indian Green Cardamom Company Ltd, Kochi\",372,78791.5,74163.8,1195,966.32\\r\\n1777,18-Apr-17,\"Header Systems (India) Limited, Nedumkandam\",177,33511.9,29858.2,1165,909.12\\r\\n1778,17-Apr-17,\"Cardamom Planters\\' Association, Santhanpara\",79,10522.7,8576.9,1228,974.82\\r\\n1779,17-Apr-17,IDUKKI Dist.TRADITIONAL CARDAMOM PRODUCER COMPANY Ltd,223,43392.3,41404.8,1292,1016.05\\r\\n1780,11-Apr-17,\"South Indian Green Cardamom Company Ltd, Kochi\",416,84381.5,81858.1,1290,1098.43\\r\\n1781,11-Apr-17,\"Header Systems (India) Limited, Nedumkandam\",226,42763.9,42763.9,1230,1050.67\\r\\n1782,10-Apr-17,\"Cardamom Planters\\' Association, Santhanpara\",81,11990,10218.5,1255,1016.23\\r\\n1783,10-Apr-17,IDUKKI Dist.TRADITIONAL CARDAMOM PRODUCER COMPANY Ltd,216,33314.9,33314.9,1316,1099.09\\r\\n1784,8-Apr-17,\"Mas Enterprises, Vandanmettu\",368,67580.6,65010.3,1329,1089.45\\r\\n1785,8-Apr-17,Green House Cardamom Mktg.India Pvt. Ltd,32,5079.7,3102.2,1112,1047.7\\r\\n1786,7-Apr-17,STATE TRADING CORPORATION,112,17947.6,17359.4,1274,1121.94\\r\\n1787,6-Apr-17,THE CARDAMOM PLANTERS MARKETING CO-OPERATIVE SOCIETY LIMITED,238,52303.9,51715.4,1304,1160.77\\r\\n1788,6-Apr-17,\"The Kerala Cardamom Processing and Marketing Company Limited, Thekkady\",222,45553.3,45553.3,1332,1167.72\\r\\n1789,5-Apr-17,VANDANMEDU GREEN GOLD CARDAMOM PRODUCER CoLtd,226,38429.4,38429.4,1448,1171.9\\r\\n1790,5-Apr-17,SUGANDHAGIRI SPICES PROMOTERS&TRADERS Pvt Ltd,133,24133.2,23110.8,1298,1144.69\\r\\n1791,4-Apr-17,\"South Indian Green Cardamom Company Ltd, Kochi\",299,57746.9,56637.2,1504,1192.38\\r\\n1792,4-Apr-17,\"Header Systems (India) Limited, Nedumkandam\",205,36514.9,36350.8,1284,1166.99\\r\\n1793,3-Apr-17,\"Cardamom Planters\\' Association, Santhanpara\",50,6332.2,5811.7,1225,1068.55\\r\\n1794,3-Apr-17,IDUKKI Dist.TRADITIONAL CARDAMOM PRODUCER COMPANY Ltd,82,10550.7,10250.9,1320,1160.89\\r\\n1795,1-Apr-17,\"Mas Enterprises, Vandanmettu\",206,35178.4,34491.1,1345,1173.83\\r\\n1796,1-Apr-17,Green House Cardamom Mktg.India Pvt. Ltd,48,7695.1,7695.1,1336,1226.91\\r\\n1797,31-Mar-17,CARDAMOM GROWERSFOREVER PRIVATE LIMITED,52,6949.8,4766.6,1327,1104.47\\r\\n1798,30-Mar-17,THE CARDAMOM PLANTERS MARKETING CO-OPERATIVE SOCIETY LIMITED,209,45686,43829,1325,1178.84\\r\\n1799,30-Mar-17,\"The Kerala Cardamom Processing and Marketing Company Limited, Thekkady\",143,22387.4,22227.5,1331,1164.08\\r\\n1800,29-Mar-17,VANDANMEDU GREEN GOLD CARDAMOM PRODUCER CoLtd,116,19139.5,18878.2,1325,1172.08\\r\\n1801,29-Mar-17,SUGANDHAGIRI SPICES PROMOTERS&TRADERS Pvt Ltd,112,20106.3,16820.3,1312,1162.66\\r\\n1802,28-Mar-17,\"South Indian Green Cardamom Company Ltd, Kochi\",180,30598.4,30508.2,1345,1169.26\\r\\n1803,28-Mar-17,\"Header Systems (India) Limited, Nedumkandam\",154,26038.4,24242.9,1337,1149.95\\r\\n1804,27-Mar-17,\"Cardamom Planters\\' Association, Santhanpara\",95,13186.9,11914.7,1260,1114.01\\r\\n1805,27-Mar-17,IDUKKI Dist.TRADITIONAL CARDAMOM PRODUCER COMPANY Ltd,132,16480.7,14486,1322,1121.05\\r\\n1806,25-Mar-17,\"Mas Enterprises, Vandanmettu\",231,38001.9,37895.7,1395,1175.62\\r\\n1807,25-Mar-17,Green House Cardamom Mktg.India Pvt. Ltd,57,8263.6,8001.9,1337,1230.63\\r\\n1808,24-Mar-17,STATE TRADING CORPORATION,136,21770.5,21719.8,1302,1160.49\\r\\n1809,24-Mar-17,CARDAMOM GROWERSFOREVER PRIVATE LIMITED,92,11543.4,10071.2,1328,1163.21\\r\\n1810,23-Mar-17,\"The Kerala Cardamom Processing and Marketing Company Limited, Thekkady\",205,38147.8,38147.8,1359,1169.47\\r\\n1811,23-Mar-17,\"The Cardamom Processing & Marketing Co-Operative Society Ltd, Kumily\",248,50392.1,49957.2,1350,1187.9\\r\\n1812,22-Mar-17,VANDANMEDU GREEN GOLD CARDAMOM PRODUCER CoLtd,171,31128.1,31128.1,1359,1202.11\\r\\n1813,22-Mar-17,SUGANDHAGIRI SPICES PROMOTERS&TRADERS Pvt Ltd,174,27061.7,26777.6,1330,1174.79\\r\\n1814,21-Mar-17,\"South Indian Green Cardamom Company Ltd, Kochi\",269,42858,42502.4,1375,1194.62\\r\\n1815,21-Mar-17,\"Header Systems (India) Limited, Nedumkandam\",185,32834.9,32554.7,1338,1174.34\\r\\n1816,20-Mar-17,IDUKKI Dist.TRADITIONAL CARDAMOM PRODUCER COMPANY Ltd,106,16260.1,15520.2,1364,1183.37\\r\\n1817,18-Mar-17,\"Mas Enterprises, Vandanmettu\",261,42172.1,41518.6,1379,1189.22\\r\\n1818,18-Mar-17,Green House Cardamom Mktg.India Pvt. Ltd,40,6239.2,5740.1,1361,1267.33\\r\\n1819,17-Mar-17,STATE TRADING CORPORATION,131,22624,22357.7,1369,1171.82\\r\\n1820,17-Mar-17,CARDAMOM GROWERSFOREVER PRIVATE LIMITED,105,13500.5,13248.1,1405,1180.3\\r\\n1821,16-Mar-17,THE CARDAMOM PLANTERS MARKETING CO-OPERATIVE SOCIETY LIMITED,269,57134.9,56386.9,1426,1176.87\\r\\n1822,16-Mar-17,\"The Kerala Cardamom Processing and Marketing Company Limited, Thekkady\",207,41712.7,41255.4,1351.5,1179.15\\r\\n1823,15-Mar-17,VANDANMEDU GREEN GOLD CARDAMOM PRODUCER CoLtd,133,23209.4,23011,1356,1190.1\\r\\n1824,15-Mar-17,SUGANDHAGIRI SPICES PROMOTERS&TRADERS Pvt Ltd,144,22080,20567.6,1334,1166.01\\r\\n1825,14-Mar-17,\"South Indian Green Cardamom Company Ltd, Kochi\",326,58932.1,57157.6,1419,1190.18\\r\\n1826,14-Mar-17,\"Header Systems (India) Limited, Nedumkandam\",235,42993.9,39030.2,1367,1151.42\\r\\n1827,13-Mar-17,IDUKKI Dist.TRADITIONAL CARDAMOM PRODUCER COMPANY Ltd,161,25209.4,23823.2,1434,1215.93\\r\\n1828,11-Mar-17,\"Mas Enterprises, Vandanmettu\",265,42976.4,39466,1492,1248.64\\r\\n1829,11-Mar-17,Green House Cardamom Mktg.India Pvt. Ltd,35,5142,4606.7,1358,1280.04\\r\\n1830,10-Mar-17,STATE TRADING CORPORATION,136,20966.9,20821.7,1358,1226.88\\r\\n1831,10-Mar-17,CARDAMOM GROWERSFOREVER PRIVATE LIMITED,66,9110.6,8143.9,1397,1192.86\\r\\n1832,9-Mar-17,THE CARDAMOM PLANTERS MARKETING CO-OPERATIVE SOCIETY LIMITED,220,44215,42997.3,1460,1262.23\\r\\n1833,9-Mar-17,\"The Kerala Cardamom Processing and Marketing Company Limited, Thekkady\",224,38770,37705.1,1433,1256.64\\r\\n1834,8-Mar-17,VANDANMEDU GREEN GOLD CARDAMOM PRODUCER CoLtd,131,24587.7,24587.7,1480,1262.97\\r\\n1835,8-Mar-17,SUGANDHAGIRI SPICES PROMOTERS&TRADERS Pvt Ltd,135,20123.3,19643.5,1430,1275.62\\r\\n1836,7-Mar-17,\"South Indian Green Cardamom Company Ltd, Kochi\",251,45498.2,44813.4,1424,1229.84\\r\\n1837,7-Mar-17,\"Header Systems (India) Limited, Nedumkandam\",146,25638,25199.9,1402,1243.67\\r\\n1838,6-Mar-17,IDUKKI Dist.TRADITIONAL CARDAMOM PRODUCER COMPANY Ltd,117,17503.9,17503.9,1409,1196.97\\r\\n1839,4-Mar-17,\"Mas Enterprises, Vandanmettu\",289,46067.2,42375.6,1435,1211.05\\r\\n1840,4-Mar-17,Green House Cardamom Mktg.India Pvt. Ltd,33,5280.3,4850.7,1402,1201.86\\r\\n1841,3-Mar-17,STATE TRADING CORPORATION,140,20504.8,19187.2,1323,1194.69\\r\\n1842,3-Mar-17,CARDAMOM GROWERSFOREVER PRIVATE LIMITED,107,13896.4,13793.3,1359,1191.22\\r\\n1843,2-Mar-17,THE CARDAMOM PLANTERS MARKETING CO-OPERATIVE SOCIETY LIMITED,279,58028,56088.2,1489,1231.33\\r\\n1844,2-Mar-17,\"The Kerala Cardamom Processing and Marketing Company Limited, Thekkady\",242,47275.1,46222.2,1398,1213.61\\r\\n1845,1-Mar-17,VANDANMEDU GREEN GOLD CARDAMOM PRODUCER CoLtd,253,46175.3,44561,1413,1228.78\\r\\n1846,1-Mar-17,SUGANDHAGIRI SPICES PROMOTERS&TRADERS Pvt Ltd,145,23059.8,20250.6,1460,1214.05\\r\\n1847,28-Feb-17,\"South Indian Green Cardamom Company Ltd, Kochi\",342,64927.6,63483.6,1480,1265.5\\r\\n1848,28-Feb-17,\"Header Systems (India) Limited, Nedumkandam\",218,38818.1,36954.2,1393,1234.09\\r\\n1849,27-Feb-17,IDUKKI Dist.TRADITIONAL CARDAMOM PRODUCER COMPANY Ltd,186,26453.1,25639.2,1428,1254.46\\r\\n1850,25-Feb-17,\"Mas Enterprises, Vandanmettu\",304,53163.8,49183.3,1516,1292.87\\r\\n1851,25-Feb-17,Green House Cardamom Mktg.India Pvt. Ltd,42,5064,4522.7,1428,1306.17\\r\\n1852,24-Feb-17,STATE TRADING CORPORATION,139,22426.9,20633.3,1396,1275.21\\r\\n1853,24-Feb-17,CARDAMOM GROWERSFOREVER PRIVATE LIMITED,110,14207.8,11798.5,1454,1270.78\\r\\n1854,23-Feb-17,THE CARDAMOM PLANTERS MARKETING CO-OPERATIVE SOCIETY LIMITED,300,69302.6,66921.5,1482,1309.05\\r\\n1855,23-Feb-17,\"The Kerala Cardamom Processing and Marketing Company Limited, Thekkady\",282,59702.6,59307.3,1440,1281.85\\r\\n1856,22-Feb-17,VANDANMEDU GREEN GOLD CARDAMOM PRODUCER CoLtd,257,46308.8,45657.8,1480,1295.83\\r\\n1857,22-Feb-17,SUGANDHAGIRI SPICES PROMOTERS&TRADERS Pvt Ltd,153,24853.2,23285.4,1420,1280.98\\r\\n1858,21-Feb-17,\"South Indian Green Cardamom Company Ltd, Kochi\",374,73929.7,73654.7,1496,1313.13\\r\\n1859,21-Feb-17,\"Header Systems (India) Limited, Nedumkandam\",282,53538.3,52933,1418,1277.75\\r\\n1860,20-Feb-17,IDUKKI Dist.TRADITIONAL CARDAMOM PRODUCER COMPANY Ltd,190,29317.7,27902.4,1478,1323.84\\r\\n1861,18-Feb-17,\"Mas Enterprises, Vandanmettu\",296,47484.3,45875.7,1464,1309.48\\r\\n1862,18-Feb-17,Green House Cardamom Mktg.India Pvt. Ltd,44,5956.8,5956.8,1447,1350.48\\r\\n1863,17-Feb-17,STATE TRADING CORPORATION,91,14559.1,13552.3,1420,1312.5\\r\\n1864,17-Feb-17,CARDAMOM GROWERSFOREVER PRIVATE LIMITED,81,11490.8,11047.9,1442,1312.12\\r\\n1865,16-Feb-17,THE CARDAMOM PLANTERS MARKETING CO-OPERATIVE SOCIETY LIMITED,316,69514.5,69081.9,1480,1341.77\\r\\n1866,16-Feb-17,\"The Kerala Cardamom Processing and Marketing Company Limited, Thekkady\",284,59257.7,59257.7,1470,1313.55\\r\\n1867,15-Feb-17,VANDANMEDU GREEN GOLD CARDAMOM PRODUCER CoLtd,192,35598.8,35251,1476,1326.28\\r\\n1868,15-Feb-17,SUGANDHAGIRI SPICES PROMOTERS&TRADERS Pvt Ltd,157,25049.1,22767.5,1466,1322.37\\r\\n1869,14-Feb-17,\"South Indian Green Cardamom Company Ltd, Kochi\",375,71142.3,65901.4,1495,1335.57\\r\\n1870,14-Feb-17,\"Header Systems (India) Limited, Nedumkandam\",337,60443.9,53917.3,1432,1291.12\\r\\n1871,13-Feb-17,\"Cardamom Planters\\' Association, Santhanpara\",61,9753.2,8358.2,1356,1304.13\\r\\n1872,13-Feb-17,IDUKKI Dist.TRADITIONAL CARDAMOM PRODUCER COMPANY Ltd,120,17010.6,15790.8,1523,1326.02\\r\\n1873,11-Feb-17,Green House Cardamom Mktg.India Pvt. Ltd,52,7057.9,5768.8,1468,1371.29\\r\\n1874,11-Feb-17,\"Mas Enterprises, Vandanmettu\",347,62028.9,57295.9,1518,1341.23\\r\\n1875,10-Feb-17,STATE TRADING CORPORATION,183,31027.3,28583.7,1490,1344.04\\r\\n1876,10-Feb-17,CARDAMOM GROWERSFOREVER PRIVATE LIMITED,103,15149.1,12663.4,1528,1325.08\\r\\n1877,9-Feb-17,\"The Cardamom Processing & Marketing Co-Operative Society Ltd, Kumily\",310,70868.1,67316.9,1504,1362.46\\r\\n1878,9-Feb-17,\"The Kerala Cardamom Processing and Marketing Company Limited, Thekkady\",301,57820.3,56278.2,1511,1344.35\\r\\n1879,8-Feb-17,VANDANMEDU GREEN GOLD CARDAMOM PRODUCER CoLtd,237,41425.2,41028.9,1511,1356.9\\r\\n1880,8-Feb-17,SUGANDHAGIRI SPICES PROMOTERS&TRADERS Pvt Ltd,158,27126.6,25333.4,1542,1349.87\\r\\n1881,7-Feb-17,\"South Indian Green Cardamom Company Ltd, Kochi\",336,62681.6,62182.2,1567,1378.3\\r\\n1882,7-Feb-17,\"Header Systems (India) Limited, Nedumkandam\",300,56475.1,55560.6,1554,1354.23\\r\\n1883,6-Feb-17,\"Cardamom Planters\\' Association, Santhanpara\",46,5331.8,4679.9,1474,1325.04\\r\\n1884,6-Feb-17,IDUKKI Dist.TRADITIONAL CARDAMOM PRODUCER COMPANY Ltd,155,25531.9,25154.4,1549,1363.05\\r\\n1885,4-Feb-17,\"Mas Enterprises, Vandanmettu\",226,35130.3,35010.4,1560,1365.92\\r\\n1886,4-Feb-17,Green House Cardamom Mktg.India Pvt. Ltd,43,6088.5,5980.3,1518,1336.26\\r\\n1887,3-Feb-17,STATE TRADING CORPORATION,113,17100.7,15873.8,1466,1338.72\\r\\n1888,3-Feb-17,CARDAMOM GROWERSFOREVER PRIVATE LIMITED,121,17547.2,17446.5,1438,1306.34\\r\\n1889,2-Feb-17,THE CARDAMOM PLANTERS MARKETING CO-OPERATIVE SOCIETY LIMITED,263,57086.9,56082.6,1492,1344.35\\r\\n1890,2-Feb-17,\"The Kerala Cardamom Processing and Marketing Company Limited, Thekkady\",299,60046.1,60046.1,1505,1324.97\\r\\n1891,1-Feb-17,VANDANMEDU GREEN GOLD CARDAMOM PRODUCER CoLtd,183,31236.4,31236.4,1476,1335.04\\r\\n1892,1-Feb-17,SUGANDHAGIRI SPICES PROMOTERS&TRADERS Pvt Ltd,77,12083.4,11478.1,1468,1321.9\\r\\n1893,31-Jan-17,\"South Indian Green Cardamom Company Ltd, Kochi\",374,70663.7,69200.5,1520,1337.67\\r\\n1894,31-Jan-17,\"Header Systems (India) Limited, Nedumkandam\",253,45313.1,43962.1,1461,1291.74\\r\\n1895,30-Jan-17,\"Cardamom Planters\\' Association, Santhanpara\",65,8360.8,7643.1,1450,1296.1\\r\\n1896,30-Jan-17,IDUKKI Dist.TRADITIONAL CARDAMOM PRODUCER COMPANY Ltd,217,35776.6,34148.6,1502,1312\\r\\n1897,28-Jan-17,\"Mas Enterprises, Vandanmettu\",292,49277.4,46507.4,1517,1313.6\\r\\n1898,28-Jan-17,Green House Cardamom Mktg.India Pvt. Ltd,54,7401.3,6381.9,1502,1335.33\\r\\n1899,27-Jan-17,STATE TRADING CORPORATION,162,23943.4,23001,1481,1345.8\\r\\n1900,27-Jan-17,CARDAMOM GROWERSFOREVER PRIVATE LIMITED,179,25874.3,25086.1,1575,1367.41\\r\\n1901,25-Jan-17,VANDANMEDU GREEN GOLD CARDAMOM PRODUCER CoLtd,178,29843.9,29500.5,1518,1350.64\\r\\n1902,25-Jan-17,SUGANDHAGIRI SPICES PROMOTERS&TRADERS Pvt Ltd,186,30163.6,28509.4,1633,1340.57\\r\\n1903,24-Jan-17,\"South Indian Green Cardamom Company Ltd, Kochi\",324,59259,58121.3,1667,1363.98\\r\\n1904,24-Jan-17,\"Header Systems (India) Limited, Nedumkandam\",298,57941.9,54696.8,1534,1349.2\\r\\n1905,23-Jan-17,\"Cardamom Planters\\' Association, Santhanpara\",144,18161.3,13779.3,1451,1344\\r\\n1906,23-Jan-17,IDUKKI Dist.TRADITIONAL CARDAMOM PRODUCER COMPANY Ltd,181,29581.1,29123.6,1546,1358.64\\r\\n1907,21-Jan-17,\"Mas Enterprises, Vandanmettu\",337,56979.7,55361.2,1549,1351.78\\r\\n1908,21-Jan-17,Green House Cardamom Mktg.India Pvt. Ltd,48,6235.2,6235.2,1510,1378.06\\r\\n1909,19-Jan-17,THE CARDAMOM PLANTERS MARKETING CO-OPERATIVE SOCIETY LIMITED,254,54898.3,54898.3,1535,1386.23\\r\\n1910,19-Jan-17,\"The Kerala Cardamom Processing and Marketing Company Limited, Thekkady\",261,51039.5,50788.2,1521,1380.25\\r\\n1911,18-Jan-17,VANDANMEDU GREEN GOLD CARDAMOM PRODUCER CoLtd,200,32382,31985.3,1550,1378\\r\\n1912,18-Jan-17,SUGANDHAGIRI SPICES PROMOTERS&TRADERS Pvt Ltd,141,20241.9,19408.3,1622,1373.44\\r\\n1913,17-Jan-17,\"South Indian Green Cardamom Company Ltd, Kochi\",286,57239.9,52976.1,1570,1388.96\\r\\n1914,17-Jan-17,\"Header Systems (India) Limited, Nedumkandam\",311,59017.7,58891.4,1571,1381.41\\r\\n1915,13-Jan-17,STATE TRADING CORPORATION,154,23444.2,23251.5,1576,1373\\r\\n1916,13-Jan-17,CARDAMOM GROWERSFOREVER PRIVATE LIMITED,140,18853.5,18530.4,1557,1358.65\\r\\n1917,12-Jan-17,THE CARDAMOM PLANTERS MARKETING CO-OPERATIVE SOCIETY LIMITED,271,57375,57375,1567,1371.65\\r\\n1918,12-Jan-17,\"The Kerala Cardamom Processing and Marketing Company Limited, Thekkady\",278,49754.2,49476.9,1555,1359.29\\r\\n1919,11-Jan-17,VANDANMEDU GREEN GOLD CARDAMOM PRODUCER CoLtd,226,38303.4,38040.4,1553,1380.11\\r\\n1920,11-Jan-17,SUGANDHAGIRI SPICES PROMOTERS&TRADERS Pvt Ltd,193,30102.6,27026.6,1640,1351.94\\r\\n1921,10-Jan-17,\"South Indian Green Cardamom Company Ltd, Kochi\",397,73443.6,72456.5,1767,1373.1\\r\\n1922,10-Jan-17,\"Header Systems (India) Limited, Nedumkandam\",332,61523.4,61107.2,1602.5,1337.56\\r\\n1923,9-Jan-17,\"Cardamom Planters\\' Association, Santhanpara\",88,13398.6,13102.9,1476,1256.86\\r\\n1924,9-Jan-17,IDUKKI Dist.TRADITIONAL CARDAMOM PRODUCER COMPANY Ltd,245,44520,38023.7,1564,1354.99\\r\\n1925,7-Jan-17,\"Mas Enterprises, Vandanmettu\",308,51881.5,51807,1564,1349.46\\r\\n1926,7-Jan-17,Green House Cardamom Mktg.India Pvt. Ltd,43,6121.7,6121.7,1485,1365.92\\r\\n1927,6-Jan-17,STATE TRADING CORPORATION,187,28118.5,28118.5,1527,1375.64\\r\\n1928,6-Jan-17,CARDAMOM GROWERSFOREVER PRIVATE LIMITED,170,23944.3,23536.9,1558,1395.99\\r\\n1929,5-Jan-17,THE CARDAMOM PLANTERS MARKETING CO-OPERATIVE SOCIETY LIMITED,287,63131.2,61853.1,1548,1337.46\\r\\n1930,5-Jan-17,\"The Kerala Cardamom Processing and Marketing Company Limited, Thekkady\",294,51247,50799.1,1531,1344.57\\r\\n1931,4-Jan-17,VANDANMEDU GREEN GOLD CARDAMOM PRODUCER CoLtd,158,25942.5,25942.5,1639,1413.97\\r\\n1932,4-Jan-17,SUGANDHAGIRI SPICES PROMOTERS&TRADERS Pvt Ltd,142,20052.1,19493.7,1649,1364.97\\r\\n1933,3-Jan-17,\"South Indian Green Cardamom Company Ltd, Kochi\",238,37622.1,37622.1,1503,1332.28\\r\\n1934,3-Jan-17,\"Header Systems (India) Limited, Nedumkandam\",325,58808.8,58808.8,1495,1291.11\\r\\n1935,2-Jan-17,IDUKKI Dist.TRADITIONAL CARDAMOM PRODUCER COMPANY Ltd,159,25294.4,25294.4,1515,1288.8\\r\\n1936,31-Dec-16,\"Mas Enterprises, Vandanmettu\",253,41110.7,40802.8,1419,1243.2\\r\\n1937,30-Dec-16,STATE TRADING CORPORATION,114,16915.8,16284.4,1448,1216.1\\r\\n1938,30-Dec-16,CARDAMOM GROWERSFOREVER PRIVATE LIMITED,99,13187.3,12645.4,1445,1175.37\\r\\n1939,29-Dec-16,THE CARDAMOM PLANTERS MARKETING CO-OPERATIVE SOCIETY LIMITED,225,52208.5,52021.9,1439,1227.28\\r\\n1940,29-Dec-16,\"The Kerala Cardamom Processing and Marketing Company Limited, Thekkady\",236,43839.5,43839.5,1391,1219.58\\r\\n1941,28-Dec-16,VANDANMEDU GREEN GOLD CARDAMOM PRODUCER CoLtd,82,13248.5,13248.5,1410,1226.55\\r\\n1942,28-Dec-16,SUGANDHAGIRI SPICES PROMOTERS&TRADERS Pvt Ltd,148,23012.1,21818.6,1476,1206.17\\r\\n1943,27-Dec-16,\"South Indian Green Cardamom Company Ltd, Kochi\",173,26930.4,26756,1407,1190.84\\r\\n1944,27-Dec-16,\"Header Systems (India) Limited, Nedumkandam\",211,36705.6,36705.6,1378,1186.57\\r\\n1945,26-Dec-16,IDUKKI Dist.TRADITIONAL CARDAMOM PRODUCER COMPANY Ltd,118,18856.1,18539.5,1379,1153.47\\r\\n1946,24-Dec-16,\"Mas Enterprises, Vandanmettu\",274,43088.7,42866.1,1311,1147.98\\r\\n1947,23-Dec-16,STATE TRADING CORPORATION,102,17414.1,14962.5,1321,1135.42\\r\\n1948,23-Dec-16,CARDAMOM GROWERSFOREVER PRIVATE LIMITED,160,21309.6,18858.3,1338,1111.58\\r\\n1949,22-Dec-16,\"The Cardamom Processing & Marketing Co-Operative Society Ltd, Kumily\",327,79781.5,76104.4,1380,1165.05\\r\\n1950,22-Dec-16,\"The Kerala Cardamom Processing and Marketing Company Limited, Thekkady\",317,63138.1,62075.9,1374,1137.94\\r\\n1951,21-Dec-16,VANDANMEDU GREEN GOLD CARDAMOM PRODUCER CoLtd,157,26195.6,25689.9,1326,1170.81\\r\\n1952,21-Dec-16,SUGANDHAGIRI SPICES PROMOTERS&TRADERS Pvt Ltd,156,26083.5,24819.3,1394,1151.39\\r\\n1953,20-Dec-16,\"South Indian Green Cardamom Company Ltd, Kochi\",376,69212.5,67444.6,1388,1165.81\\r\\n1954,20-Dec-16,\"Header Systems (India) Limited, Nedumkandam\",394,75518,68041.3,1381,1142.79\\r\\n1955,19-Dec-16,IDUKKI Dist.TRADITIONAL CARDAMOM PRODUCER COMPANY Ltd,174,25736.8,25587.8,1350,1196.33\\r\\n1956,17-Dec-16,\"Mas Enterprises, Vandanmettu\",416,69221.3,65871.9,1445,1190.82\\r\\n1957,17-Dec-16,Green House Cardamom Mktg.India Pvt. Ltd,43,5599.7,5492,1359,1227.57\\r\\n1958,16-Dec-16,STATE TRADING CORPORATION,155,26831.3,25126.6,1354,1199.55\\r\\n1959,16-Dec-16,CARDAMOM GROWERSFOREVER PRIVATE LIMITED,315,50056.5,49894.5,1400,1186.44\\r\\n1960,15-Dec-16,THE CARDAMOM PLANTERS MARKETING CO-OPERATIVE SOCIETY LIMITED,336,80599.9,79119.9,1392,1218.17\\r\\n1961,15-Dec-16,\"The Kerala Cardamom Processing and Marketing Company Limited, Thekkady\",333,64042.5,61785.2,1390,1202.95\\r\\n1962,14-Dec-16,VANDANMEDU GREEN GOLD CARDAMOM PRODUCER CoLtd,179,32942.5,32942.5,1400,1234.94\\r\\n1963,14-Dec-16,SUGANDHAGIRI SPICES PROMOTERS&TRADERS Pvt Ltd,200,30136,29027.2,1428,1198.32\\r\\n1964,13-Dec-16,\"South Indian Green Cardamom Company Ltd, Kochi\",320,57084.2,55685.7,1478,1230.56\\r\\n1965,13-Dec-16,\"Header Systems (India) Limited, Nedumkandam\",294,57699.7,54502.9,1400,1208.75\\r\\n1966,12-Dec-16,IDUKKI Dist.TRADITIONAL CARDAMOM PRODUCER COMPANY Ltd,186,28774.7,27876.7,1378,1240.65\\r\\n1967,10-Dec-16,\"Mas Enterprises, Vandanmettu\",228,38942.9,37295.7,1400,1252.71\\r\\n1968,10-Dec-16,Green House Cardamom Mktg.India Pvt. Ltd,48,6012.6,4779.4,1381,1146.16\\r\\n1969,9-Dec-16,STATE TRADING CORPORATION,128,19398.7,18374.4,1444,1221.74\\r\\n1970,9-Dec-16,CARDAMOM GROWERSFOREVER PRIVATE LIMITED,152,21464.4,20943.2,1442,1256.38\\r\\n1971,8-Dec-16,THE CARDAMOM PLANTERS MARKETING CO-OPERATIVE SOCIETY LIMITED,167,39624.4,36751.5,1400,1244.58\\r\\n1972,8-Dec-16,\"The Kerala Cardamom Processing and Marketing Company Limited, Thekkady\",130,22138,22138,1437,1263.41\\r\\n1973,5-Dec-16,\"Cardamom Planters\\' Association, Santhanpara\",95,11718,10465.7,1326,1175.27\\r\\n1974,5-Dec-16,IDUKKI Dist.TRADITIONAL CARDAMOM PRODUCER COMPANY Ltd,182,30760.7,27028,1389,1196.84\\r\\n1975,3-Dec-16,\"Mas Enterprises, Vandanmettu\",393,68230.3,59491.1,1462,1242.79\\r\\n1976,3-Dec-16,Green House Cardamom Mktg.India Pvt. Ltd,67,7958.7,6861.9,1387,1179.99\\r\\n1977,2-Dec-16,STATE TRADING CORPORATION,284,46572.8,41153.5,1453,1226.87\\r\\n1978,2-Dec-16,CARDAMOM GROWERSFOREVER PRIVATE LIMITED,221,32118.7,30623.2,1500,1249.54\\r\\n1979,1-Dec-16,THE CARDAMOM PLANTERS MARKETING CO-OPERATIVE SOCIETY LIMITED,253,60782.7,59731.3,1474,1305.01\\r\\n1980,1-Dec-16,\"The Kerala Cardamom Processing and Marketing Company Limited, Thekkady\",301,56797.1,56658.5,1436,1274.68\\r\\n1981,30-Nov-16,VANDANMEDU GREEN GOLD CARDAMOM PRODUCER CoLtd,201,34555.9,33783.2,1548,1324.39\\r\\n1982,30-Nov-16,SUGANDHAGIRI SPICES PROMOTERS&TRADERS Pvt Ltd,156,27517,26507.2,1578,1300.96\\r\\n1983,29-Nov-16,\"South Indian Green Cardamom Company Ltd, Kochi\",246,48937.8,48709.5,1516,1351.86\\r\\n1984,29-Nov-16,\"Header Systems (India) Limited, Nedumkandam\",242,50704.8,49972.5,1560.5,1312.32\\r\\n1985,28-Nov-16,\"Cardamom Planters\\' Association, Santhanpara\",46,7098.1,7051,1401,1249.64\\r\\n1986,28-Nov-16,IDUKKI Dist.TRADITIONAL CARDAMOM PRODUCER COMPANY Ltd,164,24819.8,23794.2,1552,1344.64\\r\\n1987,26-Nov-16,\"Mas Enterprises, Vandanmettu\",332,57784,56864.9,1520,1309.01\\r\\n1988,26-Nov-16,Green House Cardamom Mktg.India Pvt. Ltd,47,7122.7,6122.2,1460,1270.3\\r\\n1989,25-Nov-16,STATE TRADING CORPORATION,215,33527.9,31962.3,1433,1275.88\\r\\n1990,25-Nov-16,CARDAMOM GROWERSFOREVER PRIVATE LIMITED,124,20229.1,19581.9,1494,1328.73\\r\\n1991,24-Nov-16,THE CARDAMOM PLANTERS MARKETING CO-OPERATIVE SOCIETY LIMITED,231,51860.4,50853.8,1409,1242.61\\r\\n1992,24-Nov-16,\"The Kerala Cardamom Processing and Marketing Company Limited, Thekkady\",214,36267,36267,1421,1252.16\\r\\n1993,23-Nov-16,VANDANMEDU GREEN GOLD CARDAMOM PRODUCER CoLtd,123,22801,22330.3,1390,1238.52\\r\\n1994,23-Nov-16,SUGANDHAGIRI SPICES PROMOTERS&TRADERS Pvt Ltd,103,18405.8,18022.6,1441,1226.69\\r\\n1995,22-Nov-16,\"South Indian Green Cardamom Company Ltd, Kochi\",202,41842.3,41544.2,1439,1261.02\\r\\n1996,22-Nov-16,\"Header Systems (India) Limited, Nedumkandam\",127,26514.7,26514.7,1400,1227.69\\r\\n1997,21-Nov-16,IDUKKI Dist.TRADITIONAL CARDAMOM PRODUCER COMPANY Ltd,101,17074.5,17074.5,1501,1297.44\\r\\n1998,19-Nov-16,\"Mas Enterprises, Vandanmettu\",264,47020.7,43725.3,1459,1252.28\\r\\n1999,18-Nov-16,STATE TRADING CORPORATION,215,35793.9,34013.9,1451,1233.45\\r\\n2000,18-Nov-16,CARDAMOM GROWERSFOREVER PRIVATE LIMITED,199,30210.8,28238.3,1487,1239.98\\r\\n2001,16-Nov-16,VANDANMEDU GREEN GOLD CARDAMOM PRODUCER CoLtd,69,14966.6,14966.6,1453,1312.15\\r\\n2002,14-Nov-16,IDUKKI Dist.TRADITIONAL CARDAMOM PRODUCER COMPANY Ltd,100,15640.6,15041.1,1444,1267.49\\r\\n2003,12-Nov-16,\"Mas Enterprises, Vandanmettu\",196,35213.4,24931.8,1472,1207.69\\r\\n2004,12-Nov-16,Green House Cardamom Mktg.India Pvt. Ltd,61,9332.5,7902.6,1302,1211.53\\r\\n2005,11-Nov-16,VANDANMEDU GREEN GOLD CARDAMOM PRODUCER CoLtd,345,68273.6,41765.6,1482,1276.04\\r\\n2006,11-Nov-16,SUGANDHAGIRI SPICES PROMOTERS&TRADERS Pvt Ltd,184,34236.9,32653.9,1442,1220.89\\r\\n2007,10-Nov-16,THE CARDAMOM PLANTERS MARKETING CO-OPERATIVE SOCIETY LIMITED,175,40670.9,36307.8,1502,1289.46\\r\\n2008,10-Nov-16,\"The Kerala Cardamom Processing and Marketing Company Limited, Thekkady\",211,42816.7,39626.1,1490,1293.03\\r\\n2009,8-Nov-16,\"South Indian Green Cardamom Company Ltd, Kochi\",327,63332.1,59666.7,1556,1361.83\\r\\n2010,8-Nov-16,\"Header Systems (India) Limited, Nedumkandam\",341,76682,73609.5,1541,1355.99\\r\\n2011,7-Nov-16,\"Cardamom Planters\\' Association, Santhanpara\",67,10370.2,8969.4,1420,1206.86\\r\\n2012,7-Nov-16,IDUKKI Dist.TRADITIONAL CARDAMOM PRODUCER COMPANY Ltd,191,35043.8,35043.8,1493,1309.78\\r\\n2013,5-Nov-16,\"Mas Enterprises, Vandanmettu\",395,82319.6,79846.9,1345,1167.32\\r\\n2014,5-Nov-16,Green House Cardamom Mktg.India Pvt. Ltd,119,20803.6,19605.3,1350,1186.67\\r\\n2015,4-Nov-16,STATE TRADING CORPORATION,236,41840.5,41474.2,1343,1159.41\\r\\n2016,4-Nov-16,CARDAMOM GROWERSFOREVER PRIVATE LIMITED,235,40923.5,38199.7,1351,1164.42\\r\\n2017,3-Nov-16,THE CARDAMOM PLANTERS MARKETING CO-OPERATIVE SOCIETY LIMITED,242,56155.9,54726.6,1332,1146.44\\r\\n2018,3-Nov-16,\"The Kerala Cardamom Processing and Marketing Company Limited, Thekkady\",210,43280.5,43046.2,1337,1160.31\\r\\n2019,2-Nov-16,VANDANMEDU GREEN GOLD CARDAMOM PRODUCER CoLtd,297,61487.5,59487.1,1351,1177.52\\r\\n2020,2-Nov-16,SUGANDHAGIRI SPICES PROMOTERS&TRADERS Pvt Ltd,235,46617.9,46617.9,1393,1194.11\\r\\n2021,1-Nov-16,\"South Indian Green Cardamom Company Ltd, Kochi\",339,68613.2,66085.7,1391,1170.89\\r\\n2022,1-Nov-16,\"Header Systems (India) Limited, Nedumkandam\",340,76659.3,76028,1420,1122.06\\r\\n2023,31-Oct-16,IDUKKI Dist.TRADITIONAL CARDAMOM PRODUCER COMPANY Ltd,224,43688.3,43230.8,1368,1168.76\\r\\n2024,28-Oct-16,STATE TRADING CORPORATION,302,53429.6,52801.6,1321,1123.19\\r\\n2025,28-Oct-16,CARDAMOM GROWERSFOREVER PRIVATE LIMITED,421,75054.6,73584,1362,1132.21\\r\\n2026,27-Oct-16,THE CARDAMOM PLANTERS MARKETING CO-OPERATIVE SOCIETY LIMITED,310,78601.9,77882.5,1293,1104.83\\r\\n2027,27-Oct-16,\"The Kerala Cardamom Processing and Marketing Company Limited, Thekkady\",291,65646.8,65646.8,1281,1117.52\\r\\n2028,26-Oct-16,VANDANMEDU GREEN GOLD CARDAMOM PRODUCER CoLtd,368,76755,76755,1280,1097.66\\r\\n2029,26-Oct-16,SUGANDHAGIRI SPICES PROMOTERS&TRADERS Pvt Ltd,288,60109.6,56775.6,1262,1103.63\\r\\n2030,25-Oct-16,\"South Indian Green Cardamom Company Ltd, Kochi\",472,105492,104520,1281,1098.93\\r\\n2031,25-Oct-16,\"Header Systems (India) Limited, Nedumkandam\",414,95349.1,94764.5,1280,1068.54\\r\\n2032,24-Oct-16,\"Cardamom Planters\\' Association, Santhanpara\",204,38509,37622.5,1255,1045.53\\r\\n2033,24-Oct-16,IDUKKI Dist.TRADITIONAL CARDAMOM PRODUCER COMPANY Ltd,273,55592.7,55592.7,1292,1110.17\\r\\n2034,22-Oct-16,\"Mas Enterprises, Vandanmettu\",436,92938.1,92938.1,1218,1033.71\\r\\n2035,22-Oct-16,Green House Cardamom Mktg.India Pvt. Ltd,97,16611.9,15771.5,1213,1063.39\\r\\n2036,21-Oct-16,STATE TRADING CORPORATION,295,49032.4,47667.2,1207,1037.43\\r\\n2037,21-Oct-16,CARDAMOM GROWERSFOREVER PRIVATE LIMITED,320,49068.4,45584.4,1267,1030.67\\r\\n2038,20-Oct-16,THE CARDAMOM PLANTERS MARKETING CO-OPERATIVE SOCIETY LIMITED,292,68348,67854.5,1208,1031.6\\r\\n2039,20-Oct-16,\"The Kerala Cardamom Processing and Marketing Company Limited, Thekkady\",327,73068,72178.8,1179,1026.03\\r\\n2040,19-Oct-16,VANDANMEDU GREEN GOLD CARDAMOM PRODUCER CoLtd,346,68561.1,67692.8,1208,1027.62\\r\\n2041,19-Oct-16,SUGANDHAGIRI SPICES PROMOTERS&TRADERS Pvt Ltd,265,50380.8,50080.5,1217,1029.69\\r\\n2042,18-Oct-16,\"South Indian Green Cardamom Company Ltd, Kochi\",449,100329,98707,1248,1040.82\\r\\n2043,18-Oct-16,\"Header Systems (India) Limited, Nedumkandam\",379,82752.8,81385.9,1215,1010.51\\r\\n2044,17-Oct-16,\"Cardamom Planters\\' Association, Santhanpara\",285,46594,44187.8,1205,973.42\\r\\n2045,17-Oct-16,IDUKKI Dist.TRADITIONAL CARDAMOM PRODUCER COMPANY Ltd,243,47678.5,47678.5,1240,1045.05\\r\\n2046,15-Oct-16,\"Mas Enterprises, Vandanmettu\",414,80411.1,76327.6,1255,1014.8\\r\\n2047,15-Oct-16,Green House Cardamom Mktg.India Pvt. Ltd,133,19747.5,18081.7,1186,1020.45\\r\\n2048,14-Oct-16,STATE TRADING CORPORATION,198,31775.3,29561.2,1222,1015.98\\r\\n2049,14-Oct-16,CARDAMOM GROWERSFOREVER PRIVATE LIMITED,286,46200.3,41466.4,1252,986.82\\r\\n2050,13-Oct-16,\"The Cardamom Processing & Marketing Co-Operative Society Ltd, Kumily\",282,66059.9,64780.1,1269,1046.95\\r\\n2051,13-Oct-16,\"The Kerala Cardamom Processing and Marketing Company Limited, Thekkady\",289,58275.8,58275.8,1218,1045.56\\r\\n2052,12-Oct-16,VANDANMEDU GREEN GOLD CARDAMOM PRODUCER CoLtd,323,64288.3,64288.3,1235,1040.08\\r\\n2053,12-Oct-16,SUGANDHAGIRI SPICES PROMOTERS&TRADERS Pvt Ltd,234,43135.7,42143.8,1226,1022.71\\r\\n2054,11-Oct-16,\"South Indian Green Cardamom Company Ltd, Kochi\",411,84531.9,84340.5,1225,1049.99\\r\\n2055,11-Oct-16,\"Header Systems (India) Limited, Nedumkandam\",345,70221.8,69532.4,1222,1011.68\\r\\n2056,8-Oct-16,\"Mas Enterprises, Vandanmettu\",409,78429.8,75705.2,1197,988.81\\r\\n2057,8-Oct-16,Green House Cardamom Mktg.India Pvt. Ltd,112,16079.7,14179.8,1134,981.98\\r\\n2058,7-Oct-16,STATE TRADING CORPORATION,257,40839.8,38458.4,1142,968.28\\r\\n2059,7-Oct-16,CARDAMOM GROWERSFOREVER PRIVATE LIMITED,283,41804.8,39434.7,1190,949.29\\r\\n2060,6-Oct-16,THE CARDAMOM PLANTERS MARKETING CO-OPERATIVE SOCIETY LIMITED,287,64347.8,63879.5,1179,967.4\\r\\n2061,6-Oct-16,\"The Kerala Cardamom Processing and Marketing Company Limited, Thekkady\",304,63591.5,63591.5,1201,978.8\\r\\n2062,5-Oct-16,VANDANMEDU GREEN GOLD CARDAMOM PRODUCER CoLtd,340,65588.8,62958.1,1167,957.04\\r\\n2063,5-Oct-16,SUGANDHAGIRI SPICES PROMOTERS&TRADERS Pvt Ltd,197,38124.6,37320.9,1149,959.86\\r\\n2064,4-Oct-16,\"South Indian Green Cardamom Company Ltd, Kochi\",325,66897.5,64333.3,1210,1004.05\\r\\n2065,4-Oct-16,\"Header Systems (India) Limited, Nedumkandam\",320,61744.8,59887.5,1189,965.81\\r\\n2066,3-Oct-16,\"Cardamom Planters\\' Association, Santhanpara\",285,40833.2,34254.7,1156,911.64\\r\\n2067,3-Oct-16,IDUKKI Dist.TRADITIONAL CARDAMOM PRODUCER COMPANY Ltd,262,47044.6,44973.7,1177,988.84\\r\\n2068,1-Oct-16,\"Mas Enterprises, Vandanmettu\",392,72631.6,64410.4,1224,962.99\\r\\n2069,1-Oct-16,Green House Cardamom Mktg.India Pvt. Ltd,132,17165.3,13717.5,1172,944.22\\r\\n2070,30-Sep-16,STATE TRADING CORPORATION,217,33679.1,30330.9,1148,957.32\\r\\n2071,30-Sep-16,CARDAMOM GROWERSFOREVER PRIVATE LIMITED,311,50060.8,42507.4,1174,938.65\\r\\n2072,29-Sep-16,THE CARDAMOM PLANTERS MARKETING CO-OPERATIVE SOCIETY LIMITED,272,61860.1,60327.8,1262,972.82\\r\\n2073,29-Sep-16,\"The Kerala Cardamom Processing and Marketing Company Limited, Thekkady\",282,56154.8,54755.4,1174,977.65\\r\\n2074,28-Sep-16,VANDANMEDU GREEN GOLD CARDAMOM PRODUCER CoLtd,345,69582.9,63325.8,1203,966.1\\r\\n2075,28-Sep-16,SUGANDHAGIRI SPICES PROMOTERS&TRADERS Pvt Ltd,246,48163.8,41479.3,1161,944.46\\r\\n2076,27-Sep-16,\"South Indian Green Cardamom Company Ltd, Kochi\",412,82801.6,79946.9,1244,981.73\\r\\n2077,27-Sep-16,\"Header Systems (India) Limited, Nedumkandam\",335,65766.9,62459.6,1205,948.35\\r\\n2078,26-Sep-16,\"Cardamom Planters\\' Association, Santhanpara\",253,36145.4,31271.7,1200,933.8\\r\\n2079,26-Sep-16,IDUKKI Dist.TRADITIONAL CARDAMOM PRODUCER COMPANY Ltd,229,40953.5,39327.9,1252,1013.57\\r\\n2080,24-Sep-16,\"Mas Enterprises, Vandanmettu\",410,76435.7,69993.9,1317,942.29\\r\\n2081,24-Sep-16,Green House Cardamom Mktg.India Pvt. Ltd,159,20414.6,16868.9,1145,925.38\\r\\n2082,23-Sep-16,STATE TRADING CORPORATION,237,33433.1,31518.7,1193,963.87\\r\\n2083,23-Sep-16,CARDAMOM GROWERSFOREVER PRIVATE LIMITED,377,57544.5,50006.7,1212,936.73\\r\\n2084,22-Sep-16,THE CARDAMOM PLANTERS MARKETING CO-OPERATIVE SOCIETY LIMITED,278,57804.8,56572,1228,961.73\\r\\n2085,22-Sep-16,\"The Kerala Cardamom Processing and Marketing Company Limited, Thekkady\",264,51593.9,51456.2,1197,985.97\\r\\n2086,21-Sep-16,VANDANMEDU GREEN GOLD CARDAMOM PRODUCER CoLtd,310,65206.2,63496.6,1272,1003.9\\r\\n2087,21-Sep-16,SUGANDHAGIRI SPICES PROMOTERS&TRADERS Pvt Ltd,294,60131.9,58397.2,1244,987.35\\r\\n2088,20-Sep-16,\"South Indian Green Cardamom Company Ltd, Kochi\",377,71357,66596.5,1308,1023.97\\r\\n2089,20-Sep-16,\"Header Systems (India) Limited, Nedumkandam\",378,78208.8,74429.1,1196,969.47\\r\\n2090,19-Sep-16,\"Cardamom Planters\\' Association, Santhanpara\",283,43092.9,36956.5,1258,969.37\\r\\n2091,19-Sep-16,IDUKKI Dist.TRADITIONAL CARDAMOM PRODUCER COMPANY Ltd,216,39728,38638.2,1263,1016.5\\r\\n2092,17-Sep-16,\"Mas Enterprises, Vandanmettu\",393,66058.5,64782.6,1306,990.05\\r\\n2093,15-Sep-16,\"The Cardamom Processing & Marketing Co-Operative Society Ltd, Kumily\",167,33922.4,33731,1239,1010\\r\\n2094,15-Sep-16,\"The Kerala Cardamom Processing and Marketing Company Limited, Thekkady\",143,23516.9,23516.9,1260,1019.13\\r\\n2095,13-Sep-16,\"South Indian Green Cardamom Company Ltd, Kochi\",306,53628.4,52157.2,1331,1029.38\\r\\n2096,13-Sep-16,\"Header Systems (India) Limited, Nedumkandam\",322,61837.6,56263.5,1263,954.83\\r\\n2097,10-Sep-16,\"Mas Enterprises, Vandanmettu\",337,49995.5,47185.3,1256,941.32\\r\\n2098,10-Sep-16,Green House Cardamom Mktg.India Pvt. Ltd,111,12018.6,10807.4,1077,931.52\\r\\n2099,9-Sep-16,STATE TRADING CORPORATION,131,19327.2,16823.5,1236,947.14\\r\\n2100,8-Sep-16,\"The Cardamom Processing & Marketing Co-Operative Society Ltd, Kumily\",199,41199.9,37609.5,1278,926.04\\r\\n2101,8-Sep-16,\"The Kerala Cardamom Processing and Marketing Company Limited, Thekkady\",164,28695.4,28695.4,1239,928.8\\r\\n2102,7-Sep-16,VANDANMEDU GREEN GOLD CARDAMOM PRODUCER CoLtd,338,60383.6,48699.7,1201,886.88\\r\\n2103,7-Sep-16,SUGANDHAGIRI SPICES PROMOTERS&TRADERS Pvt Ltd,258,51034.5,47739.2,1227,891.08\\r\\n2104,6-Sep-16,\"South Indian Green Cardamom Company Ltd, Kochi\",392,72581.5,66534.3,1325,923.23\\r\\n2105,6-Sep-16,\"Header Systems (India) Limited, Nedumkandam\",331,67042.2,60592.9,1140,863.51\\r\\n2106,5-Sep-16,\"Cardamom Planters\\' Association, Santhanpara\",194,26723.2,20888.3,1325,927.97\\r\\n2107,5-Sep-16,IDUKKI Dist.TRADITIONAL CARDAMOM PRODUCER COMPANY Ltd,179,32000.4,26010,1268,932.41\\r\\n2108,3-Sep-16,\"Mas Enterprises, Vandanmettu\",383,65062.3,50108.1,1306,921.37\\r\\n2109,3-Sep-16,Green House Cardamom Mktg.India Pvt. Ltd,118,15180.9,7836,1258,926.13\\r\\n2110,2-Sep-16,STATE TRADING CORPORATION,140,19721.5,16937.2,1316,922.18\\r\\n2111,2-Sep-16,CARDAMOM GROWERSFOREVER PRIVATE LIMITED,331,56329.1,49275.9,1163,915.75\\r\\n2112,1-Sep-16,\"The Cardamom Processing & Marketing Co-Operative Society Ltd, Kumily\",193,41501.6,40118.4,1278,935.89\\r\\n2113,1-Sep-16,\"The Kerala Cardamom Processing and Marketing Company Limited, Thekkady\",183,30975,30975,1334,962.51\\r\\n2114,31-Aug-16,VANDANMEDU GREEN GOLD CARDAMOM PRODUCER CoLtd,394,73369.9,66407.8,1264,982.19\\r\\n2115,31-Aug-16,SUGANDHAGIRI SPICES PROMOTERS&TRADERS Pvt Ltd,217,41035.6,37214.7,1250.5,961.36\\r\\n2116,30-Aug-16,\"South Indian Green Cardamom Company Ltd, Kochi\",352,56662.8,56044.1,1304,997.04\\r\\n2117,30-Aug-16,\"Header Systems (India) Limited, Nedumkandam\",389,81416.4,68385.2,1296,949.47\\r\\n2118,29-Aug-16,\"Cardamom Planters\\' Association, Santhanpara\",140,19173,17061.9,1239,945.11\\r\\n2119,29-Aug-16,IDUKKI Dist.TRADITIONAL CARDAMOM PRODUCER COMPANY Ltd,142,25884.8,22853.3,1314,984.71\\r\\n2120,27-Aug-16,\"Mas Enterprises, Vandanmettu\",339,60959,53429.6,1301,987.71\\r\\n2121,27-Aug-16,Green House Cardamom Mktg.India Pvt. Ltd,89,11044,9643,1123,949.83\\r\\n2122,26-Aug-16,STATE TRADING CORPORATION,83,11810.6,8735.2,1071,948.25\\r\\n2123,26-Aug-16,CARDAMOM GROWERSFOREVER PRIVATE LIMITED,216,31606.1,25414.7,1208,953.46\\r\\n2124,25-Aug-16,THE CARDAMOM PLANTERS MARKETING CO-OPERATIVE SOCIETY LIMITED,196,43098.2,40188.2,1254,921.2\\r\\n2125,25-Aug-16,\"The Kerala Cardamom Processing and Marketing Company Limited, Thekkady\",152,30902.4,30538.2,1213.5,923.46\\r\\n2126,24-Aug-16,VANDANMEDU GREEN GOLD CARDAMOM PRODUCER CoLtd,227,41528.4,35453.7,1407,991.23\\r\\n2127,24-Aug-16,SUGANDHAGIRI SPICES PROMOTERS&TRADERS Pvt Ltd,230,40194.1,36158.4,1228,983.64\\r\\n2128,23-Aug-16,\"South Indian Green Cardamom Company Ltd, Kochi\",280,45519.2,42743,1407,994.53\\r\\n2129,23-Aug-16,\"Header Systems (India) Limited, Nedumkandam\",320,66413,62482.7,1202,977.08\\r\\n2130,22-Aug-16,\"Cardamom Planters\\' Association, Santhanpara\",173,24387.7,20315.3,1147,928.88\\r\\n2131,22-Aug-16,IDUKKI Dist.TRADITIONAL CARDAMOM PRODUCER COMPANY Ltd,164,32980,30875.9,1282,969.89\\r\\n2132,20-Aug-16,\"Mas Enterprises, Vandanmettu\",357,58036.1,50611.6,1295,960.47\\r\\n2133,20-Aug-16,Green House Cardamom Mktg.India Pvt. Ltd,135,16487.1,12149,1114,963.85\\r\\n2134,19-Aug-16,STATE TRADING CORPORATION,161,26450.3,22705.6,1333.5,973.31\\r\\n2135,19-Aug-16,CARDAMOM GROWERSFOREVER PRIVATE LIMITED,349,53297.1,46297.8,1263,943.88\\r\\n2136,18-Aug-16,\"The Cardamom Processing & Marketing Co-Operative Society Ltd, Kumily\",188,39290,39290,1495,1033.86\\r\\n2137,18-Aug-16,\"The Kerala Cardamom Processing and Marketing Company Limited, Thekkady\",187,38350.5,37774.1,1331,1018.1\\r\\n2138,17-Aug-16,VANDANMEDU GREEN GOLD CARDAMOM PRODUCER CoLtd,255,44439,44439,1402,1035.52\\r\\n2139,17-Aug-16,SUGANDHAGIRI SPICES PROMOTERS&TRADERS Pvt Ltd,207,35215.7,34469.9,1428,1057.14\\r\\n2140,16-Aug-16,\"South Indian Green Cardamom Company Ltd, Kochi\",294,50644.2,50016.4,1348,972.21\\r\\n2141,16-Aug-16,\"Header Systems (India) Limited, Nedumkandam\",307,61454.1,59860.4,1236,975.22\\r\\n2142,13-Aug-16,\"Mas Enterprises, Vandanmettu\",284,44607.4,44607.4,1250,940.1\\r\\n2143,13-Aug-16,Green House Cardamom Mktg.India Pvt. Ltd,108,13439.9,13343.7,1080,930.57\\r\\n2144,12-Aug-16,STATE TRADING CORPORATION,68,10225.1,10225.1,1202,899.86\\r\\n2145,12-Aug-16,CARDAMOM GROWERSFOREVER PRIVATE LIMITED,275,43005.2,43005.2,1153,899.61\\r\\n2146,11-Aug-16,\"The Cardamom Processing & Marketing Co-Operative Society Ltd, Kumily\",157,29979.5,29979.5,1216,890.78\\r\\n2147,11-Aug-16,\"The Kerala Cardamom Processing and Marketing Company Limited, Thekkady\",154,30808.5,30691,1213,905.77\\r\\n2148,10-Aug-16,VANDANMEDU GREEN GOLD CARDAMOM PRODUCER CoLtd,277,48193.7,47055.3,1222,881.02\\r\\n2149,10-Aug-16,SUGANDHAGIRI SPICES PROMOTERS&TRADERS Pvt Ltd,213,41179.2,41179.2,1157,873.87\\r\\n2150,8-Aug-16,\"Cardamom Planters\\' Association, Santhanpara\",81,10450.9,10239.5,966,766.23\\r\\n2151,8-Aug-16,IDUKKI Dist.TRADITIONAL CARDAMOM PRODUCER COMPANY Ltd,119,22793.4,22793.4,1137,842.55\\r\\n2152,6-Aug-16,\"Mas Enterprises, Vandanmettu\",314,53403.5,50595.7,1181,803.44\\r\\n2153,6-Aug-16,Green House Cardamom Mktg.India Pvt. Ltd,83,10004.4,9366.9,940,808.01\\r\\n2154,5-Aug-16,STATE TRADING CORPORATION,83,12938.3,8600.4,996,757.24\\r\\n2155,5-Aug-16,CARDAMOM GROWERSFOREVER PRIVATE LIMITED,271,41933.2,35050.4,1068,787.71\\r\\n2156,4-Aug-16,THE CARDAMOM PLANTERS MARKETING CO-OPERATIVE SOCIETY LIMITED,150,31908.2,30744.6,1107,803.84\\r\\n2157,4-Aug-16,\"The Kerala Cardamom Processing and Marketing Company Limited, Thekkady\",164,35682.5,32772,1109,812.18\\r\\n2158,3-Aug-16,VANDANMEDU GREEN GOLD CARDAMOM PRODUCER CoLtd,256,44568.4,42566.6,1176,807.38\\r\\n2159,3-Aug-16,SUGANDHAGIRI SPICES PROMOTERS&TRADERS Pvt Ltd,237,45148.9,40049.1,1132,805.39\\r\\n2160,2-Aug-16,\"South Indian Green Cardamom Company Ltd, Kochi\",272,49176.6,47461.7,1164.5,820.76\\r\\n2161,2-Aug-16,\"Header Systems (India) Limited, Nedumkandam\",299,57128.9,55326.7,1190,801.86\\r\\n2162,1-Aug-16,\"Cardamom Planters\\' Association, Santhanpara\",98,15360.4,9572.2,920,768.08\\r\\n2163,1-Aug-16,IDUKKI Dist.TRADITIONAL CARDAMOM PRODUCER COMPANY Ltd,132,28032.1,25920.5,1101,831.47\\r\\n2164,30-Jul-16,\"Mas Enterprises, Vandanmettu\",314,56584.4,48157.8,1192,788.08\\r\\n2165,30-Jul-16,Green House Cardamom Mktg.India Pvt. Ltd,79,10940,9786.3,1017,779.84\\r\\n2166,29-Jul-16,STATE TRADING CORPORATION,106,18429.4,14781,1062,774.78\\r\\n2167,29-Jul-16,CARDAMOM GROWERSFOREVER PRIVATE LIMITED,276,42535.2,34913.6,1114,802.43\\r\\n2168,28-Jul-16,THE CARDAMOM PLANTERS MARKETING CO-OPERATIVE SOCIETY LIMITED,172,33619.8,32733.6,1102,792.75\\r\\n2169,28-Jul-16,\"The Kerala Cardamom Processing and Marketing Company Limited, Thekkady\",173,37268.1,36570.4,1121,819.76\\r\\n2170,27-Jul-16,VANDANMEDU GREEN GOLD CARDAMOM PRODUCER CoLtd,195,32619,31506.9,1122,828.88\\r\\n2171,27-Jul-16,SUGANDHAGIRI SPICES PROMOTERS&TRADERS Pvt Ltd,178,32582.1,29881.6,1099,796.96\\r\\n2172,26-Jul-16,\"South Indian Green Cardamom Company Ltd, Kochi\",245,45881,45048.7,1193,819.24\\r\\n2173,26-Jul-16,\"Header Systems (India) Limited, Nedumkandam\",199,38016.1,34146.5,1170,781.76\\r\\n2174,25-Jul-16,\"Cardamom Planters\\' Association, Santhanpara\",95,11000.8,10011.7,979,735.31\\r\\n2175,25-Jul-16,IDUKKI Dist.TRADITIONAL CARDAMOM PRODUCER COMPANY Ltd,95,18773,18490.4,1086,831.13\\r\\n2176,23-Jul-16,\"Mas Enterprises, Vandanmettu\",290,56144.2,49476.2,1099,784.15\\r\\n2177,23-Jul-16,Green House Cardamom Mktg.India Pvt. Ltd,87,13322.1,11327.3,966,772.56\\r\\n2178,22-Jul-16,STATE TRADING CORPORATION,98,15808.5,12346.3,1042,792.26\\r\\n2179,22-Jul-16,CARDAMOM GROWERSFOREVER PRIVATE LIMITED,229,43829.6,38489.6,1004,770.59\\r\\n2180,21-Jul-16,\"The Cardamom Processing & Marketing Co-Operative Society Ltd, Kumily\",192,43833.4,42695.5,1140,789.14\\r\\n2181,21-Jul-16,\"The Kerala Cardamom Processing and Marketing Company Limited, Thekkady\",130,26040.1,26040.1,1134,796.8\\r\\n2182,20-Jul-16,SUGANDHAGIRI SPICES PROMOTERS&TRADERS Pvt Ltd,193,35113,33015.1,1111,783.92\\r\\n2183,20-Jul-16,VANDANMEDU GREEN GOLD CARDAMOM PRODUCER CoLtd,209,37436.3,36108.7,1092,809.84\\r\\n2184,19-Jul-16,\"South Indian Green Cardamom Company Ltd, Kochi\",247,42856.8,41668.8,1200,812.41\\r\\n2185,19-Jul-16,\"Header Systems (India) Limited, Nedumkandam\",284,58390.6,48067.6,1122,785.49\\r\\n2186,18-Jul-16,\"Cardamom Planters\\' Association, Santhanpara\",113,15822.7,14535.7,986,734.92\\r\\n2187,18-Jul-16,IDUKKI Dist.TRADITIONAL CARDAMOM PRODUCER COMPANY Ltd,160,31756.9,27569.7,1031,814.66\\r\\n2188,16-Jul-16,\"Mas Enterprises, Vandanmettu\",389,82097.3,73741.6,1170,802.8\\r\\n2189,16-Jul-16,Green House Cardamom Mktg.India Pvt. Ltd,104,15904,13828.3,970,785.44\\r\\n2190,15-Jul-16,STATE TRADING CORPORATION,101,16161.9,14466.3,1162,796.99\\r\\n2191,15-Jul-16,CARDAMOM GROWERSFOREVER PRIVATE LIMITED,264,42633.4,38985.9,1110,810.07\\r\\n2192,14-Jul-16,\"The Cardamom Processing & Marketing Co-Operative Society Ltd, Kumily\",167,40024.3,39104,1121,801.48\\r\\n2193,14-Jul-16,\"The Kerala Cardamom Processing and Marketing Company Limited, Thekkady\",152,30040.4,30040.4,1135,788.36\\r\\n2194,13-Jul-16,VANDANMEDU GREEN GOLD CARDAMOM PRODUCER CoLtd,231,39592.1,39226.9,1200,811.81\\r\\n2195,13-Jul-16,SUGANDHAGIRI SPICES PROMOTERS&TRADERS Pvt Ltd,234,41175.2,41175.2,1129,790.73\\r\\n2196,12-Jul-16,\"South Indian Green Cardamom Company Ltd, Kochi\",279,51099.5,49776.3,1217,813.54\\r\\n2197,12-Jul-16,\"Header Systems (India) Limited, Nedumkandam\",214,45600.9,44983.3,1049,793.18\\r\\n2198,11-Jul-16,\"Cardamom Planters\\' Association, Santhanpara\",117,16826.1,12797.7,1063,746.84\\r\\n2199,11-Jul-16,IDUKKI Dist.TRADITIONAL CARDAMOM PRODUCER COMPANY Ltd,170,31231.4,29464.3,1127,797.57\\r\\n2200,9-Jul-16,Green House Cardamom Mktg.India Pvt. Ltd,72,10252.8,9034,907,766.65\\r\\n2201,9-Jul-16,\"Mas Enterprises, Vandanmettu\",337,67023.4,62468.9,1148,818.58\\r\\n2202,8-Jul-16,STATE TRADING CORPORATION,71,11446.9,11171,1062,780.21\\r\\n2203,8-Jul-16,CARDAMOM GROWERSFOREVER PRIVATE LIMITED,190,30166.2,29232.4,1110,811.85\\r\\n2204,7-Jul-16,THE CARDAMOM PLANTERS MARKETING CO-OPERATIVE SOCIETY LIMITED,109,25204.5,25204.5,1107,782.7\\r\\n2205,7-Jul-16,\"The Kerala Cardamom Processing and Marketing Company Limited, Thekkady\",110,21962.2,21811.9,1151,785.28\\r\\n2206,5-Jul-16,\"South Indian Green Cardamom Company Ltd, Kochi\",248,43735.3,42101.5,1256,815.34\\r\\n2207,5-Jul-16,\"Header Systems (India) Limited, Nedumkandam\",184,35859,31555.5,1112,773.55\\r\\n2208,4-Jul-16,\"Cardamom Planters\\' Association, Santhanpara\",107,15767.6,13377.3,1076,747.99\\r\\n2209,4-Jul-16,IDUKKI Dist.TRADITIONAL CARDAMOM PRODUCER COMPANY Ltd,159,30058.3,25620,1134,813.05\\r\\n2210,2-Jul-16,\"Mas Enterprises, Vandanmettu\",305,56529.6,54821,1142,785.46\\r\\n2211,2-Jul-16,Green House Cardamom Mktg.India Pvt. Ltd,71,11371.7,11324.5,1046,773.67\\r\\n2212,1-Jul-16,STATE TRADING CORPORATION,118,18512.8,17184.8,1090,740.86\\r\\n2213,1-Jul-16,CARDAMOM GROWERSFOREVER PRIVATE LIMITED,224,34683.8,33155.6,1285,749.89\\r\\n2214,30-Jun-16,\"The Cardamom Processing & Marketing Co-Operative Society Ltd, Kumily\",163,37638.6,37638.6,1146,730.98\\r\\n2215,30-Jun-16,\"The Kerala Cardamom Processing and Marketing Company Limited, Thekkady\",121,24405.2,24405.2,1155,769.86\\r\\n2216,29-Jun-16,VANDANMEDU GREEN GOLD CARDAMOM PRODUCER CoLtd,200,38163.9,37459.6,1142,781.41\\r\\n2217,29-Jun-16,SUGANDHAGIRI SPICES PROMOTERS&TRADERS Pvt Ltd,175,33136.2,32646.6,1077,791.92\\r\\n2218,28-Jun-16,\"South Indian Green Cardamom Company Ltd, Kochi\",235,41997.6,41286.9,1252,789.85\\r\\n2219,28-Jun-16,\"Header Systems (India) Limited, Nedumkandam\",230,45409.1,41032.7,1097,775.59\\r\\n2220,27-Jun-16,\"Cardamom Planters\\' Association, Santhanpara\",159,24075.1,19812.1,1030,729.85\\r\\n2221,27-Jun-16,IDUKKI Dist.TRADITIONAL CARDAMOM PRODUCER COMPANY Ltd,189,40375.2,35944.5,1151,802.67\\r\\n2222,25-Jun-16,\"Mas Enterprises, Vandanmettu\",379,73035.6,68321.1,1109,778\\r\\n2223,25-Jun-16,Green House Cardamom Mktg.India Pvt. Ltd,110,16806.1,14475.2,1000,738.7\\r\\n2224,24-Jun-16,STATE TRADING CORPORATION,112,16765.5,15154.8,1060,735.34\\r\\n2225,24-Jun-16,CARDAMOM GROWERSFOREVER PRIVATE LIMITED,274,45191.3,38898.9,1127,767.37\\r\\n2226,23-Jun-16,\"The Cardamom Processing & Marketing Co-Operative Society Ltd, Kumily\",241,61349.8,59982.7,1141,769.1\\r\\n2227,23-Jun-16,\"The Kerala Cardamom Processing and Marketing Company Limited, Thekkady\",210,46581.4,45920.2,1113,777.73\\r\\n2228,22-Jun-16,VANDANMEDU GREEN GOLD CARDAMOM PRODUCER CoLtd,300,60010.9,58095.8,1153,795.56\\r\\n2229,22-Jun-16,SUGANDHAGIRI SPICES PROMOTERS&TRADERS Pvt Ltd,251,45214,44626.3,1157,803.31\\r\\n2230,21-Jun-16,\"South Indian Green Cardamom Company Ltd, Kochi\",348,70382.3,70159.9,1292,832.95\\r\\n2231,21-Jun-16,\"Header Systems (India) Limited, Nedumkandam\",355,74655.4,71920.3,1098,783.09\\r\\n2232,20-Jun-16,\"Cardamom Planters\\' Association, Santhanpara\",148,23505.3,23132.6,1114,788.64\\r\\n2233,20-Jun-16,IDUKKI Dist.TRADITIONAL CARDAMOM PRODUCER COMPANY Ltd,222,44129.2,44129.2,1206,844.62\\r\\n2234,18-Jun-16,\"Mas Enterprises, Vandanmettu\",385,75764.6,74699.5,1139,775.78\\r\\n2235,18-Jun-16,Green House Cardamom Mktg.India Pvt. Ltd,104,17458,17458,1097,743.75\\r\\n2236,17-Jun-16,STATE TRADING CORPORATION,138,22459.7,21382.2,1089,741.09\\r\\n2237,17-Jun-16,CARDAMOM GROWERSFOREVER PRIVATE LIMITED,288,49120.6,46552.3,1107,748.33\\r\\n2238,16-Jun-16,\"The Cardamom Processing & Marketing Co-Operative Society Ltd, Kumily\",245,59545.3,59545.3,1091,762.73\\r\\n2239,16-Jun-16,\"The Kerala Cardamom Processing and Marketing Company Limited, Thekkady\",177,40603.2,40603.2,1075,759.23\\r\\n2240,15-Jun-16,VANDANMEDU GREEN GOLD CARDAMOM PRODUCER CoLtd,294,52312,51387.1,1117,739.86\\r\\n2241,15-Jun-16,SUGANDHAGIRI SPICES PROMOTERS&TRADERS Pvt Ltd,202,35188.1,35188.1,1083,719.8\\r\\n2242,14-Jun-16,\"South Indian Green Cardamom Company Ltd, Kochi\",321,68546,67692.6,1075,749.13\\r\\n2243,14-Jun-16,\"Header Systems (India) Limited, Nedumkandam\",325,64418.6,60474.2,1021,735.71\\r\\n2244,13-Jun-16,\"Cardamom Planters\\' Association, Santhanpara\",139,21369.3,19280.4,987,693\\r\\n2245,13-Jun-16,IDUKKI Dist.TRADITIONAL CARDAMOM PRODUCER COMPANY Ltd,250,46705.9,44774.5,1072,740.16\\r\\n2246,11-Jun-16,\"Mas Enterprises, Vandanmettu\",384,72913.7,71444.7,1062,729.19\\r\\n2247,11-Jun-16,Green House Cardamom Mktg.India Pvt. Ltd,117,18022.1,16405.7,1042,732.31\\r\\n2248,10-Jun-16,STATE TRADING CORPORATION,160,28954.6,28426.7,1053,670.26\\r\\n2249,9-Jun-16,\"The Cardamom Processing & Marketing Co-Operative Society Ltd, Kumily\",227,57754.6,57141.1,1060,713.24\\r\\n2250,9-Jun-16,\"The Kerala Cardamom Processing and Marketing Company Limited, Thekkady\",209,50006.4,49664.5,1040,696.14\\r\\n2251,8-Jun-16,VANDANMEDU GREEN GOLD CARDAMOM PRODUCER CoLtd,290,50795.4,49280.4,1078,718.88\\r\\n2252,7-Jun-16,\"South Indian Green Cardamom Company Ltd, Kochi\",280,54051.3,53191.7,1061,732.73\\r\\n2253,7-Jun-16,\"Header Systems (India) Limited, Nedumkandam\",318,62616.5,62254.1,1008,710.11\\r\\n2254,6-Jun-16,\"Cardamom Planters\\' Association, Santhanpara\",128,18246.4,15224.5,948,658.76\\r\\n2255,6-Jun-16,IDUKKI Dist.TRADITIONAL CARDAMOM PRODUCER COMPANY Ltd,205,39150.1,38157.3,1177,741.79\\r\\n2256,4-Jun-16,\"Mas Enterprises, Vandanmettu\",294,56001.9,52240.1,1047,690.62\\r\\n2257,4-Jun-16,Green House Cardamom Mktg.India Pvt. Ltd,88,12718.7,12324.7,1054,658.97\\r\\n2258,3-Jun-16,STATE TRADING CORPORATION,114,16766.3,13582.8,1042,672.15\\r\\n2259,3-Jun-16,CARDAMOM GROWERSFOREVER PRIVATE LIMITED,189,28812.1,25715.9,1056,665.2\\r\\n2260,2-Jun-16,\"The Cardamom Processing & Marketing Co-Operative Society Ltd, Kumily\",215,56634,53558.2,1012,700.94\\r\\n2261,2-Jun-16,\"The Kerala Cardamom Processing and Marketing Company Limited, Thekkady\",163,33543.1,33020,1033,695.61\\r\\n2262,1-Jun-16,VANDANMEDU GREEN GOLD CARDAMOM PRODUCER CoLtd,205,35291,34888.8,1101,684.74\\r\\n2263,31-May-16,\"South Indian Green Cardamom Company Ltd, Kochi\",301,60032.7,57211.1,1018,690.59\\r\\n2264,31-May-16,\"Header Systems (India) Limited, Nedumkandam\",296,56602.5,53683.2,1025,690.43\\r\\n2265,30-May-16,\"Cardamom Planters\\' Association, Santhanpara\",171,26124.5,21909.3,1134,669.62\\r\\n2266,30-May-16,IDUKKI Dist.TRADITIONAL CARDAMOM PRODUCER COMPANY Ltd,222,42077.5,40198.7,1121,719.1\\r\\n2267,28-May-16,\"Mas Enterprises, Vandanmettu\",394,75307.1,70543.3,997,666.34\\r\\n2268,28-May-16,Green House Cardamom Mktg.India Pvt. Ltd,82,13520.1,10835.8,862,681.6\\r\\n2269,27-May-16,STATE TRADING CORPORATION,167,28904.4,22380.8,963,664.35\\r\\n2270,27-May-16,CARDAMOM GROWERSFOREVER PRIVATE LIMITED,257,39404.6,32255.7,1036,642.32\\r\\n2271,26-May-16,\"The Cardamom Processing & Marketing Co-Operative Society Ltd, Kumily\",226,59083,53940.2,1045,711.94\\r\\n2272,26-May-16,\"The Kerala Cardamom Processing and Marketing Company Limited, Thekkady\",209,42944,41317.2,1051,686.93\\r\\n2273,25-May-16,VANDANMEDU GREEN GOLD CARDAMOM PRODUCER CoLtd,278,50170.6,48824.3,1100,710.22\\r\\n2274,25-May-16,SUGANDHAGIRI SPICES PROMOTERS&TRADERS Pvt Ltd,214,40413.5,40413.5,1035.5,695.13\\r\\n2275,24-May-16,\"South Indian Green Cardamom Company Ltd, Kochi\",288,53019.4,51107.1,1063,718.07\\r\\n2276,24-May-16,\"Header Systems (India) Limited, Nedumkandam\",296,54956,52708,1016,718.09\\r\\n2277,23-May-16,\"Cardamom Planters\\' Association, Santhanpara\",114,17719.1,15567.6,936.5,657.56\\r\\n2278,23-May-16,IDUKKI Dist.TRADITIONAL CARDAMOM PRODUCER COMPANY Ltd,156,32014.6,31438.8,1046,733.07\\r\\n2279,21-May-16,\"Mas Enterprises, Vandanmettu\",324,60724.5,56508.8,1036,687.37\\r\\n2280,21-May-16,Green House Cardamom Mktg.India Pvt. Ltd,78,12255.5,8953.7,1038,692.07\\r\\n2281,20-May-16,STATE TRADING CORPORATION,93,14924.9,13836,1018,667.13\\r\\n2282,20-May-16,CARDAMOM GROWERSFOREVER PRIVATE LIMITED,220,34974,32960,1041,676.67\\r\\n2283,19-May-16,THE CARDAMOM PLANTERS MARKETING CO-OPERATIVE SOCIETY LIMITED,166,40573.3,40074.6,1024,718.7\\r\\n2284,19-May-16,\"The Kerala Cardamom Processing and Marketing Company Limited, Thekkady\",125,27305.1,26333.7,1025,690.95\\r\\n2285,17-May-16,\"South Indian Green Cardamom Company Ltd, Kochi\",165,31292.2,30683.3,1249,695.29\\r\\n2286,17-May-16,\"Header Systems (India) Limited, Nedumkandam\",200,36982.8,36558.5,1019,694.32\\r\\n2287,14-May-16,\"Mas Enterprises, Vandanmettu\",275,57383.8,55251.4,1169,671.68\\r\\n2288,14-May-16,Green House Cardamom Mktg.India Pvt. Ltd,67,14377.6,9083.3,1011,741.51\\r\\n2289,13-May-16,STATE TRADING CORPORATION,128,22720,18461.9,985,641.54\\r\\n2290,13-May-16,CARDAMOM GROWERSFOREVER PRIVATE LIMITED,245,38507.7,32752.1,986,657.84\\r\\n2291,12-May-16,THE CARDAMOM PLANTERS MARKETING CO-OPERATIVE SOCIETY LIMITED,224,57053.1,54667.8,1083,684.74\\r\\n2292,12-May-16,\"The Kerala Cardamom Processing and Marketing Company Limited, Thekkady\",186,37937.7,36098.9,1010,675.85\\r\\n2293,11-May-16,VANDANMEDU GREEN GOLD CARDAMOM PRODUCER CoLtd,218,43032.2,38973.3,1022,682.81\\r\\n2294,11-May-16,SUGANDHAGIRI SPICES PROMOTERS&TRADERS Pvt Ltd,223,45112.5,40422.9,997,657.53\\r\\n2295,10-May-16,\"South Indian Green Cardamom Company Ltd, Kochi\",301,60273.2,57501.9,1197,708.78\\r\\n2296,10-May-16,\"Header Systems (India) Limited, Nedumkandam\",270,55844.5,51139.1,1019,679.7\\r\\n2297,9-May-16,\"Cardamom Planters\\' Association, Santhanpara\",246,40980.1,35636.3,880,659.12\\r\\n2298,9-May-16,IDUKKI Dist.TRADITIONAL CARDAMOM PRODUCER COMPANY Ltd,212,41430.7,37421.5,1210,682.08\\r\\n2299,7-May-16,\"Mas Enterprises, Vandanmettu\",415,90826.8,88723,1030,712.61\\r\\n2300,7-May-16,Green House Cardamom Mktg.India Pvt. Ltd,172,28620.6,24713.4,1006,726.37\\r\\n2301,6-May-16,STATE TRADING CORPORATION,211,36945.1,34790.8,1194,690.24\\r\\n2302,6-May-16,CARDAMOM GROWERSFOREVER PRIVATE LIMITED,284,47117.8,43008.2,997,699.45\\r\\n2303,5-May-16,\"The Cardamom Processing & Marketing Co-Operative Society Ltd, Kumily\",269,70442.8,70245,1115,727.92\\r\\n2304,5-May-16,\"The Kerala Cardamom Processing and Marketing Company Limited, Thekkady\",220,47019.9,47019.9,1093,728.05\\r\\n2305,4-May-16,VANDANMEDU GREEN GOLD CARDAMOM PRODUCER CoLtd,322,63136.1,62563.6,1045,729.65\\r\\n2306,4-May-16,SUGANDHAGIRI SPICES PROMOTERS&TRADERS Pvt Ltd,215,45365.4,42632.7,1059,733.84\\r\\n2307,3-May-16,\"South Indian Green Cardamom Company Ltd, Kochi\",411,86506.2,84552.4,1192,707.38\\r\\n2308,3-May-16,\"Header Systems (India) Limited, Nedumkandam\",359,79633.5,78474.1,1098,715.59\\r\\n2309,2-May-16,\"Cardamom Planters\\' Association, Santhanpara\",301,56076.7,47110.6,965,689.55\\r\\n2310,2-May-16,IDUKKI Dist.TRADITIONAL CARDAMOM PRODUCER COMPANY Ltd,254,52043.3,51580.4,1058,709.66\\r\\n2311,30-Apr-16,\"Mas Enterprises, Vandanmettu\",426,100102,99246.9,1043,717.39\\r\\n2312,30-Apr-16,Green House Cardamom Mktg.India Pvt. Ltd,147,28588.6,27389.3,1011,745.36\\r\\n2313,29-Apr-16,STATE TRADING CORPORATION,159,29460.6,28227.8,976,662.68\\r\\n2314,29-Apr-16,CARDAMOM GROWERSFOREVER PRIVATE LIMITED,327,53881.1,53216.2,1147.5,667.99\\r\\n2315,28-Apr-16,\"The Cardamom Processing & Marketing Co-Operative Society Ltd, Kumily\",260,68087.5,68087.5,1027,678.73\\r\\n2316,28-Apr-16,\"The Kerala Cardamom Processing and Marketing Company Limited, Thekkady\",275,62344.3,62344.3,1006,664.21\\r\\n2317,27-Apr-16,VANDANMEDU GREEN GOLD CARDAMOM PRODUCER CoLtd,283,56459.3,54969,1093,661.1\\r\\n2318,27-Apr-16,SUGANDHAGIRI SPICES PROMOTERS&TRADERS Pvt Ltd,232,45386.5,44069.2,1544,685.17\\r\\n2319,26-Apr-16,\"South Indian Green Cardamom Company Ltd, Kochi\",452,98110.6,87934.7,1044,681.39\\r\\n2320,26-Apr-16,\"Header Systems (India) Limited, Nedumkandam\",395,94717.4,88613.6,997,641.75\\r\\n2321,25-Apr-16,IDUKKI Dist.TRADITIONAL CARDAMOM PRODUCER COMPANY Ltd,316,68342,64336,1201,681.12\\r\\n2322,23-Apr-16,\"Mas Enterprises, Vandanmettu\",415,104357,101711,1232,658.22\\r\\n2323,23-Apr-16,Green House Cardamom Mktg.India Pvt. Ltd,202,40031.7,38742.9,1031,651.1\\r\\n2324,22-Apr-16,STATE TRADING CORPORATION,309,57595.1,55173,1002,628.99\\r\\n2325,22-Apr-16,CARDAMOM GROWERSFOREVER PRIVATE LIMITED,376,69797.5,66884.7,1031,641.27\\r\\n2326,21-Apr-16,\"The Cardamom Processing & Marketing Co-Operative Society Ltd, Kumily\",331,98867.4,98358.7,1065,654.64\\r\\n2327,21-Apr-16,\"The Kerala Cardamom Processing and Marketing Company Limited, Thekkady\",312,73858.9,73858.9,1148,648.89\\r\\n2328,20-Apr-16,VANDANMEDU GREEN GOLD CARDAMOM PRODUCER CoLtd,348,80199.6,78367.6,1002,652.09\\r\\n2329,20-Apr-16,SUGANDHAGIRI SPICES PROMOTERS&TRADERS Pvt Ltd,270,55035.5,54691.9,1051,641\\r\\n2330,19-Apr-16,\"South Indian Green Cardamom Company Ltd, Kochi\",446,103013,95344.7,1002,669.4\\r\\n2331,19-Apr-16,\"Header Systems (India) Limited, Nedumkandam\",413,111577,109720,1029,653.55\\r\\n2332,18-Apr-16,IDUKKI Dist.TRADITIONAL CARDAMOM PRODUCER COMPANY Ltd,337,70340,69632.1,1003,677.44\\r\\n2333,16-Apr-16,\"Mas Enterprises, Vandanmettu\",411,91139.7,91139.7,1089,646.84\\r\\n2334,16-Apr-16,Green House Cardamom Mktg.India Pvt. Ltd,163,30483.1,30483.1,942,687.92\\r\\n2335,15-Apr-16,STATE TRADING CORPORATION,279,54809.4,54809.4,912,652.85\\r\\n2336,15-Apr-16,CARDAMOM GROWERSFOREVER PRIVATE LIMITED,259,43391.2,42181.6,957,653.69\\r\\n2337,13-Apr-16,VANDANMEDU GREEN GOLD CARDAMOM PRODUCER CoLtd,282,57345.4,57345.4,953,639.15\\r\\n2338,13-Apr-16,SUGANDHAGIRI SPICES PROMOTERS&TRADERS Pvt Ltd,181,38037.5,38037.5,923,624.61\\r\\n2339,12-Apr-16,\"South Indian Green Cardamom Company Ltd, Kochi\",454,107047,96883,930,620.67\\r\\n2340,12-Apr-16,\"Header Systems (India) Limited, Nedumkandam\",385,93107.1,89519.2,974,595.23\\r\\n2341,11-Apr-16,IDUKKI Dist.TRADITIONAL CARDAMOM PRODUCER COMPANY Ltd,324,67762.2,67597.6,1003,613.05\\r\\n2342,9-Apr-16,\"Mas Enterprises, Vandanmettu\",429,99270.7,89251.4,911,592.22\\r\\n2343,9-Apr-16,Green House Cardamom Mktg.India Pvt. Ltd,203,40370.7,38650.1,900,621.63\\r\\n2344,8-Apr-16,STATE TRADING CORPORATION,289,55491.5,54094.7,891,590.63\\r\\n2345,8-Apr-16,CARDAMOM GROWERSFOREVER PRIVATE LIMITED,349,68552.9,66891.3,951,588.4\\r\\n2346,7-Apr-16,THE CARDAMOM PLANTERS MARKETING CO-OPERATIVE SOCIETY LIMITED,344,82647,81248.1,954,607.85\\r\\n2347,7-Apr-16,\"The Kerala Cardamom Processing and Marketing Company Limited, Thekkady\",285,64194.1,62752.4,997,605.96\\r\\n2348,6-Apr-16,VANDANMEDU GREEN GOLD CARDAMOM PRODUCER CoLtd,334,71941.5,67570.5,941,640.59\\r\\n2349,6-Apr-16,SUGANDHAGIRI SPICES PROMOTERS&TRADERS Pvt Ltd,222,40603.4,40603.4,964,617\\r\\n2350,5-Apr-16,\"South Indian Green Cardamom Company Ltd, Kochi\",394,85511.8,81824.4,1202,650.05\\r\\n2351,5-Apr-16,\"Header Systems (India) Limited, Nedumkandam\",417,96990.3,96295,903,619.8\\r\\n2352,4-Apr-16,IDUKKI Dist.TRADITIONAL CARDAMOM PRODUCER COMPANY Ltd,204,40082,40082,1188,648.8\\r\\n2353,2-Apr-16,\"Mas Enterprises, Vandanmettu\",378,78751.8,78751.8,937,603.38\\r\\n2354,2-Apr-16,Green House Cardamom Mktg.India Pvt. Ltd,116,20008.4,19523.2,857,619.39\\r\\n2355,1-Apr-16,STATE TRADING CORPORATION,236,41074.2,39199.9,842,556.78\\r\\n2356,1-Apr-16,CARDAMOM GROWERSFOREVER PRIVATE LIMITED,400,69351.9,68444.6,924,559.66\\r\\n2357,31-Mar-16,\"The Cardamom Processing & Marketing Co-Operative Society Ltd, Kumily\",288,74620.2,74620.2,903,566.52\\r\\n2358,31-Mar-16,\"The Kerala Cardamom Processing and Marketing Company Limited, Thekkady\",246,51380.5,50858.7,950,552.48\\r\\n2359,29-Mar-16,\"South Indian Green Cardamom Company Ltd, Kochi\",317,65196.1,65196.1,1110,563.93\\r\\n2360,29-Mar-16,\"Header Systems (India) Limited, Nedumkandam\",338,78187,77907,889,556.39\\r\\n2361,28-Mar-16,\"Cardamom Planters\\' Association, Santhanpara\",217,38602.9,38231.8,810,535.61\\r\\n2362,28-Mar-16,IDUKKI Dist.TRADITIONAL CARDAMOM PRODUCER COMPANY Ltd,236,47023.5,46716,884,569.77\\r\\n2363,24-Mar-16,THE CARDAMOM PLANTERS MARKETING CO-OPERATIVE SOCIETY LIMITED,309,82412,81104.2,853,545.02\\r\\n2364,24-Mar-16,\"The Kerala Cardamom Processing and Marketing Company Limited, Thekkady\",244,53052,52415.1,980,535.2\\r\\n2365,23-Mar-16,SUGANDHAGIRI SPICES PROMOTERS&TRADERS Pvt Ltd,192,36001.5,35885.4,821,534.74\\r\\n2366,22-Mar-16,\"South Indian Green Cardamom Company Ltd, Kochi\",378,80726.4,80726.4,1106,541.17\\r\\n2367,22-Mar-16,\"Header Systems (India) Limited, Nedumkandam\",374,78218.1,77597,873,524.95\\r\\n2368,21-Mar-16,\"Cardamom Planters\\' Association, Santhanpara\",289,50792.5,47984.1,746,481.77\\r\\n2369,21-Mar-16,IDUKKI Dist.TRADITIONAL CARDAMOM PRODUCER COMPANY Ltd,291,57139.8,56184.1,907,528.26\\r\\n2370,19-Mar-16,\"Mas Enterprises, Vandanmettu\",410,95090.9,93572,936,518.64\\r\\n2371,19-Mar-16,Green House Cardamom Mktg.India Pvt. Ltd,157,26728.6,25545.9,724,525.34\\r\\n2372,18-Mar-16,STATE TRADING CORPORATION,198,36341.8,34976.2,842,503.61\\r\\n2373,18-Mar-16,CARDAMOM GROWERSFOREVER PRIVATE LIMITED,310,53316.9,49569.6,848,518.88\\r\\n2374,17-Mar-16,\"The Cardamom Processing & Marketing Co-Operative Society Ltd, Kumily\",329,87459.3,87157.9,881,536.17\\r\\n2375,17-Mar-16,\"The Kerala Cardamom Processing and Marketing Company Limited, Thekkady\",269,62162.1,61924.8,913,520.31\\r\\n2376,16-Mar-16,VANDANMEDU GREEN GOLD CARDAMOM PRODUCER CoLtd,282,54696.2,53844.8,882,531.27\\r\\n2377,16-Mar-16,SUGANDHAGIRI SPICES PROMOTERS&TRADERS Pvt Ltd,202,35124,34795.3,878,527.86\\r\\n2378,15-Mar-16,\"South Indian Green Cardamom Company Ltd, Kochi\",344,77438.1,75548.6,1100,528.86\\r\\n2379,15-Mar-16,\"Header Systems (India) Limited, Nedumkandam\",327,72368.4,72368.4,975,528.67\\r\\n2380,14-Mar-16,\"Cardamom Planters\\' Association, Santhanpara\",228,40320.9,38877.3,954,528.25\\r\\n2381,14-Mar-16,IDUKKI Dist.TRADITIONAL CARDAMOM PRODUCER COMPANY Ltd,250,53642.7,52086.7,880,530.38\\r\\n2382,12-Mar-16,\"Mas Enterprises, Vandanmettu\",358,80205.9,75140.5,884,521.98\\r\\n2383,12-Mar-16,Green House Cardamom Mktg.India Pvt. Ltd,99,20072.7,16638.1,722,547.84\\r\\n2384,11-Mar-16,STATE TRADING CORPORATION,169,30025.8,28035.8,940,492.62\\r\\n2385,11-Mar-16,CARDAMOM GROWERSFOREVER PRIVATE LIMITED,343,56838.8,51315.8,856,496.82\\r\\n2386,10-Mar-16,\"The Cardamom Processing & Marketing Co-Operative Society Ltd, Kumily\",325,89730.4,88891.7,875,535.47\\r\\n2387,10-Mar-16,\"The Kerala Cardamom Processing and Marketing Company Limited, Thekkady\",251,61340.9,59134.7,904,528.64\\r\\n2388,9-Mar-16,VANDANMEDU GREEN GOLD CARDAMOM PRODUCER CoLtd,264,53892.7,49843.1,868,534.12\\r\\n2389,9-Mar-16,SUGANDHAGIRI SPICES PROMOTERS&TRADERS Pvt Ltd,217,40650.8,37380.1,897,533.71\\r\\n2390,8-Mar-16,\"South Indian Green Cardamom Company Ltd, Kochi\",398,90455.8,87175.6,1074,548.64\\r\\n2391,8-Mar-16,\"Header Systems (India) Limited, Nedumkandam\",343,77868.4,70147.4,950,540.13\\r\\n2392,7-Mar-16,\"Cardamom Planters\\' Association, Santhanpara\",244,46422.1,43813.4,802,499.57\\r\\n2393,7-Mar-16,IDUKKI Dist.TRADITIONAL CARDAMOM PRODUCER COMPANY Ltd,267,59384.2,58499.1,896,557.02\\r\\n2394,5-Mar-16,\"Mas Enterprises, Vandanmettu\",422,94755.5,87285.7,897,543.17\\r\\n2395,5-Mar-16,Green House Cardamom Mktg.India Pvt. Ltd,97,15255.5,11467,884,563.32\\r\\n2396,4-Mar-16,STATE TRADING CORPORATION,245,45062.5,44071.8,852,528.32\\r\\n2397,4-Mar-16,CARDAMOM GROWERSFOREVER PRIVATE LIMITED,388,68378.9,64845.3,842,525\\r\\n2398,3-Mar-16,\"The Cardamom Processing & Marketing Co-Operative Society Ltd, Kumily\",354,96811.6,94427,893,562.37\\r\\n2399,3-Mar-16,\"The Kerala Cardamom Processing and Marketing Company Limited, Thekkady\",299,74905.3,73952.1,941,550.75\\r\\n2400,2-Mar-16,VANDANMEDU GREEN GOLD CARDAMOM PRODUCER CoLtd,250,53294.8,50240.6,905,565.02\\r\\n2401,2-Mar-16,SUGANDHAGIRI SPICES PROMOTERS&TRADERS Pvt Ltd,234,40425.3,40208,866,545.66\\r\\n2402,1-Mar-16,\"South Indian Green Cardamom Company Ltd, Kochi\",369,86855.7,84049.4,945,574.65\\r\\n2403,1-Mar-16,\"Header Systems (India) Limited, Nedumkandam\",332,69558.8,69326.5,950,547.45\\r\\n2404,29-Feb-16,\"Cardamom Planters\\' Association, Santhanpara\",291,55541.8,53938.3,851,525.75\\r\\n2405,29-Feb-16,IDUKKI Dist.TRADITIONAL CARDAMOM PRODUCER COMPANY Ltd,256,54760.2,49590.4,940,555.44\\r\\n2406,27-Feb-16,\"Mas Enterprises, Vandanmettu\",404,92359.7,91148.1,929,554.08\\r\\n2407,27-Feb-16,Green House Cardamom Mktg.India Pvt. Ltd,99,15940.5,14947,950,581.68\\r\\n2408,26-Feb-16,STATE TRADING CORPORATION,187,34494.9,33143.5,837,533.51\\r\\n2409,26-Feb-16,CARDAMOM GROWERSFOREVER PRIVATE LIMITED,232,53209.9,51904,857,542.1\\r\\n2410,25-Feb-16,\"The Cardamom Processing & Marketing Co-Operative Society Ltd, Kumily\",318,89244.4,88545.6,889,567.71\\r\\n2411,25-Feb-16,\"The Kerala Cardamom Processing and Marketing Company Limited, Thekkady\",300,72931.2,72931.2,982,551\\r\\n2412,24-Feb-16,VANDANMEDU GREEN GOLD CARDAMOM PRODUCER CoLtd,248,47355.6,44642.7,802,551.95\\r\\n2413,23-Feb-16,\"South Indian Green Cardamom Company Ltd, Kochi\",374,92192,85857.6,894,554.78\\r\\n2414,23-Feb-16,\"Header Systems (India) Limited, Nedumkandam\",304,67541.5,65347.8,954,547.15\\r\\n2415,22-Feb-16,\"Cardamom Planters\\' Association, Santhanpara\",293,56418.2,52650.7,827,521.58\\r\\n2416,22-Feb-16,IDUKKI Dist.TRADITIONAL CARDAMOM PRODUCER COMPANY Ltd,256,50761.6,49337,864,555.42\\r\\n2417,20-Feb-16,\"Mas Enterprises, Vandanmettu\",415,92743.2,80242.1,899,568.8\\r\\n2418,20-Feb-16,Green House Cardamom Mktg.India Pvt. Ltd,152,27406.3,24900.4,950,585.41\\r\\n2419,19-Feb-16,STATE TRADING CORPORATION,196,36109.7,34791.8,842,526.63\\r\\n2420,19-Feb-16,CARDAMOM GROWERSFOREVER PRIVATE LIMITED,310,53212.7,48049.8,900,550.6\\r\\n2421,18-Feb-16,THE CARDAMOM PLANTERS MARKETING CO-OPERATIVE SOCIETY LIMITED,310,81903.5,79135.6,959,575.1\\r\\n2422,18-Feb-16,\"The Kerala Cardamom Processing and Marketing Company Limited, Thekkady\",288,68324.8,68324.8,925,560.03\\r\\n2423,17-Feb-16,VANDANMEDU GREEN GOLD CARDAMOM PRODUCER CoLtd,262,57513.6,47310.4,903,590.36\\r\\n2424,17-Feb-16,SUGANDHAGIRI SPICES PROMOTERS&TRADERS Pvt Ltd,207,37631,34792.3,907,551.15\\r\\n2425,16-Feb-16,\"South Indian Green Cardamom Company Ltd, Kochi\",349,84707.3,81649.3,924,582.67\\r\\n2426,16-Feb-16,\"Header Systems (India) Limited, Nedumkandam\",335,76188,74804.8,948,571\\r\\n2427,15-Feb-16,\"Cardamom Planters\\' Association, Santhanpara\",298,52793.6,51295.6,772,534.98\\r\\n2428,15-Feb-16,IDUKKI Dist.TRADITIONAL CARDAMOM PRODUCER COMPANY Ltd,260,53612.6,52264,902,582.95\\r\\n2429,13-Feb-16,\"Mas Enterprises, Vandanmettu\",390,85146.9,84442.7,891,568.38\\r\\n2430,13-Feb-16,Green House Cardamom Mktg.India Pvt. Ltd,154,25189.9,22328.3,730,544.57\\r\\n2431,12-Feb-16,STATE TRADING CORPORATION,208,38075.7,36343.9,842,538.84\\r\\n2432,12-Feb-16,CARDAMOM GROWERSFOREVER PRIVATE LIMITED,284,50591.4,47367.6,863,542.25\\r\\n2433,11-Feb-16,THE CARDAMOM PLANTERS MARKETING CO-OPERATIVE SOCIETY LIMITED,261,68779.8,68220.4,906,592.24\\r\\n2434,11-Feb-16,\"The Kerala Cardamom Processing and Marketing Company Limited, Thekkady\",266,59464.4,58970.4,897,573.9\\r\\n2435,10-Feb-16,VANDANMEDU GREEN GOLD CARDAMOM PRODUCER CoLtd,198,40307.1,39490.5,781,548.96\\r\\n2436,10-Feb-16,SUGANDHAGIRI SPICES PROMOTERS&TRADERS Pvt Ltd,208,40064.8,37373.4,881,540.4\\r\\n2437,9-Feb-16,\"South Indian Green Cardamom Company Ltd, Kochi\",330,82398.3,80600.9,899,564.45\\r\\n2438,9-Feb-16,\"Header Systems (India) Limited, Nedumkandam\",318,71089.1,70033.3,962,552.72\\r\\n2439,8-Feb-16,\"Cardamom Planters\\' Association, Santhanpara\",240,41990.6,40809.5,663,529.14\\r\\n2440,8-Feb-16,IDUKKI Dist.TRADITIONAL CARDAMOM PRODUCER COMPANY Ltd,236,45191.7,43319,901,563.86\\r\\n2441,6-Feb-16,\"Mas Enterprises, Vandanmettu\",373,82430,79012.4,855,542.77\\r\\n2442,6-Feb-16,Green House Cardamom Mktg.India Pvt. Ltd,105,18492.2,16466.4,792,537.49\\r\\n2443,5-Feb-16,STATE TRADING CORPORATION,191,35544.1,28955.5,913,544.12\\r\\n2444,5-Feb-16,CARDAMOM GROWERSFOREVER PRIVATE LIMITED,285,49023,45183.2,899,517.81\\r\\n2445,4-Feb-16,\"The Cardamom Processing & Marketing Co-Operative Society Ltd, Kumily\",323,90924.8,87332.6,897,560.39\\r\\n2446,4-Feb-16,\"The Kerala Cardamom Processing and Marketing Company Limited, Thekkady\",274,71114.3,70822.9,909,543.69\\r\\n2447,3-Feb-16,VANDANMEDU GREEN GOLD CARDAMOM PRODUCER CoLtd,263,59174,52121.6,880,533.85\\r\\n2448,3-Feb-16,SUGANDHAGIRI SPICES PROMOTERS&TRADERS Pvt Ltd,200,40054,34319.1,806,535.34\\r\\n2449,2-Feb-16,\"South Indian Green Cardamom Company Ltd, Kochi\",409,109214,107604,949,572.24\\r\\n2450,2-Feb-16,\"Header Systems (India) Limited, Nedumkandam\",428,106060,93086.4,880,538.56\\r\\n2451,1-Feb-16,\"Cardamom Planters\\' Association, Santhanpara\",278,52442.8,46008.5,798,542.95\\r\\n2452,1-Feb-16,IDUKKI Dist.TRADITIONAL CARDAMOM PRODUCER COMPANY Ltd,257,53092.5,53092.5,895,581.48\\r\\n2453,30-Jan-16,\"Mas Enterprises, Vandanmettu\",383,86074.4,81440.8,907,582.62\\r\\n2454,30-Jan-16,Green House Cardamom Mktg.India Pvt. Ltd,117,23367.2,18782,670,567.39\\r\\n2455,29-Jan-16,STATE TRADING CORPORATION,181,32735,29981.8,829,567.56\\r\\n2456,29-Jan-16,CARDAMOM GROWERSFOREVER PRIVATE LIMITED,321,57479.9,51414.8,859,557.74\\r\\n2457,28-Jan-16,\"The Cardamom Processing & Marketing Co-Operative Society Ltd, Kumily\",293,75238.2,73964.5,929,590.04\\r\\n2458,28-Jan-16,\"The Kerala Cardamom Processing and Marketing Company Limited, Thekkady\",288,74218.6,74218.6,904,575.8\\r\\n2459,27-Jan-16,VANDANMEDU GREEN GOLD CARDAMOM PRODUCER CoLtd,267,57172.8,54950,898,581.58\\r\\n2460,27-Jan-16,SUGANDHAGIRI SPICES PROMOTERS&TRADERS Pvt Ltd,178,35288.2,33294.6,821,556.28\\r\\n2461,25-Jan-16,\"Cardamom Planters\\' Association, Santhanpara\",249,44381.4,43013.5,978,547.03\\r\\n2462,25-Jan-16,IDUKKI Dist.TRADITIONAL CARDAMOM PRODUCER COMPANY Ltd,230,46120.9,44099.5,900,607.99\\r\\n2463,23-Jan-16,\"Mas Enterprises, Vandanmettu\",390,83048.7,77571.1,899,575.11\\r\\n2464,23-Jan-16,Green House Cardamom Mktg.India Pvt. Ltd,119,18678.1,13441.8,720,529.51\\r\\n2465,22-Jan-16,STATE TRADING CORPORATION,174,34200.4,30005.3,898,548.95\\r\\n2466,22-Jan-16,CARDAMOM GROWERSFOREVER PRIVATE LIMITED,311,54277.9,48472.2,877,558.03\\r\\n2467,21-Jan-16,\"The Cardamom Processing & Marketing Co-Operative Society Ltd, Kumily\",274,73169.3,70143.7,924,598.43\\r\\n2468,21-Jan-16,\"The Kerala Cardamom Processing and Marketing Company Limited, Thekkady\",236,56836.3,56836.3,990,570.38\\r\\n2469,20-Jan-16,VANDANMEDU GREEN GOLD CARDAMOM PRODUCER CoLtd,339,76183.7,63053.4,874,570.94\\r\\n2470,20-Jan-16,SUGANDHAGIRI SPICES PROMOTERS&TRADERS Pvt Ltd,174,35904,28683.2,865,560.08\\r\\n2471,19-Jan-16,\"South Indian Green Cardamom Company Ltd, Kochi\",343,77396.6,70336.1,949,595.77\\r\\n2472,19-Jan-16,\"Header Systems (India) Limited, Nedumkandam\",333,82727.3,78415.7,862,564.9\\r\\n2473,18-Jan-16,\"Cardamom Planters\\' Association, Santhanpara\",261,45843.8,40111.6,818,541.55\\r\\n2474,18-Jan-16,IDUKKI Dist.TRADITIONAL CARDAMOM PRODUCER COMPANY Ltd,162,32212.9,29039.9,889,591.11\\r\\n2475,14-Jan-16,THE CARDAMOM PLANTERS MARKETING CO-OPERATIVE SOCIETY LIMITED,325,91849.9,90952,925,601.08\\r\\n2476,14-Jan-16,\"The Kerala Cardamom Processing and Marketing Company Limited, Thekkady\",307,83057.2,82460.3,951,589.79\\r\\n2477,13-Jan-16,VANDANMEDU GREEN GOLD CARDAMOM PRODUCER CoLtd,332,82513.2,75426.5,901,600.81\\r\\n2478,13-Jan-16,SUGANDHAGIRI SPICES PROMOTERS&TRADERS Pvt Ltd,249,46243.1,43779,901,569.23\\r\\n2479,12-Jan-16,\"South Indian Green Cardamom Company Ltd, Kochi\",435,116428,98501.1,902,601.13\\r\\n2480,12-Jan-16,\"Header Systems (India) Limited, Nedumkandam\",450,119335,113110,952,598.42\\r\\n2481,11-Jan-16,\"Cardamom Planters\\' Association, Santhanpara\",332,65858.4,61731,768.5,576.99\\r\\n2482,11-Jan-16,IDUKKI Dist.TRADITIONAL CARDAMOM PRODUCER COMPANY Ltd,299,68389.7,64656.4,889,586.08\\r\\n2483,9-Jan-16,\"Mas Enterprises, Vandanmettu\",410,95704.6,93402.5,1010,610.48\\r\\n2484,9-Jan-16,Green House Cardamom Mktg.India Pvt. Ltd,159,27425.3,23674.4,859,584.21\\r\\n2485,8-Jan-16,STATE TRADING CORPORATION,190,39944.7,39705.6,840,605.31\\r\\n2486,8-Jan-16,CARDAMOM GROWERSFOREVER PRIVATE LIMITED,385,79274.9,76540.5,923,606.14\\r\\n2487,7-Jan-16,THE CARDAMOM PLANTERS MARKETING CO-OPERATIVE SOCIETY LIMITED,319,87291.4,86496,916,617.95\\r\\n2488,7-Jan-16,\"The Kerala Cardamom Processing and Marketing Company Limited, Thekkady\",299,78153.2,78153.2,966,610.61\\r\\n2489,6-Jan-16,VANDANMEDU GREEN GOLD CARDAMOM PRODUCER CoLtd,334,76072,76072,865,624.08\\r\\n2490,6-Jan-16,SUGANDHAGIRI SPICES PROMOTERS&TRADERS Pvt Ltd,245,50414,47552.9,796,601.11\\r\\n2491,5-Jan-16,\"South Indian Green Cardamom Company Ltd, Kochi\",401,101607,101244,969,619.85\\r\\n2492,5-Jan-16,\"Header Systems (India) Limited, Nedumkandam\",408,95993.3,94765.2,870,588.72\\r\\n2493,4-Jan-16,\"Cardamom Planters\\' Association, Santhanpara\",304,59405.8,57671,810,567.56\\r\\n2494,4-Jan-16,IDUKKI Dist.TRADITIONAL CARDAMOM PRODUCER COMPANY Ltd,234,47123.5,45238.1,904,619.93\\r\\n2495,2-Jan-16,\"Mas Enterprises, Vandanmettu\",376,80386,78140.4,953,595.67\\r\\n2496,2-Jan-16,Green House Cardamom Mktg.India Pvt. Ltd,130,21086.4,21050.5,901,597.74\\r\\n2497,1-Jan-16,STATE TRADING CORPORATION,151,29691.3,29117.9,899,587.23\\r\\n2498,1-Jan-16,CARDAMOM GROWERSFOREVER PRIVATE LIMITED,351,68095.2,66106.9,894.5,590.45\\r\\n2499,31-Dec-15,\"The Cardamom Processing & Marketing Co-Operative Society Ltd, Kumily\",271,72779,72409.6,915,606.9\\r\\n2500,31-Dec-15,\"The Kerala Cardamom Processing and Marketing Company Limited, Thekkady\",301,76661.3,75868.9,970,596.26\\r\\n2501,30-Dec-15,VANDANMEDU GREEN GOLD CARDAMOM PRODUCER CoLtd,208,44334.2,42556,854,597\\r\\n2502,30-Dec-15,SUGANDHAGIRI SPICES PROMOTERS&TRADERS Pvt Ltd,214,40297.4,36093.5,800,573.8\\r\\n2503,29-Dec-15,\"South Indian Green Cardamom Company Ltd, Kochi\",378,91847.5,87918.6,947,590.14\\r\\n2504,29-Dec-15,\"Header Systems (India) Limited, Nedumkandam\",371,88629.3,85995.1,900,562.07\\r\\n2505,28-Dec-15,\"Cardamom Planters\\' Association, Santhanpara\",257,50644.5,48660.5,746,557.94\\r\\n2506,28-Dec-15,IDUKKI Dist.TRADITIONAL CARDAMOM PRODUCER COMPANY Ltd,189,39459.6,39051.8,833,588.31\\r\\n2507,26-Dec-15,\"Mas Enterprises, Vandanmettu\",307,67737.8,62779.5,878,577.89\\r\\n2508,24-Dec-15,THE CARDAMOM PLANTERS MARKETING CO-OPERATIVE SOCIETY LIMITED,326,92818.9,92166.7,936,591.27\\r\\n2509,24-Dec-15,\"The Kerala Cardamom Processing and Marketing Company Limited, Thekkady\",302,77585.8,77457.3,913,580.1\\r\\n2510,23-Dec-15,VANDANMEDU GREEN GOLD CARDAMOM PRODUCER CoLtd,342,77725.1,73805.5,869,577.8\\r\\n2511,23-Dec-15,SUGANDHAGIRI SPICES PROMOTERS&TRADERS Pvt Ltd,256,50209.7,42716.3,854,563.05\\r\\n2512,22-Dec-15,\"South Indian Green Cardamom Company Ltd, Kochi\",447,118872,102976,963,599.44\\r\\n2513,22-Dec-15,\"Header Systems (India) Limited, Nedumkandam\",410,106467,103919,843,563.1\\r\\n2514,21-Dec-15,\"Cardamom Planters\\' Association, Santhanpara\",312,67480.6,65574.5,785,560.24\\r\\n2515,21-Dec-15,IDUKKI Dist.TRADITIONAL CARDAMOM PRODUCER COMPANY Ltd,275,58571.6,54769.4,876,585.98\\r\\n2516,19-Dec-15,\"Mas Enterprises, Vandanmettu\",408,92510.6,89197.6,901,595.35\\r\\n2517,19-Dec-15,Green House Cardamom Mktg.India Pvt. Ltd,115,22534.8,21996.2,782,578.31\\r\\n2518,18-Dec-15,STATE TRADING CORPORATION,90,16672.5,16516,787,583.25\\r\\n2519,18-Dec-15,CARDAMOM GROWERSFOREVER PRIVATE LIMITED,378,73086.2,70428.5,823,586.23\\r\\n2520,17-Dec-15,THE CARDAMOM PLANTERS MARKETING CO-OPERATIVE SOCIETY LIMITED,328,98132.9,98132.9,868,601.51\\r\\n2521,17-Dec-15,\"The Kerala Cardamom Processing and Marketing Company Limited, Thekkady\",327,92626.8,92626.8,878,598.57\\r\\n2522,16-Dec-15,VANDANMEDU GREEN GOLD CARDAMOM PRODUCER CoLtd,328,79086.9,76996.5,863,589.59\\r\\n2523,16-Dec-15,SUGANDHAGIRI SPICES PROMOTERS&TRADERS Pvt Ltd,254,50062,45700.2,816,577.81\\r\\n2524,15-Dec-15,\"South Indian Green Cardamom Company Ltd, Kochi\",429,113574,106240,915,608.53\\r\\n2525,15-Dec-15,\"Header Systems (India) Limited, Nedumkandam\",392,100343,98566.1,925,581.24\\r\\n2526,14-Dec-15,\"Cardamom Planters\\' Association, Santhanpara\",302,63601.2,60703.1,809,569.74\\r\\n2527,12-Dec-15,\"Mas Enterprises, Vandanmettu\",439,104306,98207.7,861,589.67\\r\\n2528,12-Dec-15,Green House Cardamom Mktg.India Pvt. Ltd,101,21737.9,20553.9,860,638.58\\r\\n2529,11-Dec-15,STATE TRADING CORPORATION,84,16090.2,13615.3,855,573.24\\r\\n2530,10-Dec-15,THE CARDAMOM PLANTERS MARKETING CO-OPERATIVE SOCIETY LIMITED,312,92379,91987.4,907,604.79\\r\\n2531,10-Dec-15,\"The Kerala Cardamom Processing and Marketing Company Limited, Thekkady\",325,89710.7,89710.7,899,594.86\\r\\n2532,9-Dec-15,VANDANMEDU GREEN GOLD CARDAMOM PRODUCER CoLtd,272,60777.4,60461,892,600.65\\r\\n2533,9-Dec-15,SUGANDHAGIRI SPICES PROMOTERS&TRADERS Pvt Ltd,219,45236.7,41672.7,834,594.51\\r\\n2534,8-Dec-15,\"South Indian Green Cardamom Company Ltd, Kochi\",446,117371,101301,969,610.79\\r\\n2535,8-Dec-15,\"Header Systems (India) Limited, Nedumkandam\",367,91785.7,91299.5,880,597.28\\r\\n2536,7-Dec-15,\"Cardamom Planters\\' Association, Santhanpara\",212,45260.3,42864.5,692,570\\r\\n2537,7-Dec-15,IDUKKI Dist.TRADITIONAL CARDAMOM PRODUCER COMPANY Ltd,260,56653.3,56653.3,916,624.34\\r\\n2538,5-Dec-15,\"Mas Enterprises, Vandanmettu\",431,98231.3,91011.7,920,586.87\\r\\n2539,5-Dec-15,Green House Cardamom Mktg.India Pvt. Ltd,94,20578,18136.8,900,667.54\\r\\n2540,4-Dec-15,STATE TRADING CORPORATION,60,11574.3,10934.7,814,581.95\\r\\n2541,4-Dec-15,CARDAMOM GROWERSFOREVER PRIVATE LIMITED,472,97332.7,94299.1,900.5,587.75\\r\\n2542,3-Dec-15,THE CARDAMOM PLANTERS MARKETING CO-OPERATIVE SOCIETY LIMITED,360,111576,111412,951,605.46\\r\\n2543,3-Dec-15,\"The Kerala Cardamom Processing and Marketing Company Limited, Thekkady\",346,101031,100384,902,601.82\\r\\n2544,2-Dec-15,VANDANMEDU GREEN GOLD CARDAMOM PRODUCER CoLtd,305,77208.3,75376.1,793,606.99\\r\\n2545,2-Dec-15,SUGANDHAGIRI SPICES PROMOTERS&TRADERS Pvt Ltd,252,50186.5,46148.2,848,610.22\\r\\n2546,1-Dec-15,\"South Indian Green Cardamom Company Ltd, Kochi\",486,137889,122280,936,626.26\\r\\n2547,1-Dec-15,\"Header Systems (India) Limited, Nedumkandam\",437,121215,116625,870,602.7\\r\\n2548,30-Nov-15,\"Cardamom Planters\\' Association, Santhanpara\",260,56409.4,55804.1,837,588.02\\r\\n2549,30-Nov-15,IDUKKI Dist.TRADITIONAL CARDAMOM PRODUCER COMPANY Ltd,343,81268.8,81268.8,933,632.47\\r\\n2550,28-Nov-15,\"Mas Enterprises, Vandanmettu\",427,110423,108086,917,626.73\\r\\n2551,28-Nov-15,Green House Cardamom Mktg.India Pvt. Ltd,178,31532.1,29038.7,910,598.58\\r\\n2552,27-Nov-15,STATE TRADING CORPORATION,48,11104.8,11104.8,832,610.64\\r\\n2553,27-Nov-15,CARDAMOM GROWERSFOREVER PRIVATE LIMITED,447,95571.8,95041.1,924,620.68\\r\\n2554,26-Nov-15,THE CARDAMOM PLANTERS MARKETING CO-OPERATIVE SOCIETY LIMITED,349,106256,106256,963,629.85\\r\\n2555,26-Nov-15,\"The Kerala Cardamom Processing and Marketing Company Limited, Thekkady\",350,95209.3,95209.3,957,631.11\\r\\n2556,25-Nov-15,VANDANMEDU GREEN GOLD CARDAMOM PRODUCER CoLtd,200,50300.6,47764.7,849,617.36\\r\\n2557,25-Nov-15,SUGANDHAGIRI SPICES PROMOTERS&TRADERS Pvt Ltd,218,42360.2,42224.3,788,608.86\\r\\n2558,24-Nov-15,\"South Indian Green Cardamom Company Ltd, Kochi\",433,112106,109204,926,636.85\\r\\n2559,24-Nov-15,\"Header Systems (India) Limited, Nedumkandam\",365,94851.4,93898.5,852,613.84\\r\\n2560,23-Nov-15,\"Cardamom Planters\\' Association, Santhanpara\",224,45899.7,45899.7,762,577.23\\r\\n2561,23-Nov-15,IDUKKI Dist.TRADITIONAL CARDAMOM PRODUCER COMPANY Ltd,332,72627,72627,984,628.75\\r\\n2562,21-Nov-15,\"Mas Enterprises, Vandanmettu\",420,94130.5,82454.3,938,604.53\\r\\n2563,21-Nov-15,Green House Cardamom Mktg.India Pvt. Ltd,155,24437,22145.7,753,571.5\\r\\n2564,20-Nov-15,STATE TRADING CORPORATION,54,11177.5,11177.5,859,580.92\\r\\n2565,20-Nov-15,CARDAMOM GROWERSFOREVER PRIVATE LIMITED,333,61812.3,60917.9,896,586.07\\r\\n2566,19-Nov-15,THE CARDAMOM PLANTERS MARKETING CO-OPERATIVE SOCIETY LIMITED,354,111532,107250,866,582.56\\r\\n2567,19-Nov-15,\"The Kerala Cardamom Processing and Marketing Company Limited, Thekkady\",350,93368.3,93368.3,907,588.62\\r\\n2568,19-Nov-15,\"The Kerala Cardamom Processing and Marketing Company Limited, Thekkady\",350,93368.3,93368.3,907,588\\r\\n2569,18-Nov-15,VANDANMEDU GREEN GOLD CARDAMOM PRODUCER CoLtd,352,100239,94632.3,855,587.56\\r\\n2570,18-Nov-15,SUGANDHAGIRI SPICES PROMOTERS&TRADERS Pvt Ltd,248,50236.3,45599.6,802,578.41\\r\\n2571,16-Nov-15,\"Cardamom Planters\\' Association, Santhanpara\",323,67046,65569,750,572.92\\r\\n2572,14-Nov-15,Green House Cardamom Mktg.India Pvt. Ltd,128,25039,17022,846,625.5\\r\\n2573,14-Nov-15,\"Mas Enterprises, Vandanmettu\",446,105391,102710,900,610.31\\r\\n2574,14-Nov-15,CARDAMOM GROWERSFOREVER PRIVATE LIMITED,387,80695,80496,860,608.29\\r\\n2575,13-Nov-15,STATE TRADING CORPORATION,86,20923,19509,847,636.49\\r\\n2576,12-Nov-15,\"The Kerala Cardamom Processing and Marketing Company Limited, Thekkady\",202,52093,51202,900,604.62\\r\\n2577,12-Nov-15,THE CARDAMOM PLANTERS MARKETING CO-OPERATIVE SOCIETY LIMITED,299,87524,87524,1101,624.28\\r\\n2578,11-Nov-15,VANDANMEDU GREEN GOLD CARDAMOM PRODUCER CoLtd,272,70253,69485,871,649.42\\r\\n2579,7-Nov-15,Green House Cardamom Mktg.India Pvt. Ltd,142,24745,24391,844,606.14\\r\\n2580,7-Nov-15,\"Mas Enterprises, Vandanmettu\",501,113530,103851,925,623.98\\r\\n2581,6-Nov-15,CARDAMOM GROWERSFOREVER PRIVATE LIMITED,366,71935,70923,928,605.02\\r\\n2582,6-Nov-15,STATE TRADING CORPORATION,36,8386,8210,741,588.28\\r\\n2583,5-Nov-15,\"The Kerala Cardamom Processing and Marketing Company Limited, Thekkady\",320,84340,84340,912,608.63\\r\\n2584,5-Nov-15,THE CARDAMOM PLANTERS MARKETING CO-OPERATIVE SOCIETY LIMITED,297,84446,84446,910,608.99\\r\\n2585,4-Nov-15,VANDANMEDU GREEN GOLD CARDAMOM PRODUCER CoLtd,334,74641,74289,900,624.44\\r\\n2586,4-Nov-15,SUGANDHAGIRI SPICES PROMOTERS&TRADERS Pvt Ltd,194,34864,34610,883,613.13\\r\\n2587,3-Nov-15,\"Header Systems (India) Limited, Nedumkandam\",373,86450,86209,890,603.73\\r\\n2588,3-Nov-15,\"South Indian Green Cardamom Company Ltd, Kochi\",387,95716,95716,937,643.07\\r\\n2589,2-Nov-15,\"Cardamom Planters\\' Association, Santhanpara\",293,56135,54900,776,579.87\\r\\n2590,2-Nov-15,IDUKKI Dist.TRADITIONAL CARDAMOM PRODUCER COMPANY Ltd,291,60752,59620,901,613.57\\r\\n2591,31-Oct-15,Green House Cardamom Mktg.India Pvt. Ltd,132,22136,21614,842,581.48\\r\\n2592,31-Oct-15,\"Mas Enterprises, Vandanmettu\",405,82749,80116,895,602.1\\r\\n2593,30-Oct-15,CARDAMOM GROWERSFOREVER PRIVATE LIMITED,250,42764,42217,984,593.16\\r\\n2594,30-Oct-15,STATE TRADING CORPORATION,203,43857,42032,821,585.71\\r\\n2595,29-Oct-15,\"The Kerala Cardamom Processing and Marketing Company Limited, Thekkady\",321,86105,85548,895,603.77\\r\\n2596,29-Oct-15,THE CARDAMOM PLANTERS MARKETING CO-OPERATIVE SOCIETY LIMITED,323,89877,89877,928,619.25\\r\\n2597,28-Oct-15,SUGANDHAGIRI SPICES PROMOTERS&TRADERS Pvt Ltd,196,35674,35464,876,589.11\\r\\n2598,28-Oct-15,SUGANDHAGIRI SPICES PROMOTERS&TRADERS Pvt Ltd,196,35674,35464,876,589.11\\r\\n2599,27-Oct-15,\"Header Systems (India) Limited, Nedumkandam\",329,73761,72200,854,586.13\\r\\n2600,27-Oct-15,\"South Indian Green Cardamom Company Ltd, Kochi\",369,92452,92354,906,613.84\\r\\n2601,26-Oct-15,IDUKKI Dist.TRADITIONAL CARDAMOM PRODUCER COMPANY Ltd,235,45905,45905,862,612.93\\r\\n2602,26-Oct-15,\"Cardamom Planters\\' Association, Santhanpara\",291,57270,52773,796,578.49\\r\\n2603,24-Oct-15,\"Mas Enterprises, Vandanmettu\",348,73095,71410,940,598.8\\r\\n2604,24-Oct-15,Green House Cardamom Mktg.India Pvt. Ltd,116,19713,16750,812,575.3\\r\\n2605,23-Oct-15,STATE TRADING CORPORATION,104,21503,21503,802,622.7\\r\\n2606,23-Oct-15,CARDAMOM GROWERSFOREVER PRIVATE LIMITED,203,32831,31916,876,624.73\\r\\n2607,22-Oct-15,\"The Kerala Cardamom Processing and Marketing Company Limited, Thekkady\",264,65680,65680,913,615.88\\r\\n2608,22-Oct-15,THE CARDAMOM PLANTERS MARKETING CO-OPERATIVE SOCIETY LIMITED,268,71393,71393,921,631.72\\r\\n2609,20-Oct-15,\"Header Systems (India) Limited, Nedumkandam\",384,95989,93275,848,581.44\\r\\n2610,20-Oct-15,\"South Indian Green Cardamom Company Ltd, Kochi\",431,103552,90860,963,619.85\\r\\n2611,19-Oct-15,\"Cardamom Planters\\' Association, Santhanpara\",314,61043,55322,851,584.38\\r\\n2612,19-Oct-15,IDUKKI Dist.TRADITIONAL CARDAMOM PRODUCER COMPANY Ltd,287,52373,51472,855,616.7\\r\\n2613,17-Oct-15,Green House Cardamom Mktg.India Pvt. Ltd,165,24915,22322,755,582.86\\r\\n2614,17-Oct-15,\"Mas Enterprises, Vandanmettu\",398,83174,80236,975,606.47\\r\\n2615,16-Oct-15,CARDAMOM GROWERSFOREVER PRIVATE LIMITED,176,26748,26399,911,616.64\\r\\n2616,16-Oct-15,STATE TRADING CORPORATION,346,77245,74159,915,616.54\\r\\n2617,15-Oct-15,THE CARDAMOM PLANTERS MARKETING CO-OPERATIVE SOCIETY LIMITED,310,86807,86807,926,618.83\\r\\n2618,15-Oct-15,THE CARDAMOM PLANTERS MARKETING CO-OPERATIVE SOCIETY LIMITED,310,86807,86807,926,618.83\\r\\n2619,14-Oct-15,SUGANDHAGIRI SPICES PROMOTERS&TRADERS Pvt Ltd,223,40103,37965,822,596.96\\r\\n2620,14-Oct-15,VANDANMEDU GREEN GOLD CARDAMOM PRODUCER CoLtd,340,71553,70817,888,621.78\\r\\n2621,13-Oct-15,\"Header Systems (India) Limited, Nedumkandam\",376,89861,87190,820,609.96\\r\\n2622,13-Oct-15,\"South Indian Green Cardamom Company Ltd, Kochi\",420,97397,79663,950,655.43\\r\\n2623,12-Oct-15,IDUKKI Dist.TRADITIONAL CARDAMOM PRODUCER COMPANY Ltd,254,49996,49089,949,643.37\\r\\n2624,12-Oct-15,\"Cardamom Planters\\' Association, Santhanpara\",323,60959,59253,836,599.3\\r\\n2625,10-Oct-15,\"Mas Enterprises, Vandanmettu\",415,91005,88075,895,629.09\\r\\n2626,10-Oct-15,Green House Cardamom Mktg.India Pvt. Ltd,204,33777,31440,860,607.44\\r\\n2627,9-Oct-15,STATE TRADING CORPORATION,363,87962,79405,945,617.11\\r\\n2628,9-Oct-15,CARDAMOM GROWERSFOREVER PRIVATE LIMITED,322,55196,54184,949,618.05\\r\\n2629,8-Oct-15,\"The Kerala Cardamom Processing and Marketing Company Limited, Thekkady\",271,68208,67591,888,619.52\\r\\n2630,8-Oct-15,THE CARDAMOM PLANTERS MARKETING CO-OPERATIVE SOCIETY LIMITED,301,82977,82748,930,639.77\\r\\n2631,7-Oct-15,VANDANMEDU GREEN GOLD CARDAMOM PRODUCER CoLtd,375,80364,77808,901,638.33\\r\\n2632,7-Oct-15,SUGANDHAGIRI SPICES PROMOTERS&TRADERS Pvt Ltd,259,51061,46174,837,618.24\\r\\n2633,6-Oct-15,\"South Indian Green Cardamom Company Ltd, Kochi\",391,96506,93043,1033,661.1\\r\\n2634,6-Oct-15,\"Header Systems (India) Limited, Nedumkandam\",381,103127,102969,883,635.2\\r\\n2635,5-Oct-15,IDUKKI Dist.TRADITIONAL CARDAMOM PRODUCER COMPANY Ltd,281,53746,51820,901,633.25\\r\\n2636,5-Oct-15,\"Cardamom Planters\\' Association, Santhanpara\",335,70059,63999,840,613.8\\r\\n2637,3-Oct-15,Green House Cardamom Mktg.India Pvt. Ltd,275,52419,43869,848,629.65\\r\\n2638,3-Oct-15,\"Mas Enterprises, Vandanmettu\",441,101823,96147,942,639.49\\r\\n2639,1-Oct-15,\"The Kerala Cardamom Processing and Marketing Company Limited, Thekkady\",307,87790,85987,939,658.52\\r\\n2640,1-Oct-15,THE CARDAMOM PLANTERS MARKETING CO-OPERATIVE SOCIETY LIMITED,358,109708,108698,943,646.53\\r\\n2641,31-Aug-15,\"Cardamom Planters\\' Association, Santhanpara\",278,51058,49808,886,631.78\\r\\n2642,31-Aug-15,IDUKKI Dist.TRADITIONAL CARDAMOM PRODUCER COMPANY Ltd,276,53435,52278,951,668.78\\r\\n2643,29-Aug-15,\"Mas Enterprises, Vandanmettu\",333,63377,63016,921,656.63\\r\\n2644,26-Aug-15,VANDANMEDU GREEN GOLD CARDAMOM PRODUCER CoLtd,297,56565,56565,898,648.87\\r\\n2645,25-Aug-15,\"Header Systems (India) Limited, Nedumkandam\",359,83303,83086,920,624.89\\r\\n2646,25-Aug-15,\"South Indian Green Cardamom Company Ltd, Kochi\",348,73494,73340,953,641.92\\r\\n2647,24-Aug-15,\"Cardamom Planters\\' Association, Santhanpara\",256,43929,42924,812,604.8\\r\\n2648,24-Aug-15,IDUKKI Dist.TRADITIONAL CARDAMOM PRODUCER COMPANY Ltd,233,44205,43405,907,636.37\\r\\n2649,22-Aug-15,Green House Cardamom Mktg.India Pvt. Ltd,276,44905,41692,851,599.16\\r\\n2650,22-Aug-15,\"Mas Enterprises, Vandanmettu\",347,70662,70479,940,617.03\\r\\n2651,21-Aug-15,CARDAMOM GROWERSFOREVER PRIVATE LIMITED,286,46687,45861,885,609.35\\r\\n2652,21-Aug-15,STATE TRADING CORPORATION,313,62995,62069,887,614.12\\r\\n2653,20-Aug-15,THE CARDAMOM PLANTERS MARKETING CO-OPERATIVE SOCIETY LIMITED,331,88946,88147,912,623.51\\r\\n2654,20-Aug-15,\"The Kerala Cardamom Processing and Marketing Company Limited, Thekkady\",300,71480,71480,899,606.68\\r\\n2655,19-Aug-15,VANDANMEDU GREEN GOLD CARDAMOM PRODUCER CoLtd,311,61654,60514,1002,638.26\\r\\n2656,19-Aug-15,SUGANDHAGIRI SPICES PROMOTERS&TRADERS Pvt Ltd,325,64009,60564,895,619.78\\r\\n2657,18-Aug-15,\"South Indian Green Cardamom Company Ltd, Kochi\",405,92524,87806,968,646.02\\r\\n2658,18-Aug-15,\"Header Systems (India) Limited, Nedumkandam\",387,97580,95612,925,624.37\\r\\n2659,17-Aug-15,\"Cardamom Planters\\' Association, Santhanpara\",274,47610,46504,853,615.39\\r\\n2660,14-Aug-15,CARDAMOM GROWERSFOREVER PRIVATE LIMITED,371,62501,60229,872,644.08\\r\\n2661,14-Aug-15,STATE TRADING CORPORATION,327,64686,63931,920,641.33\\r\\n2662,13-Aug-15,\"The Kerala Cardamom Processing and Marketing Company Limited, Thekkady\",290,64868,64868,922,644.03\\r\\n2663,13-Aug-15,THE CARDAMOM PLANTERS MARKETING CO-OPERATIVE SOCIETY LIMITED,333,86780,86780,942,644.99\\r\\n2664,12-Aug-15,VANDANMEDU GREEN GOLD CARDAMOM PRODUCER CoLtd,321,63490,63490,930.5,652.28\\r\\n2665,12-Aug-15,SUGANDHAGIRI SPICES PROMOTERS&TRADERS Pvt Ltd,316,60334,59368,952,650.29\\r\\n2666,11-Aug-15,\"South Indian Green Cardamom Company Ltd, Kochi\",343,73736,73736,958,666.29\\r\\n2667,11-Aug-15,\"Header Systems (India) Limited, Nedumkandam\",373,85001,84799,913,638.68\\r\\n2668,10-Aug-15,\"Cardamom Planters\\' Association, Santhanpara\",261,40223,38665,866,619.17\\r\\n2669,10-Aug-15,IDUKKI Dist.TRADITIONAL CARDAMOM PRODUCER COMPANY Ltd,265,48264,48098,893,654.23\\r\\n2670,8-Aug-15,\"Mas Enterprises, Vandanmettu\",358,65505,64472,948,649.35\\r\\n2671,8-Aug-15,Green House Cardamom Mktg.India Pvt. Ltd,297,48210,47392,874,620.6\\r\\n2672,7-Aug-15,STATE TRADING CORPORATION,306,55893,55284,908,634.44\\r\\n2673,7-Aug-15,CARDAMOM GROWERSFOREVER PRIVATE LIMITED,313,41334,41013,920,641.65\\r\\n2674,6-Aug-15,\"The Kerala Cardamom Processing and Marketing Company Limited, Thekkady\",52,54078,53881,938,635.63\\r\\n2675,6-Aug-15,THE CARDAMOM PLANTERS MARKETING CO-OPERATIVE SOCIETY LIMITED,50,67947,67947,1010,649.75\\r\\n2676,5-Aug-15,CARDAMOM GROWERSFOREVER PRIVATE LIMITED,251,45173,45173,894,633.93\\r\\n2677,5-Aug-15,VANDANMEDU GREEN GOLD CARDAMOM PRODUCER CoLtd,283,54156,53831,908,644.44\\r\\n2678,4-Aug-15,\"South Indian Green Cardamom Company Ltd, Kochi\",324,63786,62727,952,644.32\\r\\n2679,4-Aug-15,\"Header Systems (India) Limited, Nedumkandam\",342,71019,71019,908,629.9\\r\\n2680,3-Aug-15,IDUKKI Dist.TRADITIONAL CARDAMOM PRODUCER COMPANY Ltd,218,37010,36718,926,634.46\\r\\n2681,1-Aug-15,Green House Cardamom Mktg.India Pvt. Ltd,274,41872,40489,893,598.55\\r\\n2682,1-Aug-15,\"Mas Enterprises, Vandanmettu\",328,58081,56112,933,616.86\\r\\n2683,31-Jul-15,STATE TRADING CORPORATION,278,45221,44109,916,618.92\\r\\n2684,31-Jul-15,CARDAMOM GROWERSFOREVER PRIVATE LIMITED,262,38215,36556,897,626.94\\r\\n2685,30-Jul-15,\"The Kerala Cardamom Processing and Marketing Company Limited, Thekkady\",237,47752,47752,948,623.96\\r\\n2686,30-Jul-15,THE CARDAMOM PLANTERS MARKETING CO-OPERATIVE SOCIETY LIMITED,315,68161,68161,955,622.2\\r\\n2687,29-Jul-15,VANDANMEDU GREEN GOLD CARDAMOM PRODUCER CoLtd,280,50358,48990,918,620.56\\r\\n2688,29-Jul-15,SUGANDHAGIRI SPICES PROMOTERS&TRADERS Pvt Ltd,220,41587,40352,874,617.17\\r\\n2689,28-Jul-15,\"Header Systems (India) Limited, Nedumkandam\",338,64849,64362,950,629.2\\r\\n2690,28-Jul-15,\"South Indian Green Cardamom Company Ltd, Kochi\",356,67698,64561,967,633.19\\r\\n2691,27-Jul-15,\"Cardamom Planters\\' Association, Santhanpara\",240,36588,35545,803,613.11\\r\\n2692,27-Jul-15,IDUKKI Dist.TRADITIONAL CARDAMOM PRODUCER COMPANY Ltd,199,33471,32677,951,643.09\\r\\n2693,25-Jul-15,\"Mas Enterprises, Vandanmettu\",305,51521,50988,977,635.91\\r\\n2694,25-Jul-15,Green House Cardamom Mktg.India Pvt. Ltd,252,40047,37725,871,616.42\\r\\n2695,24-Jul-15,CARDAMOM GROWERSFOREVER PRIVATE LIMITED,202,29371,28823,882,628.43\\r\\n2696,24-Jul-15,STATE TRADING CORPORATION,216,31311,30531,914,633.22\\r\\n2697,23-Jul-15,THE CARDAMOM PLANTERS MARKETING CO-OPERATIVE SOCIETY LIMITED,259,54060,53667,1031,631.95\\r\\n2698,23-Jul-15,\"The Kerala Cardamom Processing and Marketing Company Limited, Thekkady\",237,47973,47973,971,623.25\\r\\n2699,22-Jul-15,VANDANMEDU GREEN GOLD CARDAMOM PRODUCER CoLtd,239,40126,40126,877,630.25\\r\\n2700,22-Jul-15,SUGANDHAGIRI SPICES PROMOTERS&TRADERS Pvt Ltd,258,44768,42639,942,623.59\\r\\n2701,21-Jul-15,\"Header Systems (India) Limited, Nedumkandam\",331,59460,58761,968,614.17\\r\\n2702,21-Jul-15,\"South Indian Green Cardamom Company Ltd, Kochi\",339,60507,57515,980,642.29\\r\\n2703,20-Jul-15,\"Cardamom Planters\\' Association, Santhanpara\",211,29694,28080,825,605.96\\r\\n2704,20-Jul-15,IDUKKI Dist.TRADITIONAL CARDAMOM PRODUCER COMPANY Ltd,183,29392,28999,960,642.86\\r\\n2705,17-Jul-15,SUGANDHAGIRI SPICES PROMOTERS&TRADERS Pvt Ltd,232,37262,36862,890,659.99\\r\\n2706,16-Jul-15,\"The Kerala Cardamom Processing and Marketing Company Limited, Thekkady\",223,44262,44262,913,639.32\\r\\n2707,15-Jul-15,SUGANDHAGIRI SPICES PROMOTERS&TRADERS Pvt Ltd,269,44246,42690,905,646.54\\r\\n2708,15-Jul-15,VANDANMEDU GREEN GOLD CARDAMOM PRODUCER CoLtd,223,37006,37006,928,667.05\\r\\n2709,14-Jul-15,\"South Indian Green Cardamom Company Ltd, Kochi\",313,56418,56418,998,658.9\\r\\n2710,14-Jul-15,\"Header Systems (India) Limited, Nedumkandam\",299,52252,52054,934,629.98\\r\\n2711,13-Jul-15,IDUKKI Dist.TRADITIONAL CARDAMOM PRODUCER COMPANY Ltd,147,22404,22261,994,649.43\\r\\n2712,13-Jul-15,\"Cardamom Planters\\' Association, Santhanpara\",203,29513,27890,817,629.73\\r\\n2713,11-Jul-15,Green House Cardamom Mktg.India Pvt. Ltd,228,32838,31602,869,618.43\\r\\n2714,11-Jul-15,\"Mas Enterprises, Vandanmettu\",271,45894,44879,976,634.84\\r\\n2715,10-Jul-15,CARDAMOM GROWERSFOREVER PRIVATE LIMITED,225,30900,29563,886,634.08\\r\\n2716,10-Jul-15,STATE TRADING CORPORATION,177,25229,23644,1019,638.99\\r\\n2717,9-Jul-15,\"The Kerala Cardamom Processing and Marketing Company Limited, Thekkady\",189,38219,38219,922,647.31\\r\\n2718,9-Jul-15,THE CARDAMOM PLANTERS MARKETING CO-OPERATIVE SOCIETY LIMITED,246,47797,47797,965,648.87\\r\\n2719,8-Jul-15,SUGANDHAGIRI SPICES PROMOTERS&TRADERS Pvt Ltd,221,33034,32688,903,656.43\\r\\n2720,8-Jul-15,VANDANMEDU GREEN GOLD CARDAMOM PRODUCER CoLtd,136,23699,22621,918,651.9\\r\\n2721,7-Jul-15,\"Header Systems (India) Limited, Nedumkandam\",292,52603,51057,998,639.11\\r\\n2722,7-Jul-15,\"South Indian Green Cardamom Company Ltd, Kochi\",282,50793,50311,1001,640.74\\r\\n2723,6-Jul-15,\"Cardamom Planters\\' Association, Santhanpara\",147,18073,16534,803,631.3\\r\\n2724,6-Jul-15,IDUKKI Dist.TRADITIONAL CARDAMOM PRODUCER COMPANY Ltd,179,28531,28531,990,651.23\\r\\n2725,4-Jul-15,\"Mas Enterprises, Vandanmettu\",265,47173,45341,942,658.64\\r\\n2726,4-Jul-15,Green House Cardamom Mktg.India Pvt. Ltd,207,23925,23465,852,636.63\\r\\n2727,3-Jul-15,CARDAMOM GROWERSFOREVER PRIVATE LIMITED,202,25760,24547,918,657.67\\r\\n2728,3-Jul-15,STATE TRADING CORPORATION,132,18207,17112,958,656.97\\r\\n2729,2-Jul-15,THE CARDAMOM PLANTERS MARKETING CO-OPERATIVE SOCIETY LIMITED,221,41861,41861,907,672.73\\r\\n2730,2-Jul-15,\"The Kerala Cardamom Processing and Marketing Company Limited, Thekkady\",170,30303,30303,890,649.6\\r\\n2731,1-Jul-15,SUGANDHAGIRI SPICES PROMOTERS&TRADERS Pvt Ltd,253,44650,43460,884,670.55\\r\\n2732,1-Jul-15,VANDANMEDU GREEN GOLD CARDAMOM PRODUCER CoLtd,196,31064,30785,982,678.2\\r\\n2733,30-Jun-15,\"Header Systems (India) Limited, Nedumkandam\",268,48907,47782,898,680.95\\r\\n2734,30-Jun-15,\"South Indian Green Cardamom Company Ltd, Kochi\",306,53648,53648,1009,695.18\\r\\n2735,29-Jun-15,\"Cardamom Planters\\' Association, Santhanpara\",151,18233,17165,843,684.46\\r\\n2736,29-Jun-15,IDUKKI Dist.TRADITIONAL CARDAMOM PRODUCER COMPANY Ltd,134,22042,22042,912,697.61\\r\\n2737,27-Jun-15,Green House Cardamom Mktg.India Pvt. Ltd,221,28279,28279,963,701.18\\r\\n2738,27-Jun-15,\"Mas Enterprises, Vandanmettu\",254,40037,38727,998,696.23\\r\\n2739,26-Jun-15,STATE TRADING CORPORATION,114,16119,14988,841,696.58\\r\\n2740,26-Jun-15,CARDAMOM GROWERSFOREVER PRIVATE LIMITED,140,19119,18835,1050,698.53\\r\\n2741,25-Jun-15,THE CARDAMOM PLANTERS MARKETING CO-OPERATIVE SOCIETY LIMITED,207,37314,37218,902,695.04\\r\\n2742,25-Jun-15,\"The Kerala Cardamom Processing and Marketing Company Limited, Thekkady\",158,31422,31422,963,675.57\\r\\n2743,24-Jun-15,VANDANMEDU GREEN GOLD CARDAMOM PRODUCER CoLtd,124,19924,19924,935,679.54\\r\\n2744,24-Jun-15,SUGANDHAGIRI SPICES PROMOTERS&TRADERS Pvt Ltd,245,40332,40229,1176,689.24\\r\\n2745,23-Jun-15,\"Header Systems (India) Limited, Nedumkandam\",228,42268,42110,940,679.22\\r\\n2746,23-Jun-15,\"South Indian Green Cardamom Company Ltd, Kochi\",227,40062,40062,995,681.95\\r\\n2747,22-Jun-15,IDUKKI Dist.TRADITIONAL CARDAMOM PRODUCER COMPANY Ltd,105,16943,16943,864,662.87\\r\\n2748,22-Jun-15,\"Cardamom Planters\\' Association, Santhanpara\",129,16469,16280,828,626.84\\r\\n2749,20-Jun-15,Green House Cardamom Mktg.India Pvt. Ltd,185,22871,22823,860,634.21\\r\\n2750,20-Jun-15,\"Mas Enterprises, Vandanmettu\",244,39088,39088,999,635.94\\r\\n2751,20-Jun-15,Green House Cardamom Mktg.India Pvt. Ltd,185,22871,22823,860,634.21\\r\\n2752,20-Jun-15,\"Mas Enterprises, Vandanmettu\",244,39088,39088,999,635.94\\r\\n2753,19-Jun-15,STATE TRADING CORPORATION,101,15742,15742,951,632.68\\r\\n2754,19-Jun-15,CARDAMOM GROWERSFOREVER PRIVATE LIMITED,121,17098,16434,888,641.59\\r\\n2755,18-Jun-15,\"The Kerala Cardamom Processing and Marketing Company Limited, Thekkady\",158,32465,31724,903,631.12\\r\\n2756,17-Jun-15,VANDANMEDU GREEN GOLD CARDAMOM PRODUCER CoLtd,111,17612,17612,940,658.69\\r\\n2757,16-Jun-15,\"South Indian Green Cardamom Company Ltd, Kochi\",311,57416,56843,1006,664.9\\r\\n2758,16-Jun-15,\"Header Systems (India) Limited, Nedumkandam\",311,59890,59261,950,645.98\\r\\n2759,15-Jun-15,\"Cardamom Planters\\' Association, Santhanpara\",117,16118,15102,865,649.52\\r\\n2760,13-Jun-15,Green House Cardamom Mktg.India Pvt. Ltd,196,26041,25304,762,633.77\\r\\n2761,13-Jun-15,\"Mas Enterprises, Vandanmettu\",249,42558,42194,1000,678.4\\r\\n2762,12-Jun-15,CARDAMOM GROWERSFOREVER PRIVATE LIMITED,123,15400,15316,852,670.06\\r\\n2763,12-Jun-15,STATE TRADING CORPORATION,131,20246,20246,823,656.14\\r\\n2764,11-Jun-15,\"The Kerala Cardamom Processing and Marketing Company Limited, Thekkady\",187,40416,40416,890,653.58\\r\\n2765,11-Jun-15,THE CARDAMOM PLANTERS MARKETING CO-OPERATIVE SOCIETY LIMITED,186,37321,37321,930,675.1\\r\\n2766,10-Jun-15,SUGANDHAGIRI SPICES PROMOTERS&TRADERS Pvt Ltd,226,35549,35549,936,665.08\\r\\n2767,10-Jun-15,VANDANMEDU GREEN GOLD CARDAMOM PRODUCER CoLtd,117,20386,20386,888,666.24\\r\\n2768,9-Jun-15,\"Header Systems (India) Limited, Nedumkandam\",255,48000,47603,936,661.75\\r\\n2769,9-Jun-15,\"South Indian Green Cardamom Company Ltd, Kochi\",250,46453,46093,922,680\\r\\n2770,8-Jun-15,IDUKKI Dist.TRADITIONAL CARDAMOM PRODUCER COMPANY Ltd,87,13602,13495,882,648.38\\r\\n2771,8-Jun-15,\"Cardamom Planters\\' Association, Santhanpara\",139,20608,20608,885.5,634.47\\r\\n2772,6-Jun-15,Green House Cardamom Mktg.India Pvt. Ltd,201,27621,27033,868,605.33\\r\\n2773,6-Jun-15,\"Mas Enterprises, Vandanmettu\",243,42263,41845,954,633.79\\r\\n2774,5-Jun-15,CARDAMOM GROWERSFOREVER PRIVATE LIMITED,93,12815,11666,844,642.82\\r\\n2775,5-Jun-15,STATE TRADING CORPORATION,172,29299,27541,794,615.1\\r\\n2776,4-Jun-15,\"The Kerala Cardamom Processing and Marketing Company Limited, Thekkady\",143,29220,29007,879,633.6\\r\\n2777,4-Jun-15,THE CARDAMOM PLANTERS MARKETING CO-OPERATIVE SOCIETY LIMITED,253,58530,58422,943,642.29\\r\\n2778,3-Jun-15,SUGANDHAGIRI SPICES PROMOTERS&TRADERS Pvt Ltd,243,42177,41228,972,656.34\\r\\n2779,3-Jun-15,VANDANMEDU GREEN GOLD CARDAMOM PRODUCER CoLtd,147,26466,25720,893,641.8\\r\\n2780,2-Jun-15,\"Header Systems (India) Limited, Nedumkandam\",294,60800,60725,863,658.14\\r\\n2781,2-Jun-15,\"South Indian Green Cardamom Company Ltd, Kochi\",291,57417,56825,937,684.54\\r\\n2782,1-Jun-15,IDUKKI Dist.TRADITIONAL CARDAMOM PRODUCER COMPANY Ltd,110,14799,14321,887,663.35\\r\\n2783,30-May-15,Green House Cardamom Mktg.India Pvt. Ltd,238,31671,30712,834,642.87\\r\\n2784,30-May-15,\"Mas Enterprises, Vandanmettu\",294,57714,56387,923,663.16\\r\\n2785,29-May-15,CARDAMOM GROWERSFOREVER PRIVATE LIMITED,178,21713,21362,913,648.27\\r\\n2786,29-May-15,STATE TRADING CORPORATION,270,49596,47779,890,675.42\\r\\n2787,28-May-15,\"The Kerala Cardamom Processing and Marketing Company Limited, Thekkady\",204,43415,43415,845,670.56\\r\\n2788,28-May-15,THE CARDAMOM PLANTERS MARKETING CO-OPERATIVE SOCIETY LIMITED,232,50900,50900,922,680.09\\r\\n2789,27-May-15,SUGANDHAGIRI SPICES PROMOTERS&TRADERS Pvt Ltd,215,35805,35805,890,701.92\\r\\n2790,27-May-15,VANDANMEDU GREEN GOLD CARDAMOM PRODUCER CoLtd,159,26540,26540,905,699.88\\r\\n2791,26-May-15,\"Header Systems (India) Limited, Nedumkandam\",271,52070,52002,938,675.66\\r\\n2792,26-May-15,\"South Indian Green Cardamom Company Ltd, Kochi\",242,47413,47413,960,696.05\\r\\n2793,25-May-15,IDUKKI Dist.TRADITIONAL CARDAMOM PRODUCER COMPANY Ltd,74,10455,10455,914,664.29\\r\\n2794,23-May-15,Green House Cardamom Mktg.India Pvt. Ltd,173,21262,21095,1002,614.41\\r\\n2795,23-May-15,\"Mas Enterprises, Vandanmettu\",283,52345,52213,899,637.24\\r\\n2796,22-May-15,CARDAMOM GROWERSFOREVER PRIVATE LIMITED,112,12201,11551,822,631.08\\r\\n2797,22-May-15,STATE TRADING CORPORATION,174,30790,30605,964,644.5\\r\\n2798,21-May-15,\"The Kerala Cardamom Processing and Marketing Company Limited, Thekkady\",199,46363,45795,877,668.57\\r\\n2799,21-May-15,THE CARDAMOM PLANTERS MARKETING CO-OPERATIVE SOCIETY LIMITED,248,54145,54145,931,656.15\\r\\n2800,20-May-15,SUGANDHAGIRI SPICES PROMOTERS&TRADERS Pvt Ltd,184,32369,32145,872,644.76\\r\\n2801,20-May-15,VANDANMEDU GREEN GOLD CARDAMOM PRODUCER CoLtd,109,19499,19499,895,660.18\\r\\n2802,19-May-15,\"Header Systems (India) Limited, Nedumkandam\",206,38978,38978,901,647.55\\r\\n2803,19-May-15,\"South Indian Green Cardamom Company Ltd, Kochi\",295,59557,58744,938,653.84\\r\\n2804,18-May-15,IDUKKI Dist.TRADITIONAL CARDAMOM PRODUCER COMPANY Ltd,117,18494,18410,922,627.98\\r\\n2805,16-May-15,Green House Cardamom Mktg.India Pvt. Ltd,205,27857,25366,866,595.33\\r\\n2806,16-May-15,\"Mas Enterprises, Vandanmettu\",304,62377,61507,860,617.62\\r\\n2807,15-May-15,CARDAMOM GROWERSFOREVER PRIVATE LIMITED,135,19143,18797,934,631.49\\r\\n2808,15-May-15,STATE TRADING CORPORATION,210,40915,36695,920,644.74\\r\\n2809,14-May-15,\"The Kerala Cardamom Processing and Marketing Company Limited, Thekkady\",238,52766,52400,901,640.54\\r\\n2810,14-May-15,THE CARDAMOM PLANTERS MARKETING CO-OPERATIVE SOCIETY LIMITED,260,60321,60321,939,643.62\\r\\n2811,13-May-15,SUGANDHAGIRI SPICES PROMOTERS&TRADERS Pvt Ltd,202,35585,33688,878,658.95\\r\\n2812,13-May-15,VANDANMEDU GREEN GOLD CARDAMOM PRODUCER CoLtd,151,26444,26444,939,659.24\\r\\n2813,12-May-15,\"Header Systems (India) Limited, Nedumkandam\",277,53667,53369,912,673.66\\r\\n2814,12-May-15,\"South Indian Green Cardamom Company Ltd, Kochi\",325,66757,66605,924,690.72\\r\\n2815,11-May-15,IDUKKI Dist.TRADITIONAL CARDAMOM PRODUCER COMPANY Ltd,116,21273,20950,934,657.36\\r\\n2816,11-May-15,\"Cardamom Planters\\' Association, Santhanpara\",193,27336,29838,885,651.32\\r\\n2817,9-May-15,Green House Cardamom Mktg.India Pvt. Ltd,195,27897,27845,915,646.84\\r\\n2818,9-May-15,\"Mas Enterprises, Vandanmettu\",289,54764,54237,909,669.21\\r\\n2819,8-May-15,CARDAMOM GROWERSFOREVER PRIVATE LIMITED,131,17956,17821,925,670.56\\r\\n2820,8-May-15,STATE TRADING CORPORATION,195,34348,34042,900,674.6\\r\\n2821,7-May-15,\"The Kerala Cardamom Processing and Marketing Company Limited, Thekkady\",205,43298,43298,945,671.64\\r\\n2822,7-May-15,THE CARDAMOM PLANTERS MARKETING CO-OPERATIVE SOCIETY LIMITED,259,59461,58626,972,671.44\\r\\n2823,6-May-15,SUGANDHAGIRI SPICES PROMOTERS&TRADERS Pvt Ltd,164,26625,25501,890,683.69\\r\\n2824,6-May-15,VANDANMEDU GREEN GOLD CARDAMOM PRODUCER CoLtd,170,33622,32975,947,682.58\\r\\n2825,5-May-15,\"Header Systems (India) Limited, Nedumkandam\",212,38500,37701,926,669.18\\r\\n2826,5-May-15,\"South Indian Green Cardamom Company Ltd, Kochi\",286,59701,59573,952,700.58\\r\\n2827,4-May-15,IDUKKI Dist.TRADITIONAL CARDAMOM PRODUCER COMPANY Ltd,123,21246,21104,964,682.17\\r\\n2828,4-May-15,\"Cardamom Planters\\' Association, Santhanpara\",119,17975,17005,821,663\\r\\n2829,2-May-15,Green House Cardamom Mktg.India Pvt. Ltd,211,28950,27568,846,655.47\\r\\n2830,2-May-15,\"Mas Enterprises, Vandanmettu\",277,53507,47570,990,695.96\\r\\n2831,1-May-15,CARDAMOM GROWERSFOREVER PRIVATE LIMITED,82,10281,10132,916,680.56\\r\\n2832,1-May-15,STATE TRADING CORPORATION,121,20836,20623,928,719.43\\r\\n2833,14-Jan-15,\"The Cardamom Processing & Marketing Co-Operative Society Ltd, Kumily\",350,76699,76699,1130,861.93\\r\\n2834,7-Nov-14,\"South Indian Green Cardamom Company Ltd, Kochi\",477,109975,109076,958,765.73\\r\\n2835,4-Nov-14,\"South Indian Green Cardamom Company Ltd, Kochi\",477,109975,109076,958,765.73\\r\\n2836,4-Nov-14,\"South Indian Green Cardamom Company Ltd, Kochi\",477,109975,109076,958,765.73\\r\\n'}"
            ]
          },
          "metadata": {
            "tags": []
          },
          "execution_count": 3
        }
      ]
    },
    {
      "cell_type": "code",
      "metadata": {
        "colab": {
          "base_uri": "https://localhost:8080/",
          "height": 275
        },
        "id": "NZrP-wTzj4qB",
        "outputId": "0f6e644b-4b12-4780-fd76-3b5d54f72572"
      },
      "source": [
        "# Now we want to create a dataframe and use Pandas' to_csv function to read in our file\n",
        "df = pd.read_csv('Indian Small Cardamom Price History.csv')  \n",
        "# Now that we have loaded our data into the dataframe, we can preview it using the print & .head() function\n",
        "df.head()  # look at the dataframe"
      ],
      "execution_count": 26,
      "outputs": [
        {
          "output_type": "execute_result",
          "data": {
            "text/html": [
              "<div>\n",
              "<style scoped>\n",
              "    .dataframe tbody tr th:only-of-type {\n",
              "        vertical-align: middle;\n",
              "    }\n",
              "\n",
              "    .dataframe tbody tr th {\n",
              "        vertical-align: top;\n",
              "    }\n",
              "\n",
              "    .dataframe thead th {\n",
              "        text-align: right;\n",
              "    }\n",
              "</style>\n",
              "<table border=\"1\" class=\"dataframe\">\n",
              "  <thead>\n",
              "    <tr style=\"text-align: right;\">\n",
              "      <th></th>\n",
              "      <th>Sno</th>\n",
              "      <th>Date of Auction</th>\n",
              "      <th>Auctioneer</th>\n",
              "      <th>No.of Lots</th>\n",
              "      <th>Total Qty Arrived (Kgs)</th>\n",
              "      <th>Qty Sold (Kgs)</th>\n",
              "      <th>MaxPrice (Rs./Kg)</th>\n",
              "      <th>Avg.Price (Rs./Kg)</th>\n",
              "    </tr>\n",
              "  </thead>\n",
              "  <tbody>\n",
              "    <tr>\n",
              "      <th>0</th>\n",
              "      <td>1-Jan-00</td>\n",
              "      <td>22-Apr-21</td>\n",
              "      <td>THE CARDAMOM PLANTERS MARKETING CO-OPERATIVE S...</td>\n",
              "      <td>210</td>\n",
              "      <td>70654.2</td>\n",
              "      <td>70113.5</td>\n",
              "      <td>1725.0</td>\n",
              "      <td>1132.99</td>\n",
              "    </tr>\n",
              "    <tr>\n",
              "      <th>1</th>\n",
              "      <td>2</td>\n",
              "      <td>21-Apr-21</td>\n",
              "      <td>South Indian Green Cardamom Company Ltd, Kochi</td>\n",
              "      <td>281</td>\n",
              "      <td>87032.9</td>\n",
              "      <td>63524.7</td>\n",
              "      <td>2177.0</td>\n",
              "      <td>1053.70</td>\n",
              "    </tr>\n",
              "    <tr>\n",
              "      <th>2</th>\n",
              "      <td>3</td>\n",
              "      <td>21-Apr-21</td>\n",
              "      <td>Green House Cardamom Mktg.India Pvt. Ltd</td>\n",
              "      <td>216</td>\n",
              "      <td>39139.3</td>\n",
              "      <td>35259.8</td>\n",
              "      <td>1770.0</td>\n",
              "      <td>1041.09</td>\n",
              "    </tr>\n",
              "    <tr>\n",
              "      <th>3</th>\n",
              "      <td>4</td>\n",
              "      <td>19-Apr-21</td>\n",
              "      <td>SUGANDHAGIRI SPICES PROMOTERS&amp;TRADERS Pvt Ltd</td>\n",
              "      <td>249</td>\n",
              "      <td>60773.5</td>\n",
              "      <td>49310.9</td>\n",
              "      <td>1825.0</td>\n",
              "      <td>1192.97</td>\n",
              "    </tr>\n",
              "    <tr>\n",
              "      <th>4</th>\n",
              "      <td>5</td>\n",
              "      <td>19-Apr-21</td>\n",
              "      <td>IDUKKI Dist.TRADITIONAL CARDAMOM PRODUCER COMP...</td>\n",
              "      <td>208</td>\n",
              "      <td>60107.8</td>\n",
              "      <td>52678.5</td>\n",
              "      <td>1832.0</td>\n",
              "      <td>1185.24</td>\n",
              "    </tr>\n",
              "  </tbody>\n",
              "</table>\n",
              "</div>"
            ],
            "text/plain": [
              "        Sno Date of Auction  ... MaxPrice (Rs./Kg)  Avg.Price (Rs./Kg)\n",
              "0  1-Jan-00       22-Apr-21  ...            1725.0             1132.99\n",
              "1         2       21-Apr-21  ...            2177.0             1053.70\n",
              "2         3       21-Apr-21  ...            1770.0             1041.09\n",
              "3         4       19-Apr-21  ...            1825.0             1192.97\n",
              "4         5       19-Apr-21  ...            1832.0             1185.24\n",
              "\n",
              "[5 rows x 8 columns]"
            ]
          },
          "metadata": {
            "tags": []
          },
          "execution_count": 26
        }
      ]
    },
    {
      "cell_type": "code",
      "metadata": {
        "colab": {
          "base_uri": "https://localhost:8080/"
        },
        "id": "X6ifdkpApxJg",
        "outputId": "55227a50-6564-4b79-ee64-31ee86f7bfea"
      },
      "source": [
        "df.shape"
      ],
      "execution_count": 27,
      "outputs": [
        {
          "output_type": "execute_result",
          "data": {
            "text/plain": [
              "(2836, 8)"
            ]
          },
          "metadata": {
            "tags": []
          },
          "execution_count": 27
        }
      ]
    },
    {
      "cell_type": "code",
      "metadata": {
        "colab": {
          "base_uri": "https://localhost:8080/",
          "height": 428
        },
        "id": "osRk8tcop3Gd",
        "outputId": "f2d11773-eca4-40d5-a1c7-93cada784996"
      },
      "source": [
        "df.describe(include=\"all\")"
      ],
      "execution_count": 28,
      "outputs": [
        {
          "output_type": "execute_result",
          "data": {
            "text/html": [
              "<div>\n",
              "<style scoped>\n",
              "    .dataframe tbody tr th:only-of-type {\n",
              "        vertical-align: middle;\n",
              "    }\n",
              "\n",
              "    .dataframe tbody tr th {\n",
              "        vertical-align: top;\n",
              "    }\n",
              "\n",
              "    .dataframe thead th {\n",
              "        text-align: right;\n",
              "    }\n",
              "</style>\n",
              "<table border=\"1\" class=\"dataframe\">\n",
              "  <thead>\n",
              "    <tr style=\"text-align: right;\">\n",
              "      <th></th>\n",
              "      <th>Sno</th>\n",
              "      <th>Date of Auction</th>\n",
              "      <th>Auctioneer</th>\n",
              "      <th>No.of Lots</th>\n",
              "      <th>Total Qty Arrived (Kgs)</th>\n",
              "      <th>Qty Sold (Kgs)</th>\n",
              "      <th>MaxPrice (Rs./Kg)</th>\n",
              "      <th>Avg.Price (Rs./Kg)</th>\n",
              "    </tr>\n",
              "  </thead>\n",
              "  <tbody>\n",
              "    <tr>\n",
              "      <th>count</th>\n",
              "      <td>2836</td>\n",
              "      <td>2836</td>\n",
              "      <td>2836</td>\n",
              "      <td>2836.000000</td>\n",
              "      <td>2836.000000</td>\n",
              "      <td>2836.000000</td>\n",
              "      <td>2836.000000</td>\n",
              "      <td>2836.000000</td>\n",
              "    </tr>\n",
              "    <tr>\n",
              "      <th>unique</th>\n",
              "      <td>2836</td>\n",
              "      <td>1659</td>\n",
              "      <td>15</td>\n",
              "      <td>NaN</td>\n",
              "      <td>NaN</td>\n",
              "      <td>NaN</td>\n",
              "      <td>NaN</td>\n",
              "      <td>NaN</td>\n",
              "    </tr>\n",
              "    <tr>\n",
              "      <th>top</th>\n",
              "      <td>454</td>\n",
              "      <td>20-Jun-15</td>\n",
              "      <td>South Indian Green Cardamom Company Ltd, Kochi</td>\n",
              "      <td>NaN</td>\n",
              "      <td>NaN</td>\n",
              "      <td>NaN</td>\n",
              "      <td>NaN</td>\n",
              "      <td>NaN</td>\n",
              "    </tr>\n",
              "    <tr>\n",
              "      <th>freq</th>\n",
              "      <td>1</td>\n",
              "      <td>4</td>\n",
              "      <td>254</td>\n",
              "      <td>NaN</td>\n",
              "      <td>NaN</td>\n",
              "      <td>NaN</td>\n",
              "      <td>NaN</td>\n",
              "      <td>NaN</td>\n",
              "    </tr>\n",
              "    <tr>\n",
              "      <th>mean</th>\n",
              "      <td>NaN</td>\n",
              "      <td>NaN</td>\n",
              "      <td>NaN</td>\n",
              "      <td>242.998237</td>\n",
              "      <td>49481.902080</td>\n",
              "      <td>47895.808533</td>\n",
              "      <td>1712.738540</td>\n",
              "      <td>1371.933449</td>\n",
              "    </tr>\n",
              "    <tr>\n",
              "      <th>std</th>\n",
              "      <td>NaN</td>\n",
              "      <td>NaN</td>\n",
              "      <td>NaN</td>\n",
              "      <td>110.173532</td>\n",
              "      <td>28965.931473</td>\n",
              "      <td>29777.961912</td>\n",
              "      <td>929.038819</td>\n",
              "      <td>845.339288</td>\n",
              "    </tr>\n",
              "    <tr>\n",
              "      <th>min</th>\n",
              "      <td>NaN</td>\n",
              "      <td>NaN</td>\n",
              "      <td>NaN</td>\n",
              "      <td>25.000000</td>\n",
              "      <td>4048.600000</td>\n",
              "      <td>0.000000</td>\n",
              "      <td>0.000000</td>\n",
              "      <td>0.000000</td>\n",
              "    </tr>\n",
              "    <tr>\n",
              "      <th>25%</th>\n",
              "      <td>NaN</td>\n",
              "      <td>NaN</td>\n",
              "      <td>NaN</td>\n",
              "      <td>164.000000</td>\n",
              "      <td>27303.225000</td>\n",
              "      <td>25916.975000</td>\n",
              "      <td>1100.000000</td>\n",
              "      <td>816.082500</td>\n",
              "    </tr>\n",
              "    <tr>\n",
              "      <th>50%</th>\n",
              "      <td>NaN</td>\n",
              "      <td>NaN</td>\n",
              "      <td>NaN</td>\n",
              "      <td>233.000000</td>\n",
              "      <td>45213.050000</td>\n",
              "      <td>43410.000000</td>\n",
              "      <td>1352.500000</td>\n",
              "      <td>1062.070000</td>\n",
              "    </tr>\n",
              "    <tr>\n",
              "      <th>75%</th>\n",
              "      <td>NaN</td>\n",
              "      <td>NaN</td>\n",
              "      <td>NaN</td>\n",
              "      <td>304.000000</td>\n",
              "      <td>66004.925000</td>\n",
              "      <td>64224.475000</td>\n",
              "      <td>1970.000000</td>\n",
              "      <td>1517.610000</td>\n",
              "    </tr>\n",
              "    <tr>\n",
              "      <th>max</th>\n",
              "      <td>NaN</td>\n",
              "      <td>NaN</td>\n",
              "      <td>NaN</td>\n",
              "      <td>790.000000</td>\n",
              "      <td>210080.000000</td>\n",
              "      <td>511177.000000</td>\n",
              "      <td>7000.000000</td>\n",
              "      <td>4733.190000</td>\n",
              "    </tr>\n",
              "  </tbody>\n",
              "</table>\n",
              "</div>"
            ],
            "text/plain": [
              "         Sno Date of Auction  ... MaxPrice (Rs./Kg)  Avg.Price (Rs./Kg)\n",
              "count   2836            2836  ...       2836.000000         2836.000000\n",
              "unique  2836            1659  ...               NaN                 NaN\n",
              "top      454       20-Jun-15  ...               NaN                 NaN\n",
              "freq       1               4  ...               NaN                 NaN\n",
              "mean     NaN             NaN  ...       1712.738540         1371.933449\n",
              "std      NaN             NaN  ...        929.038819          845.339288\n",
              "min      NaN             NaN  ...          0.000000            0.000000\n",
              "25%      NaN             NaN  ...       1100.000000          816.082500\n",
              "50%      NaN             NaN  ...       1352.500000         1062.070000\n",
              "75%      NaN             NaN  ...       1970.000000         1517.610000\n",
              "max      NaN             NaN  ...       7000.000000         4733.190000\n",
              "\n",
              "[11 rows x 8 columns]"
            ]
          },
          "metadata": {
            "tags": []
          },
          "execution_count": 28
        }
      ]
    },
    {
      "cell_type": "code",
      "metadata": {
        "colab": {
          "base_uri": "https://localhost:8080/"
        },
        "id": "Rzg8mwbdp8wX",
        "outputId": "f1593c97-e432-4d5e-ef42-7a2d038a540f"
      },
      "source": [
        "df.info()"
      ],
      "execution_count": 29,
      "outputs": [
        {
          "output_type": "stream",
          "text": [
            "<class 'pandas.core.frame.DataFrame'>\n",
            "RangeIndex: 2836 entries, 0 to 2835\n",
            "Data columns (total 8 columns):\n",
            " #   Column                   Non-Null Count  Dtype  \n",
            "---  ------                   --------------  -----  \n",
            " 0   Sno                      2836 non-null   object \n",
            " 1   Date of Auction          2836 non-null   object \n",
            " 2   Auctioneer               2836 non-null   object \n",
            " 3   No.of Lots               2836 non-null   int64  \n",
            " 4   Total Qty Arrived (Kgs)  2836 non-null   float64\n",
            " 5   Qty Sold (Kgs)           2836 non-null   float64\n",
            " 6   MaxPrice (Rs./Kg)        2836 non-null   float64\n",
            " 7   Avg.Price (Rs./Kg)       2836 non-null   float64\n",
            "dtypes: float64(4), int64(1), object(3)\n",
            "memory usage: 177.4+ KB\n"
          ],
          "name": "stdout"
        }
      ]
    },
    {
      "cell_type": "code",
      "metadata": {
        "colab": {
          "base_uri": "https://localhost:8080/"
        },
        "id": "pdMzA_mFqB_s",
        "outputId": "8b611422-8585-4ed2-ceb8-c639ad9a9b4b"
      },
      "source": [
        "### Checking for null values\n",
        "df.isnull().sum()"
      ],
      "execution_count": 30,
      "outputs": [
        {
          "output_type": "execute_result",
          "data": {
            "text/plain": [
              "Sno                        0\n",
              "Date of Auction            0\n",
              "Auctioneer                 0\n",
              "No.of Lots                 0\n",
              "Total Qty Arrived (Kgs)    0\n",
              "Qty Sold (Kgs)             0\n",
              "MaxPrice (Rs./Kg)          0\n",
              "Avg.Price (Rs./Kg)         0\n",
              "dtype: int64"
            ]
          },
          "metadata": {
            "tags": []
          },
          "execution_count": 30
        }
      ]
    },
    {
      "cell_type": "code",
      "metadata": {
        "colab": {
          "base_uri": "https://localhost:8080/"
        },
        "id": "_KbCQMgxqIZz",
        "outputId": "2218858f-2348-413a-8cf5-3c96a9b192b1"
      },
      "source": [
        "### Checking for duplicates\n",
        "dups = df.duplicated()\n",
        "print('Number of duplicate rows = %d' % (dups.sum()))"
      ],
      "execution_count": 31,
      "outputs": [
        {
          "output_type": "stream",
          "text": [
            "Number of duplicate rows = 0\n"
          ],
          "name": "stdout"
        }
      ]
    },
    {
      "cell_type": "code",
      "metadata": {
        "colab": {
          "base_uri": "https://localhost:8080/"
        },
        "id": "ExK2caWnqQvo",
        "outputId": "e44de657-d885-4159-db85-a90d8f7f3fc4"
      },
      "source": [
        "df['Auctioneer'].value_counts()"
      ],
      "execution_count": 32,
      "outputs": [
        {
          "output_type": "execute_result",
          "data": {
            "text/plain": [
              "South Indian Green Cardamom Company Ltd, Kochi                            254\n",
              "Mas Enterprises, Vandanmettu                                              249\n",
              "Header Systems (India) Limited, Nedumkandam                               248\n",
              "The Kerala Cardamom Processing and Marketing Company Limited, Thekkady    245\n",
              "SUGANDHAGIRI SPICES PROMOTERS&TRADERS Pvt Ltd                             236\n",
              "IDUKKI Dist.TRADITIONAL CARDAMOM PRODUCER COMPANY Ltd                     236\n",
              "Green House Cardamom Mktg.India Pvt. Ltd                                  233\n",
              "CARDAMOM GROWERSFOREVER PRIVATE LIMITED                                   224\n",
              "VANDANMEDU GREEN GOLD CARDAMOM PRODUCER CoLtd                             214\n",
              "Cardamom Planters' Association, Santhanpara                               194\n",
              "THE CARDAMOM PLANTERS MARKETING CO-OPERATIVE SOCIETY LIMITED              177\n",
              "STATE TRADING CORPORATION                                                 130\n",
              "Spice More Trading Company, Kumily                                         92\n",
              "The Cardamom Processing & Marketing Co-Operative Society Ltd, Kumily       74\n",
              "Green Cardamom Trading Company                                             30\n",
              "Name: Auctioneer, dtype: int64"
            ]
          },
          "metadata": {
            "tags": []
          },
          "execution_count": 32
        }
      ]
    },
    {
      "cell_type": "code",
      "metadata": {
        "colab": {
          "base_uri": "https://localhost:8080/"
        },
        "id": "xX7-bS3EqUK8",
        "outputId": "a0450a14-784b-46c2-9097-88cf21076916"
      },
      "source": [
        "### We need to drop multiple price rows for same days, due to different pricings at multiple auctioneers\n",
        "df=df.drop_duplicates(subset=\"Date of Auction\")\n",
        "df.shape"
      ],
      "execution_count": 33,
      "outputs": [
        {
          "output_type": "execute_result",
          "data": {
            "text/plain": [
              "(1659, 8)"
            ]
          },
          "metadata": {
            "tags": []
          },
          "execution_count": 33
        }
      ]
    },
    {
      "cell_type": "code",
      "metadata": {
        "id": "hvMgZTSWqdes"
      },
      "source": [
        "### Now we have a clean dataset with unique price values for each date commencing November 2014 till 22 Apr 2021"
      ],
      "execution_count": 34,
      "outputs": []
    },
    {
      "cell_type": "code",
      "metadata": {
        "colab": {
          "base_uri": "https://localhost:8080/",
          "height": 1000
        },
        "id": "JY8z3gk8qnWa",
        "outputId": "60adb4c6-8abf-4773-d090-43fb24730c2b"
      },
      "source": [
        "### Checking for outliers\n",
        "import seaborn as sns\n",
        "cols = ['No.of Lots','Total Qty Arrived (Kgs)','Qty Sold (Kgs)','MaxPrice (Rs./Kg)','Avg.Price (Rs./Kg)']\n",
        "for i in cols:\n",
        "    sns.boxplot(df[i],whis=1.5)\n",
        "    plt.grid()\n",
        "    plt.title('With Outliers',fontsize=16)\n",
        "    plt.show();"
      ],
      "execution_count": 35,
      "outputs": [
        {
          "output_type": "stream",
          "text": [
            "/usr/local/lib/python3.7/dist-packages/seaborn/_decorators.py:43: FutureWarning: Pass the following variable as a keyword arg: x. From version 0.12, the only valid positional argument will be `data`, and passing other arguments without an explicit keyword will result in an error or misinterpretation.\n",
            "  FutureWarning\n"
          ],
          "name": "stderr"
        },
        {
          "output_type": "display_data",
          "data": {
            "image/png": "[encoded data removed]",
            "text/plain": [
              "<Figure size 432x288 with 1 Axes>"
            ]
          },
          "metadata": {
            "tags": []
          }
        },
        {
          "output_type": "stream",
          "text": [
            "/usr/local/lib/python3.7/dist-packages/seaborn/_decorators.py:43: FutureWarning: Pass the following variable as a keyword arg: x. From version 0.12, the only valid positional argument will be `data`, and passing other arguments without an explicit keyword will result in an error or misinterpretation.\n",
            "  FutureWarning\n"
          ],
          "name": "stderr"
        },
        {
          "output_type": "display_data",
          "data": {
            "image/png": "[encoded data removed]",
            "text/plain": [
              "<Figure size 432x288 with 1 Axes>"
            ]
          },
          "metadata": {
            "tags": []
          }
        },
        {
          "output_type": "stream",
          "text": [
            "/usr/local/lib/python3.7/dist-packages/seaborn/_decorators.py:43: FutureWarning: Pass the following variable as a keyword arg: x. From version 0.12, the only valid positional argument will be `data`, and passing other arguments without an explicit keyword will result in an error or misinterpretation.\n",
            "  FutureWarning\n"
          ],
          "name": "stderr"
        },
        {
          "output_type": "display_data",
          "data": {
            "image/png": "[encoded data removed]",
            "text/plain": [
              "<Figure size 432x288 with 1 Axes>"
            ]
          },
          "metadata": {
            "tags": []
          }
        },
        {
          "output_type": "stream",
          "text": [
            "/usr/local/lib/python3.7/dist-packages/seaborn/_decorators.py:43: FutureWarning: Pass the following variable as a keyword arg: x. From version 0.12, the only valid positional argument will be `data`, and passing other arguments without an explicit keyword will result in an error or misinterpretation.\n",
            "  FutureWarning\n"
          ],
          "name": "stderr"
        },
        {
          "output_type": "display_data",
          "data": {
            "image/png": "[encoded data removed]",
            "text/plain": [
              "<Figure size 432x288 with 1 Axes>"
            ]
          },
          "metadata": {
            "tags": []
          }
        },
        {
          "output_type": "stream",
          "text": [
            "/usr/local/lib/python3.7/dist-packages/seaborn/_decorators.py:43: FutureWarning: Pass the following variable as a keyword arg: x. From version 0.12, the only valid positional argument will be `data`, and passing other arguments without an explicit keyword will result in an error or misinterpretation.\n",
            "  FutureWarning\n"
          ],
          "name": "stderr"
        },
        {
          "output_type": "display_data",
          "data": {
            "image/png": "[encoded data removed]",
            "text/plain": [
              "<Figure size 432x288 with 1 Axes>"
            ]
          },
          "metadata": {
            "tags": []
          }
        }
      ]
    },
    {
      "cell_type": "code",
      "metadata": {
        "id": "YVtnc4qFqtlT"
      },
      "source": [
        "### Treating Outliers as the same may create havoc in regression models\n",
        "def remove_outlier(col):\n",
        "    sorted(col)\n",
        "    Q1,Q3=np.percentile(col,[25,75])\n",
        "    IQR=Q3-Q1\n",
        "    lower_range= Q1-(1.5 * IQR)\n",
        "    upper_range= Q3+(1.5 * IQR)\n",
        "    return lower_range, upper_range"
      ],
      "execution_count": 36,
      "outputs": []
    },
    {
      "cell_type": "code",
      "metadata": {
        "colab": {
          "base_uri": "https://localhost:8080/"
        },
        "id": "prD7N9tUyW9M",
        "outputId": "5f949a7f-3686-4dc5-fc12-147898ff7d40"
      },
      "source": [
        "df.dtypes"
      ],
      "execution_count": 37,
      "outputs": [
        {
          "output_type": "execute_result",
          "data": {
            "text/plain": [
              "Sno                         object\n",
              "Date of Auction             object\n",
              "Auctioneer                  object\n",
              "No.of Lots                   int64\n",
              "Total Qty Arrived (Kgs)    float64\n",
              "Qty Sold (Kgs)             float64\n",
              "MaxPrice (Rs./Kg)          float64\n",
              "Avg.Price (Rs./Kg)         float64\n",
              "dtype: object"
            ]
          },
          "metadata": {
            "tags": []
          },
          "execution_count": 37
        }
      ]
    },
    {
      "cell_type": "code",
      "metadata": {
        "id": "5fg7S3G1rDpu"
      },
      "source": [
        "for column in df.columns:\n",
        "    if df[column].dtype == 'float': \n",
        "        lr,ur=remove_outlier(df[column])\n",
        "        df[column]=np.where(df[column]>ur,ur,df[column])\n",
        "        df[column]=np.where(df[column]<lr,lr,df[column])\n",
        "        "
      ],
      "execution_count": 38,
      "outputs": []
    },
    {
      "cell_type": "code",
      "metadata": {
        "colab": {
          "base_uri": "https://localhost:8080/",
          "height": 1000
        },
        "id": "Y3SlWKSRrHOp",
        "outputId": "feb17227-2b40-416c-8782-2c397b341262"
      },
      "source": [
        "cols = ['No.of Lots','Total Qty Arrived (Kgs)','Qty Sold (Kgs)','MaxPrice (Rs./Kg)','Avg.Price (Rs./Kg)']\n",
        "for i in cols:\n",
        "    sns.boxplot(df[i],whis=1.5)\n",
        "    plt.grid()\n",
        "    plt.title('After Outlier Removal',fontsize=16)\n",
        "    plt.show();\n"
      ],
      "execution_count": 39,
      "outputs": [
        {
          "output_type": "stream",
          "text": [
            "/usr/local/lib/python3.7/dist-packages/seaborn/_decorators.py:43: FutureWarning: Pass the following variable as a keyword arg: x. From version 0.12, the only valid positional argument will be `data`, and passing other arguments without an explicit keyword will result in an error or misinterpretation.\n",
            "  FutureWarning\n"
          ],
          "name": "stderr"
        },
        {
          "output_type": "display_data",
          "data": {
            "image/png": "[encoded data removed]",
            "text/plain": [
              "<Figure size 432x288 with 1 Axes>"
            ]
          },
          "metadata": {
            "tags": []
          }
        },
        {
          "output_type": "stream",
          "text": [
            "/usr/local/lib/python3.7/dist-packages/seaborn/_decorators.py:43: FutureWarning: Pass the following variable as a keyword arg: x. From version 0.12, the only valid positional argument will be `data`, and passing other arguments without an explicit keyword will result in an error or misinterpretation.\n",
            "  FutureWarning\n"
          ],
          "name": "stderr"
        },
        {
          "output_type": "display_data",
          "data": {
            "image/png": "[encoded data removed]",
            "text/plain": [
              "<Figure size 432x288 with 1 Axes>"
            ]
          },
          "metadata": {
            "tags": []
          }
        },
        {
          "output_type": "stream",
          "text": [
            "/usr/local/lib/python3.7/dist-packages/seaborn/_decorators.py:43: FutureWarning: Pass the following variable as a keyword arg: x. From version 0.12, the only valid positional argument will be `data`, and passing other arguments without an explicit keyword will result in an error or misinterpretation.\n",
            "  FutureWarning\n"
          ],
          "name": "stderr"
        },
        {
          "output_type": "display_data",
          "data": {
            "image/png": "[encoded data removed]",
            "text/plain": [
              "<Figure size 432x288 with 1 Axes>"
            ]
          },
          "metadata": {
            "tags": []
          }
        },
        {
          "output_type": "stream",
          "text": [
            "/usr/local/lib/python3.7/dist-packages/seaborn/_decorators.py:43: FutureWarning: Pass the following variable as a keyword arg: x. From version 0.12, the only valid positional argument will be `data`, and passing other arguments without an explicit keyword will result in an error or misinterpretation.\n",
            "  FutureWarning\n"
          ],
          "name": "stderr"
        },
        {
          "output_type": "display_data",
          "data": {
            "image/png": "[encoded data removed]",
            "text/plain": [
              "<Figure size 432x288 with 1 Axes>"
            ]
          },
          "metadata": {
            "tags": []
          }
        },
        {
          "output_type": "stream",
          "text": [
            "/usr/local/lib/python3.7/dist-packages/seaborn/_decorators.py:43: FutureWarning: Pass the following variable as a keyword arg: x. From version 0.12, the only valid positional argument will be `data`, and passing other arguments without an explicit keyword will result in an error or misinterpretation.\n",
            "  FutureWarning\n"
          ],
          "name": "stderr"
        },
        {
          "output_type": "display_data",
          "data": {
            "image/png": "[encoded data removed]",
            "text/plain": [
              "<Figure size 432x288 with 1 Axes>"
            ]
          },
          "metadata": {
            "tags": []
          }
        }
      ]
    },
    {
      "cell_type": "code",
      "metadata": {
        "colab": {
          "base_uri": "https://localhost:8080/",
          "height": 258
        },
        "id": "DEyR0Pyq0rhm",
        "outputId": "e3d64bca-e749-4cd0-ec9f-cf2ab2c54b06"
      },
      "source": [
        "df.head()"
      ],
      "execution_count": 40,
      "outputs": [
        {
          "output_type": "execute_result",
          "data": {
            "text/html": [
              "<div>\n",
              "<style scoped>\n",
              "    .dataframe tbody tr th:only-of-type {\n",
              "        vertical-align: middle;\n",
              "    }\n",
              "\n",
              "    .dataframe tbody tr th {\n",
              "        vertical-align: top;\n",
              "    }\n",
              "\n",
              "    .dataframe thead th {\n",
              "        text-align: right;\n",
              "    }\n",
              "</style>\n",
              "<table border=\"1\" class=\"dataframe\">\n",
              "  <thead>\n",
              "    <tr style=\"text-align: right;\">\n",
              "      <th></th>\n",
              "      <th>Sno</th>\n",
              "      <th>Date of Auction</th>\n",
              "      <th>Auctioneer</th>\n",
              "      <th>No.of Lots</th>\n",
              "      <th>Total Qty Arrived (Kgs)</th>\n",
              "      <th>Qty Sold (Kgs)</th>\n",
              "      <th>MaxPrice (Rs./Kg)</th>\n",
              "      <th>Avg.Price (Rs./Kg)</th>\n",
              "    </tr>\n",
              "  </thead>\n",
              "  <tbody>\n",
              "    <tr>\n",
              "      <th>0</th>\n",
              "      <td>1-Jan-00</td>\n",
              "      <td>22-Apr-21</td>\n",
              "      <td>THE CARDAMOM PLANTERS MARKETING CO-OPERATIVE S...</td>\n",
              "      <td>210</td>\n",
              "      <td>70654.2</td>\n",
              "      <td>70113.5</td>\n",
              "      <td>1725.0</td>\n",
              "      <td>1132.99</td>\n",
              "    </tr>\n",
              "    <tr>\n",
              "      <th>1</th>\n",
              "      <td>2</td>\n",
              "      <td>21-Apr-21</td>\n",
              "      <td>South Indian Green Cardamom Company Ltd, Kochi</td>\n",
              "      <td>281</td>\n",
              "      <td>87032.9</td>\n",
              "      <td>63524.7</td>\n",
              "      <td>2177.0</td>\n",
              "      <td>1053.70</td>\n",
              "    </tr>\n",
              "    <tr>\n",
              "      <th>3</th>\n",
              "      <td>4</td>\n",
              "      <td>19-Apr-21</td>\n",
              "      <td>SUGANDHAGIRI SPICES PROMOTERS&amp;TRADERS Pvt Ltd</td>\n",
              "      <td>249</td>\n",
              "      <td>60773.5</td>\n",
              "      <td>49310.9</td>\n",
              "      <td>1825.0</td>\n",
              "      <td>1192.97</td>\n",
              "    </tr>\n",
              "    <tr>\n",
              "      <th>5</th>\n",
              "      <td>6</td>\n",
              "      <td>17-Apr-21</td>\n",
              "      <td>The Kerala Cardamom Processing and Marketing C...</td>\n",
              "      <td>234</td>\n",
              "      <td>74573.8</td>\n",
              "      <td>73856.0</td>\n",
              "      <td>1872.0</td>\n",
              "      <td>1251.65</td>\n",
              "    </tr>\n",
              "    <tr>\n",
              "      <th>6</th>\n",
              "      <td>7</td>\n",
              "      <td>16-Apr-21</td>\n",
              "      <td>Mas Enterprises, Vandanmettu</td>\n",
              "      <td>315</td>\n",
              "      <td>88986.6</td>\n",
              "      <td>77634.6</td>\n",
              "      <td>1875.0</td>\n",
              "      <td>1292.21</td>\n",
              "    </tr>\n",
              "  </tbody>\n",
              "</table>\n",
              "</div>"
            ],
            "text/plain": [
              "        Sno Date of Auction  ... MaxPrice (Rs./Kg)  Avg.Price (Rs./Kg)\n",
              "0  1-Jan-00       22-Apr-21  ...            1725.0             1132.99\n",
              "1         2       21-Apr-21  ...            2177.0             1053.70\n",
              "3         4       19-Apr-21  ...            1825.0             1192.97\n",
              "5         6       17-Apr-21  ...            1872.0             1251.65\n",
              "6         7       16-Apr-21  ...            1875.0             1292.21\n",
              "\n",
              "[5 rows x 8 columns]"
            ]
          },
          "metadata": {
            "tags": []
          },
          "execution_count": 40
        }
      ]
    },
    {
      "cell_type": "code",
      "metadata": {
        "colab": {
          "base_uri": "https://localhost:8080/",
          "height": 475
        },
        "id": "WWE3KP-qtx_Y",
        "outputId": "a8fd7775-beeb-48c6-d3c1-0cdddbbf29af"
      },
      "source": [
        "df.drop(['Sno'],axis=1,inplace=True)\n",
        "df"
      ],
      "execution_count": 41,
      "outputs": [
        {
          "output_type": "execute_result",
          "data": {
            "text/html": [
              "<div>\n",
              "<style scoped>\n",
              "    .dataframe tbody tr th:only-of-type {\n",
              "        vertical-align: middle;\n",
              "    }\n",
              "\n",
              "    .dataframe tbody tr th {\n",
              "        vertical-align: top;\n",
              "    }\n",
              "\n",
              "    .dataframe thead th {\n",
              "        text-align: right;\n",
              "    }\n",
              "</style>\n",
              "<table border=\"1\" class=\"dataframe\">\n",
              "  <thead>\n",
              "    <tr style=\"text-align: right;\">\n",
              "      <th></th>\n",
              "      <th>Date of Auction</th>\n",
              "      <th>Auctioneer</th>\n",
              "      <th>No.of Lots</th>\n",
              "      <th>Total Qty Arrived (Kgs)</th>\n",
              "      <th>Qty Sold (Kgs)</th>\n",
              "      <th>MaxPrice (Rs./Kg)</th>\n",
              "      <th>Avg.Price (Rs./Kg)</th>\n",
              "    </tr>\n",
              "  </thead>\n",
              "  <tbody>\n",
              "    <tr>\n",
              "      <th>0</th>\n",
              "      <td>22-Apr-21</td>\n",
              "      <td>THE CARDAMOM PLANTERS MARKETING CO-OPERATIVE S...</td>\n",
              "      <td>210</td>\n",
              "      <td>70654.2</td>\n",
              "      <td>70113.5</td>\n",
              "      <td>1725.0</td>\n",
              "      <td>1132.99</td>\n",
              "    </tr>\n",
              "    <tr>\n",
              "      <th>1</th>\n",
              "      <td>21-Apr-21</td>\n",
              "      <td>South Indian Green Cardamom Company Ltd, Kochi</td>\n",
              "      <td>281</td>\n",
              "      <td>87032.9</td>\n",
              "      <td>63524.7</td>\n",
              "      <td>2177.0</td>\n",
              "      <td>1053.70</td>\n",
              "    </tr>\n",
              "    <tr>\n",
              "      <th>3</th>\n",
              "      <td>19-Apr-21</td>\n",
              "      <td>SUGANDHAGIRI SPICES PROMOTERS&amp;TRADERS Pvt Ltd</td>\n",
              "      <td>249</td>\n",
              "      <td>60773.5</td>\n",
              "      <td>49310.9</td>\n",
              "      <td>1825.0</td>\n",
              "      <td>1192.97</td>\n",
              "    </tr>\n",
              "    <tr>\n",
              "      <th>5</th>\n",
              "      <td>17-Apr-21</td>\n",
              "      <td>The Kerala Cardamom Processing and Marketing C...</td>\n",
              "      <td>234</td>\n",
              "      <td>74573.8</td>\n",
              "      <td>73856.0</td>\n",
              "      <td>1872.0</td>\n",
              "      <td>1251.65</td>\n",
              "    </tr>\n",
              "    <tr>\n",
              "      <th>6</th>\n",
              "      <td>16-Apr-21</td>\n",
              "      <td>Mas Enterprises, Vandanmettu</td>\n",
              "      <td>315</td>\n",
              "      <td>88986.6</td>\n",
              "      <td>77634.6</td>\n",
              "      <td>1875.0</td>\n",
              "      <td>1292.21</td>\n",
              "    </tr>\n",
              "    <tr>\n",
              "      <th>...</th>\n",
              "      <td>...</td>\n",
              "      <td>...</td>\n",
              "      <td>...</td>\n",
              "      <td>...</td>\n",
              "      <td>...</td>\n",
              "      <td>...</td>\n",
              "      <td>...</td>\n",
              "    </tr>\n",
              "    <tr>\n",
              "      <th>2828</th>\n",
              "      <td>2-May-15</td>\n",
              "      <td>Green House Cardamom Mktg.India Pvt. Ltd</td>\n",
              "      <td>211</td>\n",
              "      <td>28950.0</td>\n",
              "      <td>27568.0</td>\n",
              "      <td>846.0</td>\n",
              "      <td>655.47</td>\n",
              "    </tr>\n",
              "    <tr>\n",
              "      <th>2830</th>\n",
              "      <td>1-May-15</td>\n",
              "      <td>CARDAMOM GROWERSFOREVER PRIVATE LIMITED</td>\n",
              "      <td>82</td>\n",
              "      <td>10281.0</td>\n",
              "      <td>10132.0</td>\n",
              "      <td>916.0</td>\n",
              "      <td>680.56</td>\n",
              "    </tr>\n",
              "    <tr>\n",
              "      <th>2832</th>\n",
              "      <td>14-Jan-15</td>\n",
              "      <td>The Cardamom Processing &amp; Marketing Co-Operati...</td>\n",
              "      <td>350</td>\n",
              "      <td>76699.0</td>\n",
              "      <td>76699.0</td>\n",
              "      <td>1130.0</td>\n",
              "      <td>861.93</td>\n",
              "    </tr>\n",
              "    <tr>\n",
              "      <th>2833</th>\n",
              "      <td>7-Nov-14</td>\n",
              "      <td>South Indian Green Cardamom Company Ltd, Kochi</td>\n",
              "      <td>477</td>\n",
              "      <td>109975.0</td>\n",
              "      <td>109076.0</td>\n",
              "      <td>958.0</td>\n",
              "      <td>765.73</td>\n",
              "    </tr>\n",
              "    <tr>\n",
              "      <th>2834</th>\n",
              "      <td>4-Nov-14</td>\n",
              "      <td>South Indian Green Cardamom Company Ltd, Kochi</td>\n",
              "      <td>477</td>\n",
              "      <td>109975.0</td>\n",
              "      <td>109076.0</td>\n",
              "      <td>958.0</td>\n",
              "      <td>765.73</td>\n",
              "    </tr>\n",
              "  </tbody>\n",
              "</table>\n",
              "<p>1659 rows × 7 columns</p>\n",
              "</div>"
            ],
            "text/plain": [
              "     Date of Auction  ... Avg.Price (Rs./Kg)\n",
              "0          22-Apr-21  ...            1132.99\n",
              "1          21-Apr-21  ...            1053.70\n",
              "3          19-Apr-21  ...            1192.97\n",
              "5          17-Apr-21  ...            1251.65\n",
              "6          16-Apr-21  ...            1292.21\n",
              "...              ...  ...                ...\n",
              "2828        2-May-15  ...             655.47\n",
              "2830        1-May-15  ...             680.56\n",
              "2832       14-Jan-15  ...             861.93\n",
              "2833        7-Nov-14  ...             765.73\n",
              "2834        4-Nov-14  ...             765.73\n",
              "\n",
              "[1659 rows x 7 columns]"
            ]
          },
          "metadata": {
            "tags": []
          },
          "execution_count": 41
        }
      ]
    },
    {
      "cell_type": "code",
      "metadata": {
        "id": "g4zif0pi7aNp"
      },
      "source": [
        "### The date is in string format and hence needs to be converted to datetime format to help with model creation"
      ],
      "execution_count": 42,
      "outputs": []
    },
    {
      "cell_type": "code",
      "metadata": {
        "colab": {
          "base_uri": "https://localhost:8080/"
        },
        "id": "4dqRiHY37evB",
        "outputId": "c19d2ec5-e289-4c4b-ad52-21c681bbfb94"
      },
      "source": [
        "from datetime import datetime\n",
        "\n",
        "# Define dates as strings\n",
        "\n",
        "date_str1 = '22-Apr-21'\n",
        "\n",
        "# Define dates as datetime objects\n",
        "date_dt1 = datetime.strptime(date_str1, '%d-%b-%y')\n",
        "\n",
        "# Print converted dates\n",
        "print(date_dt1)"
      ],
      "execution_count": 43,
      "outputs": [
        {
          "output_type": "stream",
          "text": [
            "2021-04-22 00:00:00\n"
          ],
          "name": "stdout"
        }
      ]
    },
    {
      "cell_type": "code",
      "metadata": {
        "colab": {
          "base_uri": "https://localhost:8080/"
        },
        "id": "zpFquG5j7i4x",
        "outputId": "f3d74414-2ea6-4a95-9daf-652f6510b2a7"
      },
      "source": [
        "# Complete the call to convert the date column\n",
        "df['Date of Auction'] =  pd.to_datetime(df['Date of Auction'],\n",
        "                              format='%d-%b-%y')\n",
        "\n",
        "# Confirm the date column is in datetime format\n",
        "print(df.info())"
      ],
      "execution_count": 44,
      "outputs": [
        {
          "output_type": "stream",
          "text": [
            "<class 'pandas.core.frame.DataFrame'>\n",
            "Int64Index: 1659 entries, 0 to 2834\n",
            "Data columns (total 7 columns):\n",
            " #   Column                   Non-Null Count  Dtype         \n",
            "---  ------                   --------------  -----         \n",
            " 0   Date of Auction          1659 non-null   datetime64[ns]\n",
            " 1   Auctioneer               1659 non-null   object        \n",
            " 2   No.of Lots               1659 non-null   int64         \n",
            " 3   Total Qty Arrived (Kgs)  1659 non-null   float64       \n",
            " 4   Qty Sold (Kgs)           1659 non-null   float64       \n",
            " 5   MaxPrice (Rs./Kg)        1659 non-null   float64       \n",
            " 6   Avg.Price (Rs./Kg)       1659 non-null   float64       \n",
            "dtypes: datetime64[ns](1), float64(4), int64(1), object(1)\n",
            "memory usage: 103.7+ KB\n",
            "None\n"
          ],
          "name": "stdout"
        }
      ]
    },
    {
      "cell_type": "code",
      "metadata": {
        "colab": {
          "base_uri": "https://localhost:8080/",
          "height": 258
        },
        "id": "8BEFum5t7nK1",
        "outputId": "b5422973-0e38-49af-c3dd-6b41e0197ace"
      },
      "source": [
        "df.head()"
      ],
      "execution_count": 45,
      "outputs": [
        {
          "output_type": "execute_result",
          "data": {
            "text/html": [
              "<div>\n",
              "<style scoped>\n",
              "    .dataframe tbody tr th:only-of-type {\n",
              "        vertical-align: middle;\n",
              "    }\n",
              "\n",
              "    .dataframe tbody tr th {\n",
              "        vertical-align: top;\n",
              "    }\n",
              "\n",
              "    .dataframe thead th {\n",
              "        text-align: right;\n",
              "    }\n",
              "</style>\n",
              "<table border=\"1\" class=\"dataframe\">\n",
              "  <thead>\n",
              "    <tr style=\"text-align: right;\">\n",
              "      <th></th>\n",
              "      <th>Date of Auction</th>\n",
              "      <th>Auctioneer</th>\n",
              "      <th>No.of Lots</th>\n",
              "      <th>Total Qty Arrived (Kgs)</th>\n",
              "      <th>Qty Sold (Kgs)</th>\n",
              "      <th>MaxPrice (Rs./Kg)</th>\n",
              "      <th>Avg.Price (Rs./Kg)</th>\n",
              "    </tr>\n",
              "  </thead>\n",
              "  <tbody>\n",
              "    <tr>\n",
              "      <th>0</th>\n",
              "      <td>2021-04-22</td>\n",
              "      <td>THE CARDAMOM PLANTERS MARKETING CO-OPERATIVE S...</td>\n",
              "      <td>210</td>\n",
              "      <td>70654.2</td>\n",
              "      <td>70113.5</td>\n",
              "      <td>1725.0</td>\n",
              "      <td>1132.99</td>\n",
              "    </tr>\n",
              "    <tr>\n",
              "      <th>1</th>\n",
              "      <td>2021-04-21</td>\n",
              "      <td>South Indian Green Cardamom Company Ltd, Kochi</td>\n",
              "      <td>281</td>\n",
              "      <td>87032.9</td>\n",
              "      <td>63524.7</td>\n",
              "      <td>2177.0</td>\n",
              "      <td>1053.70</td>\n",
              "    </tr>\n",
              "    <tr>\n",
              "      <th>3</th>\n",
              "      <td>2021-04-19</td>\n",
              "      <td>SUGANDHAGIRI SPICES PROMOTERS&amp;TRADERS Pvt Ltd</td>\n",
              "      <td>249</td>\n",
              "      <td>60773.5</td>\n",
              "      <td>49310.9</td>\n",
              "      <td>1825.0</td>\n",
              "      <td>1192.97</td>\n",
              "    </tr>\n",
              "    <tr>\n",
              "      <th>5</th>\n",
              "      <td>2021-04-17</td>\n",
              "      <td>The Kerala Cardamom Processing and Marketing C...</td>\n",
              "      <td>234</td>\n",
              "      <td>74573.8</td>\n",
              "      <td>73856.0</td>\n",
              "      <td>1872.0</td>\n",
              "      <td>1251.65</td>\n",
              "    </tr>\n",
              "    <tr>\n",
              "      <th>6</th>\n",
              "      <td>2021-04-16</td>\n",
              "      <td>Mas Enterprises, Vandanmettu</td>\n",
              "      <td>315</td>\n",
              "      <td>88986.6</td>\n",
              "      <td>77634.6</td>\n",
              "      <td>1875.0</td>\n",
              "      <td>1292.21</td>\n",
              "    </tr>\n",
              "  </tbody>\n",
              "</table>\n",
              "</div>"
            ],
            "text/plain": [
              "  Date of Auction  ... Avg.Price (Rs./Kg)\n",
              "0      2021-04-22  ...            1132.99\n",
              "1      2021-04-21  ...            1053.70\n",
              "3      2021-04-19  ...            1192.97\n",
              "5      2021-04-17  ...            1251.65\n",
              "6      2021-04-16  ...            1292.21\n",
              "\n",
              "[5 rows x 7 columns]"
            ]
          },
          "metadata": {
            "tags": []
          },
          "execution_count": 45
        }
      ]
    },
    {
      "cell_type": "code",
      "metadata": {
        "colab": {
          "base_uri": "https://localhost:8080/",
          "height": 475
        },
        "id": "3GBhoxc003Pd",
        "outputId": "d890591b-90d2-44de-b380-153a6bbdfe42"
      },
      "source": [
        "### sorting the  data set by date\n",
        "sorted_df = df. sort_values(by=[\"Date of Auction\"], ascending=True)\n",
        "sorted_df"
      ],
      "execution_count": 46,
      "outputs": [
        {
          "output_type": "execute_result",
          "data": {
            "text/html": [
              "<div>\n",
              "<style scoped>\n",
              "    .dataframe tbody tr th:only-of-type {\n",
              "        vertical-align: middle;\n",
              "    }\n",
              "\n",
              "    .dataframe tbody tr th {\n",
              "        vertical-align: top;\n",
              "    }\n",
              "\n",
              "    .dataframe thead th {\n",
              "        text-align: right;\n",
              "    }\n",
              "</style>\n",
              "<table border=\"1\" class=\"dataframe\">\n",
              "  <thead>\n",
              "    <tr style=\"text-align: right;\">\n",
              "      <th></th>\n",
              "      <th>Date of Auction</th>\n",
              "      <th>Auctioneer</th>\n",
              "      <th>No.of Lots</th>\n",
              "      <th>Total Qty Arrived (Kgs)</th>\n",
              "      <th>Qty Sold (Kgs)</th>\n",
              "      <th>MaxPrice (Rs./Kg)</th>\n",
              "      <th>Avg.Price (Rs./Kg)</th>\n",
              "    </tr>\n",
              "  </thead>\n",
              "  <tbody>\n",
              "    <tr>\n",
              "      <th>2834</th>\n",
              "      <td>2014-11-04</td>\n",
              "      <td>South Indian Green Cardamom Company Ltd, Kochi</td>\n",
              "      <td>477</td>\n",
              "      <td>109975.0</td>\n",
              "      <td>109076.0</td>\n",
              "      <td>958.0</td>\n",
              "      <td>765.73</td>\n",
              "    </tr>\n",
              "    <tr>\n",
              "      <th>2833</th>\n",
              "      <td>2014-11-07</td>\n",
              "      <td>South Indian Green Cardamom Company Ltd, Kochi</td>\n",
              "      <td>477</td>\n",
              "      <td>109975.0</td>\n",
              "      <td>109076.0</td>\n",
              "      <td>958.0</td>\n",
              "      <td>765.73</td>\n",
              "    </tr>\n",
              "    <tr>\n",
              "      <th>2832</th>\n",
              "      <td>2015-01-14</td>\n",
              "      <td>The Cardamom Processing &amp; Marketing Co-Operati...</td>\n",
              "      <td>350</td>\n",
              "      <td>76699.0</td>\n",
              "      <td>76699.0</td>\n",
              "      <td>1130.0</td>\n",
              "      <td>861.93</td>\n",
              "    </tr>\n",
              "    <tr>\n",
              "      <th>2830</th>\n",
              "      <td>2015-05-01</td>\n",
              "      <td>CARDAMOM GROWERSFOREVER PRIVATE LIMITED</td>\n",
              "      <td>82</td>\n",
              "      <td>10281.0</td>\n",
              "      <td>10132.0</td>\n",
              "      <td>916.0</td>\n",
              "      <td>680.56</td>\n",
              "    </tr>\n",
              "    <tr>\n",
              "      <th>2828</th>\n",
              "      <td>2015-05-02</td>\n",
              "      <td>Green House Cardamom Mktg.India Pvt. Ltd</td>\n",
              "      <td>211</td>\n",
              "      <td>28950.0</td>\n",
              "      <td>27568.0</td>\n",
              "      <td>846.0</td>\n",
              "      <td>655.47</td>\n",
              "    </tr>\n",
              "    <tr>\n",
              "      <th>...</th>\n",
              "      <td>...</td>\n",
              "      <td>...</td>\n",
              "      <td>...</td>\n",
              "      <td>...</td>\n",
              "      <td>...</td>\n",
              "      <td>...</td>\n",
              "      <td>...</td>\n",
              "    </tr>\n",
              "    <tr>\n",
              "      <th>6</th>\n",
              "      <td>2021-04-16</td>\n",
              "      <td>Mas Enterprises, Vandanmettu</td>\n",
              "      <td>315</td>\n",
              "      <td>88986.6</td>\n",
              "      <td>77634.6</td>\n",
              "      <td>1875.0</td>\n",
              "      <td>1292.21</td>\n",
              "    </tr>\n",
              "    <tr>\n",
              "      <th>5</th>\n",
              "      <td>2021-04-17</td>\n",
              "      <td>The Kerala Cardamom Processing and Marketing C...</td>\n",
              "      <td>234</td>\n",
              "      <td>74573.8</td>\n",
              "      <td>73856.0</td>\n",
              "      <td>1872.0</td>\n",
              "      <td>1251.65</td>\n",
              "    </tr>\n",
              "    <tr>\n",
              "      <th>3</th>\n",
              "      <td>2021-04-19</td>\n",
              "      <td>SUGANDHAGIRI SPICES PROMOTERS&amp;TRADERS Pvt Ltd</td>\n",
              "      <td>249</td>\n",
              "      <td>60773.5</td>\n",
              "      <td>49310.9</td>\n",
              "      <td>1825.0</td>\n",
              "      <td>1192.97</td>\n",
              "    </tr>\n",
              "    <tr>\n",
              "      <th>1</th>\n",
              "      <td>2021-04-21</td>\n",
              "      <td>South Indian Green Cardamom Company Ltd, Kochi</td>\n",
              "      <td>281</td>\n",
              "      <td>87032.9</td>\n",
              "      <td>63524.7</td>\n",
              "      <td>2177.0</td>\n",
              "      <td>1053.70</td>\n",
              "    </tr>\n",
              "    <tr>\n",
              "      <th>0</th>\n",
              "      <td>2021-04-22</td>\n",
              "      <td>THE CARDAMOM PLANTERS MARKETING CO-OPERATIVE S...</td>\n",
              "      <td>210</td>\n",
              "      <td>70654.2</td>\n",
              "      <td>70113.5</td>\n",
              "      <td>1725.0</td>\n",
              "      <td>1132.99</td>\n",
              "    </tr>\n",
              "  </tbody>\n",
              "</table>\n",
              "<p>1659 rows × 7 columns</p>\n",
              "</div>"
            ],
            "text/plain": [
              "     Date of Auction  ... Avg.Price (Rs./Kg)\n",
              "2834      2014-11-04  ...             765.73\n",
              "2833      2014-11-07  ...             765.73\n",
              "2832      2015-01-14  ...             861.93\n",
              "2830      2015-05-01  ...             680.56\n",
              "2828      2015-05-02  ...             655.47\n",
              "...              ...  ...                ...\n",
              "6         2021-04-16  ...            1292.21\n",
              "5         2021-04-17  ...            1251.65\n",
              "3         2021-04-19  ...            1192.97\n",
              "1         2021-04-21  ...            1053.70\n",
              "0         2021-04-22  ...            1132.99\n",
              "\n",
              "[1659 rows x 7 columns]"
            ]
          },
          "metadata": {
            "tags": []
          },
          "execution_count": 46
        }
      ]
    },
    {
      "cell_type": "code",
      "metadata": {
        "colab": {
          "base_uri": "https://localhost:8080/",
          "height": 614
        },
        "id": "RzHxhZ0Vm2Tn",
        "outputId": "2fff7b52-03fc-47cc-930c-9aa950bdc34a"
      },
      "source": [
        "# set the index to be the date\n",
        "df=sorted_df.set_index(pd.DatetimeIndex(sorted_df[\"Date of Auction\"].values))\n",
        "#show the data\n",
        "df"
      ],
      "execution_count": 47,
      "outputs": [
        {
          "output_type": "execute_result",
          "data": {
            "text/html": [
              "<div>\n",
              "<style scoped>\n",
              "    .dataframe tbody tr th:only-of-type {\n",
              "        vertical-align: middle;\n",
              "    }\n",
              "\n",
              "    .dataframe tbody tr th {\n",
              "        vertical-align: top;\n",
              "    }\n",
              "\n",
              "    .dataframe thead th {\n",
              "        text-align: right;\n",
              "    }\n",
              "</style>\n",
              "<table border=\"1\" class=\"dataframe\">\n",
              "  <thead>\n",
              "    <tr style=\"text-align: right;\">\n",
              "      <th></th>\n",
              "      <th>Date of Auction</th>\n",
              "      <th>Auctioneer</th>\n",
              "      <th>No.of Lots</th>\n",
              "      <th>Total Qty Arrived (Kgs)</th>\n",
              "      <th>Qty Sold (Kgs)</th>\n",
              "      <th>MaxPrice (Rs./Kg)</th>\n",
              "      <th>Avg.Price (Rs./Kg)</th>\n",
              "    </tr>\n",
              "  </thead>\n",
              "  <tbody>\n",
              "    <tr>\n",
              "      <th>2014-11-04</th>\n",
              "      <td>2014-11-04</td>\n",
              "      <td>South Indian Green Cardamom Company Ltd, Kochi</td>\n",
              "      <td>477</td>\n",
              "      <td>109975.0</td>\n",
              "      <td>109076.0</td>\n",
              "      <td>958.0</td>\n",
              "      <td>765.73</td>\n",
              "    </tr>\n",
              "    <tr>\n",
              "      <th>2014-11-07</th>\n",
              "      <td>2014-11-07</td>\n",
              "      <td>South Indian Green Cardamom Company Ltd, Kochi</td>\n",
              "      <td>477</td>\n",
              "      <td>109975.0</td>\n",
              "      <td>109076.0</td>\n",
              "      <td>958.0</td>\n",
              "      <td>765.73</td>\n",
              "    </tr>\n",
              "    <tr>\n",
              "      <th>2015-01-14</th>\n",
              "      <td>2015-01-14</td>\n",
              "      <td>The Cardamom Processing &amp; Marketing Co-Operati...</td>\n",
              "      <td>350</td>\n",
              "      <td>76699.0</td>\n",
              "      <td>76699.0</td>\n",
              "      <td>1130.0</td>\n",
              "      <td>861.93</td>\n",
              "    </tr>\n",
              "    <tr>\n",
              "      <th>2015-05-01</th>\n",
              "      <td>2015-05-01</td>\n",
              "      <td>CARDAMOM GROWERSFOREVER PRIVATE LIMITED</td>\n",
              "      <td>82</td>\n",
              "      <td>10281.0</td>\n",
              "      <td>10132.0</td>\n",
              "      <td>916.0</td>\n",
              "      <td>680.56</td>\n",
              "    </tr>\n",
              "    <tr>\n",
              "      <th>2015-05-02</th>\n",
              "      <td>2015-05-02</td>\n",
              "      <td>Green House Cardamom Mktg.India Pvt. Ltd</td>\n",
              "      <td>211</td>\n",
              "      <td>28950.0</td>\n",
              "      <td>27568.0</td>\n",
              "      <td>846.0</td>\n",
              "      <td>655.47</td>\n",
              "    </tr>\n",
              "    <tr>\n",
              "      <th>...</th>\n",
              "      <td>...</td>\n",
              "      <td>...</td>\n",
              "      <td>...</td>\n",
              "      <td>...</td>\n",
              "      <td>...</td>\n",
              "      <td>...</td>\n",
              "      <td>...</td>\n",
              "    </tr>\n",
              "    <tr>\n",
              "      <th>2021-04-16</th>\n",
              "      <td>2021-04-16</td>\n",
              "      <td>Mas Enterprises, Vandanmettu</td>\n",
              "      <td>315</td>\n",
              "      <td>88986.6</td>\n",
              "      <td>77634.6</td>\n",
              "      <td>1875.0</td>\n",
              "      <td>1292.21</td>\n",
              "    </tr>\n",
              "    <tr>\n",
              "      <th>2021-04-17</th>\n",
              "      <td>2021-04-17</td>\n",
              "      <td>The Kerala Cardamom Processing and Marketing C...</td>\n",
              "      <td>234</td>\n",
              "      <td>74573.8</td>\n",
              "      <td>73856.0</td>\n",
              "      <td>1872.0</td>\n",
              "      <td>1251.65</td>\n",
              "    </tr>\n",
              "    <tr>\n",
              "      <th>2021-04-19</th>\n",
              "      <td>2021-04-19</td>\n",
              "      <td>SUGANDHAGIRI SPICES PROMOTERS&amp;TRADERS Pvt Ltd</td>\n",
              "      <td>249</td>\n",
              "      <td>60773.5</td>\n",
              "      <td>49310.9</td>\n",
              "      <td>1825.0</td>\n",
              "      <td>1192.97</td>\n",
              "    </tr>\n",
              "    <tr>\n",
              "      <th>2021-04-21</th>\n",
              "      <td>2021-04-21</td>\n",
              "      <td>South Indian Green Cardamom Company Ltd, Kochi</td>\n",
              "      <td>281</td>\n",
              "      <td>87032.9</td>\n",
              "      <td>63524.7</td>\n",
              "      <td>2177.0</td>\n",
              "      <td>1053.70</td>\n",
              "    </tr>\n",
              "    <tr>\n",
              "      <th>2021-04-22</th>\n",
              "      <td>2021-04-22</td>\n",
              "      <td>THE CARDAMOM PLANTERS MARKETING CO-OPERATIVE S...</td>\n",
              "      <td>210</td>\n",
              "      <td>70654.2</td>\n",
              "      <td>70113.5</td>\n",
              "      <td>1725.0</td>\n",
              "      <td>1132.99</td>\n",
              "    </tr>\n",
              "  </tbody>\n",
              "</table>\n",
              "<p>1659 rows × 7 columns</p>\n",
              "</div>"
            ],
            "text/plain": [
              "           Date of Auction  ... Avg.Price (Rs./Kg)\n",
              "2014-11-04      2014-11-04  ...             765.73\n",
              "2014-11-07      2014-11-07  ...             765.73\n",
              "2015-01-14      2015-01-14  ...             861.93\n",
              "2015-05-01      2015-05-01  ...             680.56\n",
              "2015-05-02      2015-05-02  ...             655.47\n",
              "...                    ...  ...                ...\n",
              "2021-04-16      2021-04-16  ...            1292.21\n",
              "2021-04-17      2021-04-17  ...            1251.65\n",
              "2021-04-19      2021-04-19  ...            1192.97\n",
              "2021-04-21      2021-04-21  ...            1053.70\n",
              "2021-04-22      2021-04-22  ...            1132.99\n",
              "\n",
              "[1659 rows x 7 columns]"
            ]
          },
          "metadata": {
            "tags": []
          },
          "execution_count": 47
        }
      ]
    },
    {
      "cell_type": "code",
      "metadata": {
        "colab": {
          "base_uri": "https://localhost:8080/",
          "height": 423
        },
        "id": "dmtMjODl1PNA",
        "outputId": "40d5fb6f-e5ae-4650-aad0-ace99b897ade"
      },
      "source": [
        "#now get only the average price\n",
        "df=df[['Avg.Price (Rs./Kg)']]\n",
        "df"
      ],
      "execution_count": 48,
      "outputs": [
        {
          "output_type": "execute_result",
          "data": {
            "text/html": [
              "<div>\n",
              "<style scoped>\n",
              "    .dataframe tbody tr th:only-of-type {\n",
              "        vertical-align: middle;\n",
              "    }\n",
              "\n",
              "    .dataframe tbody tr th {\n",
              "        vertical-align: top;\n",
              "    }\n",
              "\n",
              "    .dataframe thead th {\n",
              "        text-align: right;\n",
              "    }\n",
              "</style>\n",
              "<table border=\"1\" class=\"dataframe\">\n",
              "  <thead>\n",
              "    <tr style=\"text-align: right;\">\n",
              "      <th></th>\n",
              "      <th>Avg.Price (Rs./Kg)</th>\n",
              "    </tr>\n",
              "  </thead>\n",
              "  <tbody>\n",
              "    <tr>\n",
              "      <th>2014-11-04</th>\n",
              "      <td>765.73</td>\n",
              "    </tr>\n",
              "    <tr>\n",
              "      <th>2014-11-07</th>\n",
              "      <td>765.73</td>\n",
              "    </tr>\n",
              "    <tr>\n",
              "      <th>2015-01-14</th>\n",
              "      <td>861.93</td>\n",
              "    </tr>\n",
              "    <tr>\n",
              "      <th>2015-05-01</th>\n",
              "      <td>680.56</td>\n",
              "    </tr>\n",
              "    <tr>\n",
              "      <th>2015-05-02</th>\n",
              "      <td>655.47</td>\n",
              "    </tr>\n",
              "    <tr>\n",
              "      <th>...</th>\n",
              "      <td>...</td>\n",
              "    </tr>\n",
              "    <tr>\n",
              "      <th>2021-04-16</th>\n",
              "      <td>1292.21</td>\n",
              "    </tr>\n",
              "    <tr>\n",
              "      <th>2021-04-17</th>\n",
              "      <td>1251.65</td>\n",
              "    </tr>\n",
              "    <tr>\n",
              "      <th>2021-04-19</th>\n",
              "      <td>1192.97</td>\n",
              "    </tr>\n",
              "    <tr>\n",
              "      <th>2021-04-21</th>\n",
              "      <td>1053.70</td>\n",
              "    </tr>\n",
              "    <tr>\n",
              "      <th>2021-04-22</th>\n",
              "      <td>1132.99</td>\n",
              "    </tr>\n",
              "  </tbody>\n",
              "</table>\n",
              "<p>1659 rows × 1 columns</p>\n",
              "</div>"
            ],
            "text/plain": [
              "            Avg.Price (Rs./Kg)\n",
              "2014-11-04              765.73\n",
              "2014-11-07              765.73\n",
              "2015-01-14              861.93\n",
              "2015-05-01              680.56\n",
              "2015-05-02              655.47\n",
              "...                        ...\n",
              "2021-04-16             1292.21\n",
              "2021-04-17             1251.65\n",
              "2021-04-19             1192.97\n",
              "2021-04-21             1053.70\n",
              "2021-04-22             1132.99\n",
              "\n",
              "[1659 rows x 1 columns]"
            ]
          },
          "metadata": {
            "tags": []
          },
          "execution_count": 48
        }
      ]
    },
    {
      "cell_type": "code",
      "metadata": {
        "colab": {
          "base_uri": "https://localhost:8080/",
          "height": 310
        },
        "id": "Czh5esBS1YEa",
        "outputId": "ced69ef2-9bf6-4a21-a6c7-6afd438af1f0"
      },
      "source": [
        "# create a variable to store the number of days for which we want to predict the prices\n",
        "prediction_days=30\n",
        "# create a new variable called prediction\n",
        "df['prediction']=df[['Avg.Price (Rs./Kg)']].shift(-prediction_days)\n",
        "df.head()"
      ],
      "execution_count": 50,
      "outputs": [
        {
          "output_type": "stream",
          "text": [
            "/usr/local/lib/python3.7/dist-packages/ipykernel_launcher.py:4: SettingWithCopyWarning: \n",
            "A value is trying to be set on a copy of a slice from a DataFrame.\n",
            "Try using .loc[row_indexer,col_indexer] = value instead\n",
            "\n",
            "See the caveats in the documentation: https://pandas.pydata.org/pandas-docs/stable/user_guide/indexing.html#returning-a-view-versus-a-copy\n",
            "  after removing the cwd from sys.path.\n"
          ],
          "name": "stderr"
        },
        {
          "output_type": "execute_result",
          "data": {
            "text/html": [
              "<div>\n",
              "<style scoped>\n",
              "    .dataframe tbody tr th:only-of-type {\n",
              "        vertical-align: middle;\n",
              "    }\n",
              "\n",
              "    .dataframe tbody tr th {\n",
              "        vertical-align: top;\n",
              "    }\n",
              "\n",
              "    .dataframe thead th {\n",
              "        text-align: right;\n",
              "    }\n",
              "</style>\n",
              "<table border=\"1\" class=\"dataframe\">\n",
              "  <thead>\n",
              "    <tr style=\"text-align: right;\">\n",
              "      <th></th>\n",
              "      <th>Avg.Price (Rs./Kg)</th>\n",
              "      <th>prediction</th>\n",
              "    </tr>\n",
              "  </thead>\n",
              "  <tbody>\n",
              "    <tr>\n",
              "      <th>2014-11-04</th>\n",
              "      <td>765.73</td>\n",
              "      <td>658.14</td>\n",
              "    </tr>\n",
              "    <tr>\n",
              "      <th>2014-11-07</th>\n",
              "      <td>765.73</td>\n",
              "      <td>656.34</td>\n",
              "    </tr>\n",
              "    <tr>\n",
              "      <th>2015-01-14</th>\n",
              "      <td>861.93</td>\n",
              "      <td>633.60</td>\n",
              "    </tr>\n",
              "    <tr>\n",
              "      <th>2015-05-01</th>\n",
              "      <td>680.56</td>\n",
              "      <td>642.82</td>\n",
              "    </tr>\n",
              "    <tr>\n",
              "      <th>2015-05-02</th>\n",
              "      <td>655.47</td>\n",
              "      <td>605.33</td>\n",
              "    </tr>\n",
              "  </tbody>\n",
              "</table>\n",
              "</div>"
            ],
            "text/plain": [
              "            Avg.Price (Rs./Kg)  prediction\n",
              "2014-11-04              765.73      658.14\n",
              "2014-11-07              765.73      656.34\n",
              "2015-01-14              861.93      633.60\n",
              "2015-05-01              680.56      642.82\n",
              "2015-05-02              655.47      605.33"
            ]
          },
          "metadata": {
            "tags": []
          },
          "execution_count": 50
        }
      ]
    },
    {
      "cell_type": "code",
      "metadata": {
        "colab": {
          "base_uri": "https://localhost:8080/"
        },
        "id": "My-byMJf1duU",
        "outputId": "9a7583b7-b5bd-4624-fbc7-07005f0b97be"
      },
      "source": [
        "# Drop the prediction variable from the dataframe\n",
        "X = np.array(df.drop('prediction', axis=1))\n",
        "# Remove the last n+1 rows of data where, n is the prediction_days\n",
        "X=X[:len(df)-prediction_days]\n",
        "print(X)"
      ],
      "execution_count": 51,
      "outputs": [
        {
          "output_type": "stream",
          "text": [
            "[[ 765.73]\n",
            " [ 765.73]\n",
            " [ 861.93]\n",
            " ...\n",
            " [1504.81]\n",
            " [1441.64]\n",
            " [1333.28]]\n"
          ],
          "name": "stdout"
        }
      ]
    },
    {
      "cell_type": "code",
      "metadata": {
        "colab": {
          "base_uri": "https://localhost:8080/"
        },
        "id": "DC-C_KcI1jkN",
        "outputId": "a47b1955-32c4-481b-ea9b-27d6b18bd453"
      },
      "source": [
        "# Create a dependent variable dataset (y)\n",
        "y = np.array(df['prediction'])\n",
        "#Get all the y values except the last n+1 rows\n",
        "y=y[:-prediction_days]\n",
        "y"
      ],
      "execution_count": 52,
      "outputs": [
        {
          "output_type": "execute_result",
          "data": {
            "text/plain": [
              "array([ 658.14,  656.34,  633.6 , ..., 1192.97, 1053.7 , 1132.99])"
            ]
          },
          "metadata": {
            "tags": []
          },
          "execution_count": 52
        }
      ]
    },
    {
      "cell_type": "code",
      "metadata": {
        "id": "JmDVc9Zq1nZb"
      },
      "source": [
        "#Split the data into train and test datasets\n",
        "from sklearn.model_selection import train_test_split\n",
        "X_train, X_test, y_train, y_test = train_test_split(X, y, test_size=0.2 , random_state=1)"
      ],
      "execution_count": 54,
      "outputs": []
    },
    {
      "cell_type": "code",
      "metadata": {
        "colab": {
          "base_uri": "https://localhost:8080/"
        },
        "id": "bTIMqSxL8iXg",
        "outputId": "2e43a267-e963-4f1a-8bd3-d38324e226a1"
      },
      "source": [
        "# set the prediction_days_array for the last 30 days from the original dataset\n",
        "prediction_days_array=np.array(df.drop(['prediction'], axis=1))[-prediction_days:]\n",
        "print(prediction_days_array)"
      ],
      "execution_count": 55,
      "outputs": [
        {
          "output_type": "stream",
          "text": [
            "[[1414.35]\n",
            " [1375.48]\n",
            " [1282.54]\n",
            " [1253.15]\n",
            " [1399.64]\n",
            " [1315.39]\n",
            " [1350.23]\n",
            " [1357.69]\n",
            " [1354.64]\n",
            " [1298.8 ]\n",
            " [1221.76]\n",
            " [1272.61]\n",
            " [1263.72]\n",
            " [1293.29]\n",
            " [1322.38]\n",
            " [1305.06]\n",
            " [1288.35]\n",
            " [1301.49]\n",
            " [1451.86]\n",
            " [1394.39]\n",
            " [1409.17]\n",
            " [1268.87]\n",
            " [1358.53]\n",
            " [1207.42]\n",
            " [1206.73]\n",
            " [1292.21]\n",
            " [1251.65]\n",
            " [1192.97]\n",
            " [1053.7 ]\n",
            " [1132.99]]\n"
          ],
          "name": "stdout"
        }
      ]
    },
    {
      "cell_type": "code",
      "metadata": {
        "colab": {
          "base_uri": "https://localhost:8080/"
        },
        "id": "D_SYglfx1q2N",
        "outputId": "609d389e-b20d-4f55-d51a-2906b925f7f6"
      },
      "source": [
        "# Use the random forest regressor model\n",
        "from sklearn.ensemble import RandomForestRegressor\n",
        "model=RandomForestRegressor(n_estimators=4, random_state=1)\n",
        "model.fit(X_train, y_train)\n",
        "model.score(X_train, y_train)"
      ],
      "execution_count": 58,
      "outputs": [
        {
          "output_type": "execute_result",
          "data": {
            "text/plain": [
              "0.9474610794607674"
            ]
          },
          "metadata": {
            "tags": []
          },
          "execution_count": 58
        }
      ]
    },
    {
      "cell_type": "code",
      "metadata": {
        "colab": {
          "base_uri": "https://localhost:8080/"
        },
        "id": "YDjtXvvU1t3E",
        "outputId": "76bbe282-02c7-4623-fd6c-ccda9017bb03"
      },
      "source": [
        "model.score(X_test, y_test)"
      ],
      "execution_count": 59,
      "outputs": [
        {
          "output_type": "execute_result",
          "data": {
            "text/plain": [
              "0.852675116451149"
            ]
          },
          "metadata": {
            "tags": []
          },
          "execution_count": 59
        }
      ]
    },
    {
      "cell_type": "code",
      "metadata": {
        "id": "Z1K7TkI21yN9"
      },
      "source": [
        "### As can be seen, the model is performing very well with a 85.26% accuracy on the test set"
      ],
      "execution_count": 60,
      "outputs": []
    },
    {
      "cell_type": "code",
      "metadata": {
        "colab": {
          "base_uri": "https://localhost:8080/"
        },
        "id": "qlqzHE4S12D-",
        "outputId": "54fa91a9-6e3c-42be-90a5-4ced2845f524"
      },
      "source": [
        "#Show how close the predicted values and actual values are\n",
        "prediction=model.predict(X_test)\n",
        "#print the predicted values\n",
        "print(prediction)\n",
        "print()\n",
        "#print the actual values\n",
        "print(y_test)"
      ],
      "execution_count": 61,
      "outputs": [
        {
          "output_type": "stream",
          "text": [
            "[ 866.16       1682.825      2414.66094703 1389.285       666.7725\n",
            "  666.845      2553.84        676.4475     1275.055       586.7475\n",
            " 2414.66094703  658.83        815.7375     1214.015      1170.1175\n",
            "  539.7475      622.365       976.18       2553.84       2414.66094703\n",
            "  997.6175     2414.66094703  972.8525     1653.1675     1311.025\n",
            " 1532.81       1257.7325     1259.98       2414.66094703 1146.0575\n",
            "  575.11       2414.66094703  615.5725      995.0725     1597.65\n",
            " 1495.195       633.93        721.895       591.585       929.115\n",
            " 2414.66094703 1215.525      1097.4375     1090.835       601.22\n",
            " 1541.2775      945.775      2414.66094703 2414.66094703 1203.87\n",
            "  974.705      2221.1425     2414.66094703 2414.66094703  921.7925\n",
            " 1766.72       2414.66094703 2414.66094703 1018.815       955.125\n",
            "  967.79        610.58       2414.66094703  596.6475      903.475\n",
            " 2414.66094703  719.69       1234.52       2293.38        598.8\n",
            " 1032.4975      589.11       1052.81       1092.5625     1731.3775\n",
            " 1541.2775     1356.9        1080.66       1571.385       571.5475\n",
            "  946.2075     1252.71        774.2875     1656.6725     1244.5975\n",
            " 1074.01       2414.66094703  967.51       1660.35       1092.5625\n",
            " 1682.825      1837.57       1323.84        963.3375      960.86\n",
            " 2414.66094703 2194.465      2414.66094703 1012.2375      962.99\n",
            "  594.71       1228.6425     1895.725      1087.185       904.955\n",
            "  592.185      1733.345      1389.285      1400.145      1226.58\n",
            " 2414.66094703 2414.66094703  875.0425     1363.3925     1449.665\n",
            "  633.93        935.15       2414.66094703 1313.945      1077.185\n",
            "  753.295      1074.01       1340.6425      930.355       621.74\n",
            "  609.135      1642.52       1143.5025      657.575      1055.825\n",
            "  638.33        811.375       969.0125      943.3975     2414.66094703\n",
            " 1323.84        618.26       1052.         2414.66094703  753.295\n",
            " 1323.665       641.805      1413.97       1006.175      1731.435\n",
            "  917.135      2414.66094703 2414.66094703  657.9025      746.855\n",
            "  919.125      1055.2675     1421.96        858.1525     2414.66094703\n",
            " 1655.995       886.4025     1090.835      1322.125      1218.6\n",
            "  746.855      1032.4975      927.305      1186.61       2414.66094703\n",
            " 1368.3825      619.225      2414.66094703  989.49        708.78\n",
            " 1063.2525      721.895       591.93       1090.835      1170.1175\n",
            " 1262.2375      644.03        700.545       904.955      2414.66094703\n",
            " 1652.93        543.9925     1137.4975      643.4825     2414.66094703\n",
            "  609.135       874.825      1090.835      1327.28041667  569.3325\n",
            " 2414.66094703 2414.66094703 1218.145      1667.255      1543.8\n",
            "  548.96       2414.66094703  544.3        1319.975      2414.66094703\n",
            " 1230.855      2414.66094703 2217.5825     1778.78       2414.66094703\n",
            " 1681.37       1148.21       1256.725      2414.66094703 1173.685\n",
            " 1275.64       1426.72       1155.095      1257.7325      945.875\n",
            "  658.83        938.3375      915.435      1014.29        588.51\n",
            " 1143.685      2414.66094703 1635.1325     1325.045      1234.52\n",
            " 2414.66094703 1321.1425      599.76       1228.4125     1215.525\n",
            "  934.805      2414.66094703 1051.925      1282.54       2414.66094703\n",
            " 2293.38        871.1625     2553.84       1323.665      1337.5675\n",
            " 2414.66094703 2414.66094703 1252.71       1909.445      2414.66094703\n",
            " 1032.4975      571.5475      866.8325      622.365      1064.945\n",
            "  658.22       1060.855      1307.01       2414.66094703  626.995\n",
            "  655.4275     1014.75       1308.3975     2414.66094703 1332.195\n",
            " 1218.95       2414.66094703  942.8225      604.38       1658.4\n",
            " 2414.66094703  622.805       596.6475      683.45        861.31\n",
            "  625.56       1008.5075     2414.66094703 1498.05       2414.66094703\n",
            "  676.4475      636.53       1778.78        981.9325     1348.995\n",
            "  874.825      2414.66094703 2414.66094703 2414.66094703 1251.235\n",
            "  859.5475      996.2725     1090.4825     1369.71        924.545\n",
            "  866.8325     2414.66094703  658.22       2414.66094703 1014.815\n",
            " 1680.3375      622.805      1210.195      1682.1325     1410.0775\n",
            " 1760.81       1760.065      1111.675       938.255      1021.2025\n",
            " 2414.66094703  606.365      1051.925       974.705       574.155\n",
            " 2553.84        922.91       2414.66094703 1307.9375      919.32\n",
            " 1254.6575     1014.2675     1006.175      2414.66094703 2553.84\n",
            " 1350.5525     1487.4775     1490.165       861.44       2414.66094703\n",
            " 1356.9       ]\n",
            "\n",
            "[ 882.98 1581.32 2553.84 1757.93  534.12  582.56 2553.84  620.56 1331.57\n",
            "  525.75 1440.28  636.49  811.81 1305.01  906.15  601.08  690.59  970.34\n",
            " 2553.84 2553.84  994.53 1145.35  912.31 1206.73 1387.97 1508.53  904.16\n",
            " 1226.55 2553.84  970.34  570.94 2553.84  568.38  813.42 1603.96 1358.61\n",
            "  684.74  746.84  590.04 1244.58 2553.84 1475.96 1346.88  979.31  629.65\n",
            " 1434.17  911.64 1696.61 2553.84 1190.82  901.31 1399.05 2553.84 2553.84\n",
            " 1207.69 1510.5  2553.84 2553.84 1014.32  957.32  905.69  678.73 2553.84\n",
            "  652.28  923.23 2413.77  653.58 1184.15 2408.    622.7  1218.17  625.5\n",
            " 1094.85 1344.35 2553.84 1393.82  916.34 1301.71 1786.66  646.84 1175.38\n",
            "  980.53  801.48 1383.21 1192.97 1090.03 2553.84 1003.24 2412.26 1093.36\n",
            " 1486.15 1491.75 1275.21  865.58  986.11 2553.84 1371.37 2553.84  959.04\n",
            " 1068.37  570.   1664.82 1683.25 1111.79 1233.45  638.26 1351.94 1588.59\n",
            " 1218.9  1137.88 2553.84 2553.84  783.92 1401.8  1462.21  642.82  963.96\n",
            " 2318.42 1305.06 1116.64  644.32  925.3  1351.92  952.82  664.35  577.8\n",
            " 1313.13  934.04  762.73 1202.26  667.13  658.14  917.36 1058.61 2553.84\n",
            " 1190.18  636.85  955.46 2553.84  775.78 1047.75  639.11 1317.5  1134.73\n",
            " 1413.97  909.69 2553.84 2553.84  646.54  713.24  908.67  999.61 1486.66\n",
            "  947.14 2434.15 1383.54 1031.6  1203.24 1337.67 1334.1   781.41  923.02\n",
            "  921.96 1351.78 1215.8  1009.39  617.11 2553.84 1268.18  624.44  945.59\n",
            "  815.34  548.64 1081.11 1017.87 1522.9   608.63  832.95  867.1  2553.84\n",
            " 2499.69  671.68  879.35  780.21 2553.84  564.45  900.08 1242.61 1629.91\n",
            "  640.59 2553.84 2553.84 1239.17 1571.73 1333.28  551.95 2553.84  690.24\n",
            " 1264.19 2553.84 1200.9  2553.84 2374.46 1352.84 2553.84 1445.05  879.42\n",
            " 1596.16 2553.84  954.03 1373.1  2130.5  1135.92 1365.92  951.24  672.15\n",
            " 1123.19 1116.91  990.81  626.73 1333.73 2553.84 1348.42 1309.05  885.1\n",
            " 2553.84 1471.23  582.62 1493.15 1375.64 1063.03 2553.84  963.95 1506.45\n",
            " 1626.51 1490.86  972.21 2553.84 1230.56 1326.59 1348.9  2553.84  956.98\n",
            " 1741.31 2516.77  971.77  531.27  850.55  606.14 1308.7   628.99 1202.56\n",
            " 1196.02 2553.84  701.18  492.62  986.64 1229.84 1553.67  956.1   969.36\n",
            " 2553.84 1244.25  679.54 1423.25 1687.92  598.55  687.37  735.34  865.76\n",
            "  813.54 1070.68 2553.84 1249.56 2553.84  623.96  586.13 1731.61  970.4\n",
            " 1496.76  987.47 2553.84 2553.84 2553.84 1344.35  965.49  899.12 1142.83\n",
            " 1147.98  938.02  857.28 2553.84  620.67 2553.84  766.96 1586.12  795.56\n",
            " 1173.73 1504.68 1542.85 1403.3  1653.78 1117.73  982.68  968.28 2553.84\n",
            "  518.64  816.33 1019.16  584.38 2547.43  961.39 1674.45 1391.92  996.18\n",
            "  919.19  942.13 1120.8  2553.84 2553.84 1678.16 1685.68 1400.93  989.42\n",
            " 2553.84 1503.37]\n"
          ],
          "name": "stdout"
        }
      ]
    },
    {
      "cell_type": "code",
      "metadata": {
        "colab": {
          "base_uri": "https://localhost:8080/"
        },
        "id": "FLFYBDDX15Af",
        "outputId": "7d19005b-95e0-463c-a0d2-aeb3b0367e8a"
      },
      "source": [
        "#Get model's prediction for the next 'n' days\n",
        "prediction=model.predict(prediction_days_array)\n",
        "#print the predicted values\n",
        "print(prediction)\n",
        "print()\n",
        "#print the actual values\n",
        "print(df['Avg.Price (Rs./Kg)'].tail(prediction_days))"
      ],
      "execution_count": 63,
      "outputs": [
        {
          "output_type": "stream",
          "text": [
            "[1436.4425 1345.53   1405.2325 1223.2925 1625.125  1419.1575 1403.34\n",
            " 1743.815  1296.345  1259.98   1324.02   1173.9675 1097.4375 1373.175\n",
            " 1500.01   1307.9375 1299.4825 1298.615  1709.2325 1571.1625 1571.385\n",
            " 1200.3475 1466.06   1203.87   1203.87   1339.52   1234.6775 1213.9325\n",
            " 1218.145  1332.195 ]\n",
            "\n",
            "2021-03-10    1414.35\n",
            "2021-03-11    1375.48\n",
            "2021-03-12    1282.54\n",
            "2021-03-13    1253.15\n",
            "2021-03-15    1399.64\n",
            "2021-03-16    1315.39\n",
            "2021-03-17    1350.23\n",
            "2021-03-19    1357.69\n",
            "2021-03-20    1354.64\n",
            "2021-03-22    1298.80\n",
            "2021-03-23    1221.76\n",
            "2021-03-24    1272.61\n",
            "2021-03-25    1263.72\n",
            "2021-03-26    1293.29\n",
            "2021-03-27    1322.38\n",
            "2021-03-29    1305.06\n",
            "2021-03-30    1288.35\n",
            "2021-03-31    1301.49\n",
            "2021-04-03    1451.86\n",
            "2021-04-05    1394.39\n",
            "2021-04-07    1409.17\n",
            "2021-04-08    1268.87\n",
            "2021-04-09    1358.53\n",
            "2021-04-12    1207.42\n",
            "2021-04-13    1206.73\n",
            "2021-04-16    1292.21\n",
            "2021-04-17    1251.65\n",
            "2021-04-19    1192.97\n",
            "2021-04-21    1053.70\n",
            "2021-04-22    1132.99\n",
            "Name: Avg.Price (Rs./Kg), dtype: float64\n"
          ],
          "name": "stdout"
        }
      ]
    },
    {
      "cell_type": "code",
      "metadata": {
        "id": "Ez_DBgIJ197M"
      },
      "source": [
        "# However as seen above it is clear from the model performance (accuracy@train = 94%; accuracy@test = 85%) that the random forest regressor model is a good model. HOwever, trying out an additional model"
      ],
      "execution_count": 64,
      "outputs": []
    },
    {
      "cell_type": "code",
      "metadata": {
        "id": "Jvssxm-F2Cak"
      },
      "source": [
        "### The above model can predict for one day in future with an accuracy of approximately 98.5%.\n",
        "### However we require to predict at least one month into future."
      ],
      "execution_count": null,
      "outputs": []
    },
    {
      "cell_type": "code",
      "metadata": {
        "id": "bMxCkCs32Gxo",
        "colab": {
          "base_uri": "https://localhost:8080/"
        },
        "outputId": "d97f713a-cbc9-4581-e803-50ef6bd238ef"
      },
      "source": [
        "from sklearn.svm import SVR\n",
        "# create and train the support vector machine (regressor) using the radial basis function\n",
        "svr_rbf=SVR(kernel='rbf',C=1e3,gamma=0.00001)\n",
        "svr_rbf.fit(X_train,y_train)"
      ],
      "execution_count": 65,
      "outputs": [
        {
          "output_type": "execute_result",
          "data": {
            "text/plain": [
              "SVR(C=1000.0, cache_size=200, coef0=0.0, degree=3, epsilon=0.1, gamma=1e-05,\n",
              "    kernel='rbf', max_iter=-1, shrinking=True, tol=0.001, verbose=False)"
            ]
          },
          "metadata": {
            "tags": []
          },
          "execution_count": 65
        }
      ]
    },
    {
      "cell_type": "code",
      "metadata": {
        "colab": {
          "base_uri": "https://localhost:8080/"
        },
        "id": "tVCcSaoD99fz",
        "outputId": "b2f90b62-11b9-43e8-ac10-93c8b16a52c4"
      },
      "source": [
        "print(svr_rbf.score(X_train, y_train))\n",
        "print(svr_rbf.score(X_test, y_test))"
      ],
      "execution_count": 66,
      "outputs": [
        {
          "output_type": "stream",
          "text": [
            "0.8868329167631491\n",
            "0.857616208481964\n"
          ],
          "name": "stdout"
        }
      ]
    },
    {
      "cell_type": "code",
      "metadata": {
        "colab": {
          "base_uri": "https://localhost:8080/"
        },
        "id": "x-hItOBj-Bgw",
        "outputId": "1987d187-4a2b-4fc8-89d4-0a0a6bc49345"
      },
      "source": [
        "#Show how close the predicted values and actual values are\n",
        "svm_prediction=svr_rbf.predict(X_test)\n",
        "#print the predicted values\n",
        "print(svm_prediction)\n",
        "print()\n",
        "#print the actual values\n",
        "print(y_test)"
      ],
      "execution_count": 67,
      "outputs": [
        {
          "output_type": "stream",
          "text": [
            "[ 986.81271187 1559.74567999 2553.7402213  1460.64275057  599.556832\n",
            "  613.80909911 2555.93450453  694.14964889 1194.07298705  577.4216166\n",
            " 2553.7402213   661.78538656  795.25040817 1035.46064342  968.70873016\n",
            "  586.28705529  656.91498946 1005.76587485 2553.63483396 2553.7402213\n",
            "  899.58065673 2553.7402213   897.3528371  1403.75140117 1340.26228745\n",
            " 1560.88477323 1208.16398139 1293.95533898 2553.7402213   984.7509214\n",
            "  580.48162593 2553.7402213   607.77412673  984.2219021  1553.72482481\n",
            " 1598.85661868  697.67841816  715.57212979  583.12214446 1115.55068247\n",
            " 2553.7402213  1316.92363085 1268.23209681 1017.41249419  622.74326627\n",
            " 1393.61698233  966.29119306 2553.7402213  2553.7402213  1223.12163791\n",
            "  970.94839402 1504.62404747 2553.7402213  2553.7402213   980.09586715\n",
            " 1559.18029484 2553.7402213  2553.7402213   963.11438598 1002.03946152\n",
            "  964.57643344  619.39467817 2553.7402213   627.20314471  882.20733679\n",
            " 2553.7402213   680.29494925 1264.66823268 1624.89907793  634.37117578\n",
            " 1177.74974733  626.10093933  995.1185568  1165.43979816 1625.22890723\n",
            " 1391.87611644 1230.77801064 1213.5748923  1415.47541565  586.27416646\n",
            " 1219.12570872 1187.94342007  769.5405783  1572.07415607 1242.32753456\n",
            "  976.91944882 2553.7402213   994.84949533 1625.20048906 1165.99942229\n",
            " 1559.77880546 1439.61972763 1374.35296144  941.553885   1126.45902286\n",
            " 2553.7402213  1576.23202317 2553.7402213   948.48082735  999.8016443\n",
            "  588.4576278  1333.67300832 1599.14457779 1083.45014508  998.06650562\n",
            "  642.64264798 1606.76924083 1460.42391988 1282.7619723  1089.56387875\n",
            " 2553.7402213  2553.7402213   824.10368495 1341.27980605 1464.20529845\n",
            "  696.63631172  919.71817575 2553.7402213  1345.46864938  976.78289305\n",
            "  703.92651808  976.85537463 1323.89531043  950.57208234  646.8614156\n",
            "  579.70358536 1366.71610464  976.40576838 1616.48565673 1066.53270315\n",
            "  603.93792468  850.88438924 1135.79953278  915.24207434 2553.7402213\n",
            " 1374.71942618  601.96267486 1014.09813152 2553.7402213   704.45267585\n",
            " 1195.54123512  656.78098254 1258.20666208 1020.53504111 1628.02297035\n",
            "  959.87560846 2553.7402213  2553.7402213   668.65584206  747.64533601\n",
            "  957.02185238  988.46503701 1466.20759061  904.44853562 2553.7402213\n",
            " 1609.96064369  973.4175769  1018.26229818 1183.63537647 1247.18185172\n",
            "  753.07929537 1179.18076272  887.6161336  1246.01675565 2553.7402213\n",
            " 1194.31012254  602.05771869 2553.7402213  1079.87459968  641.76626893\n",
            "  983.29402331  715.51510269  577.46842237 1018.63351514  968.77760366\n",
            " 1326.33096191  654.26504788  680.36700355  998.47898577 2553.7402213\n",
            " 1616.68128717  580.87228617 1142.18665179  735.29823576 2553.7402213\n",
            "  579.59197582  952.25477249 1018.01266332 1421.87703551  582.8974627\n",
            " 2553.7402213  2553.7402213  1055.29123483 1555.42051497 1554.94125894\n",
            "  583.34855101 2553.7402213   578.21620756 1255.5493949  2553.7402213\n",
            " 1262.35212439 2553.7402213  1628.28924786 1622.24658514 2553.7402213\n",
            " 1407.85798154 1130.85308552 1162.53935807 2553.7402213   976.42685175\n",
            " 1252.06917373 1455.1942725  1090.53062368 1208.84823379  961.36821458\n",
            "  661.78538656  982.34202133  957.53134122  977.00934208  578.08272803\n",
            " 1237.77615358 2553.7402213  1573.58250478 1388.06323666 1265.25456644\n",
            " 2553.7402213  1323.5896386   585.50603608 1336.55348144 1317.16260189\n",
            "  967.68765483 2553.7402213   995.62155333 1626.22368253 2553.7402213\n",
            " 1624.61131494  852.28589787 2556.90299931 1196.17878107 1252.94748381\n",
            " 2553.7402213  2553.7402213  1188.15637072 1628.41388847 2553.7402213\n",
            " 1178.88674815  586.05304847  979.3628616   657.41814487 1193.12199277\n",
            "  606.1409188  1061.59544667 1316.49247923 2553.7402213   597.4979599\n",
            "  589.69780298  965.04060082 1329.8259444  2553.7402213  1150.59627199\n",
            " 1097.89479443 2553.7402213   971.13773843  635.46540143 1488.36869884\n",
            " 2553.7402213   726.94417894  627.25992653  672.25331109  962.7161511\n",
            "  657.82138142  983.45568871 2553.7402213  1308.71629298 2553.7402213\n",
            "  694.74256619  637.37202691 1622.32616941  974.50486711 1324.88282837\n",
            "  951.71007478 2553.7402213  2553.7402213  2553.7402213  1337.76787456\n",
            "  962.26078078  972.33169039 1030.66174388 1306.25362335  958.27440635\n",
            "  979.36742793 2553.7402213   606.05340074 2553.7402213   973.73330032\n",
            " 1404.837908    724.47673314 1169.63030339 1613.95037157 1481.71343858\n",
            " 1616.15889849 1623.94578363 1038.1552025   979.80374801 1003.85735189\n",
            " 2553.7402213   577.87685738  995.58918068  970.69495636  602.32258176\n",
            " 2555.94486344  981.44554238 2553.7402213  1298.96824955  936.90792594\n",
            "  983.36972591  971.37941033 1020.68469051 2553.7402213  2556.35625645\n",
            " 1552.32772811 1609.22928694 1617.23589989 1103.65262246 2553.7402213\n",
            " 1230.67023809]\n",
            "\n",
            "[ 882.98 1581.32 2553.84 1757.93  534.12  582.56 2553.84  620.56 1331.57\n",
            "  525.75 1440.28  636.49  811.81 1305.01  906.15  601.08  690.59  970.34\n",
            " 2553.84 2553.84  994.53 1145.35  912.31 1206.73 1387.97 1508.53  904.16\n",
            " 1226.55 2553.84  970.34  570.94 2553.84  568.38  813.42 1603.96 1358.61\n",
            "  684.74  746.84  590.04 1244.58 2553.84 1475.96 1346.88  979.31  629.65\n",
            " 1434.17  911.64 1696.61 2553.84 1190.82  901.31 1399.05 2553.84 2553.84\n",
            " 1207.69 1510.5  2553.84 2553.84 1014.32  957.32  905.69  678.73 2553.84\n",
            "  652.28  923.23 2413.77  653.58 1184.15 2408.    622.7  1218.17  625.5\n",
            " 1094.85 1344.35 2553.84 1393.82  916.34 1301.71 1786.66  646.84 1175.38\n",
            "  980.53  801.48 1383.21 1192.97 1090.03 2553.84 1003.24 2412.26 1093.36\n",
            " 1486.15 1491.75 1275.21  865.58  986.11 2553.84 1371.37 2553.84  959.04\n",
            " 1068.37  570.   1664.82 1683.25 1111.79 1233.45  638.26 1351.94 1588.59\n",
            " 1218.9  1137.88 2553.84 2553.84  783.92 1401.8  1462.21  642.82  963.96\n",
            " 2318.42 1305.06 1116.64  644.32  925.3  1351.92  952.82  664.35  577.8\n",
            " 1313.13  934.04  762.73 1202.26  667.13  658.14  917.36 1058.61 2553.84\n",
            " 1190.18  636.85  955.46 2553.84  775.78 1047.75  639.11 1317.5  1134.73\n",
            " 1413.97  909.69 2553.84 2553.84  646.54  713.24  908.67  999.61 1486.66\n",
            "  947.14 2434.15 1383.54 1031.6  1203.24 1337.67 1334.1   781.41  923.02\n",
            "  921.96 1351.78 1215.8  1009.39  617.11 2553.84 1268.18  624.44  945.59\n",
            "  815.34  548.64 1081.11 1017.87 1522.9   608.63  832.95  867.1  2553.84\n",
            " 2499.69  671.68  879.35  780.21 2553.84  564.45  900.08 1242.61 1629.91\n",
            "  640.59 2553.84 2553.84 1239.17 1571.73 1333.28  551.95 2553.84  690.24\n",
            " 1264.19 2553.84 1200.9  2553.84 2374.46 1352.84 2553.84 1445.05  879.42\n",
            " 1596.16 2553.84  954.03 1373.1  2130.5  1135.92 1365.92  951.24  672.15\n",
            " 1123.19 1116.91  990.81  626.73 1333.73 2553.84 1348.42 1309.05  885.1\n",
            " 2553.84 1471.23  582.62 1493.15 1375.64 1063.03 2553.84  963.95 1506.45\n",
            " 1626.51 1490.86  972.21 2553.84 1230.56 1326.59 1348.9  2553.84  956.98\n",
            " 1741.31 2516.77  971.77  531.27  850.55  606.14 1308.7   628.99 1202.56\n",
            " 1196.02 2553.84  701.18  492.62  986.64 1229.84 1553.67  956.1   969.36\n",
            " 2553.84 1244.25  679.54 1423.25 1687.92  598.55  687.37  735.34  865.76\n",
            "  813.54 1070.68 2553.84 1249.56 2553.84  623.96  586.13 1731.61  970.4\n",
            " 1496.76  987.47 2553.84 2553.84 2553.84 1344.35  965.49  899.12 1142.83\n",
            " 1147.98  938.02  857.28 2553.84  620.67 2553.84  766.96 1586.12  795.56\n",
            " 1173.73 1504.68 1542.85 1403.3  1653.78 1117.73  982.68  968.28 2553.84\n",
            "  518.64  816.33 1019.16  584.38 2547.43  961.39 1674.45 1391.92  996.18\n",
            "  919.19  942.13 1120.8  2553.84 2553.84 1678.16 1685.68 1400.93  989.42\n",
            " 2553.84 1503.37]\n"
          ],
          "name": "stdout"
        }
      ]
    },
    {
      "cell_type": "code",
      "metadata": {
        "colab": {
          "base_uri": "https://localhost:8080/"
        },
        "id": "02uhGioF-FXK",
        "outputId": "ce53871a-8e69-4af3-8c6c-7f7ab342d922"
      },
      "source": [
        "#Get model's prediction for the next 'n' days\n",
        "svm_prediction=svr_rbf.predict(prediction_days_array)\n",
        "#print the predicted values\n",
        "print(svm_prediction)\n",
        "print()\n",
        "#print the actual values\n",
        "print(df['Avg.Price (Rs./Kg)'].tail(prediction_days))"
      ],
      "execution_count": 68,
      "outputs": [
        {
          "output_type": "stream",
          "text": [
            "[1422.11412208 1371.29474057 1282.18175559 1259.92727728 1402.02727468\n",
            " 1309.07592779 1342.68376619 1350.74896556 1347.41232621 1295.06046816\n",
            " 1235.55689028 1274.5869934  1267.87853665 1290.61786454 1315.32368773\n",
            " 1300.22702401 1286.70722505 1297.26406961 1476.170719   1395.09205292\n",
            " 1414.93882013 1271.75808649 1351.6774725  1223.60273516 1223.0097908\n",
            " 1289.75742613 1258.79570995 1210.80512416 1056.203255   1148.60723284]\n",
            "\n",
            "2021-03-10    1414.35\n",
            "2021-03-11    1375.48\n",
            "2021-03-12    1282.54\n",
            "2021-03-13    1253.15\n",
            "2021-03-15    1399.64\n",
            "2021-03-16    1315.39\n",
            "2021-03-17    1350.23\n",
            "2021-03-19    1357.69\n",
            "2021-03-20    1354.64\n",
            "2021-03-22    1298.80\n",
            "2021-03-23    1221.76\n",
            "2021-03-24    1272.61\n",
            "2021-03-25    1263.72\n",
            "2021-03-26    1293.29\n",
            "2021-03-27    1322.38\n",
            "2021-03-29    1305.06\n",
            "2021-03-30    1288.35\n",
            "2021-03-31    1301.49\n",
            "2021-04-03    1451.86\n",
            "2021-04-05    1394.39\n",
            "2021-04-07    1409.17\n",
            "2021-04-08    1268.87\n",
            "2021-04-09    1358.53\n",
            "2021-04-12    1207.42\n",
            "2021-04-13    1206.73\n",
            "2021-04-16    1292.21\n",
            "2021-04-17    1251.65\n",
            "2021-04-19    1192.97\n",
            "2021-04-21    1053.70\n",
            "2021-04-22    1132.99\n",
            "Name: Avg.Price (Rs./Kg), dtype: float64\n"
          ],
          "name": "stdout"
        }
      ]
    }
  ]
}